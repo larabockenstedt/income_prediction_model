{
 "cells": [
  {
   "cell_type": "markdown",
   "metadata": {},
   "source": [
    "# Task 3"
   ]
  },
  {
   "cell_type": "markdown",
   "metadata": {},
   "source": [
    "The goal of this task is to test several models with different explanatory variables through:\n",
    "\n",
    "1. An Anova with the individual's country as the only explanatory variable. \n",
    "\n",
    "2. A linear regression including as explanatory variables only the mean income and the Gini index of the individual 's country.\n",
    "\n",
    "3. A linear regression including as explanatory variables the mean income, the Gini index of the individual 's country and the parent’s income class.\n",
    "\n",
    "For each regression, two versions should be tested: \n",
    "\n",
    "* One by expressing the country's mean income and the child income in terms of logarithm (ln)\n",
    "\n",
    "* Another by leaving the three as they are. Please choose the best-performing version\n",
    "\n",
    "Select the best-performing version"
   ]
  },
  {
   "cell_type": "markdown",
   "metadata": {},
   "source": [
    "After, the project manager would like the models used to verify some of the researcher's assertions. \n",
    "\n",
    "Assertions to be checked:\n",
    "\n",
    "* Based on the regression coefficient associated with the Gini index, there are more people disadvantaged by living in a more unequal country than there are people who benefit\n",
    "\n",
    "* By analyzing the total variance decomposition, 60% of the total variance is explained by the country alone (mean income and Gini index) and that 80% of the total variance is explained by the country and the parents’ income alone. That would mean that only the remaining 20% are due to other factors such as : effort, chance, etc.\n",
    "\n",
    "The project manager would then like it to be checked if the model is worth using, and to have his income predicted knowing that his parents earned approximately the mean income of the country. "
   ]
  },
  {
   "cell_type": "code",
   "execution_count": 1,
   "metadata": {},
   "outputs": [],
   "source": [
    "import pandas as pd\n",
    "from pandas import DataFrame\n",
    "import matplotlib.pyplot as plt\n",
    "import seaborn as sns\n",
    "import numpy as np\n",
    "from scipy import stats\n",
    "import scipy.stats as st\n",
    "from scipy.stats import chi2_contingency\n",
    "import statsmodels.formula.api as smf\n",
    "import statsmodels.api as sm\n",
    "sns.set()\n",
    "%matplotlib inline"
   ]
  },
  {
   "cell_type": "markdown",
   "metadata": {},
   "source": [
    "The sample includes the following variables: \n",
    "\n",
    "* __countryname__\n",
    "\n",
    "* __y_child__ is the income\n",
    "\n",
    "* __base_case__ is the elasticity coefficient\n",
    "\n",
    "* __gj__ is the Gini Index\n",
    "\n",
    "* __mj__ is the mean income of the country \n",
    "\n",
    "* __c_i_parent__ is the parent income class"
   ]
  },
  {
   "cell_type": "code",
   "execution_count": 2,
   "metadata": {},
   "outputs": [
    {
     "data": {
      "text/html": [
       "<div>\n",
       "<style scoped>\n",
       "    .dataframe tbody tr th:only-of-type {\n",
       "        vertical-align: middle;\n",
       "    }\n",
       "\n",
       "    .dataframe tbody tr th {\n",
       "        vertical-align: top;\n",
       "    }\n",
       "\n",
       "    .dataframe thead th {\n",
       "        text-align: right;\n",
       "    }\n",
       "</style>\n",
       "<table border=\"1\" class=\"dataframe\">\n",
       "  <thead>\n",
       "    <tr style=\"text-align: right;\">\n",
       "      <th></th>\n",
       "      <th>countryname</th>\n",
       "      <th>y_child</th>\n",
       "      <th>base_case</th>\n",
       "      <th>gj</th>\n",
       "      <th>mj</th>\n",
       "      <th>c_i_parent</th>\n",
       "    </tr>\n",
       "  </thead>\n",
       "  <tbody>\n",
       "    <tr>\n",
       "      <td>0</td>\n",
       "      <td>Albania</td>\n",
       "      <td>728.89795</td>\n",
       "      <td>0.4</td>\n",
       "      <td>30.0</td>\n",
       "      <td>2994.829902</td>\n",
       "      <td>2</td>\n",
       "    </tr>\n",
       "    <tr>\n",
       "      <td>1</td>\n",
       "      <td>Albania</td>\n",
       "      <td>728.89795</td>\n",
       "      <td>0.4</td>\n",
       "      <td>30.0</td>\n",
       "      <td>2994.829902</td>\n",
       "      <td>3</td>\n",
       "    </tr>\n",
       "    <tr>\n",
       "      <td>2</td>\n",
       "      <td>Albania</td>\n",
       "      <td>728.89795</td>\n",
       "      <td>0.4</td>\n",
       "      <td>30.0</td>\n",
       "      <td>2994.829902</td>\n",
       "      <td>7</td>\n",
       "    </tr>\n",
       "    <tr>\n",
       "      <td>3</td>\n",
       "      <td>Albania</td>\n",
       "      <td>728.89795</td>\n",
       "      <td>0.4</td>\n",
       "      <td>30.0</td>\n",
       "      <td>2994.829902</td>\n",
       "      <td>7</td>\n",
       "    </tr>\n",
       "    <tr>\n",
       "      <td>4</td>\n",
       "      <td>Albania</td>\n",
       "      <td>728.89795</td>\n",
       "      <td>0.4</td>\n",
       "      <td>30.0</td>\n",
       "      <td>2994.829902</td>\n",
       "      <td>65</td>\n",
       "    </tr>\n",
       "  </tbody>\n",
       "</table>\n",
       "</div>"
      ],
      "text/plain": [
       "  countryname    y_child  base_case    gj           mj  c_i_parent\n",
       "0     Albania  728.89795        0.4  30.0  2994.829902           2\n",
       "1     Albania  728.89795        0.4  30.0  2994.829902           3\n",
       "2     Albania  728.89795        0.4  30.0  2994.829902           7\n",
       "3     Albania  728.89795        0.4  30.0  2994.829902           7\n",
       "4     Albania  728.89795        0.4  30.0  2994.829902          65"
      ]
     },
     "execution_count": 2,
     "metadata": {},
     "output_type": "execute_result"
    }
   ],
   "source": [
    "sample = pd.read_csv('sample.csv')\n",
    "sample.head()"
   ]
  },
  {
   "cell_type": "code",
   "execution_count": 3,
   "metadata": {},
   "outputs": [
    {
     "data": {
      "text/plain": [
       "countryname     object\n",
       "y_child        float64\n",
       "base_case      float64\n",
       "gj             float64\n",
       "mj             float64\n",
       "c_i_parent       int64\n",
       "dtype: object"
      ]
     },
     "execution_count": 3,
     "metadata": {},
     "output_type": "execute_result"
    }
   ],
   "source": [
    "sample.dtypes"
   ]
  },
  {
   "cell_type": "code",
   "execution_count": 4,
   "metadata": {},
   "outputs": [
    {
     "data": {
      "text/plain": [
       "(5800000, 6)"
      ]
     },
     "execution_count": 4,
     "metadata": {},
     "output_type": "execute_result"
    }
   ],
   "source": [
    "sample.shape"
   ]
  },
  {
   "cell_type": "markdown",
   "metadata": {},
   "source": [
    "## Performing an ANOVA test"
   ]
  },
  {
   "cell_type": "markdown",
   "metadata": {},
   "source": [
    "Perform an analaysis of variance with the individual's country as the only explanatory variable. An anova is used to analyse the differences in the mean of groups of samples.\n",
    "\n",
    "The question being asked is: Does the country of origin impact the income of the individual?\n",
    "\n",
    "The two hypotheses are: \n",
    "\n",
    "__H0__: There is no significant difference between the mean child's income in the different countries.\n",
    "\n",
    "__H1__: There is a significant difference between the mean child's income in the different countries.\n"
   ]
  },
  {
   "cell_type": "markdown",
   "metadata": {},
   "source": [
    "### Performing the multivariate linear regression "
   ]
  },
  {
   "cell_type": "code",
   "execution_count": 5,
   "metadata": {},
   "outputs": [
    {
     "data": {
      "text/html": [
       "<div>\n",
       "<style scoped>\n",
       "    .dataframe tbody tr th:only-of-type {\n",
       "        vertical-align: middle;\n",
       "    }\n",
       "\n",
       "    .dataframe tbody tr th {\n",
       "        vertical-align: top;\n",
       "    }\n",
       "\n",
       "    .dataframe thead th {\n",
       "        text-align: right;\n",
       "    }\n",
       "</style>\n",
       "<table border=\"1\" class=\"dataframe\">\n",
       "  <thead>\n",
       "    <tr style=\"text-align: right;\">\n",
       "      <th></th>\n",
       "      <th>countryname</th>\n",
       "      <th>y_child</th>\n",
       "      <th>base_case</th>\n",
       "      <th>gj</th>\n",
       "      <th>mj</th>\n",
       "      <th>c_i_parent</th>\n",
       "    </tr>\n",
       "  </thead>\n",
       "  <tbody>\n",
       "    <tr>\n",
       "      <td>0</td>\n",
       "      <td>Albania</td>\n",
       "      <td>728.89795</td>\n",
       "      <td>0.4</td>\n",
       "      <td>30.0</td>\n",
       "      <td>2994.829902</td>\n",
       "      <td>2</td>\n",
       "    </tr>\n",
       "    <tr>\n",
       "      <td>1</td>\n",
       "      <td>Albania</td>\n",
       "      <td>728.89795</td>\n",
       "      <td>0.4</td>\n",
       "      <td>30.0</td>\n",
       "      <td>2994.829902</td>\n",
       "      <td>3</td>\n",
       "    </tr>\n",
       "    <tr>\n",
       "      <td>2</td>\n",
       "      <td>Albania</td>\n",
       "      <td>728.89795</td>\n",
       "      <td>0.4</td>\n",
       "      <td>30.0</td>\n",
       "      <td>2994.829902</td>\n",
       "      <td>7</td>\n",
       "    </tr>\n",
       "  </tbody>\n",
       "</table>\n",
       "</div>"
      ],
      "text/plain": [
       "  countryname    y_child  base_case    gj           mj  c_i_parent\n",
       "0     Albania  728.89795        0.4  30.0  2994.829902           2\n",
       "1     Albania  728.89795        0.4  30.0  2994.829902           3\n",
       "2     Albania  728.89795        0.4  30.0  2994.829902           7"
      ]
     },
     "execution_count": 5,
     "metadata": {},
     "output_type": "execute_result"
    }
   ],
   "source": [
    "sample.head(3)"
   ]
  },
  {
   "cell_type": "code",
   "execution_count": 6,
   "metadata": {},
   "outputs": [],
   "source": [
    "sample_2 = sample.groupby(['countryname', 'y_child']).mean()"
   ]
  },
  {
   "cell_type": "code",
   "execution_count": 7,
   "metadata": {},
   "outputs": [],
   "source": [
    "sample_2.reset_index(inplace=True)"
   ]
  },
  {
   "cell_type": "code",
   "execution_count": 8,
   "metadata": {},
   "outputs": [
    {
     "data": {
      "text/html": [
       "<div>\n",
       "<style scoped>\n",
       "    .dataframe tbody tr th:only-of-type {\n",
       "        vertical-align: middle;\n",
       "    }\n",
       "\n",
       "    .dataframe tbody tr th {\n",
       "        vertical-align: top;\n",
       "    }\n",
       "\n",
       "    .dataframe thead th {\n",
       "        text-align: right;\n",
       "    }\n",
       "</style>\n",
       "<table border=\"1\" class=\"dataframe\">\n",
       "  <thead>\n",
       "    <tr style=\"text-align: right;\">\n",
       "      <th></th>\n",
       "      <th>countryname</th>\n",
       "      <th>y_child</th>\n",
       "      <th>base_case</th>\n",
       "      <th>gj</th>\n",
       "      <th>mj</th>\n",
       "      <th>c_i_parent</th>\n",
       "    </tr>\n",
       "  </thead>\n",
       "  <tbody>\n",
       "    <tr>\n",
       "      <td>0</td>\n",
       "      <td>Albania</td>\n",
       "      <td>728.89795</td>\n",
       "      <td>0.4</td>\n",
       "      <td>30.0</td>\n",
       "      <td>2994.829902</td>\n",
       "      <td>13.900</td>\n",
       "    </tr>\n",
       "    <tr>\n",
       "      <td>1</td>\n",
       "      <td>Albania</td>\n",
       "      <td>916.66235</td>\n",
       "      <td>0.4</td>\n",
       "      <td>30.0</td>\n",
       "      <td>2994.829902</td>\n",
       "      <td>18.668</td>\n",
       "    </tr>\n",
       "    <tr>\n",
       "      <td>2</td>\n",
       "      <td>Albania</td>\n",
       "      <td>1010.91600</td>\n",
       "      <td>0.4</td>\n",
       "      <td>30.0</td>\n",
       "      <td>2994.829902</td>\n",
       "      <td>21.012</td>\n",
       "    </tr>\n",
       "  </tbody>\n",
       "</table>\n",
       "</div>"
      ],
      "text/plain": [
       "  countryname     y_child  base_case    gj           mj  c_i_parent\n",
       "0     Albania   728.89795        0.4  30.0  2994.829902      13.900\n",
       "1     Albania   916.66235        0.4  30.0  2994.829902      18.668\n",
       "2     Albania  1010.91600        0.4  30.0  2994.829902      21.012"
      ]
     },
     "execution_count": 8,
     "metadata": {},
     "output_type": "execute_result"
    }
   ],
   "source": [
    "sample_2.head(3)"
   ]
  },
  {
   "cell_type": "code",
   "execution_count": 9,
   "metadata": {},
   "outputs": [
    {
     "data": {
      "text/html": [
       "<table class=\"simpletable\">\n",
       "<caption>OLS Regression Results</caption>\n",
       "<tr>\n",
       "  <th>Dep. Variable:</th>         <td>y_child</td>     <th>  R-squared:         </th>  <td>   0.496</td>  \n",
       "</tr>\n",
       "<tr>\n",
       "  <th>Model:</th>                   <td>OLS</td>       <th>  Adj. R-squared:    </th>  <td>   0.491</td>  \n",
       "</tr>\n",
       "<tr>\n",
       "  <th>Method:</th>             <td>Least Squares</td>  <th>  F-statistic:       </th>  <td>   98.43</td>  \n",
       "</tr>\n",
       "<tr>\n",
       "  <th>Date:</th>             <td>Tue, 29 Sep 2020</td> <th>  Prob (F-statistic):</th>   <td>  0.00</td>   \n",
       "</tr>\n",
       "<tr>\n",
       "  <th>Time:</th>                 <td>11:58:54</td>     <th>  Log-Likelihood:    </th> <td>-1.1862e+05</td>\n",
       "</tr>\n",
       "<tr>\n",
       "  <th>No. Observations:</th>      <td> 11600</td>      <th>  AIC:               </th>  <td>2.375e+05</td> \n",
       "</tr>\n",
       "<tr>\n",
       "  <th>Df Residuals:</th>          <td> 11484</td>      <th>  BIC:               </th>  <td>2.383e+05</td> \n",
       "</tr>\n",
       "<tr>\n",
       "  <th>Df Model:</th>              <td>   115</td>      <th>                     </th>      <td> </td>     \n",
       "</tr>\n",
       "<tr>\n",
       "  <th>Covariance Type:</th>      <td>nonrobust</td>    <th>                     </th>      <td> </td>     \n",
       "</tr>\n",
       "</table>\n",
       "<table class=\"simpletable\">\n",
       "<tr>\n",
       "                         <td></td>                            <th>coef</th>     <th>std err</th>      <th>t</th>      <th>P>|t|</th>  <th>[0.025</th>    <th>0.975]</th>  \n",
       "</tr>\n",
       "<tr>\n",
       "  <th>Intercept</th>                                       <td> 2994.8299</td> <td>  671.390</td> <td>    4.461</td> <td> 0.000</td> <td> 1678.790</td> <td> 4310.870</td>\n",
       "</tr>\n",
       "<tr>\n",
       "  <th>countryname[T.Argentina]</th>                        <td> 2853.0548</td> <td>  949.489</td> <td>    3.005</td> <td> 0.003</td> <td>  991.893</td> <td> 4714.216</td>\n",
       "</tr>\n",
       "<tr>\n",
       "  <th>countryname[T.Armenia]</th>                          <td>-1366.4471</td> <td>  949.489</td> <td>   -1.439</td> <td> 0.150</td> <td>-3227.608</td> <td>  494.714</td>\n",
       "</tr>\n",
       "<tr>\n",
       "  <th>countryname[T.Austria]</th>                          <td> 1.364e+04</td> <td>  949.489</td> <td>   14.369</td> <td> 0.000</td> <td> 1.18e+04</td> <td> 1.55e+04</td>\n",
       "</tr>\n",
       "<tr>\n",
       "  <th>countryname[T.Azerbaijan]</th>                       <td> -637.4009</td> <td>  949.489</td> <td>   -0.671</td> <td> 0.502</td> <td>-2498.562</td> <td> 1223.760</td>\n",
       "</tr>\n",
       "<tr>\n",
       "  <th>countryname[T.Bangladesh]</th>                       <td>-1996.1375</td> <td>  949.489</td> <td>   -2.102</td> <td> 0.036</td> <td>-3857.299</td> <td> -134.976</td>\n",
       "</tr>\n",
       "<tr>\n",
       "  <th>countryname[T.Belarus]</th>                          <td>  926.3336</td> <td>  949.489</td> <td>    0.976</td> <td> 0.329</td> <td> -934.828</td> <td> 2787.495</td>\n",
       "</tr>\n",
       "<tr>\n",
       "  <th>countryname[T.Belgium]</th>                          <td> 1.203e+04</td> <td>  949.489</td> <td>   12.670</td> <td> 0.000</td> <td> 1.02e+04</td> <td> 1.39e+04</td>\n",
       "</tr>\n",
       "<tr>\n",
       "  <th>countryname[T.Bhutan]</th>                           <td>-1478.9008</td> <td>  949.489</td> <td>   -1.558</td> <td> 0.119</td> <td>-3340.062</td> <td>  382.260</td>\n",
       "</tr>\n",
       "<tr>\n",
       "  <th>countryname[T.Bolivia]</th>                          <td>   21.4339</td> <td>  949.489</td> <td>    0.023</td> <td> 0.982</td> <td>-1839.727</td> <td> 1882.595</td>\n",
       "</tr>\n",
       "<tr>\n",
       "  <th>countryname[T.Bosnia and Herzegovina]</th>           <td> 3339.8574</td> <td>  949.489</td> <td>    3.518</td> <td> 0.000</td> <td> 1478.696</td> <td> 5201.019</td>\n",
       "</tr>\n",
       "<tr>\n",
       "  <th>countryname[T.Brazil]</th>                           <td> 1812.6547</td> <td>  949.489</td> <td>    1.909</td> <td> 0.056</td> <td>  -48.507</td> <td> 3673.816</td>\n",
       "</tr>\n",
       "<tr>\n",
       "  <th>countryname[T.Bulgaria]</th>                         <td> 1990.1487</td> <td>  949.489</td> <td>    2.096</td> <td> 0.036</td> <td>  128.987</td> <td> 3851.310</td>\n",
       "</tr>\n",
       "<tr>\n",
       "  <th>countryname[T.Burkina Faso]</th>                     <td>-2076.8772</td> <td>  949.489</td> <td>   -2.187</td> <td> 0.029</td> <td>-3938.039</td> <td> -215.716</td>\n",
       "</tr>\n",
       "<tr>\n",
       "  <th>countryname[T.Cambodia]</th>                         <td>-1508.4897</td> <td>  949.489</td> <td>   -1.589</td> <td> 0.112</td> <td>-3369.651</td> <td>  352.672</td>\n",
       "</tr>\n",
       "<tr>\n",
       "  <th>countryname[T.Cameroon]</th>                         <td>-1200.3359</td> <td>  949.489</td> <td>   -1.264</td> <td> 0.206</td> <td>-3061.497</td> <td>  660.825</td>\n",
       "</tr>\n",
       "<tr>\n",
       "  <th>countryname[T.Canada]</th>                           <td> 2.074e+04</td> <td>  949.489</td> <td>   21.848</td> <td> 0.000</td> <td> 1.89e+04</td> <td> 2.26e+04</td>\n",
       "</tr>\n",
       "<tr>\n",
       "  <th>countryname[T.Central African Republic]</th>         <td>-2183.5300</td> <td>  949.489</td> <td>   -2.300</td> <td> 0.021</td> <td>-4044.691</td> <td> -322.369</td>\n",
       "</tr>\n",
       "<tr>\n",
       "  <th>countryname[T.Chile]</th>                            <td> 4056.7801</td> <td>  949.489</td> <td>    4.273</td> <td> 0.000</td> <td> 2195.619</td> <td> 5917.941</td>\n",
       "</tr>\n",
       "<tr>\n",
       "  <th>countryname[T.China]</th>                            <td> -472.0712</td> <td>  949.489</td> <td>   -0.497</td> <td> 0.619</td> <td>-2333.232</td> <td> 1389.090</td>\n",
       "</tr>\n",
       "<tr>\n",
       "  <th>countryname[T.Colombia]</th>                         <td>  552.1754</td> <td>  949.489</td> <td>    0.582</td> <td> 0.561</td> <td>-1308.986</td> <td> 2413.337</td>\n",
       "</tr>\n",
       "<tr>\n",
       "  <th>countryname[T.Costa Rica]</th>                       <td> 2585.5567</td> <td>  949.489</td> <td>    2.723</td> <td> 0.006</td> <td>  724.395</td> <td> 4446.718</td>\n",
       "</tr>\n",
       "<tr>\n",
       "  <th>countryname[T.Cote d'Ivoire]</th>                    <td>-2594.9947</td> <td>  949.489</td> <td>   -2.733</td> <td> 0.006</td> <td>-4456.156</td> <td> -733.833</td>\n",
       "</tr>\n",
       "<tr>\n",
       "  <th>countryname[T.Croatia]</th>                          <td> 4721.6359</td> <td>  949.489</td> <td>    4.973</td> <td> 0.000</td> <td> 2860.475</td> <td> 6582.797</td>\n",
       "</tr>\n",
       "<tr>\n",
       "  <th>countryname[T.Cyprus]</th>                           <td> 1.435e+04</td> <td>  949.489</td> <td>   15.114</td> <td> 0.000</td> <td> 1.25e+04</td> <td> 1.62e+04</td>\n",
       "</tr>\n",
       "<tr>\n",
       "  <th>countryname[T.Czech Republic]</th>                   <td> 5240.4635</td> <td>  949.489</td> <td>    5.519</td> <td> 0.000</td> <td> 3379.302</td> <td> 7101.625</td>\n",
       "</tr>\n",
       "<tr>\n",
       "  <th>countryname[T.Democratic Republic of the Congo]</th> <td>-2718.8139</td> <td>  949.489</td> <td>   -2.863</td> <td> 0.004</td> <td>-4579.975</td> <td> -857.653</td>\n",
       "</tr>\n",
       "<tr>\n",
       "  <th>countryname[T.Denmark]</th>                          <td> 1.405e+04</td> <td>  949.489</td> <td>   14.796</td> <td> 0.000</td> <td> 1.22e+04</td> <td> 1.59e+04</td>\n",
       "</tr>\n",
       "<tr>\n",
       "  <th>countryname[T.Dominican Republic]</th>               <td>  563.5722</td> <td>  949.489</td> <td>    0.594</td> <td> 0.553</td> <td>-1297.589</td> <td> 2424.733</td>\n",
       "</tr>\n",
       "<tr>\n",
       "  <th>countryname[T.Ecuador]</th>                          <td>  388.9111</td> <td>  949.489</td> <td>    0.410</td> <td> 0.682</td> <td>-1472.250</td> <td> 2250.072</td>\n",
       "</tr>\n",
       "<tr>\n",
       "  <th>countryname[T.Egypt]</th>                            <td>-1025.2525</td> <td>  949.489</td> <td>   -1.080</td> <td> 0.280</td> <td>-2886.414</td> <td>  835.909</td>\n",
       "</tr>\n",
       "<tr>\n",
       "  <th>countryname[T.El Salvador]</th>                      <td> -139.6051</td> <td>  949.489</td> <td>   -0.147</td> <td> 0.883</td> <td>-2000.766</td> <td> 1721.556</td>\n",
       "</tr>\n",
       "<tr>\n",
       "  <th>countryname[T.Estonia]</th>                          <td> 4707.2327</td> <td>  949.489</td> <td>    4.958</td> <td> 0.000</td> <td> 2846.071</td> <td> 6568.394</td>\n",
       "</tr>\n",
       "<tr>\n",
       "  <th>countryname[T.Eswatini]</th>                         <td>-2464.5461</td> <td>  949.489</td> <td>   -2.596</td> <td> 0.009</td> <td>-4325.707</td> <td> -603.385</td>\n",
       "</tr>\n",
       "<tr>\n",
       "  <th>countryname[T.Fiji]</th>                             <td> -896.0990</td> <td>  949.489</td> <td>   -0.944</td> <td> 0.345</td> <td>-2757.260</td> <td>  965.062</td>\n",
       "</tr>\n",
       "<tr>\n",
       "  <th>countryname[T.Finland]</th>                          <td> 1.331e+04</td> <td>  949.489</td> <td>   14.020</td> <td> 0.000</td> <td> 1.15e+04</td> <td> 1.52e+04</td>\n",
       "</tr>\n",
       "<tr>\n",
       "  <th>countryname[T.France]</th>                           <td> 1.531e+04</td> <td>  949.489</td> <td>   16.129</td> <td> 0.000</td> <td> 1.35e+04</td> <td> 1.72e+04</td>\n",
       "</tr>\n",
       "<tr>\n",
       "  <th>countryname[T.Georgia]</th>                          <td>-1631.0713</td> <td>  949.489</td> <td>   -1.718</td> <td> 0.086</td> <td>-3492.233</td> <td>  230.090</td>\n",
       "</tr>\n",
       "<tr>\n",
       "  <th>countryname[T.Germany]</th>                          <td> 1.507e+04</td> <td>  949.489</td> <td>   15.868</td> <td> 0.000</td> <td> 1.32e+04</td> <td> 1.69e+04</td>\n",
       "</tr>\n",
       "<tr>\n",
       "  <th>countryname[T.Ghana]</th>                            <td>-2258.2274</td> <td>  949.489</td> <td>   -2.378</td> <td> 0.017</td> <td>-4119.389</td> <td> -397.066</td>\n",
       "</tr>\n",
       "<tr>\n",
       "  <th>countryname[T.Greece]</th>                           <td> 8732.4444</td> <td>  949.489</td> <td>    9.197</td> <td> 0.000</td> <td> 6871.283</td> <td> 1.06e+04</td>\n",
       "</tr>\n",
       "<tr>\n",
       "  <th>countryname[T.Guatemala]</th>                        <td> -852.3551</td> <td>  949.489</td> <td>   -0.898</td> <td> 0.369</td> <td>-2713.516</td> <td> 1008.806</td>\n",
       "</tr>\n",
       "<tr>\n",
       "  <th>countryname[T.Guinea]</th>                           <td>-2298.8179</td> <td>  949.489</td> <td>   -2.421</td> <td> 0.015</td> <td>-4159.979</td> <td> -437.657</td>\n",
       "</tr>\n",
       "<tr>\n",
       "  <th>countryname[T.Honduras]</th>                         <td>  301.4385</td> <td>  949.489</td> <td>    0.317</td> <td> 0.751</td> <td>-1559.723</td> <td> 2162.600</td>\n",
       "</tr>\n",
       "<tr>\n",
       "  <th>countryname[T.Hungary]</th>                          <td> 3106.5113</td> <td>  949.489</td> <td>    3.272</td> <td> 0.001</td> <td> 1245.350</td> <td> 4967.673</td>\n",
       "</tr>\n",
       "<tr>\n",
       "  <th>countryname[T.Iceland]</th>                          <td> 2.389e+04</td> <td>  949.489</td> <td>   25.165</td> <td> 0.000</td> <td>  2.2e+04</td> <td> 2.58e+04</td>\n",
       "</tr>\n",
       "<tr>\n",
       "  <th>countryname[T.India]</th>                            <td>-2070.5604</td> <td>  949.489</td> <td>   -2.181</td> <td> 0.029</td> <td>-3931.722</td> <td> -209.399</td>\n",
       "</tr>\n",
       "<tr>\n",
       "  <th>countryname[T.Indonesia]</th>                        <td>-1660.2116</td> <td>  949.489</td> <td>   -1.749</td> <td> 0.080</td> <td>-3521.373</td> <td>  200.950</td>\n",
       "</tr>\n",
       "<tr>\n",
       "  <th>countryname[T.Iran]</th>                             <td> 2837.8256</td> <td>  949.489</td> <td>    2.989</td> <td> 0.003</td> <td>  976.664</td> <td> 4698.987</td>\n",
       "</tr>\n",
       "<tr>\n",
       "  <th>countryname[T.Iraq]</th>                             <td>-1289.3176</td> <td>  949.489</td> <td>   -1.358</td> <td> 0.175</td> <td>-3150.479</td> <td>  571.844</td>\n",
       "</tr>\n",
       "<tr>\n",
       "  <th>countryname[T.Ireland]</th>                          <td> 1.472e+04</td> <td>  949.489</td> <td>   15.499</td> <td> 0.000</td> <td> 1.29e+04</td> <td> 1.66e+04</td>\n",
       "</tr>\n",
       "<tr>\n",
       "  <th>countryname[T.Israel]</th>                           <td> 8105.4882</td> <td>  949.489</td> <td>    8.537</td> <td> 0.000</td> <td> 6244.327</td> <td> 9966.650</td>\n",
       "</tr>\n",
       "<tr>\n",
       "  <th>countryname[T.Italy]</th>                            <td> 1.193e+04</td> <td>  949.489</td> <td>   12.565</td> <td> 0.000</td> <td> 1.01e+04</td> <td> 1.38e+04</td>\n",
       "</tr>\n",
       "<tr>\n",
       "  <th>countryname[T.Japan]</th>                            <td> 1.444e+04</td> <td>  949.489</td> <td>   15.206</td> <td> 0.000</td> <td> 1.26e+04</td> <td> 1.63e+04</td>\n",
       "</tr>\n",
       "<tr>\n",
       "  <th>countryname[T.Jordan]</th>                           <td>   53.8011</td> <td>  949.489</td> <td>    0.057</td> <td> 0.955</td> <td>-1807.360</td> <td> 1914.962</td>\n",
       "</tr>\n",
       "<tr>\n",
       "  <th>countryname[T.Kazakhstan]</th>                       <td> -755.6801</td> <td>  949.489</td> <td>   -0.796</td> <td> 0.426</td> <td>-2616.841</td> <td> 1105.481</td>\n",
       "</tr>\n",
       "<tr>\n",
       "  <th>countryname[T.Kenya]</th>                            <td>-2475.5099</td> <td>  949.489</td> <td>   -2.607</td> <td> 0.009</td> <td>-4336.671</td> <td> -614.349</td>\n",
       "</tr>\n",
       "<tr>\n",
       "  <th>countryname[T.Kosovo]</th>                           <td> -818.5609</td> <td>  949.489</td> <td>   -0.862</td> <td> 0.389</td> <td>-2679.722</td> <td> 1042.600</td>\n",
       "</tr>\n",
       "<tr>\n",
       "  <th>countryname[T.Kyrgyz Republic]</th>                  <td>-1221.6107</td> <td>  949.489</td> <td>   -1.287</td> <td> 0.198</td> <td>-3082.772</td> <td>  639.551</td>\n",
       "</tr>\n",
       "<tr>\n",
       "  <th>countryname[T.Lao PDR]</th>                          <td>-1991.4225</td> <td>  949.489</td> <td>   -2.097</td> <td> 0.036</td> <td>-3852.584</td> <td> -130.261</td>\n",
       "</tr>\n",
       "<tr>\n",
       "  <th>countryname[T.Latvia]</th>                           <td> 3769.6447</td> <td>  949.489</td> <td>    3.970</td> <td> 0.000</td> <td> 1908.483</td> <td> 5630.806</td>\n",
       "</tr>\n",
       "<tr>\n",
       "  <th>countryname[T.Liberia]</th>                          <td>-2379.8226</td> <td>  949.489</td> <td>   -2.506</td> <td> 0.012</td> <td>-4240.984</td> <td> -518.661</td>\n",
       "</tr>\n",
       "<tr>\n",
       "  <th>countryname[T.Lithuania]</th>                        <td> 3628.8267</td> <td>  949.489</td> <td>    3.822</td> <td> 0.000</td> <td> 1767.665</td> <td> 5489.988</td>\n",
       "</tr>\n",
       "<tr>\n",
       "  <th>countryname[T.Luxembourg]</th>                       <td> 2.222e+04</td> <td>  949.489</td> <td>   23.405</td> <td> 0.000</td> <td> 2.04e+04</td> <td> 2.41e+04</td>\n",
       "</tr>\n",
       "<tr>\n",
       "  <th>countryname[T.Madagascar]</th>                       <td>-2649.5928</td> <td>  949.489</td> <td>   -2.791</td> <td> 0.005</td> <td>-4510.754</td> <td> -788.432</td>\n",
       "</tr>\n",
       "<tr>\n",
       "  <th>countryname[T.Malawi]</th>                           <td>-2080.5645</td> <td>  949.489</td> <td>   -2.191</td> <td> 0.028</td> <td>-3941.726</td> <td> -219.403</td>\n",
       "</tr>\n",
       "<tr>\n",
       "  <th>countryname[T.Malaysia]</th>                         <td> 3011.5125</td> <td>  949.489</td> <td>    3.172</td> <td> 0.002</td> <td> 1150.351</td> <td> 4872.674</td>\n",
       "</tr>\n",
       "<tr>\n",
       "  <th>countryname[T.Mali]</th>                             <td>-2313.7549</td> <td>  949.489</td> <td>   -2.437</td> <td> 0.015</td> <td>-4174.916</td> <td> -452.594</td>\n",
       "</tr>\n",
       "<tr>\n",
       "  <th>countryname[T.Mauritania]</th>                       <td>-1196.2208</td> <td>  949.489</td> <td>   -1.260</td> <td> 0.208</td> <td>-3057.382</td> <td>  664.940</td>\n",
       "</tr>\n",
       "<tr>\n",
       "  <th>countryname[T.Mexico]</th>                           <td>  891.0004</td> <td>  949.489</td> <td>    0.938</td> <td> 0.348</td> <td> -970.161</td> <td> 2752.162</td>\n",
       "</tr>\n",
       "<tr>\n",
       "  <th>countryname[T.Moldova]</th>                          <td> -845.6585</td> <td>  949.489</td> <td>   -0.891</td> <td> 0.373</td> <td>-2706.820</td> <td> 1015.503</td>\n",
       "</tr>\n",
       "<tr>\n",
       "  <th>countryname[T.Mongolia]</th>                         <td> -656.7425</td> <td>  949.489</td> <td>   -0.692</td> <td> 0.489</td> <td>-2517.904</td> <td> 1204.419</td>\n",
       "</tr>\n",
       "<tr>\n",
       "  <th>countryname[T.Montenegro]</th>                       <td> 3553.0692</td> <td>  949.489</td> <td>    3.742</td> <td> 0.000</td> <td> 1691.908</td> <td> 5414.230</td>\n",
       "</tr>\n",
       "<tr>\n",
       "  <th>countryname[T.Morocco]</th>                          <td> -657.2293</td> <td>  949.489</td> <td>   -0.692</td> <td> 0.489</td> <td>-2518.391</td> <td> 1203.932</td>\n",
       "</tr>\n",
       "<tr>\n",
       "  <th>countryname[T.Mozambique]</th>                       <td>-2302.3494</td> <td>  949.489</td> <td>   -2.425</td> <td> 0.015</td> <td>-4163.511</td> <td> -441.188</td>\n",
       "</tr>\n",
       "<tr>\n",
       "  <th>countryname[T.Nepal]</th>                            <td>-2080.4383</td> <td>  949.489</td> <td>   -2.191</td> <td> 0.028</td> <td>-3941.600</td> <td> -219.277</td>\n",
       "</tr>\n",
       "<tr>\n",
       "  <th>countryname[T.Netherlands]</th>                      <td> 1.473e+04</td> <td>  949.489</td> <td>   15.518</td> <td> 0.000</td> <td> 1.29e+04</td> <td> 1.66e+04</td>\n",
       "</tr>\n",
       "<tr>\n",
       "  <th>countryname[T.Nicaragua]</th>                        <td> -475.4966</td> <td>  949.489</td> <td>   -0.501</td> <td> 0.617</td> <td>-2336.658</td> <td> 1385.665</td>\n",
       "</tr>\n",
       "<tr>\n",
       "  <th>countryname[T.Niger]</th>                            <td>-2344.7005</td> <td>  949.489</td> <td>   -2.469</td> <td> 0.014</td> <td>-4205.862</td> <td> -483.539</td>\n",
       "</tr>\n",
       "<tr>\n",
       "  <th>countryname[T.Nigeria]</th>                          <td>-2302.9745</td> <td>  949.489</td> <td>   -2.425</td> <td> 0.015</td> <td>-4164.136</td> <td> -441.813</td>\n",
       "</tr>\n",
       "<tr>\n",
       "  <th>countryname[T.North Macedonia]</th>                  <td> 1604.5664</td> <td>  949.489</td> <td>    1.690</td> <td> 0.091</td> <td> -256.595</td> <td> 3465.728</td>\n",
       "</tr>\n",
       "<tr>\n",
       "  <th>countryname[T.Norway]</th>                           <td> 1.949e+04</td> <td>  949.489</td> <td>   20.525</td> <td> 0.000</td> <td> 1.76e+04</td> <td> 2.13e+04</td>\n",
       "</tr>\n",
       "<tr>\n",
       "  <th>countryname[T.Pakistan]</th>                         <td>-2106.9906</td> <td>  949.489</td> <td>   -2.219</td> <td> 0.027</td> <td>-3968.152</td> <td> -245.829</td>\n",
       "</tr>\n",
       "<tr>\n",
       "  <th>countryname[T.Panama]</th>                           <td> 2140.3095</td> <td>  949.489</td> <td>    2.254</td> <td> 0.024</td> <td>  279.148</td> <td> 4001.471</td>\n",
       "</tr>\n",
       "<tr>\n",
       "  <th>countryname[T.Paraguay]</th>                         <td>  283.2511</td> <td>  949.489</td> <td>    0.298</td> <td> 0.765</td> <td>-1577.910</td> <td> 2144.412</td>\n",
       "</tr>\n",
       "<tr>\n",
       "  <th>countryname[T.Peru]</th>                             <td>  335.7034</td> <td>  949.489</td> <td>    0.354</td> <td> 0.724</td> <td>-1525.458</td> <td> 2196.865</td>\n",
       "</tr>\n",
       "<tr>\n",
       "  <th>countryname[T.Philippines]</th>                      <td>-1520.7670</td> <td>  949.489</td> <td>   -1.602</td> <td> 0.109</td> <td>-3381.928</td> <td>  340.394</td>\n",
       "</tr>\n",
       "<tr>\n",
       "  <th>countryname[T.Poland]</th>                           <td> 2746.8903</td> <td>  949.489</td> <td>    2.893</td> <td> 0.004</td> <td>  885.729</td> <td> 4608.052</td>\n",
       "</tr>\n",
       "<tr>\n",
       "  <th>countryname[T.Portugal]</th>                         <td> 7103.8455</td> <td>  949.489</td> <td>    7.482</td> <td> 0.000</td> <td> 5242.684</td> <td> 8965.007</td>\n",
       "</tr>\n",
       "<tr>\n",
       "  <th>countryname[T.Romania]</th>                          <td>  323.5073</td> <td>  949.489</td> <td>    0.341</td> <td> 0.733</td> <td>-1537.654</td> <td> 2184.669</td>\n",
       "</tr>\n",
       "<tr>\n",
       "  <th>countryname[T.Russian Federation]</th>               <td> 4161.9408</td> <td>  949.489</td> <td>    4.383</td> <td> 0.000</td> <td> 2300.780</td> <td> 6023.102</td>\n",
       "</tr>\n",
       "<tr>\n",
       "  <th>countryname[T.Serbia]</th>                           <td> 1884.9209</td> <td>  949.489</td> <td>    1.985</td> <td> 0.047</td> <td>   23.760</td> <td> 3746.082</td>\n",
       "</tr>\n",
       "<tr>\n",
       "  <th>countryname[T.Slovak Republic]</th>                  <td> 3101.7500</td> <td>  949.489</td> <td>    3.267</td> <td> 0.001</td> <td> 1240.589</td> <td> 4962.911</td>\n",
       "</tr>\n",
       "<tr>\n",
       "  <th>countryname[T.Slovenia]</th>                         <td> 9111.1776</td> <td>  949.489</td> <td>    9.596</td> <td> 0.000</td> <td> 7250.016</td> <td>  1.1e+04</td>\n",
       "</tr>\n",
       "<tr>\n",
       "  <th>countryname[T.South Africa]</th>                     <td> 2623.0750</td> <td>  949.489</td> <td>    2.763</td> <td> 0.006</td> <td>  761.914</td> <td> 4484.236</td>\n",
       "</tr>\n",
       "<tr>\n",
       "  <th>countryname[T.South Korea]</th>                      <td> 1.223e+04</td> <td>  949.489</td> <td>   12.883</td> <td> 0.000</td> <td> 1.04e+04</td> <td> 1.41e+04</td>\n",
       "</tr>\n",
       "<tr>\n",
       "  <th>countryname[T.Spain]</th>                            <td> 1.012e+04</td> <td>  949.489</td> <td>   10.661</td> <td> 0.000</td> <td> 8261.002</td> <td>  1.2e+04</td>\n",
       "</tr>\n",
       "<tr>\n",
       "  <th>countryname[T.Sri Lanka]</th>                        <td>-1116.8897</td> <td>  949.489</td> <td>   -1.176</td> <td> 0.239</td> <td>-2978.051</td> <td>  744.272</td>\n",
       "</tr>\n",
       "<tr>\n",
       "  <th>countryname[T.Sudan]</th>                            <td>-1909.4828</td> <td>  949.489</td> <td>   -2.011</td> <td> 0.044</td> <td>-3770.644</td> <td>  -48.322</td>\n",
       "</tr>\n",
       "<tr>\n",
       "  <th>countryname[T.Sweden]</th>                           <td> 1.319e+04</td> <td>  949.489</td> <td>   13.891</td> <td> 0.000</td> <td> 1.13e+04</td> <td> 1.51e+04</td>\n",
       "</tr>\n",
       "<tr>\n",
       "  <th>countryname[T.Syrian Arab Republic]</th>             <td>-2309.0124</td> <td>  949.489</td> <td>   -2.432</td> <td> 0.015</td> <td>-4170.174</td> <td> -447.851</td>\n",
       "</tr>\n",
       "<tr>\n",
       "  <th>countryname[T.Taiwan]</th>                           <td> 1.351e+04</td> <td>  949.489</td> <td>   14.224</td> <td> 0.000</td> <td> 1.16e+04</td> <td> 1.54e+04</td>\n",
       "</tr>\n",
       "<tr>\n",
       "  <th>countryname[T.Tajikistan]</th>                       <td> -924.9777</td> <td>  949.489</td> <td>   -0.974</td> <td> 0.330</td> <td>-2786.139</td> <td>  936.184</td>\n",
       "</tr>\n",
       "<tr>\n",
       "  <th>countryname[T.Tanzania]</th>                         <td>-2406.0629</td> <td>  949.489</td> <td>   -2.534</td> <td> 0.011</td> <td>-4267.224</td> <td> -544.902</td>\n",
       "</tr>\n",
       "<tr>\n",
       "  <th>countryname[T.Thailand]</th>                         <td> -251.1173</td> <td>  949.489</td> <td>   -0.264</td> <td> 0.791</td> <td>-2112.279</td> <td> 1610.044</td>\n",
       "</tr>\n",
       "<tr>\n",
       "  <th>countryname[T.Timor-Leste]</th>                      <td>-2267.2195</td> <td>  949.489</td> <td>   -2.388</td> <td> 0.017</td> <td>-4128.381</td> <td> -406.058</td>\n",
       "</tr>\n",
       "<tr>\n",
       "  <th>countryname[T.Turkey]</th>                           <td> 3055.6354</td> <td>  949.489</td> <td>    3.218</td> <td> 0.001</td> <td> 1194.474</td> <td> 4916.797</td>\n",
       "</tr>\n",
       "<tr>\n",
       "  <th>countryname[T.Uganda]</th>                           <td>-2007.6236</td> <td>  949.489</td> <td>   -2.114</td> <td> 0.035</td> <td>-3868.785</td> <td> -146.462</td>\n",
       "</tr>\n",
       "<tr>\n",
       "  <th>countryname[T.Ukraine]</th>                          <td>  354.5584</td> <td>  949.489</td> <td>    0.373</td> <td> 0.709</td> <td>-1506.603</td> <td> 2215.720</td>\n",
       "</tr>\n",
       "<tr>\n",
       "  <th>countryname[T.United Kingdom]</th>                   <td> 1.871e+04</td> <td>  949.489</td> <td>   19.710</td> <td> 0.000</td> <td> 1.69e+04</td> <td> 2.06e+04</td>\n",
       "</tr>\n",
       "<tr>\n",
       "  <th>countryname[T.United States]</th>                    <td> 2.251e+04</td> <td>  949.489</td> <td>   23.706</td> <td> 0.000</td> <td> 2.06e+04</td> <td> 2.44e+04</td>\n",
       "</tr>\n",
       "<tr>\n",
       "  <th>countryname[T.Uruguay]</th>                          <td> 2295.9550</td> <td>  949.489</td> <td>    2.418</td> <td> 0.016</td> <td>  434.794</td> <td> 4157.116</td>\n",
       "</tr>\n",
       "<tr>\n",
       "  <th>countryname[T.Venezuela]</th>                        <td>  172.3178</td> <td>  949.489</td> <td>    0.181</td> <td> 0.856</td> <td>-1688.843</td> <td> 2033.479</td>\n",
       "</tr>\n",
       "<tr>\n",
       "  <th>countryname[T.Vietnam]</th>                          <td>-1617.0559</td> <td>  949.489</td> <td>   -1.703</td> <td> 0.089</td> <td>-3478.217</td> <td>  244.105</td>\n",
       "</tr>\n",
       "<tr>\n",
       "  <th>countryname[T.West Bank and Gaza]</th>               <td>-1880.7314</td> <td>  949.489</td> <td>   -1.981</td> <td> 0.048</td> <td>-3741.893</td> <td>  -19.570</td>\n",
       "</tr>\n",
       "<tr>\n",
       "  <th>countryname[T.Yemen]</th>                            <td>-1952.1940</td> <td>  949.489</td> <td>   -2.056</td> <td> 0.040</td> <td>-3813.355</td> <td>  -91.033</td>\n",
       "</tr>\n",
       "</table>\n",
       "<table class=\"simpletable\">\n",
       "<tr>\n",
       "  <th>Omnibus:</th>       <td>14653.631</td> <th>  Durbin-Watson:     </th>  <td>   0.675</td>  \n",
       "</tr>\n",
       "<tr>\n",
       "  <th>Prob(Omnibus):</th>  <td> 0.000</td>   <th>  Jarque-Bera (JB):  </th> <td>4207431.542</td>\n",
       "</tr>\n",
       "<tr>\n",
       "  <th>Skew:</th>           <td> 6.739</td>   <th>  Prob(JB):          </th>  <td>    0.00</td>  \n",
       "</tr>\n",
       "<tr>\n",
       "  <th>Kurtosis:</th>       <td>95.322</td>   <th>  Cond. No.          </th>  <td>    117.</td>  \n",
       "</tr>\n",
       "</table><br/><br/>Warnings:<br/>[1] Standard Errors assume that the covariance matrix of the errors is correctly specified."
      ],
      "text/plain": [
       "<class 'statsmodels.iolib.summary.Summary'>\n",
       "\"\"\"\n",
       "                            OLS Regression Results                            \n",
       "==============================================================================\n",
       "Dep. Variable:                y_child   R-squared:                       0.496\n",
       "Model:                            OLS   Adj. R-squared:                  0.491\n",
       "Method:                 Least Squares   F-statistic:                     98.43\n",
       "Date:                Tue, 29 Sep 2020   Prob (F-statistic):               0.00\n",
       "Time:                        11:58:54   Log-Likelihood:            -1.1862e+05\n",
       "No. Observations:               11600   AIC:                         2.375e+05\n",
       "Df Residuals:                   11484   BIC:                         2.383e+05\n",
       "Df Model:                         115                                         \n",
       "Covariance Type:            nonrobust                                         \n",
       "===================================================================================================================\n",
       "                                                      coef    std err          t      P>|t|      [0.025      0.975]\n",
       "-------------------------------------------------------------------------------------------------------------------\n",
       "Intercept                                        2994.8299    671.390      4.461      0.000    1678.790    4310.870\n",
       "countryname[T.Argentina]                         2853.0548    949.489      3.005      0.003     991.893    4714.216\n",
       "countryname[T.Armenia]                          -1366.4471    949.489     -1.439      0.150   -3227.608     494.714\n",
       "countryname[T.Austria]                           1.364e+04    949.489     14.369      0.000    1.18e+04    1.55e+04\n",
       "countryname[T.Azerbaijan]                        -637.4009    949.489     -0.671      0.502   -2498.562    1223.760\n",
       "countryname[T.Bangladesh]                       -1996.1375    949.489     -2.102      0.036   -3857.299    -134.976\n",
       "countryname[T.Belarus]                            926.3336    949.489      0.976      0.329    -934.828    2787.495\n",
       "countryname[T.Belgium]                           1.203e+04    949.489     12.670      0.000    1.02e+04    1.39e+04\n",
       "countryname[T.Bhutan]                           -1478.9008    949.489     -1.558      0.119   -3340.062     382.260\n",
       "countryname[T.Bolivia]                             21.4339    949.489      0.023      0.982   -1839.727    1882.595\n",
       "countryname[T.Bosnia and Herzegovina]            3339.8574    949.489      3.518      0.000    1478.696    5201.019\n",
       "countryname[T.Brazil]                            1812.6547    949.489      1.909      0.056     -48.507    3673.816\n",
       "countryname[T.Bulgaria]                          1990.1487    949.489      2.096      0.036     128.987    3851.310\n",
       "countryname[T.Burkina Faso]                     -2076.8772    949.489     -2.187      0.029   -3938.039    -215.716\n",
       "countryname[T.Cambodia]                         -1508.4897    949.489     -1.589      0.112   -3369.651     352.672\n",
       "countryname[T.Cameroon]                         -1200.3359    949.489     -1.264      0.206   -3061.497     660.825\n",
       "countryname[T.Canada]                            2.074e+04    949.489     21.848      0.000    1.89e+04    2.26e+04\n",
       "countryname[T.Central African Republic]         -2183.5300    949.489     -2.300      0.021   -4044.691    -322.369\n",
       "countryname[T.Chile]                             4056.7801    949.489      4.273      0.000    2195.619    5917.941\n",
       "countryname[T.China]                             -472.0712    949.489     -0.497      0.619   -2333.232    1389.090\n",
       "countryname[T.Colombia]                           552.1754    949.489      0.582      0.561   -1308.986    2413.337\n",
       "countryname[T.Costa Rica]                        2585.5567    949.489      2.723      0.006     724.395    4446.718\n",
       "countryname[T.Cote d'Ivoire]                    -2594.9947    949.489     -2.733      0.006   -4456.156    -733.833\n",
       "countryname[T.Croatia]                           4721.6359    949.489      4.973      0.000    2860.475    6582.797\n",
       "countryname[T.Cyprus]                            1.435e+04    949.489     15.114      0.000    1.25e+04    1.62e+04\n",
       "countryname[T.Czech Republic]                    5240.4635    949.489      5.519      0.000    3379.302    7101.625\n",
       "countryname[T.Democratic Republic of the Congo] -2718.8139    949.489     -2.863      0.004   -4579.975    -857.653\n",
       "countryname[T.Denmark]                           1.405e+04    949.489     14.796      0.000    1.22e+04    1.59e+04\n",
       "countryname[T.Dominican Republic]                 563.5722    949.489      0.594      0.553   -1297.589    2424.733\n",
       "countryname[T.Ecuador]                            388.9111    949.489      0.410      0.682   -1472.250    2250.072\n",
       "countryname[T.Egypt]                            -1025.2525    949.489     -1.080      0.280   -2886.414     835.909\n",
       "countryname[T.El Salvador]                       -139.6051    949.489     -0.147      0.883   -2000.766    1721.556\n",
       "countryname[T.Estonia]                           4707.2327    949.489      4.958      0.000    2846.071    6568.394\n",
       "countryname[T.Eswatini]                         -2464.5461    949.489     -2.596      0.009   -4325.707    -603.385\n",
       "countryname[T.Fiji]                              -896.0990    949.489     -0.944      0.345   -2757.260     965.062\n",
       "countryname[T.Finland]                           1.331e+04    949.489     14.020      0.000    1.15e+04    1.52e+04\n",
       "countryname[T.France]                            1.531e+04    949.489     16.129      0.000    1.35e+04    1.72e+04\n",
       "countryname[T.Georgia]                          -1631.0713    949.489     -1.718      0.086   -3492.233     230.090\n",
       "countryname[T.Germany]                           1.507e+04    949.489     15.868      0.000    1.32e+04    1.69e+04\n",
       "countryname[T.Ghana]                            -2258.2274    949.489     -2.378      0.017   -4119.389    -397.066\n",
       "countryname[T.Greece]                            8732.4444    949.489      9.197      0.000    6871.283    1.06e+04\n",
       "countryname[T.Guatemala]                         -852.3551    949.489     -0.898      0.369   -2713.516    1008.806\n",
       "countryname[T.Guinea]                           -2298.8179    949.489     -2.421      0.015   -4159.979    -437.657\n",
       "countryname[T.Honduras]                           301.4385    949.489      0.317      0.751   -1559.723    2162.600\n",
       "countryname[T.Hungary]                           3106.5113    949.489      3.272      0.001    1245.350    4967.673\n",
       "countryname[T.Iceland]                           2.389e+04    949.489     25.165      0.000     2.2e+04    2.58e+04\n",
       "countryname[T.India]                            -2070.5604    949.489     -2.181      0.029   -3931.722    -209.399\n",
       "countryname[T.Indonesia]                        -1660.2116    949.489     -1.749      0.080   -3521.373     200.950\n",
       "countryname[T.Iran]                              2837.8256    949.489      2.989      0.003     976.664    4698.987\n",
       "countryname[T.Iraq]                             -1289.3176    949.489     -1.358      0.175   -3150.479     571.844\n",
       "countryname[T.Ireland]                           1.472e+04    949.489     15.499      0.000    1.29e+04    1.66e+04\n",
       "countryname[T.Israel]                            8105.4882    949.489      8.537      0.000    6244.327    9966.650\n",
       "countryname[T.Italy]                             1.193e+04    949.489     12.565      0.000    1.01e+04    1.38e+04\n",
       "countryname[T.Japan]                             1.444e+04    949.489     15.206      0.000    1.26e+04    1.63e+04\n",
       "countryname[T.Jordan]                              53.8011    949.489      0.057      0.955   -1807.360    1914.962\n",
       "countryname[T.Kazakhstan]                        -755.6801    949.489     -0.796      0.426   -2616.841    1105.481\n",
       "countryname[T.Kenya]                            -2475.5099    949.489     -2.607      0.009   -4336.671    -614.349\n",
       "countryname[T.Kosovo]                            -818.5609    949.489     -0.862      0.389   -2679.722    1042.600\n",
       "countryname[T.Kyrgyz Republic]                  -1221.6107    949.489     -1.287      0.198   -3082.772     639.551\n",
       "countryname[T.Lao PDR]                          -1991.4225    949.489     -2.097      0.036   -3852.584    -130.261\n",
       "countryname[T.Latvia]                            3769.6447    949.489      3.970      0.000    1908.483    5630.806\n",
       "countryname[T.Liberia]                          -2379.8226    949.489     -2.506      0.012   -4240.984    -518.661\n",
       "countryname[T.Lithuania]                         3628.8267    949.489      3.822      0.000    1767.665    5489.988\n",
       "countryname[T.Luxembourg]                        2.222e+04    949.489     23.405      0.000    2.04e+04    2.41e+04\n",
       "countryname[T.Madagascar]                       -2649.5928    949.489     -2.791      0.005   -4510.754    -788.432\n",
       "countryname[T.Malawi]                           -2080.5645    949.489     -2.191      0.028   -3941.726    -219.403\n",
       "countryname[T.Malaysia]                          3011.5125    949.489      3.172      0.002    1150.351    4872.674\n",
       "countryname[T.Mali]                             -2313.7549    949.489     -2.437      0.015   -4174.916    -452.594\n",
       "countryname[T.Mauritania]                       -1196.2208    949.489     -1.260      0.208   -3057.382     664.940\n",
       "countryname[T.Mexico]                             891.0004    949.489      0.938      0.348    -970.161    2752.162\n",
       "countryname[T.Moldova]                           -845.6585    949.489     -0.891      0.373   -2706.820    1015.503\n",
       "countryname[T.Mongolia]                          -656.7425    949.489     -0.692      0.489   -2517.904    1204.419\n",
       "countryname[T.Montenegro]                        3553.0692    949.489      3.742      0.000    1691.908    5414.230\n",
       "countryname[T.Morocco]                           -657.2293    949.489     -0.692      0.489   -2518.391    1203.932\n",
       "countryname[T.Mozambique]                       -2302.3494    949.489     -2.425      0.015   -4163.511    -441.188\n",
       "countryname[T.Nepal]                            -2080.4383    949.489     -2.191      0.028   -3941.600    -219.277\n",
       "countryname[T.Netherlands]                       1.473e+04    949.489     15.518      0.000    1.29e+04    1.66e+04\n",
       "countryname[T.Nicaragua]                         -475.4966    949.489     -0.501      0.617   -2336.658    1385.665\n",
       "countryname[T.Niger]                            -2344.7005    949.489     -2.469      0.014   -4205.862    -483.539\n",
       "countryname[T.Nigeria]                          -2302.9745    949.489     -2.425      0.015   -4164.136    -441.813\n",
       "countryname[T.North Macedonia]                   1604.5664    949.489      1.690      0.091    -256.595    3465.728\n",
       "countryname[T.Norway]                            1.949e+04    949.489     20.525      0.000    1.76e+04    2.13e+04\n",
       "countryname[T.Pakistan]                         -2106.9906    949.489     -2.219      0.027   -3968.152    -245.829\n",
       "countryname[T.Panama]                            2140.3095    949.489      2.254      0.024     279.148    4001.471\n",
       "countryname[T.Paraguay]                           283.2511    949.489      0.298      0.765   -1577.910    2144.412\n",
       "countryname[T.Peru]                               335.7034    949.489      0.354      0.724   -1525.458    2196.865\n",
       "countryname[T.Philippines]                      -1520.7670    949.489     -1.602      0.109   -3381.928     340.394\n",
       "countryname[T.Poland]                            2746.8903    949.489      2.893      0.004     885.729    4608.052\n",
       "countryname[T.Portugal]                          7103.8455    949.489      7.482      0.000    5242.684    8965.007\n",
       "countryname[T.Romania]                            323.5073    949.489      0.341      0.733   -1537.654    2184.669\n",
       "countryname[T.Russian Federation]                4161.9408    949.489      4.383      0.000    2300.780    6023.102\n",
       "countryname[T.Serbia]                            1884.9209    949.489      1.985      0.047      23.760    3746.082\n",
       "countryname[T.Slovak Republic]                   3101.7500    949.489      3.267      0.001    1240.589    4962.911\n",
       "countryname[T.Slovenia]                          9111.1776    949.489      9.596      0.000    7250.016     1.1e+04\n",
       "countryname[T.South Africa]                      2623.0750    949.489      2.763      0.006     761.914    4484.236\n",
       "countryname[T.South Korea]                       1.223e+04    949.489     12.883      0.000    1.04e+04    1.41e+04\n",
       "countryname[T.Spain]                             1.012e+04    949.489     10.661      0.000    8261.002     1.2e+04\n",
       "countryname[T.Sri Lanka]                        -1116.8897    949.489     -1.176      0.239   -2978.051     744.272\n",
       "countryname[T.Sudan]                            -1909.4828    949.489     -2.011      0.044   -3770.644     -48.322\n",
       "countryname[T.Sweden]                            1.319e+04    949.489     13.891      0.000    1.13e+04    1.51e+04\n",
       "countryname[T.Syrian Arab Republic]             -2309.0124    949.489     -2.432      0.015   -4170.174    -447.851\n",
       "countryname[T.Taiwan]                            1.351e+04    949.489     14.224      0.000    1.16e+04    1.54e+04\n",
       "countryname[T.Tajikistan]                        -924.9777    949.489     -0.974      0.330   -2786.139     936.184\n",
       "countryname[T.Tanzania]                         -2406.0629    949.489     -2.534      0.011   -4267.224    -544.902\n",
       "countryname[T.Thailand]                          -251.1173    949.489     -0.264      0.791   -2112.279    1610.044\n",
       "countryname[T.Timor-Leste]                      -2267.2195    949.489     -2.388      0.017   -4128.381    -406.058\n",
       "countryname[T.Turkey]                            3055.6354    949.489      3.218      0.001    1194.474    4916.797\n",
       "countryname[T.Uganda]                           -2007.6236    949.489     -2.114      0.035   -3868.785    -146.462\n",
       "countryname[T.Ukraine]                            354.5584    949.489      0.373      0.709   -1506.603    2215.720\n",
       "countryname[T.United Kingdom]                    1.871e+04    949.489     19.710      0.000    1.69e+04    2.06e+04\n",
       "countryname[T.United States]                     2.251e+04    949.489     23.706      0.000    2.06e+04    2.44e+04\n",
       "countryname[T.Uruguay]                           2295.9550    949.489      2.418      0.016     434.794    4157.116\n",
       "countryname[T.Venezuela]                          172.3178    949.489      0.181      0.856   -1688.843    2033.479\n",
       "countryname[T.Vietnam]                          -1617.0559    949.489     -1.703      0.089   -3478.217     244.105\n",
       "countryname[T.West Bank and Gaza]               -1880.7314    949.489     -1.981      0.048   -3741.893     -19.570\n",
       "countryname[T.Yemen]                            -1952.1940    949.489     -2.056      0.040   -3813.355     -91.033\n",
       "==============================================================================\n",
       "Omnibus:                    14653.631   Durbin-Watson:                   0.675\n",
       "Prob(Omnibus):                  0.000   Jarque-Bera (JB):          4207431.542\n",
       "Skew:                           6.739   Prob(JB):                         0.00\n",
       "Kurtosis:                      95.322   Cond. No.                         117.\n",
       "==============================================================================\n",
       "\n",
       "Warnings:\n",
       "[1] Standard Errors assume that the covariance matrix of the errors is correctly specified.\n",
       "\"\"\""
      ]
     },
     "execution_count": 9,
     "metadata": {},
     "output_type": "execute_result"
    }
   ],
   "source": [
    "results = smf.ols('y_child~countryname', data = sample_2).fit()\n",
    "results.summary()"
   ]
  },
  {
   "cell_type": "markdown",
   "metadata": {},
   "source": [
    "The results for the regression show: \n",
    "\n",
    "* The r-squared is .496\n",
    "\n",
    "* The Adj. R-squared is .491"
   ]
  },
  {
   "cell_type": "markdown",
   "metadata": {},
   "source": [
    "### Applying the ANOVA"
   ]
  },
  {
   "cell_type": "code",
   "execution_count": 10,
   "metadata": {},
   "outputs": [
    {
     "name": "stdout",
     "output_type": "stream",
     "text": [
      "                  df        sum_sq       mean_sq          F  PR(>F)\n",
      "countryname    115.0  5.102375e+11  4.436848e+09  98.429271     0.0\n",
      "Residual     11484.0  5.176586e+11  4.507651e+07        NaN     NaN\n"
     ]
    }
   ],
   "source": [
    "aov_table = sm.stats.anova_lm(results)\n",
    "print(aov_table)"
   ]
  },
  {
   "cell_type": "markdown",
   "metadata": {},
   "source": [
    "If the null hypothesis were to be true, the F value would be close to 1. A large __F-value, like the 98.429271 value above__, means the observed variation between the categories is not happening by chance. \n",
    "\n",
    "Therefore, we can reject the H0 hypothesis. The country variable does have a significant influence on the individual's income. "
   ]
  },
  {
   "cell_type": "markdown",
   "metadata": {},
   "source": [
    "#### Evaluating the model by finding the r-squared"
   ]
  },
  {
   "cell_type": "code",
   "execution_count": 11,
   "metadata": {},
   "outputs": [],
   "source": [
    "x = sample_2['countryname']\n",
    "y = sample_2['y_child']"
   ]
  },
  {
   "cell_type": "code",
   "execution_count": 12,
   "metadata": {},
   "outputs": [],
   "source": [
    "def r_squared(x,y):\n",
    "    mean_y = y.mean()\n",
    "    categories = []\n",
    "    for category in x.unique():\n",
    "        yi_category = y[x==category]\n",
    "        categories.append({'ni': len(yi_category),\n",
    "                        'mean_category': yi_category.mean()})\n",
    "    TSS = sum([(yj-mean_y)**2 for yj in y])\n",
    "    ESS = sum([c['ni']*(c['mean_category']-mean_y)**2 for c in categories])\n",
    "    return ESS/TSS"
   ]
  },
  {
   "cell_type": "code",
   "execution_count": 13,
   "metadata": {},
   "outputs": [
    {
     "data": {
      "text/plain": [
       "0.49639014231099604"
      ]
     },
     "execution_count": 13,
     "metadata": {},
     "output_type": "execute_result"
    }
   ],
   "source": [
    "r_squared(sample_2['countryname'],sample_2['y_child'])"
   ]
  },
  {
   "cell_type": "markdown",
   "metadata": {},
   "source": [
    "Seeing as the r^2 is in the middle between 0 and 1 at __0.49639__, it suggests the two variables may be somewhat correlated."
   ]
  },
  {
   "cell_type": "markdown",
   "metadata": {},
   "source": [
    "## Performing a linear regression using mean income & gini index"
   ]
  },
  {
   "cell_type": "markdown",
   "metadata": {},
   "source": [
    "### Using the explanatory variables as they are"
   ]
  },
  {
   "cell_type": "markdown",
   "metadata": {},
   "source": [
    "Performing a linear regression including as explanatory variables only the mean income and the Gini index of the individual 's country. With these two variables going into the model as explanatory variables, there are two pairs of hypotheses:\n",
    "\n",
    "#### Mean Income (mj):\n",
    "\n",
    "__H0(mj)__: There is no significant difference between the mean childrens' incomes in the different countries and the mean income.\n",
    "\n",
    "__H1(mj)__: There is a significant difference between the mean childrens' incomes in the different countries and the mean income.\n",
    "\n",
    "#### Gini Index (gj):\n",
    "\n",
    "__H0(gj)__: There is no significant difference between the Gini Indexes in the different countries.\n",
    "\n",
    "__H1(gj)__: There is a significant difference between the Gini Indexes in the different countries.\n"
   ]
  },
  {
   "cell_type": "code",
   "execution_count": 14,
   "metadata": {},
   "outputs": [
    {
     "data": {
      "text/html": [
       "<div>\n",
       "<style scoped>\n",
       "    .dataframe tbody tr th:only-of-type {\n",
       "        vertical-align: middle;\n",
       "    }\n",
       "\n",
       "    .dataframe tbody tr th {\n",
       "        vertical-align: top;\n",
       "    }\n",
       "\n",
       "    .dataframe thead th {\n",
       "        text-align: right;\n",
       "    }\n",
       "</style>\n",
       "<table border=\"1\" class=\"dataframe\">\n",
       "  <thead>\n",
       "    <tr style=\"text-align: right;\">\n",
       "      <th></th>\n",
       "      <th>countryname</th>\n",
       "      <th>y_child</th>\n",
       "      <th>base_case</th>\n",
       "      <th>gj</th>\n",
       "      <th>mj</th>\n",
       "      <th>c_i_parent</th>\n",
       "    </tr>\n",
       "  </thead>\n",
       "  <tbody>\n",
       "    <tr>\n",
       "      <td>1713561</td>\n",
       "      <td>Fiji</td>\n",
       "      <td>1011.5624</td>\n",
       "      <td>0.5</td>\n",
       "      <td>40.4</td>\n",
       "      <td>2098.730882</td>\n",
       "      <td>77</td>\n",
       "    </tr>\n",
       "    <tr>\n",
       "      <td>3772401</td>\n",
       "      <td>Nepal</td>\n",
       "      <td>687.4424</td>\n",
       "      <td>0.5</td>\n",
       "      <td>27.0</td>\n",
       "      <td>914.391651</td>\n",
       "      <td>12</td>\n",
       "    </tr>\n",
       "    <tr>\n",
       "      <td>742524</td>\n",
       "      <td>Cambodia</td>\n",
       "      <td>2220.3310</td>\n",
       "      <td>0.5</td>\n",
       "      <td>31.5</td>\n",
       "      <td>1486.340247</td>\n",
       "      <td>83</td>\n",
       "    </tr>\n",
       "  </tbody>\n",
       "</table>\n",
       "</div>"
      ],
      "text/plain": [
       "        countryname    y_child  base_case    gj           mj  c_i_parent\n",
       "1713561        Fiji  1011.5624        0.5  40.4  2098.730882          77\n",
       "3772401       Nepal   687.4424        0.5  27.0   914.391651          12\n",
       "742524     Cambodia  2220.3310        0.5  31.5  1486.340247          83"
      ]
     },
     "execution_count": 14,
     "metadata": {},
     "output_type": "execute_result"
    }
   ],
   "source": [
    "subsample = sample.sample(n=10000)\n",
    "subsample.head(3)"
   ]
  },
  {
   "cell_type": "code",
   "execution_count": 15,
   "metadata": {},
   "outputs": [
    {
     "name": "stdout",
     "output_type": "stream",
     "text": [
      "                            OLS Regression Results                            \n",
      "==============================================================================\n",
      "Dep. Variable:                y_child   R-squared:                       0.519\n",
      "Model:                            OLS   Adj. R-squared:                  0.519\n",
      "Method:                 Least Squares   F-statistic:                     5393.\n",
      "Date:                Tue, 29 Sep 2020   Prob (F-statistic):               0.00\n",
      "Time:                        11:58:55   Log-Likelihood:            -1.0177e+05\n",
      "No. Observations:               10000   AIC:                         2.036e+05\n",
      "Df Residuals:                    9997   BIC:                         2.036e+05\n",
      "Df Model:                           2                                         \n",
      "Covariance Type:            nonrobust                                         \n",
      "==============================================================================\n",
      "                 coef    std err          t      P>|t|      [0.025      0.975]\n",
      "------------------------------------------------------------------------------\n",
      "Intercept    196.8890    308.148      0.639      0.523    -407.143     800.921\n",
      "gj            -4.7753      7.467     -0.640      0.523     -19.412       9.862\n",
      "mj             0.9895      0.010    100.941      0.000       0.970       1.009\n",
      "==============================================================================\n",
      "Omnibus:                    12182.307   Durbin-Watson:                   1.983\n",
      "Prob(Omnibus):                  0.000   Jarque-Bera (JB):          2965744.574\n",
      "Skew:                           6.341   Prob(JB):                         0.00\n",
      "Kurtosis:                      86.408   Cond. No.                     4.38e+04\n",
      "==============================================================================\n",
      "\n",
      "Warnings:\n",
      "[1] Standard Errors assume that the covariance matrix of the errors is correctly specified.\n",
      "[2] The condition number is large, 4.38e+04. This might indicate that there are\n",
      "strong multicollinearity or other numerical problems.\n"
     ]
    }
   ],
   "source": [
    "model = smf.ols('y_child ~ gj + mj', data=subsample)\n",
    "results = model.fit()\n",
    "print(results.summary())"
   ]
  },
  {
   "cell_type": "markdown",
   "metadata": {},
   "source": [
    "We can see that with this model:\n",
    "\n",
    "* The __gj p-value is .048__, meaning it is likely significant as a variable\n",
    "\n",
    "* The __mj p-value is 0__, meaning it is likely significant as a variable\n",
    "\n",
    "* The __R-squared is .498__, meaning about less than half of income is explained by the gini and mean income \n",
    "\n",
    "* The __log-likelihood is -1.0236e+05__. The higher the log-likelihood is, the better, so this is promising. \n",
    "\n",
    "Returning to the hypotheses, it is safe to say:\n",
    "\n",
    "#### Mean Income (mj):\n",
    "\n",
    "We reject the null hypothesis, and so we can say the difference between children's income in a country, and that same country's mean income, is significant.\n",
    "\n",
    "#### Gini Index (gj):\n",
    "\n",
    "We reject the null hypothesis, meaning the difference in the Gini Index between countries is significant."
   ]
  },
  {
   "cell_type": "markdown",
   "metadata": {},
   "source": [
    "### Using the country's mean income and the child income in terms of logarithm (ln)"
   ]
  },
  {
   "cell_type": "markdown",
   "metadata": {},
   "source": [
    "#### Creating the log version of a subsample"
   ]
  },
  {
   "cell_type": "code",
   "execution_count": 16,
   "metadata": {},
   "outputs": [
    {
     "data": {
      "text/html": [
       "<div>\n",
       "<style scoped>\n",
       "    .dataframe tbody tr th:only-of-type {\n",
       "        vertical-align: middle;\n",
       "    }\n",
       "\n",
       "    .dataframe tbody tr th {\n",
       "        vertical-align: top;\n",
       "    }\n",
       "\n",
       "    .dataframe thead th {\n",
       "        text-align: right;\n",
       "    }\n",
       "</style>\n",
       "<table border=\"1\" class=\"dataframe\">\n",
       "  <thead>\n",
       "    <tr style=\"text-align: right;\">\n",
       "      <th></th>\n",
       "      <th>countryname</th>\n",
       "      <th>y_child</th>\n",
       "      <th>base_case</th>\n",
       "      <th>gj</th>\n",
       "      <th>mj</th>\n",
       "      <th>c_i_parent</th>\n",
       "    </tr>\n",
       "  </thead>\n",
       "  <tbody>\n",
       "    <tr>\n",
       "      <td>1713561</td>\n",
       "      <td>Fiji</td>\n",
       "      <td>1011.5624</td>\n",
       "      <td>0.5</td>\n",
       "      <td>40.4</td>\n",
       "      <td>2098.730882</td>\n",
       "      <td>77</td>\n",
       "    </tr>\n",
       "    <tr>\n",
       "      <td>3772401</td>\n",
       "      <td>Nepal</td>\n",
       "      <td>687.4424</td>\n",
       "      <td>0.5</td>\n",
       "      <td>27.0</td>\n",
       "      <td>914.391651</td>\n",
       "      <td>12</td>\n",
       "    </tr>\n",
       "    <tr>\n",
       "      <td>742524</td>\n",
       "      <td>Cambodia</td>\n",
       "      <td>2220.3310</td>\n",
       "      <td>0.5</td>\n",
       "      <td>31.5</td>\n",
       "      <td>1486.340247</td>\n",
       "      <td>83</td>\n",
       "    </tr>\n",
       "  </tbody>\n",
       "</table>\n",
       "</div>"
      ],
      "text/plain": [
       "        countryname    y_child  base_case    gj           mj  c_i_parent\n",
       "1713561        Fiji  1011.5624        0.5  40.4  2098.730882          77\n",
       "3772401       Nepal   687.4424        0.5  27.0   914.391651          12\n",
       "742524     Cambodia  2220.3310        0.5  31.5  1486.340247          83"
      ]
     },
     "execution_count": 16,
     "metadata": {},
     "output_type": "execute_result"
    }
   ],
   "source": [
    "sub_log = subsample.copy()\n",
    "sub_log.head(3)"
   ]
  },
  {
   "cell_type": "code",
   "execution_count": 17,
   "metadata": {},
   "outputs": [],
   "source": [
    "sub_log['y_child'] = np.log(sub_log['y_child'])"
   ]
  },
  {
   "cell_type": "code",
   "execution_count": 18,
   "metadata": {},
   "outputs": [],
   "source": [
    "sub_log['mj'] = np.log(sub_log['mj'])"
   ]
  },
  {
   "cell_type": "markdown",
   "metadata": {},
   "source": [
    "#### Using the log version with the model"
   ]
  },
  {
   "cell_type": "code",
   "execution_count": 19,
   "metadata": {},
   "outputs": [
    {
     "name": "stdout",
     "output_type": "stream",
     "text": [
      "                            OLS Regression Results                            \n",
      "==============================================================================\n",
      "Dep. Variable:                y_child   R-squared:                       0.727\n",
      "Model:                            OLS   Adj. R-squared:                  0.727\n",
      "Method:                 Least Squares   F-statistic:                 1.334e+04\n",
      "Date:                Tue, 29 Sep 2020   Prob (F-statistic):               0.00\n",
      "Time:                        11:58:55   Log-Likelihood:                -10951.\n",
      "No. Observations:               10000   AIC:                         2.191e+04\n",
      "Df Residuals:                    9997   BIC:                         2.193e+04\n",
      "Df Model:                           2                                         \n",
      "Covariance Type:            nonrobust                                         \n",
      "==============================================================================\n",
      "                 coef    std err          t      P>|t|      [0.025      0.975]\n",
      "------------------------------------------------------------------------------\n",
      "Intercept      0.1925      0.064      2.994      0.003       0.066       0.318\n",
      "gj            -0.0126      0.001    -15.037      0.000      -0.014      -0.011\n",
      "mj             1.0023      0.006    158.761      0.000       0.990       1.015\n",
      "==============================================================================\n",
      "Omnibus:                      767.428   Durbin-Watson:                   1.951\n",
      "Prob(Omnibus):                  0.000   Jarque-Bera (JB):             2994.950\n",
      "Skew:                          -0.306   Prob(JB):                         0.00\n",
      "Kurtosis:                       5.610   Cond. No.                         353.\n",
      "==============================================================================\n",
      "\n",
      "Warnings:\n",
      "[1] Standard Errors assume that the covariance matrix of the errors is correctly specified.\n"
     ]
    }
   ],
   "source": [
    "model = smf.ols('y_child ~ gj + mj', data=sub_log)\n",
    "results = model.fit()\n",
    "print(results.summary())"
   ]
  },
  {
   "cell_type": "code",
   "execution_count": 20,
   "metadata": {},
   "outputs": [
    {
     "data": {
      "text/plain": [
       "Intercept    2.760690e-03\n",
       "gj           1.490216e-50\n",
       "mj           0.000000e+00\n",
       "dtype: float64"
      ]
     },
     "execution_count": 20,
     "metadata": {},
     "output_type": "execute_result"
    }
   ],
   "source": [
    "results.pvalues"
   ]
  },
  {
   "cell_type": "code",
   "execution_count": 21,
   "metadata": {},
   "outputs": [
    {
     "data": {
      "text/plain": [
       "0.7274202503385493"
      ]
     },
     "execution_count": 21,
     "metadata": {},
     "output_type": "execute_result"
    }
   ],
   "source": [
    "results.rsquared"
   ]
  },
  {
   "cell_type": "code",
   "execution_count": 22,
   "metadata": {},
   "outputs": [
    {
     "data": {
      "text/plain": [
       "-10951.149494797668"
      ]
     },
     "execution_count": 22,
     "metadata": {},
     "output_type": "execute_result"
    }
   ],
   "source": [
    "results.llf"
   ]
  },
  {
   "cell_type": "markdown",
   "metadata": {},
   "source": [
    "We can see that with this model:\n",
    "\n",
    "* The __gj p-value is near 0__, meaning it is significant in explaining the child's income\n",
    "\n",
    "* The __mj p-value is 0__, meaning it is significant in explaining the child's income\n",
    "\n",
    "* The __R-squared is .723__, meaning a near majority of income is explained by the gini and mean income \n",
    "\n",
    "* The __log-likelihood is -10875.382037686315__. The higher the log-likelihood is, the better, so this is not great, but it isn't as bad, either. \n",
    "\n",
    "Returning to the hypotheses:\n",
    "\n",
    "#### Mean Income log(mj):\n",
    "\n",
    "We reject the null hypothesis, and so we can say that there is a significant difference between children's classes mean incomes and the mean income in the country. \n",
    "\n",
    "#### Gini Index log(gj):\n",
    "\n",
    "We reject the null hypothesis, meaning there is a signicant difference in the Gini Index between countries. \n",
    "\n",
    "__Overall, the log model with these explanatory variables performs better than the version that is not logged.__"
   ]
  },
  {
   "cell_type": "markdown",
   "metadata": {},
   "source": [
    "## Performing a linear regression + parent's income class"
   ]
  },
  {
   "cell_type": "markdown",
   "metadata": {},
   "source": [
    "The linear regression includes as explanatory variables the mean income, the Gini index of the individual 's country, and the parent's income class. With these three variables going into the model as explanatory variables, there are three pairs of hypotheses:\n",
    "\n",
    "#### Mean Income (mj):\n",
    "\n",
    "__H0(mj)__: There is no significant difference between the mean childrens' incomes in the different countries and the mean income.\n",
    "\n",
    "__H1(mj)__: There is a significant difference between the mean childrens' incomes in the different countries and the mean income.\n",
    "\n",
    "#### Gini Index (gj):\n",
    "\n",
    "__H0(gj)__: There is no significant difference between the Gini Indexes in the different countries.\n",
    "\n",
    "__H1(gj)__: There is a significant difference between the Gini Indexes in the different countries.\n",
    "\n",
    "#### Parent's Income Class (c_i_parent)\n",
    "\n",
    "__H0(c_i_parent)__: There is no significant difference between the parent income classes in the different countries.\n",
    "\n",
    "__H1(c_i_parent)__: There is a significant difference between the parent income classes in the different countries.\n"
   ]
  },
  {
   "cell_type": "markdown",
   "metadata": {},
   "source": [
    "## Performing the linear regression \n",
    "\n",
    "The explanatory variables include the mean income, the Gini index and the parent's income class"
   ]
  },
  {
   "cell_type": "code",
   "execution_count": 23,
   "metadata": {},
   "outputs": [
    {
     "name": "stdout",
     "output_type": "stream",
     "text": [
      "                            OLS Regression Results                            \n",
      "==============================================================================\n",
      "Dep. Variable:                y_child   R-squared:                       0.568\n",
      "Model:                            OLS   Adj. R-squared:                  0.567\n",
      "Method:                 Least Squares   F-statistic:                     4374.\n",
      "Date:                Tue, 29 Sep 2020   Prob (F-statistic):               0.00\n",
      "Time:                        11:58:55   Log-Likelihood:            -1.0124e+05\n",
      "No. Observations:               10000   AIC:                         2.025e+05\n",
      "Df Residuals:                    9996   BIC:                         2.025e+05\n",
      "Df Model:                           3                                         \n",
      "Covariance Type:            nonrobust                                         \n",
      "==============================================================================\n",
      "                 coef    std err          t      P>|t|      [0.025      0.975]\n",
      "------------------------------------------------------------------------------\n",
      "Intercept  -3361.7800    310.854    -10.815      0.000   -3971.116   -2752.444\n",
      "mj             0.9908      0.009    106.608      0.000       0.973       1.009\n",
      "gj            -4.5390      7.080     -0.641      0.521     -18.417       9.339\n",
      "c_i_parent    69.9377      2.086     33.528      0.000      65.849      74.027\n",
      "==============================================================================\n",
      "Omnibus:                    12600.464   Durbin-Watson:                   1.997\n",
      "Prob(Omnibus):                  0.000   Jarque-Bera (JB):          3657642.829\n",
      "Skew:                           6.693   Prob(JB):                         0.00\n",
      "Kurtosis:                      95.732   Cond. No.                     4.66e+04\n",
      "==============================================================================\n",
      "\n",
      "Warnings:\n",
      "[1] Standard Errors assume that the covariance matrix of the errors is correctly specified.\n",
      "[2] The condition number is large, 4.66e+04. This might indicate that there are\n",
      "strong multicollinearity or other numerical problems.\n"
     ]
    }
   ],
   "source": [
    "model = smf.ols('y_child ~ mj + gj + c_i_parent', data=subsample)\n",
    "results = model.fit()\n",
    "print(results.summary())"
   ]
  },
  {
   "cell_type": "code",
   "execution_count": 24,
   "metadata": {},
   "outputs": [
    {
     "data": {
      "text/plain": [
       "Intercept      4.143207e-27\n",
       "mj             0.000000e+00\n",
       "gj             5.214701e-01\n",
       "c_i_parent    1.170447e-233\n",
       "dtype: float64"
      ]
     },
     "execution_count": 24,
     "metadata": {},
     "output_type": "execute_result"
    }
   ],
   "source": [
    "results.pvalues"
   ]
  },
  {
   "cell_type": "code",
   "execution_count": 25,
   "metadata": {},
   "outputs": [
    {
     "data": {
      "text/plain": [
       "0.5676163252477398"
      ]
     },
     "execution_count": 25,
     "metadata": {},
     "output_type": "execute_result"
    }
   ],
   "source": [
    "results.rsquared"
   ]
  },
  {
   "cell_type": "code",
   "execution_count": 26,
   "metadata": {},
   "outputs": [
    {
     "data": {
      "text/plain": [
       "-101239.69370562393"
      ]
     },
     "execution_count": 26,
     "metadata": {},
     "output_type": "execute_result"
    }
   ],
   "source": [
    "results.llf"
   ]
  },
  {
   "cell_type": "markdown",
   "metadata": {},
   "source": [
    "We can see that with this model:\n",
    "\n",
    "* The __mj p-value is 0__, meaning it is significant in explaining the child's income\n",
    "\n",
    "* The __gj p-value is .052__, meaning it is significant in explaining the child's income\n",
    "\n",
    "* The __c_i_parent is near 0__, meaning it is significant in explaining the child's income\n",
    "\n",
    "* The __R-squared is .536__, meaning about half of income is explained by the gini, mean income and parent class\n",
    "\n",
    "* The __log-likelihood is -101871.49706866922__. The higher the log-likelihood is, the better, so this is not promising. "
   ]
  },
  {
   "cell_type": "markdown",
   "metadata": {},
   "source": [
    "In regards to the hypotheses stated earlier: \n",
    "\n",
    "#### Mean Income (mj):\n",
    "\n",
    "We reject the null hypothesis, so we can say there is a significant difference between children's classes mean incomes and the mean income in the country. \n",
    "\n",
    "#### Gini Index (gj):\n",
    "\n",
    "We reject the null hypothesis, meaning there is not a significant difference in the Gini Index between countries. \n",
    "\n",
    "#### Parent Income Class (c_i_parent):\n",
    "\n",
    "We reject the null hypothesis, so we can say there is a significant difference between children's income and their parent classes in individual countries. "
   ]
  },
  {
   "cell_type": "markdown",
   "metadata": {},
   "source": [
    "### Using the country's mean income and the child income in terms of logarithm (ln)"
   ]
  },
  {
   "cell_type": "code",
   "execution_count": 27,
   "metadata": {},
   "outputs": [
    {
     "data": {
      "text/html": [
       "<div>\n",
       "<style scoped>\n",
       "    .dataframe tbody tr th:only-of-type {\n",
       "        vertical-align: middle;\n",
       "    }\n",
       "\n",
       "    .dataframe tbody tr th {\n",
       "        vertical-align: top;\n",
       "    }\n",
       "\n",
       "    .dataframe thead th {\n",
       "        text-align: right;\n",
       "    }\n",
       "</style>\n",
       "<table border=\"1\" class=\"dataframe\">\n",
       "  <thead>\n",
       "    <tr style=\"text-align: right;\">\n",
       "      <th></th>\n",
       "      <th>countryname</th>\n",
       "      <th>y_child</th>\n",
       "      <th>base_case</th>\n",
       "      <th>gj</th>\n",
       "      <th>mj</th>\n",
       "      <th>c_i_parent</th>\n",
       "    </tr>\n",
       "  </thead>\n",
       "  <tbody>\n",
       "    <tr>\n",
       "      <td>1713561</td>\n",
       "      <td>Fiji</td>\n",
       "      <td>6.919251</td>\n",
       "      <td>0.5</td>\n",
       "      <td>40.4</td>\n",
       "      <td>7.649088</td>\n",
       "      <td>77</td>\n",
       "    </tr>\n",
       "    <tr>\n",
       "      <td>3772401</td>\n",
       "      <td>Nepal</td>\n",
       "      <td>6.532978</td>\n",
       "      <td>0.5</td>\n",
       "      <td>27.0</td>\n",
       "      <td>6.818259</td>\n",
       "      <td>12</td>\n",
       "    </tr>\n",
       "    <tr>\n",
       "      <td>742524</td>\n",
       "      <td>Cambodia</td>\n",
       "      <td>7.705412</td>\n",
       "      <td>0.5</td>\n",
       "      <td>31.5</td>\n",
       "      <td>7.304072</td>\n",
       "      <td>83</td>\n",
       "    </tr>\n",
       "  </tbody>\n",
       "</table>\n",
       "</div>"
      ],
      "text/plain": [
       "        countryname   y_child  base_case    gj        mj  c_i_parent\n",
       "1713561        Fiji  6.919251        0.5  40.4  7.649088          77\n",
       "3772401       Nepal  6.532978        0.5  27.0  6.818259          12\n",
       "742524     Cambodia  7.705412        0.5  31.5  7.304072          83"
      ]
     },
     "execution_count": 27,
     "metadata": {},
     "output_type": "execute_result"
    }
   ],
   "source": [
    "sub_log.head(3)"
   ]
  },
  {
   "cell_type": "code",
   "execution_count": 28,
   "metadata": {},
   "outputs": [
    {
     "data": {
      "text/html": [
       "<div>\n",
       "<style scoped>\n",
       "    .dataframe tbody tr th:only-of-type {\n",
       "        vertical-align: middle;\n",
       "    }\n",
       "\n",
       "    .dataframe tbody tr th {\n",
       "        vertical-align: top;\n",
       "    }\n",
       "\n",
       "    .dataframe thead th {\n",
       "        text-align: right;\n",
       "    }\n",
       "</style>\n",
       "<table border=\"1\" class=\"dataframe\">\n",
       "  <thead>\n",
       "    <tr style=\"text-align: right;\">\n",
       "      <th></th>\n",
       "      <th>countryname</th>\n",
       "      <th>y_child</th>\n",
       "      <th>base_case</th>\n",
       "      <th>gj</th>\n",
       "      <th>mj</th>\n",
       "      <th>c_i_parent</th>\n",
       "    </tr>\n",
       "  </thead>\n",
       "  <tbody>\n",
       "    <tr>\n",
       "      <td>1713561</td>\n",
       "      <td>Fiji</td>\n",
       "      <td>6.919251</td>\n",
       "      <td>0.5</td>\n",
       "      <td>40.4</td>\n",
       "      <td>7.649088</td>\n",
       "      <td>77</td>\n",
       "    </tr>\n",
       "    <tr>\n",
       "      <td>3772401</td>\n",
       "      <td>Nepal</td>\n",
       "      <td>6.532978</td>\n",
       "      <td>0.5</td>\n",
       "      <td>27.0</td>\n",
       "      <td>6.818259</td>\n",
       "      <td>12</td>\n",
       "    </tr>\n",
       "    <tr>\n",
       "      <td>742524</td>\n",
       "      <td>Cambodia</td>\n",
       "      <td>7.705412</td>\n",
       "      <td>0.5</td>\n",
       "      <td>31.5</td>\n",
       "      <td>7.304072</td>\n",
       "      <td>83</td>\n",
       "    </tr>\n",
       "  </tbody>\n",
       "</table>\n",
       "</div>"
      ],
      "text/plain": [
       "        countryname   y_child  base_case    gj        mj  c_i_parent\n",
       "1713561        Fiji  6.919251        0.5  40.4  7.649088          77\n",
       "3772401       Nepal  6.532978        0.5  27.0  6.818259          12\n",
       "742524     Cambodia  7.705412        0.5  31.5  7.304072          83"
      ]
     },
     "execution_count": 28,
     "metadata": {},
     "output_type": "execute_result"
    }
   ],
   "source": [
    "sub_log.head(3)"
   ]
  },
  {
   "cell_type": "code",
   "execution_count": 29,
   "metadata": {},
   "outputs": [
    {
     "name": "stdout",
     "output_type": "stream",
     "text": [
      "                            OLS Regression Results                            \n",
      "==============================================================================\n",
      "Dep. Variable:                y_child   R-squared:                       0.798\n",
      "Model:                            OLS   Adj. R-squared:                  0.798\n",
      "Method:                 Least Squares   F-statistic:                 1.314e+04\n",
      "Date:                Tue, 29 Sep 2020   Prob (F-statistic):               0.00\n",
      "Time:                        11:58:55   Log-Likelihood:                -9460.6\n",
      "No. Observations:               10000   AIC:                         1.893e+04\n",
      "Df Residuals:                    9996   BIC:                         1.896e+04\n",
      "Df Model:                           3                                         \n",
      "Covariance Type:            nonrobust                                         \n",
      "==============================================================================\n",
      "                 coef    std err          t      P>|t|      [0.025      0.975]\n",
      "------------------------------------------------------------------------------\n",
      "Intercept     -0.4730      0.057     -8.369      0.000      -0.584      -0.362\n",
      "mj             1.0048      0.005    184.737      0.000       0.994       1.015\n",
      "gj            -0.0125      0.001    -17.387      0.000      -0.014      -0.011\n",
      "c_i_parent     0.0127      0.000     58.922      0.000       0.012       0.013\n",
      "==============================================================================\n",
      "Omnibus:                      833.128   Durbin-Watson:                   1.968\n",
      "Prob(Omnibus):                  0.000   Jarque-Bera (JB):             3060.488\n",
      "Skew:                          -0.371   Prob(JB):                         0.00\n",
      "Kurtosis:                       5.606   Cond. No.                         620.\n",
      "==============================================================================\n",
      "\n",
      "Warnings:\n",
      "[1] Standard Errors assume that the covariance matrix of the errors is correctly specified.\n"
     ]
    }
   ],
   "source": [
    "model = smf.ols('y_child ~ mj + gj + c_i_parent', data=sub_log)\n",
    "results = model.fit()\n",
    "print(results.summary())"
   ]
  },
  {
   "cell_type": "code",
   "execution_count": 30,
   "metadata": {},
   "outputs": [
    {
     "data": {
      "text/plain": [
       "Intercept     6.598744e-17\n",
       "mj            0.000000e+00\n",
       "gj            9.931814e-67\n",
       "c_i_parent    0.000000e+00\n",
       "dtype: float64"
      ]
     },
     "execution_count": 30,
     "metadata": {},
     "output_type": "execute_result"
    }
   ],
   "source": [
    "results.pvalues"
   ]
  },
  {
   "cell_type": "code",
   "execution_count": 31,
   "metadata": {},
   "outputs": [
    {
     "data": {
      "text/plain": [
       "0.7976867267354619"
      ]
     },
     "execution_count": 31,
     "metadata": {},
     "output_type": "execute_result"
    }
   ],
   "source": [
    "results.rsquared"
   ]
  },
  {
   "cell_type": "code",
   "execution_count": 32,
   "metadata": {},
   "outputs": [
    {
     "data": {
      "text/plain": [
       "-9460.5801108651"
      ]
     },
     "execution_count": 32,
     "metadata": {},
     "output_type": "execute_result"
    }
   ],
   "source": [
    "results.llf"
   ]
  },
  {
   "cell_type": "markdown",
   "metadata": {},
   "source": [
    "We can see that with this model:\n",
    "\n",
    "* The __mj p-value is 0__, meaning it is not reliable in explaining the child's income\n",
    "\n",
    "* The __gj p-value is near 0__, meaning it may be a factor in explaining the child's income\n",
    "\n",
    "* The __c_i_parent is near 0__, meaning it is not reliable in explaining the child's income\n",
    "\n",
    "* The __R-squared is .797__, meaning a majority of income is explained by the gini, mean income and parent class\n",
    "\n",
    "* The __log-likelihood is -9460.5801108651__. The higher the log-likelihood is, the better, so this is not promising. "
   ]
  },
  {
   "cell_type": "markdown",
   "metadata": {},
   "source": [
    "In regards to the hypotheses stated earlier: \n",
    "\n",
    "#### Mean Income (mj):\n",
    "\n",
    "We reject the null hypothesis, and so we can say that there is a significant difference between children's classes mean incomes and the mean income in the country. \n",
    "\n",
    "#### Gini Index (gj):\n",
    "\n",
    "We reject the null hypothesis, meaning there is a difference in the Gini Index between countries. \n",
    "\n",
    "#### Parent Income Class (c_i_parent):\n",
    "\n",
    "We reject the null hypothesis, and so we can say that there is a significant difference between children's income and their parent classes in individual countries. "
   ]
  },
  {
   "cell_type": "markdown",
   "metadata": {},
   "source": [
    "## Selecting the best performing model"
   ]
  },
  {
   "cell_type": "markdown",
   "metadata": {},
   "source": [
    "The best performing model is the __log version of the 'y_child ~ mj + gj + c_i_parent' model__. It has the best r-squared value at .797 and permissable p-values."
   ]
  },
  {
   "cell_type": "code",
   "execution_count": 33,
   "metadata": {},
   "outputs": [
    {
     "name": "stdout",
     "output_type": "stream",
     "text": [
      "                            OLS Regression Results                            \n",
      "==============================================================================\n",
      "Dep. Variable:                y_child   R-squared:                       0.798\n",
      "Model:                            OLS   Adj. R-squared:                  0.798\n",
      "Method:                 Least Squares   F-statistic:                 1.314e+04\n",
      "Date:                Tue, 29 Sep 2020   Prob (F-statistic):               0.00\n",
      "Time:                        11:58:55   Log-Likelihood:                -9460.6\n",
      "No. Observations:               10000   AIC:                         1.893e+04\n",
      "Df Residuals:                    9996   BIC:                         1.896e+04\n",
      "Df Model:                           3                                         \n",
      "Covariance Type:            nonrobust                                         \n",
      "==============================================================================\n",
      "                 coef    std err          t      P>|t|      [0.025      0.975]\n",
      "------------------------------------------------------------------------------\n",
      "Intercept     -0.4730      0.057     -8.369      0.000      -0.584      -0.362\n",
      "mj             1.0048      0.005    184.737      0.000       0.994       1.015\n",
      "gj            -0.0125      0.001    -17.387      0.000      -0.014      -0.011\n",
      "c_i_parent     0.0127      0.000     58.922      0.000       0.012       0.013\n",
      "==============================================================================\n",
      "Omnibus:                      833.128   Durbin-Watson:                   1.968\n",
      "Prob(Omnibus):                  0.000   Jarque-Bera (JB):             3060.488\n",
      "Skew:                          -0.371   Prob(JB):                         0.00\n",
      "Kurtosis:                       5.606   Cond. No.                         620.\n",
      "==============================================================================\n",
      "\n",
      "Warnings:\n",
      "[1] Standard Errors assume that the covariance matrix of the errors is correctly specified.\n"
     ]
    }
   ],
   "source": [
    "model = smf.ols('y_child ~ mj + gj + c_i_parent', data=sub_log)\n",
    "log_results = model.fit()\n",
    "print(log_results.summary())"
   ]
  },
  {
   "cell_type": "markdown",
   "metadata": {},
   "source": [
    "## Verifying the researcher's facts "
   ]
  },
  {
   "cell_type": "markdown",
   "metadata": {},
   "source": [
    "In this section, the project manager would like some of the researcher's assertions to be verified. \n",
    "\n",
    "Assertions to be checked:\n",
    "\n",
    "* Based on the regression coefficient associated with the Gini index, there are more people disadvantaged by living in a more unequal country than there are people who benefit\n",
    "\n",
    "* By analyzing the total variance decomposition, 60% of the total variance is explained by the country alone (mean income and Gini index) and that 80% of the total variance is explained by the country and the parents’ income alone. That would mean that only the remaining 20% are due to other factors such as : effort, chance, etc.\n",
    "\n",
    "The project manager would then like it to be checked if the model is worth using, and to have his income predicted knowing that his parents earned approximately the mean income of the country. "
   ]
  },
  {
   "cell_type": "markdown",
   "metadata": {},
   "source": [
    "### Finding the regression coefficient"
   ]
  },
  {
   "cell_type": "code",
   "execution_count": 46,
   "metadata": {},
   "outputs": [
    {
     "name": "stdout",
     "output_type": "stream",
     "text": [
      "Intercept    -0.473043\n",
      "mj            1.004837\n",
      "gj           -0.012508\n",
      "c_i_parent    0.012696\n",
      "dtype: float64\n"
     ]
    }
   ],
   "source": [
    "print(log_results.params)\n",
    "\n",
    "# the regression coefficient associated with the Gini Index is negative"
   ]
  },
  {
   "cell_type": "markdown",
   "metadata": {},
   "source": [
    "The regression coefficient for the Gini Index is negative at __-0.012508__. As the researcher claims, this shows that living in a low-mobility country is more likely to be of a disadvantage to the individual, and their children, than it is likely to help. It calls to mind the plotting of conditional distributions in Task 2 of this project. \n",
    "\n",
    "In countries with greater inequality, the conditional distributions give benefit to the higher income classes, whose income will be higher, and harms lower income classes with a declining income. As researcher Branko Milanovic writes in \"Global inequality of opportunity\": \"Overall, there are more of the latter and that is why in regressions [...] the coefficient on Gini is negative\" (page 24)."
   ]
  },
  {
   "cell_type": "markdown",
   "metadata": {},
   "source": [
    "### Analyzing the total variance decomposition"
   ]
  },
  {
   "cell_type": "markdown",
   "metadata": {},
   "source": [
    "Verify whether or not: \"60% of the total variance is explained by the country alone (mean income and Gini index) and that 80% of the total variance is explained by the country and the parents’ income alone. That would mean that only the remaining 20% are due to other factors such as : effort, chance, etc.\""
   ]
  },
  {
   "cell_type": "markdown",
   "metadata": {},
   "source": [
    "To analyze the total variance decomposition, I will pull up the explained variance score, which is the mean of error/the mean residue. While R^2 can indicate whether the actual y-value and predicted y-value have the same variance, the mean of error tests whether or not that's true. "
   ]
  },
  {
   "cell_type": "markdown",
   "metadata": {},
   "source": [
    "#### Finding the explained variance for logged mj + gj + c_i_parent model"
   ]
  },
  {
   "cell_type": "code",
   "execution_count": 35,
   "metadata": {},
   "outputs": [
    {
     "name": "stdout",
     "output_type": "stream",
     "text": [
      "                df        sum_sq       mean_sq             F        PR(>F)\n",
      "mj             1.0  13846.038591  13846.038591  35636.134374  0.000000e+00\n",
      "gj             1.0    118.359071    118.359071    304.625740  3.194648e-67\n",
      "c_i_parent     1.0   1348.916281   1348.916281   3471.762810  0.000000e+00\n",
      "Residual    9996.0   3883.838811      0.388539           NaN           NaN\n"
     ]
    }
   ],
   "source": [
    "aov_table = sm.stats.anova_lm(results)\n",
    "print(aov_table)"
   ]
  },
  {
   "cell_type": "code",
   "execution_count": 36,
   "metadata": {},
   "outputs": [
    {
     "data": {
      "text/html": [
       "<div>\n",
       "<style scoped>\n",
       "    .dataframe tbody tr th:only-of-type {\n",
       "        vertical-align: middle;\n",
       "    }\n",
       "\n",
       "    .dataframe tbody tr th {\n",
       "        vertical-align: top;\n",
       "    }\n",
       "\n",
       "    .dataframe thead th {\n",
       "        text-align: right;\n",
       "    }\n",
       "</style>\n",
       "<table border=\"1\" class=\"dataframe\">\n",
       "  <thead>\n",
       "    <tr style=\"text-align: right;\">\n",
       "      <th></th>\n",
       "      <th>df</th>\n",
       "      <th>sum_sq</th>\n",
       "      <th>mean_sq</th>\n",
       "      <th>F</th>\n",
       "      <th>PR(&gt;F)</th>\n",
       "      <th>perc_variance</th>\n",
       "    </tr>\n",
       "  </thead>\n",
       "  <tbody>\n",
       "    <tr>\n",
       "      <td>mj</td>\n",
       "      <td>1.0</td>\n",
       "      <td>13846.038591</td>\n",
       "      <td>13846.038591</td>\n",
       "      <td>35636.134374</td>\n",
       "      <td>0.000000e+00</td>\n",
       "      <td>72.125480</td>\n",
       "    </tr>\n",
       "    <tr>\n",
       "      <td>gj</td>\n",
       "      <td>1.0</td>\n",
       "      <td>118.359071</td>\n",
       "      <td>118.359071</td>\n",
       "      <td>304.625740</td>\n",
       "      <td>3.194648e-67</td>\n",
       "      <td>0.616545</td>\n",
       "    </tr>\n",
       "    <tr>\n",
       "      <td>c_i_parent</td>\n",
       "      <td>1.0</td>\n",
       "      <td>1348.916281</td>\n",
       "      <td>1348.916281</td>\n",
       "      <td>3471.762810</td>\n",
       "      <td>0.000000e+00</td>\n",
       "      <td>7.026648</td>\n",
       "    </tr>\n",
       "    <tr>\n",
       "      <td>Residual</td>\n",
       "      <td>9996.0</td>\n",
       "      <td>3883.838811</td>\n",
       "      <td>0.388539</td>\n",
       "      <td>NaN</td>\n",
       "      <td>NaN</td>\n",
       "      <td>20.231327</td>\n",
       "    </tr>\n",
       "  </tbody>\n",
       "</table>\n",
       "</div>"
      ],
      "text/plain": [
       "                df        sum_sq       mean_sq             F        PR(>F)  \\\n",
       "mj             1.0  13846.038591  13846.038591  35636.134374  0.000000e+00   \n",
       "gj             1.0    118.359071    118.359071    304.625740  3.194648e-67   \n",
       "c_i_parent     1.0   1348.916281   1348.916281   3471.762810  0.000000e+00   \n",
       "Residual    9996.0   3883.838811      0.388539           NaN           NaN   \n",
       "\n",
       "            perc_variance  \n",
       "mj              72.125480  \n",
       "gj               0.616545  \n",
       "c_i_parent       7.026648  \n",
       "Residual        20.231327  "
      ]
     },
     "execution_count": 36,
     "metadata": {},
     "output_type": "execute_result"
    }
   ],
   "source": [
    "aov_table['perc_variance'] = 100 * (aov_table['sum_sq']/sum(aov_table['sum_sq']))\n",
    "aov_table"
   ]
  },
  {
   "cell_type": "markdown",
   "metadata": {},
   "source": [
    "In looking at the percentages of the total variance, the numbers closely align with with the researcher's claims. \n",
    "\n",
    "The researcher claimed:\n",
    "\n",
    "* 60% is country alone (mj + gj)\n",
    "\n",
    "* 80% is country and parents income\n",
    "\n",
    "* 20% is left for other factors \n",
    "\n",
    "The model shows: \n",
    "\n",
    "* Roughly 73% is country alone (mj + gj)\n",
    "\n",
    "* Roughly 80% is country and parents income\n",
    "\n",
    "* Roughly 20% remains for other factors "
   ]
  },
  {
   "cell_type": "markdown",
   "metadata": {},
   "source": [
    "### Seeing if the model is worth using"
   ]
  },
  {
   "cell_type": "markdown",
   "metadata": {},
   "source": [
    "To measure the quality of the model, I will: \n",
    "\n",
    "* Check the residuals of the model\n",
    "\n",
    "* Check for heteroskedasticity\n",
    "\n",
    "* Measure the performance with RMSE"
   ]
  },
  {
   "cell_type": "markdown",
   "metadata": {},
   "source": [
    "#### Checking the residuals of the model "
   ]
  },
  {
   "cell_type": "code",
   "execution_count": 37,
   "metadata": {},
   "outputs": [
    {
     "data": {
      "text/plain": [
       "<matplotlib.axes._subplots.AxesSubplot at 0x1c1ba35390>"
      ]
     },
     "execution_count": 37,
     "metadata": {},
     "output_type": "execute_result"
    },
    {
     "data": {
      "image/png": "[encoded data removed]",
      "text/plain": [
       "<Figure size 432x288 with 1 Axes>"
      ]
     },
     "metadata": {
      "needs_background": "light"
     },
     "output_type": "display_data"
    }
   ],
   "source": [
    "sns.distplot(log_results.resid)\n",
    "# The residuals appear to be normally distributed"
   ]
  },
  {
   "cell_type": "code",
   "execution_count": 38,
   "metadata": {},
   "outputs": [
    {
     "data": {
      "text/plain": [
       "KstestResult(statistic=0.1339216858869755, pvalue=3.307070232949062e-156)"
      ]
     },
     "execution_count": 38,
     "metadata": {},
     "output_type": "execute_result"
    }
   ],
   "source": [
    "# running a Kolmogorov Smirnoff test on the residuals\n",
    "from scipy import stats\n",
    "stats.kstest(log_results.resid , 'norm')\n",
    "# With a p-value near 0, we cannot reject the null hypothesis that the residuals are close to being normally distributed"
   ]
  },
  {
   "cell_type": "markdown",
   "metadata": {},
   "source": [
    "#### Checking auto correlation of the resiudals "
   ]
  },
  {
   "cell_type": "code",
   "execution_count": 39,
   "metadata": {},
   "outputs": [
    {
     "data": {
      "text/plain": [
       "1.9679160055204372"
      ]
     },
     "execution_count": 39,
     "metadata": {},
     "output_type": "execute_result"
    }
   ],
   "source": [
    "from statsmodels.stats.stattools import durbin_watson\n",
    "durbin_watson(log_results.resid, axis=0)\n",
    "# The value of 1.97 indicates the residuals are not auto-correlated"
   ]
  },
  {
   "cell_type": "markdown",
   "metadata": {},
   "source": [
    "#### Checking heteroskedasticity"
   ]
  },
  {
   "cell_type": "code",
   "execution_count": 40,
   "metadata": {},
   "outputs": [
    {
     "data": {
      "image/png": "[encoded data removed]",
      "text/plain": [
       "<Figure size 432x288 with 1 Axes>"
      ]
     },
     "metadata": {
      "needs_background": "light"
     },
     "output_type": "display_data"
    }
   ],
   "source": [
    "plt.scatter(log_results.resid, log_results.fittedvalues)\n",
    "plt.grid(alpha = 0.3)\n",
    "\n",
    "# There is no funnel pattern, so heteroskedasticity does not appear to be a problem"
   ]
  },
  {
   "cell_type": "markdown",
   "metadata": {},
   "source": [
    "#### Measuring the performance with RMSE"
   ]
  },
  {
   "cell_type": "code",
   "execution_count": 41,
   "metadata": {},
   "outputs": [],
   "source": [
    "def RMSE(resid):\n",
    "    return np.sqrt(np.square(resid).sum()) / len(resid)"
   ]
  },
  {
   "cell_type": "code",
   "execution_count": 42,
   "metadata": {},
   "outputs": [
    {
     "data": {
      "text/plain": [
       "0.006232045258864282"
      ]
     },
     "execution_count": 42,
     "metadata": {},
     "output_type": "execute_result"
    }
   ],
   "source": [
    "RMSE(log_results.resid)\n",
    "\n",
    "# The RMSE measures the distance between the fitted values and the real values\n",
    "# This is a really good RMSE score"
   ]
  },
  {
   "cell_type": "markdown",
   "metadata": {},
   "source": [
    "Each of these checks shows the model is worth using"
   ]
  },
  {
   "cell_type": "markdown",
   "metadata": {},
   "source": [
    "### Predicting the income"
   ]
  },
  {
   "cell_type": "markdown",
   "metadata": {},
   "source": [
    "Project Manager: \"Predict the income I’m supposed to have knowing that my parents earned approximately the mean income of the country.\""
   ]
  },
  {
   "cell_type": "code",
   "execution_count": 43,
   "metadata": {
    "scrolled": true
   },
   "outputs": [
    {
     "data": {
      "text/html": [
       "<div>\n",
       "<style scoped>\n",
       "    .dataframe tbody tr th:only-of-type {\n",
       "        vertical-align: middle;\n",
       "    }\n",
       "\n",
       "    .dataframe tbody tr th {\n",
       "        vertical-align: top;\n",
       "    }\n",
       "\n",
       "    .dataframe thead th {\n",
       "        text-align: right;\n",
       "    }\n",
       "</style>\n",
       "<table border=\"1\" class=\"dataframe\">\n",
       "  <thead>\n",
       "    <tr style=\"text-align: right;\">\n",
       "      <th></th>\n",
       "      <th>y_child</th>\n",
       "      <th>base_case</th>\n",
       "      <th>gj</th>\n",
       "      <th>mj</th>\n",
       "      <th>c_i_parent</th>\n",
       "    </tr>\n",
       "  </thead>\n",
       "  <tbody>\n",
       "    <tr>\n",
       "      <td>count</td>\n",
       "      <td>77.000000</td>\n",
       "      <td>7.700000e+01</td>\n",
       "      <td>7.700000e+01</td>\n",
       "      <td>7.700000e+01</td>\n",
       "      <td>77.000000</td>\n",
       "    </tr>\n",
       "    <tr>\n",
       "      <td>mean</td>\n",
       "      <td>9.706621</td>\n",
       "      <td>6.600000e-01</td>\n",
       "      <td>4.510000e+01</td>\n",
       "      <td>1.014657e+01</td>\n",
       "      <td>51.701299</td>\n",
       "    </tr>\n",
       "    <tr>\n",
       "      <td>std</td>\n",
       "      <td>0.800800</td>\n",
       "      <td>1.229254e-15</td>\n",
       "      <td>5.721617e-14</td>\n",
       "      <td>1.251604e-14</td>\n",
       "      <td>28.521029</td>\n",
       "    </tr>\n",
       "    <tr>\n",
       "      <td>min</td>\n",
       "      <td>7.437257</td>\n",
       "      <td>6.600000e-01</td>\n",
       "      <td>4.510000e+01</td>\n",
       "      <td>1.014657e+01</td>\n",
       "      <td>1.000000</td>\n",
       "    </tr>\n",
       "    <tr>\n",
       "      <td>25%</td>\n",
       "      <td>9.219632</td>\n",
       "      <td>6.600000e-01</td>\n",
       "      <td>4.510000e+01</td>\n",
       "      <td>1.014657e+01</td>\n",
       "      <td>28.000000</td>\n",
       "    </tr>\n",
       "    <tr>\n",
       "      <td>50%</td>\n",
       "      <td>9.644639</td>\n",
       "      <td>6.600000e-01</td>\n",
       "      <td>4.510000e+01</td>\n",
       "      <td>1.014657e+01</td>\n",
       "      <td>55.000000</td>\n",
       "    </tr>\n",
       "    <tr>\n",
       "      <td>75%</td>\n",
       "      <td>10.291534</td>\n",
       "      <td>6.600000e-01</td>\n",
       "      <td>4.510000e+01</td>\n",
       "      <td>1.014657e+01</td>\n",
       "      <td>74.000000</td>\n",
       "    </tr>\n",
       "    <tr>\n",
       "      <td>max</td>\n",
       "      <td>11.578388</td>\n",
       "      <td>6.600000e-01</td>\n",
       "      <td>4.510000e+01</td>\n",
       "      <td>1.014657e+01</td>\n",
       "      <td>99.000000</td>\n",
       "    </tr>\n",
       "  </tbody>\n",
       "</table>\n",
       "</div>"
      ],
      "text/plain": [
       "         y_child     base_case            gj            mj  c_i_parent\n",
       "count  77.000000  7.700000e+01  7.700000e+01  7.700000e+01   77.000000\n",
       "mean    9.706621  6.600000e-01  4.510000e+01  1.014657e+01   51.701299\n",
       "std     0.800800  1.229254e-15  5.721617e-14  1.251604e-14   28.521029\n",
       "min     7.437257  6.600000e-01  4.510000e+01  1.014657e+01    1.000000\n",
       "25%     9.219632  6.600000e-01  4.510000e+01  1.014657e+01   28.000000\n",
       "50%     9.644639  6.600000e-01  4.510000e+01  1.014657e+01   55.000000\n",
       "75%    10.291534  6.600000e-01  4.510000e+01  1.014657e+01   74.000000\n",
       "max    11.578388  6.600000e-01  4.510000e+01  1.014657e+01   99.000000"
      ]
     },
     "execution_count": 43,
     "metadata": {},
     "output_type": "execute_result"
    }
   ],
   "source": [
    "sub_log_us = sub_log.loc[(sub_log['countryname'] == 'United States')]\n",
    "sub_log_us.describe()"
   ]
  },
  {
   "cell_type": "code",
   "execution_count": 44,
   "metadata": {},
   "outputs": [
    {
     "data": {
      "text/html": [
       "<div>\n",
       "<style scoped>\n",
       "    .dataframe tbody tr th:only-of-type {\n",
       "        vertical-align: middle;\n",
       "    }\n",
       "\n",
       "    .dataframe tbody tr th {\n",
       "        vertical-align: top;\n",
       "    }\n",
       "\n",
       "    .dataframe thead th {\n",
       "        text-align: right;\n",
       "    }\n",
       "</style>\n",
       "<table border=\"1\" class=\"dataframe\">\n",
       "  <thead>\n",
       "    <tr style=\"text-align: right;\">\n",
       "      <th></th>\n",
       "      <th>mj</th>\n",
       "      <th>gj</th>\n",
       "      <th>c_i_parent</th>\n",
       "    </tr>\n",
       "  </thead>\n",
       "  <tbody>\n",
       "    <tr>\n",
       "      <td>0</td>\n",
       "      <td>10.15</td>\n",
       "      <td>45.1</td>\n",
       "      <td>52</td>\n",
       "    </tr>\n",
       "  </tbody>\n",
       "</table>\n",
       "</div>"
      ],
      "text/plain": [
       "      mj    gj  c_i_parent\n",
       "0  10.15  45.1          52"
      ]
     },
     "execution_count": 44,
     "metadata": {},
     "output_type": "execute_result"
    }
   ],
   "source": [
    "# making a one-row dataframe with the mean independent variables for the model\n",
    "us = pd.DataFrame([[10.15, 45.1, 52]], columns = ('mj', 'gj', 'c_i_parent'))\n",
    "us"
   ]
  },
  {
   "cell_type": "code",
   "execution_count": 45,
   "metadata": {},
   "outputs": [
    {
     "data": {
      "text/plain": [
       "0    18437.607448\n",
       "dtype: float64"
      ]
     },
     "execution_count": 45,
     "metadata": {},
     "output_type": "execute_result"
    }
   ],
   "source": [
    "np.exp(log_results.predict(us))\n",
    "\n",
    "# predict tends to produce a lower number. More realistically, this number would be closer to 23,000"
   ]
  },
  {
   "cell_type": "markdown",
   "metadata": {},
   "source": [
    "The predicted income for the project manager — knowing that his parents earned approximately the mean income of the country — is roughly __$18,500__."
   ]
  },
  {
   "cell_type": "code",
   "execution_count": null,
   "metadata": {},
   "outputs": [],
   "source": []
  }
 ],
 "metadata": {
  "kernelspec": {
   "display_name": "Python 3",
   "language": "python",
   "name": "python3"
  },
  "language_info": {
   "codemirror_mode": {
    "name": "ipython",
    "version": 3
   },
   "file_extension": ".py",
   "mimetype": "text/x-python",
   "name": "python",
   "nbconvert_exporter": "python",
   "pygments_lexer": "ipython3",
   "version": "3.7.4"
  }
 },
 "nbformat": 4,
 "nbformat_minor": 2
}
