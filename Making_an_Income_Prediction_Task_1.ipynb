{
 "cells": [
  {
   "cell_type": "markdown",
   "metadata": {},
   "source": [
    "# Making an Income Prediction"
   ]
  },
  {
   "cell_type": "markdown",
   "metadata": {},
   "source": [
    "In this project for OpenClassrooms, a bank is looking to target new potential customers who are more likely to have higher incomes later in life. The goal of the project is to create a model to predict a person's future income. \n",
    "\n",
    "## Task 1\n",
    "\n",
    "In Task 1, OpenClassrooms is looking for a research paper from the World Bank to be read. The paper outlines a model that can predict an individual's income from the variables country of residence and parent income. \n",
    "\n",
    "The project leader is looking for a short preliminary analysis containing the:\n",
    "\n",
    "* Year(s) of data.\n",
    "\n",
    "* Number of countries involved.\n",
    "\n",
    "* Population covered by the dataset (percentage of world population).\n",
    "\n",
    "* The type of quantiles used (quartiles, deciles, ventiles, percentiles, etc.).\n",
    "\n",
    "* The dollar PPP unity and an explanation of why (not why not) it’s a good method to compare countries.\n",
    "\n",
    "* A graph showing how diverse countries are in terms of income distribution. This graph must represent the income (y-axis, on a log scale) as a function of income class (x-axis) for 5 to 10 countries. Please ensure you represent a diversity of cases. Among the countries that must be present : your own country, and the two countries that have the greatest and lowest Gini index.\n",
    "\n",
    "* The Lorenz curve for these countries."
   ]
  },
  {
   "cell_type": "markdown",
   "metadata": {},
   "source": [
    "# Exploring the data "
   ]
  },
  {
   "cell_type": "code",
   "execution_count": 6,
   "metadata": {},
   "outputs": [],
   "source": [
    "from urllib import request\n",
    "import pandas as pd\n",
    "from pandas import DataFrame\n",
    "from itertools import chain, combinations\n",
    "import matplotlib.pyplot as plt\n",
    "import seaborn as sns\n",
    "import numpy as np\n",
    "from scipy import stats\n",
    "import scipy.stats as st\n",
    "from scipy.stats import chi2_contingency\n",
    "import random\n",
    "from datetime import datetime, timedelta\n",
    "sns.set()\n",
    "%matplotlib inline"
   ]
  },
  {
   "cell_type": "markdown",
   "metadata": {},
   "source": [
    "## Importing the data"
   ]
  },
  {
   "cell_type": "code",
   "execution_count": 7,
   "metadata": {},
   "outputs": [
    {
     "data": {
      "text/html": [
       "<div>\n",
       "<style scoped>\n",
       "    .dataframe tbody tr th:only-of-type {\n",
       "        vertical-align: middle;\n",
       "    }\n",
       "\n",
       "    .dataframe tbody tr th {\n",
       "        vertical-align: top;\n",
       "    }\n",
       "\n",
       "    .dataframe thead th {\n",
       "        text-align: right;\n",
       "    }\n",
       "</style>\n",
       "<table border=\"1\" class=\"dataframe\">\n",
       "  <thead>\n",
       "    <tr style=\"text-align: right;\">\n",
       "      <th></th>\n",
       "      <th>country</th>\n",
       "      <th>year_survey</th>\n",
       "      <th>quantile</th>\n",
       "      <th>nb_quantiles</th>\n",
       "      <th>income</th>\n",
       "      <th>gdpppp</th>\n",
       "    </tr>\n",
       "  </thead>\n",
       "  <tbody>\n",
       "    <tr>\n",
       "      <td>0</td>\n",
       "      <td>ALB</td>\n",
       "      <td>2008</td>\n",
       "      <td>1</td>\n",
       "      <td>100</td>\n",
       "      <td>728,89795</td>\n",
       "      <td>7297</td>\n",
       "    </tr>\n",
       "    <tr>\n",
       "      <td>1</td>\n",
       "      <td>ALB</td>\n",
       "      <td>2008</td>\n",
       "      <td>2</td>\n",
       "      <td>100</td>\n",
       "      <td>916,66235</td>\n",
       "      <td>7297</td>\n",
       "    </tr>\n",
       "    <tr>\n",
       "      <td>2</td>\n",
       "      <td>ALB</td>\n",
       "      <td>2008</td>\n",
       "      <td>3</td>\n",
       "      <td>100</td>\n",
       "      <td>1010,916</td>\n",
       "      <td>7297</td>\n",
       "    </tr>\n",
       "    <tr>\n",
       "      <td>3</td>\n",
       "      <td>ALB</td>\n",
       "      <td>2008</td>\n",
       "      <td>4</td>\n",
       "      <td>100</td>\n",
       "      <td>1086,9078</td>\n",
       "      <td>7297</td>\n",
       "    </tr>\n",
       "    <tr>\n",
       "      <td>4</td>\n",
       "      <td>ALB</td>\n",
       "      <td>2008</td>\n",
       "      <td>5</td>\n",
       "      <td>100</td>\n",
       "      <td>1132,6997</td>\n",
       "      <td>7297</td>\n",
       "    </tr>\n",
       "    <tr>\n",
       "      <td>...</td>\n",
       "      <td>...</td>\n",
       "      <td>...</td>\n",
       "      <td>...</td>\n",
       "      <td>...</td>\n",
       "      <td>...</td>\n",
       "      <td>...</td>\n",
       "    </tr>\n",
       "    <tr>\n",
       "      <td>11594</td>\n",
       "      <td>COD</td>\n",
       "      <td>2008</td>\n",
       "      <td>96</td>\n",
       "      <td>100</td>\n",
       "      <td>810,6233</td>\n",
       "      <td>303,19305</td>\n",
       "    </tr>\n",
       "    <tr>\n",
       "      <td>11595</td>\n",
       "      <td>COD</td>\n",
       "      <td>2008</td>\n",
       "      <td>97</td>\n",
       "      <td>100</td>\n",
       "      <td>911,7834</td>\n",
       "      <td>303,19305</td>\n",
       "    </tr>\n",
       "    <tr>\n",
       "      <td>11596</td>\n",
       "      <td>COD</td>\n",
       "      <td>2008</td>\n",
       "      <td>98</td>\n",
       "      <td>100</td>\n",
       "      <td>1057,8074</td>\n",
       "      <td>303,19305</td>\n",
       "    </tr>\n",
       "    <tr>\n",
       "      <td>11597</td>\n",
       "      <td>COD</td>\n",
       "      <td>2008</td>\n",
       "      <td>99</td>\n",
       "      <td>100</td>\n",
       "      <td>1286,6029</td>\n",
       "      <td>303,19305</td>\n",
       "    </tr>\n",
       "    <tr>\n",
       "      <td>11598</td>\n",
       "      <td>COD</td>\n",
       "      <td>2008</td>\n",
       "      <td>100</td>\n",
       "      <td>100</td>\n",
       "      <td>2243,1226</td>\n",
       "      <td>303,19305</td>\n",
       "    </tr>\n",
       "  </tbody>\n",
       "</table>\n",
       "<p>11599 rows × 6 columns</p>\n",
       "</div>"
      ],
      "text/plain": [
       "      country  year_survey  quantile  nb_quantiles     income     gdpppp\n",
       "0         ALB         2008         1           100  728,89795       7297\n",
       "1         ALB         2008         2           100  916,66235       7297\n",
       "2         ALB         2008         3           100   1010,916       7297\n",
       "3         ALB         2008         4           100  1086,9078       7297\n",
       "4         ALB         2008         5           100  1132,6997       7297\n",
       "...       ...          ...       ...           ...        ...        ...\n",
       "11594     COD         2008        96           100   810,6233  303,19305\n",
       "11595     COD         2008        97           100   911,7834  303,19305\n",
       "11596     COD         2008        98           100  1057,8074  303,19305\n",
       "11597     COD         2008        99           100  1286,6029  303,19305\n",
       "11598     COD         2008       100           100  2243,1226  303,19305\n",
       "\n",
       "[11599 rows x 6 columns]"
      ]
     },
     "execution_count": 7,
     "metadata": {},
     "output_type": "execute_result"
    }
   ],
   "source": [
    "income = pd.read_csv('world_income_distribution_2008.csv')\n",
    "income\n",
    "# Each quantile is an income class"
   ]
  },
  {
   "cell_type": "code",
   "execution_count": 8,
   "metadata": {},
   "outputs": [
    {
     "data": {
      "text/html": [
       "<div>\n",
       "<style scoped>\n",
       "    .dataframe tbody tr th:only-of-type {\n",
       "        vertical-align: middle;\n",
       "    }\n",
       "\n",
       "    .dataframe tbody tr th {\n",
       "        vertical-align: top;\n",
       "    }\n",
       "\n",
       "    .dataframe thead th {\n",
       "        text-align: right;\n",
       "    }\n",
       "</style>\n",
       "<table border=\"1\" class=\"dataframe\">\n",
       "  <thead>\n",
       "    <tr style=\"text-align: right;\">\n",
       "      <th></th>\n",
       "      <th>Country Name</th>\n",
       "      <th>Country Code</th>\n",
       "      <th>Indicator Name</th>\n",
       "      <th>Indicator Code</th>\n",
       "      <th>1960</th>\n",
       "      <th>1961</th>\n",
       "      <th>1962</th>\n",
       "      <th>1963</th>\n",
       "      <th>1964</th>\n",
       "      <th>1965</th>\n",
       "      <th>...</th>\n",
       "      <th>2011</th>\n",
       "      <th>2012</th>\n",
       "      <th>2013</th>\n",
       "      <th>2014</th>\n",
       "      <th>2015</th>\n",
       "      <th>2016</th>\n",
       "      <th>2017</th>\n",
       "      <th>2018</th>\n",
       "      <th>2019</th>\n",
       "      <th>Unnamed: 64</th>\n",
       "    </tr>\n",
       "  </thead>\n",
       "  <tbody>\n",
       "    <tr>\n",
       "      <td>0</td>\n",
       "      <td>[\"Aruba\"</td>\n",
       "      <td>ABW</td>\n",
       "      <td>GINI index (World Bank estimate)</td>\n",
       "      <td>SI.POV.GINI</td>\n",
       "      <td>NaN</td>\n",
       "      <td>NaN</td>\n",
       "      <td>NaN</td>\n",
       "      <td>NaN</td>\n",
       "      <td>NaN</td>\n",
       "      <td>NaN</td>\n",
       "      <td>...</td>\n",
       "      <td>NaN</td>\n",
       "      <td>NaN</td>\n",
       "      <td>NaN</td>\n",
       "      <td>NaN</td>\n",
       "      <td>NaN</td>\n",
       "      <td>NaN</td>\n",
       "      <td>NaN</td>\n",
       "      <td>NaN</td>\n",
       "      <td>]</td>\n",
       "      <td>NaN</td>\n",
       "    </tr>\n",
       "    <tr>\n",
       "      <td>1</td>\n",
       "      <td>[\"Afghanistan\"</td>\n",
       "      <td>AFG</td>\n",
       "      <td>GINI index (World Bank estimate)</td>\n",
       "      <td>SI.POV.GINI</td>\n",
       "      <td>NaN</td>\n",
       "      <td>NaN</td>\n",
       "      <td>NaN</td>\n",
       "      <td>NaN</td>\n",
       "      <td>NaN</td>\n",
       "      <td>NaN</td>\n",
       "      <td>...</td>\n",
       "      <td>NaN</td>\n",
       "      <td>NaN</td>\n",
       "      <td>NaN</td>\n",
       "      <td>NaN</td>\n",
       "      <td>NaN</td>\n",
       "      <td>NaN</td>\n",
       "      <td>NaN</td>\n",
       "      <td>NaN</td>\n",
       "      <td>]</td>\n",
       "      <td>NaN</td>\n",
       "    </tr>\n",
       "    <tr>\n",
       "      <td>2</td>\n",
       "      <td>[\"Angola\"</td>\n",
       "      <td>AGO</td>\n",
       "      <td>GINI index (World Bank estimate)</td>\n",
       "      <td>SI.POV.GINI</td>\n",
       "      <td>NaN</td>\n",
       "      <td>NaN</td>\n",
       "      <td>NaN</td>\n",
       "      <td>NaN</td>\n",
       "      <td>NaN</td>\n",
       "      <td>NaN</td>\n",
       "      <td>...</td>\n",
       "      <td>NaN</td>\n",
       "      <td>NaN</td>\n",
       "      <td>NaN</td>\n",
       "      <td>NaN</td>\n",
       "      <td>NaN</td>\n",
       "      <td>NaN</td>\n",
       "      <td>NaN</td>\n",
       "      <td>51.3</td>\n",
       "      <td>]</td>\n",
       "      <td>NaN</td>\n",
       "    </tr>\n",
       "    <tr>\n",
       "      <td>3</td>\n",
       "      <td>[\"Albania\"</td>\n",
       "      <td>ALB</td>\n",
       "      <td>GINI index (World Bank estimate)</td>\n",
       "      <td>SI.POV.GINI</td>\n",
       "      <td>NaN</td>\n",
       "      <td>NaN</td>\n",
       "      <td>NaN</td>\n",
       "      <td>NaN</td>\n",
       "      <td>NaN</td>\n",
       "      <td>NaN</td>\n",
       "      <td>...</td>\n",
       "      <td>NaN</td>\n",
       "      <td>29.0</td>\n",
       "      <td>NaN</td>\n",
       "      <td>34.6</td>\n",
       "      <td>32.9</td>\n",
       "      <td>33.7</td>\n",
       "      <td>33.2</td>\n",
       "      <td>NaN</td>\n",
       "      <td>]</td>\n",
       "      <td>NaN</td>\n",
       "    </tr>\n",
       "    <tr>\n",
       "      <td>4</td>\n",
       "      <td>[\"Andorra\"</td>\n",
       "      <td>AND</td>\n",
       "      <td>GINI index (World Bank estimate)</td>\n",
       "      <td>SI.POV.GINI</td>\n",
       "      <td>NaN</td>\n",
       "      <td>NaN</td>\n",
       "      <td>NaN</td>\n",
       "      <td>NaN</td>\n",
       "      <td>NaN</td>\n",
       "      <td>NaN</td>\n",
       "      <td>...</td>\n",
       "      <td>NaN</td>\n",
       "      <td>NaN</td>\n",
       "      <td>NaN</td>\n",
       "      <td>NaN</td>\n",
       "      <td>NaN</td>\n",
       "      <td>NaN</td>\n",
       "      <td>NaN</td>\n",
       "      <td>NaN</td>\n",
       "      <td>]</td>\n",
       "      <td>NaN</td>\n",
       "    </tr>\n",
       "  </tbody>\n",
       "</table>\n",
       "<p>5 rows × 65 columns</p>\n",
       "</div>"
      ],
      "text/plain": [
       "     Country Name Country Code                    Indicator Name  \\\n",
       "0        [\"Aruba\"          ABW  GINI index (World Bank estimate)   \n",
       "1  [\"Afghanistan\"          AFG  GINI index (World Bank estimate)   \n",
       "2       [\"Angola\"          AGO  GINI index (World Bank estimate)   \n",
       "3      [\"Albania\"          ALB  GINI index (World Bank estimate)   \n",
       "4      [\"Andorra\"          AND  GINI index (World Bank estimate)   \n",
       "\n",
       "  Indicator Code 1960  1961  1962  1963  1964  1965  ...  2011  2012  2013  \\\n",
       "0    SI.POV.GINI  NaN   NaN   NaN   NaN   NaN   NaN  ...   NaN   NaN   NaN   \n",
       "1    SI.POV.GINI  NaN   NaN   NaN   NaN   NaN   NaN  ...   NaN   NaN   NaN   \n",
       "2    SI.POV.GINI  NaN   NaN   NaN   NaN   NaN   NaN  ...   NaN   NaN   NaN   \n",
       "3    SI.POV.GINI  NaN   NaN   NaN   NaN   NaN   NaN  ...   NaN  29.0   NaN   \n",
       "4    SI.POV.GINI  NaN   NaN   NaN   NaN   NaN   NaN  ...   NaN   NaN   NaN   \n",
       "\n",
       "   2014  2015  2016  2017  2018  2019  Unnamed: 64  \n",
       "0   NaN   NaN   NaN   NaN   NaN     ]          NaN  \n",
       "1   NaN   NaN   NaN   NaN   NaN     ]          NaN  \n",
       "2   NaN   NaN   NaN   NaN  51.3     ]          NaN  \n",
       "3  34.6  32.9  33.7  33.2   NaN     ]          NaN  \n",
       "4   NaN   NaN   NaN   NaN   NaN     ]          NaN  \n",
       "\n",
       "[5 rows x 65 columns]"
      ]
     },
     "execution_count": 8,
     "metadata": {},
     "output_type": "execute_result"
    }
   ],
   "source": [
    "gini = pd.read_csv('gini_final.csv')\n",
    "gini.head()"
   ]
  },
  {
   "cell_type": "code",
   "execution_count": 9,
   "metadata": {},
   "outputs": [
    {
     "data": {
      "text/html": [
       "<div>\n",
       "<style scoped>\n",
       "    .dataframe tbody tr th:only-of-type {\n",
       "        vertical-align: middle;\n",
       "    }\n",
       "\n",
       "    .dataframe tbody tr th {\n",
       "        vertical-align: top;\n",
       "    }\n",
       "\n",
       "    .dataframe thead th {\n",
       "        text-align: right;\n",
       "    }\n",
       "</style>\n",
       "<table border=\"1\" class=\"dataframe\">\n",
       "  <thead>\n",
       "    <tr style=\"text-align: right;\">\n",
       "      <th></th>\n",
       "      <th>[\"Country Name\"</th>\n",
       "      <th>Country Code</th>\n",
       "      <th>Indicator Name</th>\n",
       "      <th>Indicator Code</th>\n",
       "      <th>1960</th>\n",
       "      <th>1961</th>\n",
       "      <th>1962</th>\n",
       "      <th>1963</th>\n",
       "      <th>1964</th>\n",
       "      <th>1965</th>\n",
       "      <th>...</th>\n",
       "      <th>2010</th>\n",
       "      <th>2011</th>\n",
       "      <th>2012</th>\n",
       "      <th>2013</th>\n",
       "      <th>2014</th>\n",
       "      <th>2015</th>\n",
       "      <th>2016</th>\n",
       "      <th>2017</th>\n",
       "      <th>2018</th>\n",
       "      <th>2019]</th>\n",
       "    </tr>\n",
       "  </thead>\n",
       "  <tbody>\n",
       "    <tr>\n",
       "      <td>0</td>\n",
       "      <td>[\"Aruba\"</td>\n",
       "      <td>ABW</td>\n",
       "      <td>Population, total</td>\n",
       "      <td>SP.POP.TOTL</td>\n",
       "      <td>54211</td>\n",
       "      <td>55438.0</td>\n",
       "      <td>56225.0</td>\n",
       "      <td>56695.0</td>\n",
       "      <td>57032.0</td>\n",
       "      <td>57360.0</td>\n",
       "      <td>...</td>\n",
       "      <td>101669.0</td>\n",
       "      <td>102046.0</td>\n",
       "      <td>102560.0</td>\n",
       "      <td>103159.0</td>\n",
       "      <td>103774.0</td>\n",
       "      <td>104341.0</td>\n",
       "      <td>104872.0</td>\n",
       "      <td>105366.0</td>\n",
       "      <td>105845.0</td>\n",
       "      <td>106314]</td>\n",
       "    </tr>\n",
       "    <tr>\n",
       "      <td>1</td>\n",
       "      <td>[\"Afghanistan\"</td>\n",
       "      <td>AFG</td>\n",
       "      <td>Population, total</td>\n",
       "      <td>SP.POP.TOTL</td>\n",
       "      <td>8996973</td>\n",
       "      <td>9169410.0</td>\n",
       "      <td>9351441.0</td>\n",
       "      <td>9543205.0</td>\n",
       "      <td>9744781.0</td>\n",
       "      <td>9956320.0</td>\n",
       "      <td>...</td>\n",
       "      <td>29185507.0</td>\n",
       "      <td>30117413.0</td>\n",
       "      <td>31161376.0</td>\n",
       "      <td>32269589.0</td>\n",
       "      <td>33370794.0</td>\n",
       "      <td>34413603.0</td>\n",
       "      <td>35383128.0</td>\n",
       "      <td>36296400.0</td>\n",
       "      <td>37172386.0</td>\n",
       "      <td>38041754]</td>\n",
       "    </tr>\n",
       "    <tr>\n",
       "      <td>2</td>\n",
       "      <td>[\"Angola\"</td>\n",
       "      <td>AGO</td>\n",
       "      <td>Population, total</td>\n",
       "      <td>SP.POP.TOTL</td>\n",
       "      <td>5454933</td>\n",
       "      <td>5531472.0</td>\n",
       "      <td>5608539.0</td>\n",
       "      <td>5679458.0</td>\n",
       "      <td>5735044.0</td>\n",
       "      <td>5770570.0</td>\n",
       "      <td>...</td>\n",
       "      <td>23356246.0</td>\n",
       "      <td>24220661.0</td>\n",
       "      <td>25107931.0</td>\n",
       "      <td>26015780.0</td>\n",
       "      <td>26941779.0</td>\n",
       "      <td>27884381.0</td>\n",
       "      <td>28842484.0</td>\n",
       "      <td>29816748.0</td>\n",
       "      <td>30809762.0</td>\n",
       "      <td>31825295]</td>\n",
       "    </tr>\n",
       "    <tr>\n",
       "      <td>3</td>\n",
       "      <td>[\"Albania\"</td>\n",
       "      <td>ALB</td>\n",
       "      <td>Population, total</td>\n",
       "      <td>SP.POP.TOTL</td>\n",
       "      <td>1608800</td>\n",
       "      <td>1659800.0</td>\n",
       "      <td>1711319.0</td>\n",
       "      <td>1762621.0</td>\n",
       "      <td>1814135.0</td>\n",
       "      <td>1864791.0</td>\n",
       "      <td>...</td>\n",
       "      <td>2913021.0</td>\n",
       "      <td>2905195.0</td>\n",
       "      <td>2900401.0</td>\n",
       "      <td>2895092.0</td>\n",
       "      <td>2889104.0</td>\n",
       "      <td>2880703.0</td>\n",
       "      <td>2876101.0</td>\n",
       "      <td>2873457.0</td>\n",
       "      <td>2866376.0</td>\n",
       "      <td>2854191]</td>\n",
       "    </tr>\n",
       "    <tr>\n",
       "      <td>4</td>\n",
       "      <td>[\"Andorra\"</td>\n",
       "      <td>AND</td>\n",
       "      <td>Population, total</td>\n",
       "      <td>SP.POP.TOTL</td>\n",
       "      <td>13411</td>\n",
       "      <td>14375.0</td>\n",
       "      <td>15370.0</td>\n",
       "      <td>16412.0</td>\n",
       "      <td>17469.0</td>\n",
       "      <td>18549.0</td>\n",
       "      <td>...</td>\n",
       "      <td>84449.0</td>\n",
       "      <td>83747.0</td>\n",
       "      <td>82427.0</td>\n",
       "      <td>80774.0</td>\n",
       "      <td>79213.0</td>\n",
       "      <td>78011.0</td>\n",
       "      <td>77297.0</td>\n",
       "      <td>77001.0</td>\n",
       "      <td>77006.0</td>\n",
       "      <td>77142]</td>\n",
       "    </tr>\n",
       "    <tr>\n",
       "      <td>...</td>\n",
       "      <td>...</td>\n",
       "      <td>...</td>\n",
       "      <td>...</td>\n",
       "      <td>...</td>\n",
       "      <td>...</td>\n",
       "      <td>...</td>\n",
       "      <td>...</td>\n",
       "      <td>...</td>\n",
       "      <td>...</td>\n",
       "      <td>...</td>\n",
       "      <td>...</td>\n",
       "      <td>...</td>\n",
       "      <td>...</td>\n",
       "      <td>...</td>\n",
       "      <td>...</td>\n",
       "      <td>...</td>\n",
       "      <td>...</td>\n",
       "      <td>...</td>\n",
       "      <td>...</td>\n",
       "      <td>...</td>\n",
       "      <td>...</td>\n",
       "    </tr>\n",
       "    <tr>\n",
       "      <td>259</td>\n",
       "      <td>[\"Kosovo\"</td>\n",
       "      <td>XKX</td>\n",
       "      <td>Population, total</td>\n",
       "      <td>SP.POP.TOTL</td>\n",
       "      <td>947000</td>\n",
       "      <td>966000.0</td>\n",
       "      <td>994000.0</td>\n",
       "      <td>1022000.0</td>\n",
       "      <td>1050000.0</td>\n",
       "      <td>1078000.0</td>\n",
       "      <td>...</td>\n",
       "      <td>1775680.0</td>\n",
       "      <td>1791000.0</td>\n",
       "      <td>1807106.0</td>\n",
       "      <td>1818117.0</td>\n",
       "      <td>1812771.0</td>\n",
       "      <td>1788196.0</td>\n",
       "      <td>1777557.0</td>\n",
       "      <td>1791003.0</td>\n",
       "      <td>1797085.0</td>\n",
       "      <td>1794248]</td>\n",
       "    </tr>\n",
       "    <tr>\n",
       "      <td>260</td>\n",
       "      <td>[\"Yemen</td>\n",
       "      <td>Rep.\"</td>\n",
       "      <td>YEM</td>\n",
       "      <td>Population, total</td>\n",
       "      <td>SP.POP.TOTL</td>\n",
       "      <td>5315355.0</td>\n",
       "      <td>5393036.0</td>\n",
       "      <td>5473671.0</td>\n",
       "      <td>5556766.0</td>\n",
       "      <td>5641597.0</td>\n",
       "      <td>...</td>\n",
       "      <td>22516460.0</td>\n",
       "      <td>23154855.0</td>\n",
       "      <td>23807588.0</td>\n",
       "      <td>24473178.0</td>\n",
       "      <td>25147109.0</td>\n",
       "      <td>25823485.0</td>\n",
       "      <td>26497889.0</td>\n",
       "      <td>27168210.0</td>\n",
       "      <td>27834821.0</td>\n",
       "      <td>28498687]</td>\n",
       "    </tr>\n",
       "    <tr>\n",
       "      <td>261</td>\n",
       "      <td>[\"South Africa\"</td>\n",
       "      <td>ZAF</td>\n",
       "      <td>Population, total</td>\n",
       "      <td>SP.POP.TOTL</td>\n",
       "      <td>17099840</td>\n",
       "      <td>17524533.0</td>\n",
       "      <td>17965725.0</td>\n",
       "      <td>18423161.0</td>\n",
       "      <td>18896307.0</td>\n",
       "      <td>19384841.0</td>\n",
       "      <td>...</td>\n",
       "      <td>51216964.0</td>\n",
       "      <td>52004172.0</td>\n",
       "      <td>52834005.0</td>\n",
       "      <td>53689236.0</td>\n",
       "      <td>54545991.0</td>\n",
       "      <td>55386367.0</td>\n",
       "      <td>56203654.0</td>\n",
       "      <td>57000451.0</td>\n",
       "      <td>57779622.0</td>\n",
       "      <td>58558270]</td>\n",
       "    </tr>\n",
       "    <tr>\n",
       "      <td>262</td>\n",
       "      <td>[\"Zambia\"</td>\n",
       "      <td>ZMB</td>\n",
       "      <td>Population, total</td>\n",
       "      <td>SP.POP.TOTL</td>\n",
       "      <td>3070776</td>\n",
       "      <td>3164329.0</td>\n",
       "      <td>3260650.0</td>\n",
       "      <td>3360104.0</td>\n",
       "      <td>3463213.0</td>\n",
       "      <td>3570464.0</td>\n",
       "      <td>...</td>\n",
       "      <td>13605984.0</td>\n",
       "      <td>14023193.0</td>\n",
       "      <td>14465121.0</td>\n",
       "      <td>14926504.0</td>\n",
       "      <td>15399753.0</td>\n",
       "      <td>15879361.0</td>\n",
       "      <td>16363507.0</td>\n",
       "      <td>16853688.0</td>\n",
       "      <td>17351822.0</td>\n",
       "      <td>17861030]</td>\n",
       "    </tr>\n",
       "    <tr>\n",
       "      <td>263</td>\n",
       "      <td>[\"Zimbabwe\"</td>\n",
       "      <td>ZWE</td>\n",
       "      <td>Population, total</td>\n",
       "      <td>SP.POP.TOTL</td>\n",
       "      <td>3776681</td>\n",
       "      <td>3905034.0</td>\n",
       "      <td>4039201.0</td>\n",
       "      <td>4178726.0</td>\n",
       "      <td>4322861.0</td>\n",
       "      <td>4471177.0</td>\n",
       "      <td>...</td>\n",
       "      <td>12697723.0</td>\n",
       "      <td>12894316.0</td>\n",
       "      <td>13115131.0</td>\n",
       "      <td>13350356.0</td>\n",
       "      <td>13586681.0</td>\n",
       "      <td>13814629.0</td>\n",
       "      <td>14030390.0</td>\n",
       "      <td>14236745.0</td>\n",
       "      <td>14439018.0</td>\n",
       "      <td>14645468]</td>\n",
       "    </tr>\n",
       "  </tbody>\n",
       "</table>\n",
       "<p>264 rows × 64 columns</p>\n",
       "</div>"
      ],
      "text/plain": [
       "     [\"Country Name\" Country Code     Indicator Name     Indicator Code  \\\n",
       "0           [\"Aruba\"          ABW  Population, total        SP.POP.TOTL   \n",
       "1     [\"Afghanistan\"          AFG  Population, total        SP.POP.TOTL   \n",
       "2          [\"Angola\"          AGO  Population, total        SP.POP.TOTL   \n",
       "3         [\"Albania\"          ALB  Population, total        SP.POP.TOTL   \n",
       "4         [\"Andorra\"          AND  Population, total        SP.POP.TOTL   \n",
       "..               ...          ...                ...                ...   \n",
       "259        [\"Kosovo\"          XKX  Population, total        SP.POP.TOTL   \n",
       "260          [\"Yemen        Rep.\"                YEM  Population, total   \n",
       "261  [\"South Africa\"          ZAF  Population, total        SP.POP.TOTL   \n",
       "262        [\"Zambia\"          ZMB  Population, total        SP.POP.TOTL   \n",
       "263      [\"Zimbabwe\"          ZWE  Population, total        SP.POP.TOTL   \n",
       "\n",
       "            1960        1961        1962        1963        1964        1965  \\\n",
       "0          54211     55438.0     56225.0     56695.0     57032.0     57360.0   \n",
       "1        8996973   9169410.0   9351441.0   9543205.0   9744781.0   9956320.0   \n",
       "2        5454933   5531472.0   5608539.0   5679458.0   5735044.0   5770570.0   \n",
       "3        1608800   1659800.0   1711319.0   1762621.0   1814135.0   1864791.0   \n",
       "4          13411     14375.0     15370.0     16412.0     17469.0     18549.0   \n",
       "..           ...         ...         ...         ...         ...         ...   \n",
       "259       947000    966000.0    994000.0   1022000.0   1050000.0   1078000.0   \n",
       "260  SP.POP.TOTL   5315355.0   5393036.0   5473671.0   5556766.0   5641597.0   \n",
       "261     17099840  17524533.0  17965725.0  18423161.0  18896307.0  19384841.0   \n",
       "262      3070776   3164329.0   3260650.0   3360104.0   3463213.0   3570464.0   \n",
       "263      3776681   3905034.0   4039201.0   4178726.0   4322861.0   4471177.0   \n",
       "\n",
       "     ...        2010        2011        2012        2013        2014  \\\n",
       "0    ...    101669.0    102046.0    102560.0    103159.0    103774.0   \n",
       "1    ...  29185507.0  30117413.0  31161376.0  32269589.0  33370794.0   \n",
       "2    ...  23356246.0  24220661.0  25107931.0  26015780.0  26941779.0   \n",
       "3    ...   2913021.0   2905195.0   2900401.0   2895092.0   2889104.0   \n",
       "4    ...     84449.0     83747.0     82427.0     80774.0     79213.0   \n",
       "..   ...         ...         ...         ...         ...         ...   \n",
       "259  ...   1775680.0   1791000.0   1807106.0   1818117.0   1812771.0   \n",
       "260  ...  22516460.0  23154855.0  23807588.0  24473178.0  25147109.0   \n",
       "261  ...  51216964.0  52004172.0  52834005.0  53689236.0  54545991.0   \n",
       "262  ...  13605984.0  14023193.0  14465121.0  14926504.0  15399753.0   \n",
       "263  ...  12697723.0  12894316.0  13115131.0  13350356.0  13586681.0   \n",
       "\n",
       "           2015        2016        2017        2018      2019]  \n",
       "0      104341.0    104872.0    105366.0    105845.0    106314]  \n",
       "1    34413603.0  35383128.0  36296400.0  37172386.0  38041754]  \n",
       "2    27884381.0  28842484.0  29816748.0  30809762.0  31825295]  \n",
       "3     2880703.0   2876101.0   2873457.0   2866376.0   2854191]  \n",
       "4       78011.0     77297.0     77001.0     77006.0     77142]  \n",
       "..          ...         ...         ...         ...        ...  \n",
       "259   1788196.0   1777557.0   1791003.0   1797085.0   1794248]  \n",
       "260  25823485.0  26497889.0  27168210.0  27834821.0  28498687]  \n",
       "261  55386367.0  56203654.0  57000451.0  57779622.0  58558270]  \n",
       "262  15879361.0  16363507.0  16853688.0  17351822.0  17861030]  \n",
       "263  13814629.0  14030390.0  14236745.0  14439018.0  14645468]  \n",
       "\n",
       "[264 rows x 64 columns]"
      ]
     },
     "execution_count": 9,
     "metadata": {},
     "output_type": "execute_result"
    }
   ],
   "source": [
    "population = pd.read_csv('population_new.csv')\n",
    "population"
   ]
  },
  {
   "cell_type": "markdown",
   "metadata": {},
   "source": [
    "## Exploring the data"
   ]
  },
  {
   "cell_type": "markdown",
   "metadata": {},
   "source": [
    "### Exploring dataframe income"
   ]
  },
  {
   "cell_type": "code",
   "execution_count": 10,
   "metadata": {},
   "outputs": [
    {
     "data": {
      "text/plain": [
       "Index(['country', 'year_survey', 'quantile', 'nb_quantiles', 'income',\n",
       "       'gdpppp'],\n",
       "      dtype='object')"
      ]
     },
     "execution_count": 10,
     "metadata": {},
     "output_type": "execute_result"
    }
   ],
   "source": [
    "income.columns"
   ]
  },
  {
   "cell_type": "code",
   "execution_count": 11,
   "metadata": {},
   "outputs": [
    {
     "data": {
      "text/plain": [
       "(11599, 6)"
      ]
     },
     "execution_count": 11,
     "metadata": {},
     "output_type": "execute_result"
    }
   ],
   "source": [
    "income.shape"
   ]
  },
  {
   "cell_type": "code",
   "execution_count": 12,
   "metadata": {},
   "outputs": [
    {
     "data": {
      "text/plain": [
       "country         object\n",
       "year_survey      int64\n",
       "quantile         int64\n",
       "nb_quantiles     int64\n",
       "income          object\n",
       "gdpppp          object\n",
       "dtype: object"
      ]
     },
     "execution_count": 12,
     "metadata": {},
     "output_type": "execute_result"
    }
   ],
   "source": [
    "income.dtypes"
   ]
  },
  {
   "cell_type": "code",
   "execution_count": 13,
   "metadata": {},
   "outputs": [
    {
     "data": {
      "text/html": [
       "<div>\n",
       "<style scoped>\n",
       "    .dataframe tbody tr th:only-of-type {\n",
       "        vertical-align: middle;\n",
       "    }\n",
       "\n",
       "    .dataframe tbody tr th {\n",
       "        vertical-align: top;\n",
       "    }\n",
       "\n",
       "    .dataframe thead th {\n",
       "        text-align: right;\n",
       "    }\n",
       "</style>\n",
       "<table border=\"1\" class=\"dataframe\">\n",
       "  <thead>\n",
       "    <tr style=\"text-align: right;\">\n",
       "      <th></th>\n",
       "      <th>year_survey</th>\n",
       "      <th>quantile</th>\n",
       "      <th>nb_quantiles</th>\n",
       "    </tr>\n",
       "  </thead>\n",
       "  <tbody>\n",
       "    <tr>\n",
       "      <td>count</td>\n",
       "      <td>11599.000000</td>\n",
       "      <td>11599.000000</td>\n",
       "      <td>11599.0</td>\n",
       "    </tr>\n",
       "    <tr>\n",
       "      <td>mean</td>\n",
       "      <td>2007.982757</td>\n",
       "      <td>50.500819</td>\n",
       "      <td>100.0</td>\n",
       "    </tr>\n",
       "    <tr>\n",
       "      <td>std</td>\n",
       "      <td>0.909633</td>\n",
       "      <td>28.868424</td>\n",
       "      <td>0.0</td>\n",
       "    </tr>\n",
       "    <tr>\n",
       "      <td>min</td>\n",
       "      <td>2004.000000</td>\n",
       "      <td>1.000000</td>\n",
       "      <td>100.0</td>\n",
       "    </tr>\n",
       "    <tr>\n",
       "      <td>25%</td>\n",
       "      <td>2008.000000</td>\n",
       "      <td>25.500000</td>\n",
       "      <td>100.0</td>\n",
       "    </tr>\n",
       "    <tr>\n",
       "      <td>50%</td>\n",
       "      <td>2008.000000</td>\n",
       "      <td>51.000000</td>\n",
       "      <td>100.0</td>\n",
       "    </tr>\n",
       "    <tr>\n",
       "      <td>75%</td>\n",
       "      <td>2008.000000</td>\n",
       "      <td>75.500000</td>\n",
       "      <td>100.0</td>\n",
       "    </tr>\n",
       "    <tr>\n",
       "      <td>max</td>\n",
       "      <td>2011.000000</td>\n",
       "      <td>100.000000</td>\n",
       "      <td>100.0</td>\n",
       "    </tr>\n",
       "  </tbody>\n",
       "</table>\n",
       "</div>"
      ],
      "text/plain": [
       "        year_survey      quantile  nb_quantiles\n",
       "count  11599.000000  11599.000000       11599.0\n",
       "mean    2007.982757     50.500819         100.0\n",
       "std        0.909633     28.868424           0.0\n",
       "min     2004.000000      1.000000         100.0\n",
       "25%     2008.000000     25.500000         100.0\n",
       "50%     2008.000000     51.000000         100.0\n",
       "75%     2008.000000     75.500000         100.0\n",
       "max     2011.000000    100.000000         100.0"
      ]
     },
     "execution_count": 13,
     "metadata": {},
     "output_type": "execute_result"
    }
   ],
   "source": [
    "income.describe()\n",
    "# The number of quantiles appears to be 100"
   ]
  },
  {
   "cell_type": "code",
   "execution_count": 14,
   "metadata": {},
   "outputs": [
    {
     "data": {
      "text/plain": [
       "country           0\n",
       "year_survey       0\n",
       "quantile          0\n",
       "nb_quantiles      0\n",
       "income            0\n",
       "gdpppp          200\n",
       "dtype: int64"
      ]
     },
     "execution_count": 14,
     "metadata": {},
     "output_type": "execute_result"
    }
   ],
   "source": [
    "income.isnull().sum()"
   ]
  },
  {
   "cell_type": "code",
   "execution_count": 15,
   "metadata": {},
   "outputs": [
    {
     "data": {
      "text/plain": [
       "array([  1,   2,   3,   4,   5,   6,   7,   8,   9,  10,  11,  12,  13,\n",
       "        14,  15,  16,  17,  18,  19,  20,  21,  22,  23,  24,  25,  26,\n",
       "        27,  28,  29,  30,  31,  32,  33,  34,  35,  36,  37,  38,  39,\n",
       "        40,  41,  42,  43,  44,  45,  46,  47,  48,  49,  50,  51,  52,\n",
       "        53,  54,  55,  56,  57,  58,  59,  60,  61,  62,  63,  64,  65,\n",
       "        66,  67,  68,  69,  70,  71,  72,  73,  74,  75,  76,  77,  78,\n",
       "        79,  80,  81,  82,  83,  84,  85,  86,  87,  88,  89,  90,  91,\n",
       "        92,  93,  94,  95,  96,  97,  98,  99, 100])"
      ]
     },
     "execution_count": 15,
     "metadata": {},
     "output_type": "execute_result"
    }
   ],
   "source": [
    "income['quantile'].unique()"
   ]
  },
  {
   "cell_type": "code",
   "execution_count": 16,
   "metadata": {},
   "outputs": [
    {
     "data": {
      "text/plain": [
       "array([100])"
      ]
     },
     "execution_count": 16,
     "metadata": {},
     "output_type": "execute_result"
    }
   ],
   "source": [
    "income['nb_quantiles'].unique()"
   ]
  },
  {
   "cell_type": "code",
   "execution_count": 17,
   "metadata": {
    "scrolled": true
   },
   "outputs": [
    {
     "data": {
      "text/plain": [
       "array(['ALB', 'ARG', 'ARM', 'AUT', 'AZE', 'BEL', 'BFA', 'BGD', 'BGR',\n",
       "       'BIH', 'BLR', 'BOL', 'BRA', 'BTN', 'CAF', 'CAN', 'CHL', 'CHN',\n",
       "       'CIV', 'CMR', 'COL', 'CRI', 'CYP', 'CZE', 'DEU', 'DNK', 'DOM',\n",
       "       'ECU', 'EGY', 'ESP', 'EST', 'FIN', 'FJI', 'FRA', 'GBR', 'GEO',\n",
       "       'GHA', 'GIN', 'GRC', 'GTM', 'HND', 'HRV', 'HUN', 'IDN', 'IND',\n",
       "       'IRL', 'IRN', 'IRQ', 'ISL', 'ISR', 'ITA', 'JOR', 'JPN', 'KAZ',\n",
       "       'KEN', 'KGZ', 'KHM', 'KOR', 'XKX', 'LAO', 'LBR', 'LKA', 'LTU',\n",
       "       'LUX', 'LVA', 'MAR', 'MDA', 'MDG', 'MEX', 'MKD', 'MLI', 'MNE',\n",
       "       'MNG', 'MOZ', 'MRT', 'MWI', 'MYS', 'NER', 'NGA', 'NIC', 'NLD',\n",
       "       'NOR', 'NPL', 'PAK', 'PAN', 'PER', 'PHL', 'POL', 'PRT', 'PRY',\n",
       "       'ROU', 'RUS', 'SDN', 'SLV', 'SRB', 'SVK', 'SVN', 'SWE', 'SWZ',\n",
       "       'SYR', 'THA', 'TJK', 'TLS', 'TUR', 'TWN', 'TZA', 'UGA', 'UKR',\n",
       "       'URY', 'USA', 'VEN', 'VNM', 'PSE', 'YEM', 'ZAF', 'COD'],\n",
       "      dtype=object)"
      ]
     },
     "execution_count": 17,
     "metadata": {},
     "output_type": "execute_result"
    }
   ],
   "source": [
    "income['country'].unique()"
   ]
  },
  {
   "cell_type": "markdown",
   "metadata": {},
   "source": [
    "### Exploring dataframe gini"
   ]
  },
  {
   "cell_type": "code",
   "execution_count": 18,
   "metadata": {},
   "outputs": [
    {
     "data": {
      "text/plain": [
       "Index(['Country Name', 'Country Code', 'Indicator Name', 'Indicator Code',\n",
       "       '1960', '1961', '1962', '1963', '1964', '1965', '1966', '1967', '1968',\n",
       "       '1969', '1970', '1971', '1972', '1973', '1974', '1975', '1976', '1977',\n",
       "       '1978', '1979', '1980', '1981', '1982', '1983', '1984', '1985', '1986',\n",
       "       '1987', '1988', '1989', '1990', '1991', '1992', '1993', '1994', '1995',\n",
       "       '1996', '1997', '1998', '1999', '2000', '2001', '2002', '2003', '2004',\n",
       "       '2005', '2006', '2007', '2008', '2009', '2010', '2011', '2012', '2013',\n",
       "       '2014', '2015', '2016', '2017', '2018', '2019', 'Unnamed: 64'],\n",
       "      dtype='object')"
      ]
     },
     "execution_count": 18,
     "metadata": {},
     "output_type": "execute_result"
    }
   ],
   "source": [
    "gini.columns"
   ]
  },
  {
   "cell_type": "code",
   "execution_count": 19,
   "metadata": {},
   "outputs": [
    {
     "data": {
      "text/plain": [
       "(264, 65)"
      ]
     },
     "execution_count": 19,
     "metadata": {},
     "output_type": "execute_result"
    }
   ],
   "source": [
    "gini.shape"
   ]
  },
  {
   "cell_type": "code",
   "execution_count": 20,
   "metadata": {},
   "outputs": [
    {
     "data": {
      "text/plain": [
       "Country Name       object\n",
       "Country Code       object\n",
       "Indicator Name     object\n",
       "Indicator Code     object\n",
       "1960               object\n",
       "                   ...   \n",
       "2016              float64\n",
       "2017              float64\n",
       "2018              float64\n",
       "2019               object\n",
       "Unnamed: 64        object\n",
       "Length: 65, dtype: object"
      ]
     },
     "execution_count": 20,
     "metadata": {},
     "output_type": "execute_result"
    }
   ],
   "source": [
    "gini.dtypes"
   ]
  },
  {
   "cell_type": "code",
   "execution_count": 21,
   "metadata": {},
   "outputs": [
    {
     "data": {
      "text/html": [
       "<div>\n",
       "<style scoped>\n",
       "    .dataframe tbody tr th:only-of-type {\n",
       "        vertical-align: middle;\n",
       "    }\n",
       "\n",
       "    .dataframe tbody tr th {\n",
       "        vertical-align: top;\n",
       "    }\n",
       "\n",
       "    .dataframe thead th {\n",
       "        text-align: right;\n",
       "    }\n",
       "</style>\n",
       "<table border=\"1\" class=\"dataframe\">\n",
       "  <thead>\n",
       "    <tr style=\"text-align: right;\">\n",
       "      <th></th>\n",
       "      <th>1961</th>\n",
       "      <th>1962</th>\n",
       "      <th>1963</th>\n",
       "      <th>1964</th>\n",
       "      <th>1965</th>\n",
       "      <th>1966</th>\n",
       "      <th>1967</th>\n",
       "      <th>1968</th>\n",
       "      <th>1969</th>\n",
       "      <th>1970</th>\n",
       "      <th>...</th>\n",
       "      <th>2009</th>\n",
       "      <th>2010</th>\n",
       "      <th>2011</th>\n",
       "      <th>2012</th>\n",
       "      <th>2013</th>\n",
       "      <th>2014</th>\n",
       "      <th>2015</th>\n",
       "      <th>2016</th>\n",
       "      <th>2017</th>\n",
       "      <th>2018</th>\n",
       "    </tr>\n",
       "  </thead>\n",
       "  <tbody>\n",
       "    <tr>\n",
       "      <td>count</td>\n",
       "      <td>0.0</td>\n",
       "      <td>0.0</td>\n",
       "      <td>0.0</td>\n",
       "      <td>0.0</td>\n",
       "      <td>0.0</td>\n",
       "      <td>0.0</td>\n",
       "      <td>1.0</td>\n",
       "      <td>0.0</td>\n",
       "      <td>1.0</td>\n",
       "      <td>0.0</td>\n",
       "      <td>...</td>\n",
       "      <td>78.000000</td>\n",
       "      <td>81.000000</td>\n",
       "      <td>78.000000</td>\n",
       "      <td>77.000000</td>\n",
       "      <td>77.000000</td>\n",
       "      <td>80.000000</td>\n",
       "      <td>79.000000</td>\n",
       "      <td>78.000000</td>\n",
       "      <td>65.000000</td>\n",
       "      <td>30.000000</td>\n",
       "    </tr>\n",
       "    <tr>\n",
       "      <td>mean</td>\n",
       "      <td>NaN</td>\n",
       "      <td>NaN</td>\n",
       "      <td>NaN</td>\n",
       "      <td>NaN</td>\n",
       "      <td>NaN</td>\n",
       "      <td>NaN</td>\n",
       "      <td>34.0</td>\n",
       "      <td>NaN</td>\n",
       "      <td>33.7</td>\n",
       "      <td>NaN</td>\n",
       "      <td>...</td>\n",
       "      <td>37.376923</td>\n",
       "      <td>36.653086</td>\n",
       "      <td>36.002564</td>\n",
       "      <td>36.706494</td>\n",
       "      <td>36.383117</td>\n",
       "      <td>36.673750</td>\n",
       "      <td>36.878481</td>\n",
       "      <td>36.307692</td>\n",
       "      <td>36.224615</td>\n",
       "      <td>39.900000</td>\n",
       "    </tr>\n",
       "    <tr>\n",
       "      <td>std</td>\n",
       "      <td>NaN</td>\n",
       "      <td>NaN</td>\n",
       "      <td>NaN</td>\n",
       "      <td>NaN</td>\n",
       "      <td>NaN</td>\n",
       "      <td>NaN</td>\n",
       "      <td>NaN</td>\n",
       "      <td>NaN</td>\n",
       "      <td>NaN</td>\n",
       "      <td>NaN</td>\n",
       "      <td>...</td>\n",
       "      <td>8.763441</td>\n",
       "      <td>8.198340</td>\n",
       "      <td>7.754546</td>\n",
       "      <td>7.669031</td>\n",
       "      <td>7.400949</td>\n",
       "      <td>8.106924</td>\n",
       "      <td>7.967879</td>\n",
       "      <td>7.519304</td>\n",
       "      <td>7.641826</td>\n",
       "      <td>7.987663</td>\n",
       "    </tr>\n",
       "    <tr>\n",
       "      <td>min</td>\n",
       "      <td>NaN</td>\n",
       "      <td>NaN</td>\n",
       "      <td>NaN</td>\n",
       "      <td>NaN</td>\n",
       "      <td>NaN</td>\n",
       "      <td>NaN</td>\n",
       "      <td>34.0</td>\n",
       "      <td>NaN</td>\n",
       "      <td>33.7</td>\n",
       "      <td>NaN</td>\n",
       "      <td>...</td>\n",
       "      <td>24.800000</td>\n",
       "      <td>24.800000</td>\n",
       "      <td>24.600000</td>\n",
       "      <td>24.700000</td>\n",
       "      <td>24.600000</td>\n",
       "      <td>24.000000</td>\n",
       "      <td>25.400000</td>\n",
       "      <td>24.800000</td>\n",
       "      <td>24.200000</td>\n",
       "      <td>25.200000</td>\n",
       "    </tr>\n",
       "    <tr>\n",
       "      <td>25%</td>\n",
       "      <td>NaN</td>\n",
       "      <td>NaN</td>\n",
       "      <td>NaN</td>\n",
       "      <td>NaN</td>\n",
       "      <td>NaN</td>\n",
       "      <td>NaN</td>\n",
       "      <td>34.0</td>\n",
       "      <td>NaN</td>\n",
       "      <td>33.7</td>\n",
       "      <td>NaN</td>\n",
       "      <td>...</td>\n",
       "      <td>31.125000</td>\n",
       "      <td>30.500000</td>\n",
       "      <td>30.275000</td>\n",
       "      <td>29.600000</td>\n",
       "      <td>30.700000</td>\n",
       "      <td>31.125000</td>\n",
       "      <td>31.400000</td>\n",
       "      <td>31.200000</td>\n",
       "      <td>29.700000</td>\n",
       "      <td>35.700000</td>\n",
       "    </tr>\n",
       "    <tr>\n",
       "      <td>50%</td>\n",
       "      <td>NaN</td>\n",
       "      <td>NaN</td>\n",
       "      <td>NaN</td>\n",
       "      <td>NaN</td>\n",
       "      <td>NaN</td>\n",
       "      <td>NaN</td>\n",
       "      <td>34.0</td>\n",
       "      <td>NaN</td>\n",
       "      <td>33.7</td>\n",
       "      <td>NaN</td>\n",
       "      <td>...</td>\n",
       "      <td>34.900000</td>\n",
       "      <td>34.400000</td>\n",
       "      <td>33.950000</td>\n",
       "      <td>36.000000</td>\n",
       "      <td>36.200000</td>\n",
       "      <td>35.150000</td>\n",
       "      <td>35.900000</td>\n",
       "      <td>35.100000</td>\n",
       "      <td>35.900000</td>\n",
       "      <td>40.250000</td>\n",
       "    </tr>\n",
       "    <tr>\n",
       "      <td>75%</td>\n",
       "      <td>NaN</td>\n",
       "      <td>NaN</td>\n",
       "      <td>NaN</td>\n",
       "      <td>NaN</td>\n",
       "      <td>NaN</td>\n",
       "      <td>NaN</td>\n",
       "      <td>34.0</td>\n",
       "      <td>NaN</td>\n",
       "      <td>33.7</td>\n",
       "      <td>NaN</td>\n",
       "      <td>...</td>\n",
       "      <td>44.050000</td>\n",
       "      <td>42.000000</td>\n",
       "      <td>42.250000</td>\n",
       "      <td>41.300000</td>\n",
       "      <td>41.000000</td>\n",
       "      <td>40.900000</td>\n",
       "      <td>41.250000</td>\n",
       "      <td>41.200000</td>\n",
       "      <td>41.200000</td>\n",
       "      <td>45.400000</td>\n",
       "    </tr>\n",
       "    <tr>\n",
       "      <td>max</td>\n",
       "      <td>NaN</td>\n",
       "      <td>NaN</td>\n",
       "      <td>NaN</td>\n",
       "      <td>NaN</td>\n",
       "      <td>NaN</td>\n",
       "      <td>NaN</td>\n",
       "      <td>34.0</td>\n",
       "      <td>NaN</td>\n",
       "      <td>33.7</td>\n",
       "      <td>NaN</td>\n",
       "      <td>...</td>\n",
       "      <td>61.000000</td>\n",
       "      <td>63.400000</td>\n",
       "      <td>56.200000</td>\n",
       "      <td>56.100000</td>\n",
       "      <td>52.800000</td>\n",
       "      <td>63.000000</td>\n",
       "      <td>59.100000</td>\n",
       "      <td>54.600000</td>\n",
       "      <td>56.300000</td>\n",
       "      <td>53.900000</td>\n",
       "    </tr>\n",
       "  </tbody>\n",
       "</table>\n",
       "<p>8 rows × 58 columns</p>\n",
       "</div>"
      ],
      "text/plain": [
       "       1961  1962  1963  1964  1965  1966  1967  1968  1969  1970  ...  \\\n",
       "count   0.0   0.0   0.0   0.0   0.0   0.0   1.0   0.0   1.0   0.0  ...   \n",
       "mean    NaN   NaN   NaN   NaN   NaN   NaN  34.0   NaN  33.7   NaN  ...   \n",
       "std     NaN   NaN   NaN   NaN   NaN   NaN   NaN   NaN   NaN   NaN  ...   \n",
       "min     NaN   NaN   NaN   NaN   NaN   NaN  34.0   NaN  33.7   NaN  ...   \n",
       "25%     NaN   NaN   NaN   NaN   NaN   NaN  34.0   NaN  33.7   NaN  ...   \n",
       "50%     NaN   NaN   NaN   NaN   NaN   NaN  34.0   NaN  33.7   NaN  ...   \n",
       "75%     NaN   NaN   NaN   NaN   NaN   NaN  34.0   NaN  33.7   NaN  ...   \n",
       "max     NaN   NaN   NaN   NaN   NaN   NaN  34.0   NaN  33.7   NaN  ...   \n",
       "\n",
       "            2009       2010       2011       2012       2013       2014  \\\n",
       "count  78.000000  81.000000  78.000000  77.000000  77.000000  80.000000   \n",
       "mean   37.376923  36.653086  36.002564  36.706494  36.383117  36.673750   \n",
       "std     8.763441   8.198340   7.754546   7.669031   7.400949   8.106924   \n",
       "min    24.800000  24.800000  24.600000  24.700000  24.600000  24.000000   \n",
       "25%    31.125000  30.500000  30.275000  29.600000  30.700000  31.125000   \n",
       "50%    34.900000  34.400000  33.950000  36.000000  36.200000  35.150000   \n",
       "75%    44.050000  42.000000  42.250000  41.300000  41.000000  40.900000   \n",
       "max    61.000000  63.400000  56.200000  56.100000  52.800000  63.000000   \n",
       "\n",
       "            2015       2016       2017       2018  \n",
       "count  79.000000  78.000000  65.000000  30.000000  \n",
       "mean   36.878481  36.307692  36.224615  39.900000  \n",
       "std     7.967879   7.519304   7.641826   7.987663  \n",
       "min    25.400000  24.800000  24.200000  25.200000  \n",
       "25%    31.400000  31.200000  29.700000  35.700000  \n",
       "50%    35.900000  35.100000  35.900000  40.250000  \n",
       "75%    41.250000  41.200000  41.200000  45.400000  \n",
       "max    59.100000  54.600000  56.300000  53.900000  \n",
       "\n",
       "[8 rows x 58 columns]"
      ]
     },
     "execution_count": 21,
     "metadata": {},
     "output_type": "execute_result"
    }
   ],
   "source": [
    "gini.describe()"
   ]
  },
  {
   "cell_type": "code",
   "execution_count": 22,
   "metadata": {},
   "outputs": [
    {
     "data": {
      "text/plain": [
       "Country Name        0\n",
       "Country Code        0\n",
       "Indicator Name      0\n",
       "Indicator Code      0\n",
       "1960              251\n",
       "                 ... \n",
       "2016              186\n",
       "2017              199\n",
       "2018              234\n",
       "2019               13\n",
       "Unnamed: 64       251\n",
       "Length: 65, dtype: int64"
      ]
     },
     "execution_count": 22,
     "metadata": {},
     "output_type": "execute_result"
    }
   ],
   "source": [
    "gini.isnull().sum()"
   ]
  },
  {
   "cell_type": "markdown",
   "metadata": {},
   "source": [
    "### Exploring dataframe population"
   ]
  },
  {
   "cell_type": "code",
   "execution_count": 23,
   "metadata": {},
   "outputs": [
    {
     "data": {
      "text/plain": [
       "Index(['[\"Country Name\"', 'Country Code', 'Indicator Name', 'Indicator Code',\n",
       "       '1960', '1961', '1962', '1963', '1964', '1965', '1966', '1967', '1968',\n",
       "       '1969', '1970', '1971', '1972', '1973', '1974', '1975', '1976', '1977',\n",
       "       '1978', '1979', '1980', '1981', '1982', '1983', '1984', '1985', '1986',\n",
       "       '1987', '1988', '1989', '1990', '1991', '1992', '1993', '1994', '1995',\n",
       "       '1996', '1997', '1998', '1999', '2000', '2001', '2002', '2003', '2004',\n",
       "       '2005', '2006', '2007', '2008', '2009', '2010', '2011', '2012', '2013',\n",
       "       '2014', '2015', '2016', '2017', '2018', '2019]'],\n",
       "      dtype='object')"
      ]
     },
     "execution_count": 23,
     "metadata": {},
     "output_type": "execute_result"
    }
   ],
   "source": [
    "population.columns"
   ]
  },
  {
   "cell_type": "code",
   "execution_count": 24,
   "metadata": {},
   "outputs": [
    {
     "data": {
      "text/plain": [
       "(264, 64)"
      ]
     },
     "execution_count": 24,
     "metadata": {},
     "output_type": "execute_result"
    }
   ],
   "source": [
    "population.shape"
   ]
  },
  {
   "cell_type": "code",
   "execution_count": 25,
   "metadata": {},
   "outputs": [
    {
     "data": {
      "text/plain": [
       "[\"Country Name\"     object\n",
       "Country Code        object\n",
       "Indicator Name      object\n",
       "Indicator Code      object\n",
       "1960                object\n",
       "                    ...   \n",
       "2015               float64\n",
       "2016               float64\n",
       "2017               float64\n",
       "2018               float64\n",
       "2019]               object\n",
       "Length: 64, dtype: object"
      ]
     },
     "execution_count": 25,
     "metadata": {},
     "output_type": "execute_result"
    }
   ],
   "source": [
    "population.dtypes"
   ]
  },
  {
   "cell_type": "code",
   "execution_count": 26,
   "metadata": {},
   "outputs": [
    {
     "data": {
      "text/html": [
       "<div>\n",
       "<style scoped>\n",
       "    .dataframe tbody tr th:only-of-type {\n",
       "        vertical-align: middle;\n",
       "    }\n",
       "\n",
       "    .dataframe tbody tr th {\n",
       "        vertical-align: top;\n",
       "    }\n",
       "\n",
       "    .dataframe thead th {\n",
       "        text-align: right;\n",
       "    }\n",
       "</style>\n",
       "<table border=\"1\" class=\"dataframe\">\n",
       "  <thead>\n",
       "    <tr style=\"text-align: right;\">\n",
       "      <th></th>\n",
       "      <th>1961</th>\n",
       "      <th>1962</th>\n",
       "      <th>1963</th>\n",
       "      <th>1964</th>\n",
       "      <th>1965</th>\n",
       "      <th>1966</th>\n",
       "      <th>1967</th>\n",
       "      <th>1968</th>\n",
       "      <th>1969</th>\n",
       "      <th>1970</th>\n",
       "      <th>...</th>\n",
       "      <th>2009</th>\n",
       "      <th>2010</th>\n",
       "      <th>2011</th>\n",
       "      <th>2012</th>\n",
       "      <th>2013</th>\n",
       "      <th>2014</th>\n",
       "      <th>2015</th>\n",
       "      <th>2016</th>\n",
       "      <th>2017</th>\n",
       "      <th>2018</th>\n",
       "    </tr>\n",
       "  </thead>\n",
       "  <tbody>\n",
       "    <tr>\n",
       "      <td>count</td>\n",
       "      <td>2.600000e+02</td>\n",
       "      <td>2.600000e+02</td>\n",
       "      <td>2.600000e+02</td>\n",
       "      <td>2.600000e+02</td>\n",
       "      <td>2.600000e+02</td>\n",
       "      <td>2.600000e+02</td>\n",
       "      <td>2.600000e+02</td>\n",
       "      <td>2.600000e+02</td>\n",
       "      <td>2.600000e+02</td>\n",
       "      <td>2.600000e+02</td>\n",
       "      <td>...</td>\n",
       "      <td>2.630000e+02</td>\n",
       "      <td>2.630000e+02</td>\n",
       "      <td>2.630000e+02</td>\n",
       "      <td>2.620000e+02</td>\n",
       "      <td>2.620000e+02</td>\n",
       "      <td>2.620000e+02</td>\n",
       "      <td>2.620000e+02</td>\n",
       "      <td>2.620000e+02</td>\n",
       "      <td>2.620000e+02</td>\n",
       "      <td>2.620000e+02</td>\n",
       "    </tr>\n",
       "    <tr>\n",
       "      <td>mean</td>\n",
       "      <td>1.195083e+08</td>\n",
       "      <td>1.216269e+08</td>\n",
       "      <td>1.242638e+08</td>\n",
       "      <td>1.269213e+08</td>\n",
       "      <td>1.296441e+08</td>\n",
       "      <td>1.325109e+08</td>\n",
       "      <td>1.353668e+08</td>\n",
       "      <td>1.382759e+08</td>\n",
       "      <td>1.413296e+08</td>\n",
       "      <td>1.444270e+08</td>\n",
       "      <td>...</td>\n",
       "      <td>2.741597e+08</td>\n",
       "      <td>2.776715e+08</td>\n",
       "      <td>2.811688e+08</td>\n",
       "      <td>2.858136e+08</td>\n",
       "      <td>2.894483e+08</td>\n",
       "      <td>2.931166e+08</td>\n",
       "      <td>2.967998e+08</td>\n",
       "      <td>3.005140e+08</td>\n",
       "      <td>3.042246e+08</td>\n",
       "      <td>3.078698e+08</td>\n",
       "    </tr>\n",
       "    <tr>\n",
       "      <td>std</td>\n",
       "      <td>3.772312e+08</td>\n",
       "      <td>3.838019e+08</td>\n",
       "      <td>3.923689e+08</td>\n",
       "      <td>4.009789e+08</td>\n",
       "      <td>4.098255e+08</td>\n",
       "      <td>4.192368e+08</td>\n",
       "      <td>4.285786e+08</td>\n",
       "      <td>4.381354e+08</td>\n",
       "      <td>4.481840e+08</td>\n",
       "      <td>4.584292e+08</td>\n",
       "      <td>...</td>\n",
       "      <td>8.719860e+08</td>\n",
       "      <td>8.824931e+08</td>\n",
       "      <td>8.930311e+08</td>\n",
       "      <td>9.052682e+08</td>\n",
       "      <td>9.160887e+08</td>\n",
       "      <td>9.269869e+08</td>\n",
       "      <td>9.379110e+08</td>\n",
       "      <td>9.489178e+08</td>\n",
       "      <td>9.599249e+08</td>\n",
       "      <td>9.706714e+08</td>\n",
       "    </tr>\n",
       "    <tr>\n",
       "      <td>min</td>\n",
       "      <td>3.989000e+03</td>\n",
       "      <td>4.076000e+03</td>\n",
       "      <td>4.183000e+03</td>\n",
       "      <td>4.308000e+03</td>\n",
       "      <td>4.468000e+03</td>\n",
       "      <td>4.685000e+03</td>\n",
       "      <td>4.920000e+03</td>\n",
       "      <td>5.193000e+03</td>\n",
       "      <td>5.459000e+03</td>\n",
       "      <td>5.712000e+03</td>\n",
       "      <td>...</td>\n",
       "      <td>9.939000e+03</td>\n",
       "      <td>1.000500e+04</td>\n",
       "      <td>1.005700e+04</td>\n",
       "      <td>1.027900e+04</td>\n",
       "      <td>1.082100e+04</td>\n",
       "      <td>1.097200e+04</td>\n",
       "      <td>1.109900e+04</td>\n",
       "      <td>1.122500e+04</td>\n",
       "      <td>1.137000e+04</td>\n",
       "      <td>1.150800e+04</td>\n",
       "    </tr>\n",
       "    <tr>\n",
       "      <td>25%</td>\n",
       "      <td>5.109635e+05</td>\n",
       "      <td>5.206552e+05</td>\n",
       "      <td>5.311588e+05</td>\n",
       "      <td>5.421285e+05</td>\n",
       "      <td>5.533358e+05</td>\n",
       "      <td>5.647510e+05</td>\n",
       "      <td>5.823600e+05</td>\n",
       "      <td>5.981080e+05</td>\n",
       "      <td>6.100040e+05</td>\n",
       "      <td>6.241908e+05</td>\n",
       "      <td>...</td>\n",
       "      <td>1.409218e+06</td>\n",
       "      <td>1.427037e+06</td>\n",
       "      <td>1.449584e+06</td>\n",
       "      <td>1.409858e+06</td>\n",
       "      <td>1.427339e+06</td>\n",
       "      <td>1.444866e+06</td>\n",
       "      <td>1.463189e+06</td>\n",
       "      <td>1.513732e+06</td>\n",
       "      <td>1.568306e+06</td>\n",
       "      <td>1.626350e+06</td>\n",
       "    </tr>\n",
       "    <tr>\n",
       "      <td>50%</td>\n",
       "      <td>3.738358e+06</td>\n",
       "      <td>3.821016e+06</td>\n",
       "      <td>3.926268e+06</td>\n",
       "      <td>4.051891e+06</td>\n",
       "      <td>4.180652e+06</td>\n",
       "      <td>4.275565e+06</td>\n",
       "      <td>4.344568e+06</td>\n",
       "      <td>4.415026e+06</td>\n",
       "      <td>4.455048e+06</td>\n",
       "      <td>4.524434e+06</td>\n",
       "      <td>...</td>\n",
       "      <td>9.142259e+06</td>\n",
       "      <td>9.378126e+06</td>\n",
       "      <td>9.460830e+06</td>\n",
       "      <td>9.624311e+06</td>\n",
       "      <td>9.746730e+06</td>\n",
       "      <td>9.855382e+06</td>\n",
       "      <td>1.000153e+07</td>\n",
       "      <td>1.012427e+07</td>\n",
       "      <td>1.017900e+07</td>\n",
       "      <td>1.022952e+07</td>\n",
       "    </tr>\n",
       "    <tr>\n",
       "      <td>75%</td>\n",
       "      <td>2.541750e+07</td>\n",
       "      <td>2.616581e+07</td>\n",
       "      <td>2.691284e+07</td>\n",
       "      <td>2.766416e+07</td>\n",
       "      <td>2.839934e+07</td>\n",
       "      <td>2.913676e+07</td>\n",
       "      <td>2.988608e+07</td>\n",
       "      <td>3.061236e+07</td>\n",
       "      <td>3.126580e+07</td>\n",
       "      <td>3.182427e+07</td>\n",
       "      <td>...</td>\n",
       "      <td>5.036369e+07</td>\n",
       "      <td>5.090889e+07</td>\n",
       "      <td>5.149739e+07</td>\n",
       "      <td>5.247893e+07</td>\n",
       "      <td>5.323004e+07</td>\n",
       "      <td>5.397970e+07</td>\n",
       "      <td>5.470996e+07</td>\n",
       "      <td>5.541544e+07</td>\n",
       "      <td>5.641631e+07</td>\n",
       "      <td>5.741430e+07</td>\n",
       "    </tr>\n",
       "    <tr>\n",
       "      <td>max</td>\n",
       "      <td>3.072481e+09</td>\n",
       "      <td>3.125457e+09</td>\n",
       "      <td>3.190564e+09</td>\n",
       "      <td>3.256065e+09</td>\n",
       "      <td>3.322973e+09</td>\n",
       "      <td>3.393032e+09</td>\n",
       "      <td>3.462460e+09</td>\n",
       "      <td>3.532827e+09</td>\n",
       "      <td>3.607500e+09</td>\n",
       "      <td>3.682911e+09</td>\n",
       "      <td>...</td>\n",
       "      <td>6.839574e+09</td>\n",
       "      <td>6.921872e+09</td>\n",
       "      <td>7.002861e+09</td>\n",
       "      <td>7.085763e+09</td>\n",
       "      <td>7.169640e+09</td>\n",
       "      <td>7.254228e+09</td>\n",
       "      <td>7.338965e+09</td>\n",
       "      <td>7.424282e+09</td>\n",
       "      <td>7.509066e+09</td>\n",
       "      <td>7.591933e+09</td>\n",
       "    </tr>\n",
       "  </tbody>\n",
       "</table>\n",
       "<p>8 rows × 58 columns</p>\n",
       "</div>"
      ],
      "text/plain": [
       "               1961          1962          1963          1964          1965  \\\n",
       "count  2.600000e+02  2.600000e+02  2.600000e+02  2.600000e+02  2.600000e+02   \n",
       "mean   1.195083e+08  1.216269e+08  1.242638e+08  1.269213e+08  1.296441e+08   \n",
       "std    3.772312e+08  3.838019e+08  3.923689e+08  4.009789e+08  4.098255e+08   \n",
       "min    3.989000e+03  4.076000e+03  4.183000e+03  4.308000e+03  4.468000e+03   \n",
       "25%    5.109635e+05  5.206552e+05  5.311588e+05  5.421285e+05  5.533358e+05   \n",
       "50%    3.738358e+06  3.821016e+06  3.926268e+06  4.051891e+06  4.180652e+06   \n",
       "75%    2.541750e+07  2.616581e+07  2.691284e+07  2.766416e+07  2.839934e+07   \n",
       "max    3.072481e+09  3.125457e+09  3.190564e+09  3.256065e+09  3.322973e+09   \n",
       "\n",
       "               1966          1967          1968          1969          1970  \\\n",
       "count  2.600000e+02  2.600000e+02  2.600000e+02  2.600000e+02  2.600000e+02   \n",
       "mean   1.325109e+08  1.353668e+08  1.382759e+08  1.413296e+08  1.444270e+08   \n",
       "std    4.192368e+08  4.285786e+08  4.381354e+08  4.481840e+08  4.584292e+08   \n",
       "min    4.685000e+03  4.920000e+03  5.193000e+03  5.459000e+03  5.712000e+03   \n",
       "25%    5.647510e+05  5.823600e+05  5.981080e+05  6.100040e+05  6.241908e+05   \n",
       "50%    4.275565e+06  4.344568e+06  4.415026e+06  4.455048e+06  4.524434e+06   \n",
       "75%    2.913676e+07  2.988608e+07  3.061236e+07  3.126580e+07  3.182427e+07   \n",
       "max    3.393032e+09  3.462460e+09  3.532827e+09  3.607500e+09  3.682911e+09   \n",
       "\n",
       "       ...          2009          2010          2011          2012  \\\n",
       "count  ...  2.630000e+02  2.630000e+02  2.630000e+02  2.620000e+02   \n",
       "mean   ...  2.741597e+08  2.776715e+08  2.811688e+08  2.858136e+08   \n",
       "std    ...  8.719860e+08  8.824931e+08  8.930311e+08  9.052682e+08   \n",
       "min    ...  9.939000e+03  1.000500e+04  1.005700e+04  1.027900e+04   \n",
       "25%    ...  1.409218e+06  1.427037e+06  1.449584e+06  1.409858e+06   \n",
       "50%    ...  9.142259e+06  9.378126e+06  9.460830e+06  9.624311e+06   \n",
       "75%    ...  5.036369e+07  5.090889e+07  5.149739e+07  5.247893e+07   \n",
       "max    ...  6.839574e+09  6.921872e+09  7.002861e+09  7.085763e+09   \n",
       "\n",
       "               2013          2014          2015          2016          2017  \\\n",
       "count  2.620000e+02  2.620000e+02  2.620000e+02  2.620000e+02  2.620000e+02   \n",
       "mean   2.894483e+08  2.931166e+08  2.967998e+08  3.005140e+08  3.042246e+08   \n",
       "std    9.160887e+08  9.269869e+08  9.379110e+08  9.489178e+08  9.599249e+08   \n",
       "min    1.082100e+04  1.097200e+04  1.109900e+04  1.122500e+04  1.137000e+04   \n",
       "25%    1.427339e+06  1.444866e+06  1.463189e+06  1.513732e+06  1.568306e+06   \n",
       "50%    9.746730e+06  9.855382e+06  1.000153e+07  1.012427e+07  1.017900e+07   \n",
       "75%    5.323004e+07  5.397970e+07  5.470996e+07  5.541544e+07  5.641631e+07   \n",
       "max    7.169640e+09  7.254228e+09  7.338965e+09  7.424282e+09  7.509066e+09   \n",
       "\n",
       "               2018  \n",
       "count  2.620000e+02  \n",
       "mean   3.078698e+08  \n",
       "std    9.706714e+08  \n",
       "min    1.150800e+04  \n",
       "25%    1.626350e+06  \n",
       "50%    1.022952e+07  \n",
       "75%    5.741430e+07  \n",
       "max    7.591933e+09  \n",
       "\n",
       "[8 rows x 58 columns]"
      ]
     },
     "execution_count": 26,
     "metadata": {},
     "output_type": "execute_result"
    }
   ],
   "source": [
    "population.describe()"
   ]
  },
  {
   "cell_type": "code",
   "execution_count": 27,
   "metadata": {},
   "outputs": [
    {
     "data": {
      "text/plain": [
       "[\"Country Name\"    0\n",
       "Country Code       0\n",
       "Indicator Name     0\n",
       "Indicator Code     0\n",
       "1960               4\n",
       "                  ..\n",
       "2015               2\n",
       "2016               2\n",
       "2017               2\n",
       "2018               2\n",
       "2019]              0\n",
       "Length: 64, dtype: int64"
      ]
     },
     "execution_count": 27,
     "metadata": {},
     "output_type": "execute_result"
    }
   ],
   "source": [
    "population.isnull().sum()"
   ]
  },
  {
   "cell_type": "markdown",
   "metadata": {},
   "source": [
    "## Cleaning the dataframes "
   ]
  },
  {
   "cell_type": "markdown",
   "metadata": {},
   "source": [
    "### Cleaning the dataframe income"
   ]
  },
  {
   "cell_type": "code",
   "execution_count": 28,
   "metadata": {},
   "outputs": [
    {
     "data": {
      "text/plain": [
       "country         object\n",
       "year_survey      int64\n",
       "quantile         int64\n",
       "nb_quantiles     int64\n",
       "income          object\n",
       "gdpppp          object\n",
       "dtype: object"
      ]
     },
     "execution_count": 28,
     "metadata": {},
     "output_type": "execute_result"
    }
   ],
   "source": [
    "income.dtypes"
   ]
  },
  {
   "cell_type": "code",
   "execution_count": 29,
   "metadata": {},
   "outputs": [
    {
     "data": {
      "text/plain": [
       "country           0\n",
       "year_survey       0\n",
       "quantile          0\n",
       "nb_quantiles      0\n",
       "income            0\n",
       "gdpppp          200\n",
       "dtype: int64"
      ]
     },
     "execution_count": 29,
     "metadata": {},
     "output_type": "execute_result"
    }
   ],
   "source": [
    "income.isnull().sum()\n",
    "\n",
    "# likely means the gdp is missing for two countries \n",
    "# can find which countries they are and impute the closest number"
   ]
  },
  {
   "cell_type": "code",
   "execution_count": 30,
   "metadata": {},
   "outputs": [],
   "source": [
    "income['gdpppp'] = pd.to_numeric(income['gdpppp'].str.replace(',', ''))"
   ]
  },
  {
   "cell_type": "code",
   "execution_count": 31,
   "metadata": {},
   "outputs": [],
   "source": [
    "income['income'] = pd.to_numeric(income['income'].str.replace(',', '.'))"
   ]
  },
  {
   "cell_type": "code",
   "execution_count": 32,
   "metadata": {},
   "outputs": [
    {
     "data": {
      "text/plain": [
       "country          object\n",
       "year_survey       int64\n",
       "quantile          int64\n",
       "nb_quantiles      int64\n",
       "income          float64\n",
       "gdpppp          float64\n",
       "dtype: object"
      ]
     },
     "execution_count": 32,
     "metadata": {},
     "output_type": "execute_result"
    }
   ],
   "source": [
    "income.dtypes"
   ]
  },
  {
   "cell_type": "code",
   "execution_count": 33,
   "metadata": {},
   "outputs": [],
   "source": [
    "nan_gdp = income[income.isna().any(axis=1)]"
   ]
  },
  {
   "cell_type": "code",
   "execution_count": 34,
   "metadata": {},
   "outputs": [
    {
     "data": {
      "text/plain": [
       "array(['XKX', 'PSE'], dtype=object)"
      ]
     },
     "execution_count": 34,
     "metadata": {},
     "output_type": "execute_result"
    }
   ],
   "source": [
    "nan_gdp['country'].unique()\n",
    "# The two countries are XKX and PSE\n",
    "# XKX = Kosovo\n",
    "# Palestinian Territory\n",
    "# "
   ]
  },
  {
   "cell_type": "code",
   "execution_count": 35,
   "metadata": {},
   "outputs": [],
   "source": [
    "income['gdpppp'].fillna((income['gdpppp'].median()), inplace=True)"
   ]
  },
  {
   "cell_type": "code",
   "execution_count": 36,
   "metadata": {},
   "outputs": [
    {
     "data": {
      "text/plain": [
       "country         0\n",
       "year_survey     0\n",
       "quantile        0\n",
       "nb_quantiles    0\n",
       "income          0\n",
       "gdpppp          0\n",
       "dtype: int64"
      ]
     },
     "execution_count": 36,
     "metadata": {},
     "output_type": "execute_result"
    }
   ],
   "source": [
    "income.isnull().sum()"
   ]
  },
  {
   "cell_type": "code",
   "execution_count": 37,
   "metadata": {},
   "outputs": [
    {
     "data": {
      "text/plain": [
       "Text(0.5, 1.0, 'Product Prices')"
      ]
     },
     "execution_count": 37,
     "metadata": {},
     "output_type": "execute_result"
    },
    {
     "data": {
      "image/png": "[encoded data removed]",
      "text/plain": [
       "<Figure size 432x288 with 1 Axes>"
      ]
     },
     "metadata": {
      "needs_background": "light"
     },
     "output_type": "display_data"
    }
   ],
   "source": [
    "sns.distplot(income.gdpppp)\n",
    "plt.title('Product Prices', fontsize = 16)\n",
    "\n",
    "# Some countries'gdp is much higher than others. \n",
    "# This is to be expected due to population/resource differences."
   ]
  },
  {
   "cell_type": "code",
   "execution_count": 38,
   "metadata": {},
   "outputs": [
    {
     "data": {
      "text/html": [
       "<div>\n",
       "<style scoped>\n",
       "    .dataframe tbody tr th:only-of-type {\n",
       "        vertical-align: middle;\n",
       "    }\n",
       "\n",
       "    .dataframe tbody tr th {\n",
       "        vertical-align: top;\n",
       "    }\n",
       "\n",
       "    .dataframe thead th {\n",
       "        text-align: right;\n",
       "    }\n",
       "</style>\n",
       "<table border=\"1\" class=\"dataframe\">\n",
       "  <thead>\n",
       "    <tr style=\"text-align: right;\">\n",
       "      <th></th>\n",
       "      <th>country</th>\n",
       "      <th>year_survey</th>\n",
       "      <th>quantile</th>\n",
       "      <th>nb_quantiles</th>\n",
       "      <th>income</th>\n",
       "      <th>gdpppp</th>\n",
       "    </tr>\n",
       "  </thead>\n",
       "  <tbody>\n",
       "    <tr>\n",
       "      <td>0</td>\n",
       "      <td>ALB</td>\n",
       "      <td>2008</td>\n",
       "      <td>1</td>\n",
       "      <td>100</td>\n",
       "      <td>728.89795</td>\n",
       "      <td>7297.0</td>\n",
       "    </tr>\n",
       "    <tr>\n",
       "      <td>1</td>\n",
       "      <td>ALB</td>\n",
       "      <td>2008</td>\n",
       "      <td>2</td>\n",
       "      <td>100</td>\n",
       "      <td>916.66235</td>\n",
       "      <td>7297.0</td>\n",
       "    </tr>\n",
       "    <tr>\n",
       "      <td>2</td>\n",
       "      <td>ALB</td>\n",
       "      <td>2008</td>\n",
       "      <td>3</td>\n",
       "      <td>100</td>\n",
       "      <td>1010.91600</td>\n",
       "      <td>7297.0</td>\n",
       "    </tr>\n",
       "    <tr>\n",
       "      <td>3</td>\n",
       "      <td>ALB</td>\n",
       "      <td>2008</td>\n",
       "      <td>4</td>\n",
       "      <td>100</td>\n",
       "      <td>1086.90780</td>\n",
       "      <td>7297.0</td>\n",
       "    </tr>\n",
       "    <tr>\n",
       "      <td>4</td>\n",
       "      <td>ALB</td>\n",
       "      <td>2008</td>\n",
       "      <td>5</td>\n",
       "      <td>100</td>\n",
       "      <td>1132.69970</td>\n",
       "      <td>7297.0</td>\n",
       "    </tr>\n",
       "    <tr>\n",
       "      <td>...</td>\n",
       "      <td>...</td>\n",
       "      <td>...</td>\n",
       "      <td>...</td>\n",
       "      <td>...</td>\n",
       "      <td>...</td>\n",
       "      <td>...</td>\n",
       "    </tr>\n",
       "    <tr>\n",
       "      <td>11594</td>\n",
       "      <td>COD</td>\n",
       "      <td>2008</td>\n",
       "      <td>96</td>\n",
       "      <td>100</td>\n",
       "      <td>810.62330</td>\n",
       "      <td>30319305.0</td>\n",
       "    </tr>\n",
       "    <tr>\n",
       "      <td>11595</td>\n",
       "      <td>COD</td>\n",
       "      <td>2008</td>\n",
       "      <td>97</td>\n",
       "      <td>100</td>\n",
       "      <td>911.78340</td>\n",
       "      <td>30319305.0</td>\n",
       "    </tr>\n",
       "    <tr>\n",
       "      <td>11596</td>\n",
       "      <td>COD</td>\n",
       "      <td>2008</td>\n",
       "      <td>98</td>\n",
       "      <td>100</td>\n",
       "      <td>1057.80740</td>\n",
       "      <td>30319305.0</td>\n",
       "    </tr>\n",
       "    <tr>\n",
       "      <td>11597</td>\n",
       "      <td>COD</td>\n",
       "      <td>2008</td>\n",
       "      <td>99</td>\n",
       "      <td>100</td>\n",
       "      <td>1286.60290</td>\n",
       "      <td>30319305.0</td>\n",
       "    </tr>\n",
       "    <tr>\n",
       "      <td>11598</td>\n",
       "      <td>COD</td>\n",
       "      <td>2008</td>\n",
       "      <td>100</td>\n",
       "      <td>100</td>\n",
       "      <td>2243.12260</td>\n",
       "      <td>30319305.0</td>\n",
       "    </tr>\n",
       "  </tbody>\n",
       "</table>\n",
       "<p>11599 rows × 6 columns</p>\n",
       "</div>"
      ],
      "text/plain": [
       "      country  year_survey  quantile  nb_quantiles      income      gdpppp\n",
       "0         ALB         2008         1           100   728.89795      7297.0\n",
       "1         ALB         2008         2           100   916.66235      7297.0\n",
       "2         ALB         2008         3           100  1010.91600      7297.0\n",
       "3         ALB         2008         4           100  1086.90780      7297.0\n",
       "4         ALB         2008         5           100  1132.69970      7297.0\n",
       "...       ...          ...       ...           ...         ...         ...\n",
       "11594     COD         2008        96           100   810.62330  30319305.0\n",
       "11595     COD         2008        97           100   911.78340  30319305.0\n",
       "11596     COD         2008        98           100  1057.80740  30319305.0\n",
       "11597     COD         2008        99           100  1286.60290  30319305.0\n",
       "11598     COD         2008       100           100  2243.12260  30319305.0\n",
       "\n",
       "[11599 rows x 6 columns]"
      ]
     },
     "execution_count": 38,
     "metadata": {},
     "output_type": "execute_result"
    }
   ],
   "source": [
    "income"
   ]
  },
  {
   "cell_type": "markdown",
   "metadata": {},
   "source": [
    "### Cleaning the dataframe populations"
   ]
  },
  {
   "cell_type": "code",
   "execution_count": 39,
   "metadata": {},
   "outputs": [
    {
     "data": {
      "text/plain": [
       "Index(['[\"Country Name\"', 'Country Code', 'Indicator Name', 'Indicator Code',\n",
       "       '1960', '1961', '1962', '1963', '1964', '1965', '1966', '1967', '1968',\n",
       "       '1969', '1970', '1971', '1972', '1973', '1974', '1975', '1976', '1977',\n",
       "       '1978', '1979', '1980', '1981', '1982', '1983', '1984', '1985', '1986',\n",
       "       '1987', '1988', '1989', '1990', '1991', '1992', '1993', '1994', '1995',\n",
       "       '1996', '1997', '1998', '1999', '2000', '2001', '2002', '2003', '2004',\n",
       "       '2005', '2006', '2007', '2008', '2009', '2010', '2011', '2012', '2013',\n",
       "       '2014', '2015', '2016', '2017', '2018', '2019]'],\n",
       "      dtype='object')"
      ]
     },
     "execution_count": 39,
     "metadata": {},
     "output_type": "execute_result"
    }
   ],
   "source": [
    "population.columns"
   ]
  },
  {
   "cell_type": "code",
   "execution_count": 40,
   "metadata": {},
   "outputs": [],
   "source": [
    "# reducing to only 2008\n",
    "year = population.drop(['1960', '1961', '1962', '1963', '1964', '1965', '1966', '1967', '1968',\n",
    "       '1969', '1970', '1971', '1972', '1973', '1974', '1975', '1976', '1977',\n",
    "       '1978', '1979', '1980', '1981', '1982', '1983', '1984', '1985', '1986',\n",
    "       '1987', '1988', '1989', '1990', '1991', '1992', '1993', '1994', '1995',\n",
    "       '1996', '1997', '1998', '1999', '2000', '2001', '2002', '2003', '2004',\n",
    "       '2005', '2006', '2007', '2009', '2010', '2011', '2012', '2013',\n",
    "       '2014', '2015', '2016', '2017', '2018', '2019]'], axis=1)"
   ]
  },
  {
   "cell_type": "code",
   "execution_count": 41,
   "metadata": {},
   "outputs": [
    {
     "data": {
      "text/plain": [
       "(264, 5)"
      ]
     },
     "execution_count": 41,
     "metadata": {},
     "output_type": "execute_result"
    }
   ],
   "source": [
    "year.shape"
   ]
  },
  {
   "cell_type": "code",
   "execution_count": 42,
   "metadata": {},
   "outputs": [
    {
     "data": {
      "text/plain": [
       "[\"Country Name\"    0\n",
       "Country Code       0\n",
       "Indicator Name     0\n",
       "Indicator Code     0\n",
       "2008               1\n",
       "dtype: int64"
      ]
     },
     "execution_count": 42,
     "metadata": {},
     "output_type": "execute_result"
    }
   ],
   "source": [
    "# There is one row with missing information\n",
    "year.isnull().sum()"
   ]
  },
  {
   "cell_type": "code",
   "execution_count": 43,
   "metadata": {},
   "outputs": [],
   "source": [
    "which = year[year.isna().any(axis=1)]"
   ]
  },
  {
   "cell_type": "code",
   "execution_count": 44,
   "metadata": {},
   "outputs": [
    {
     "data": {
      "text/html": [
       "<div>\n",
       "<style scoped>\n",
       "    .dataframe tbody tr th:only-of-type {\n",
       "        vertical-align: middle;\n",
       "    }\n",
       "\n",
       "    .dataframe tbody tr th {\n",
       "        vertical-align: top;\n",
       "    }\n",
       "\n",
       "    .dataframe thead th {\n",
       "        text-align: right;\n",
       "    }\n",
       "</style>\n",
       "<table border=\"1\" class=\"dataframe\">\n",
       "  <thead>\n",
       "    <tr style=\"text-align: right;\">\n",
       "      <th></th>\n",
       "      <th>[\"Country Name\"</th>\n",
       "      <th>Country Code</th>\n",
       "      <th>Indicator Name</th>\n",
       "      <th>Indicator Code</th>\n",
       "      <th>2008</th>\n",
       "    </tr>\n",
       "  </thead>\n",
       "  <tbody>\n",
       "    <tr>\n",
       "      <td>108</td>\n",
       "      <td>[\"Not classified\"</td>\n",
       "      <td>INX</td>\n",
       "      <td>Population, total</td>\n",
       "      <td>SP.POP.TOTL</td>\n",
       "      <td>NaN</td>\n",
       "    </tr>\n",
       "  </tbody>\n",
       "</table>\n",
       "</div>"
      ],
      "text/plain": [
       "       [\"Country Name\" Country Code     Indicator Name Indicator Code  2008\n",
       "108  [\"Not classified\"          INX  Population, total    SP.POP.TOTL   NaN"
      ]
     },
     "execution_count": 44,
     "metadata": {},
     "output_type": "execute_result"
    }
   ],
   "source": [
    "which"
   ]
  },
  {
   "cell_type": "code",
   "execution_count": 45,
   "metadata": {},
   "outputs": [],
   "source": [
    "inx = population[population['Country Code'] == 'INX']"
   ]
  },
  {
   "cell_type": "code",
   "execution_count": 46,
   "metadata": {
    "scrolled": true
   },
   "outputs": [
    {
     "data": {
      "text/html": [
       "<div>\n",
       "<style scoped>\n",
       "    .dataframe tbody tr th:only-of-type {\n",
       "        vertical-align: middle;\n",
       "    }\n",
       "\n",
       "    .dataframe tbody tr th {\n",
       "        vertical-align: top;\n",
       "    }\n",
       "\n",
       "    .dataframe thead th {\n",
       "        text-align: right;\n",
       "    }\n",
       "</style>\n",
       "<table border=\"1\" class=\"dataframe\">\n",
       "  <thead>\n",
       "    <tr style=\"text-align: right;\">\n",
       "      <th></th>\n",
       "      <th>[\"Country Name\"</th>\n",
       "      <th>Country Code</th>\n",
       "      <th>Indicator Name</th>\n",
       "      <th>Indicator Code</th>\n",
       "      <th>1960</th>\n",
       "      <th>1961</th>\n",
       "      <th>1962</th>\n",
       "      <th>1963</th>\n",
       "      <th>1964</th>\n",
       "      <th>1965</th>\n",
       "      <th>...</th>\n",
       "      <th>2010</th>\n",
       "      <th>2011</th>\n",
       "      <th>2012</th>\n",
       "      <th>2013</th>\n",
       "      <th>2014</th>\n",
       "      <th>2015</th>\n",
       "      <th>2016</th>\n",
       "      <th>2017</th>\n",
       "      <th>2018</th>\n",
       "      <th>2019]</th>\n",
       "    </tr>\n",
       "  </thead>\n",
       "  <tbody>\n",
       "    <tr>\n",
       "      <td>108</td>\n",
       "      <td>[\"Not classified\"</td>\n",
       "      <td>INX</td>\n",
       "      <td>Population, total</td>\n",
       "      <td>SP.POP.TOTL</td>\n",
       "      <td>NaN</td>\n",
       "      <td>NaN</td>\n",
       "      <td>NaN</td>\n",
       "      <td>NaN</td>\n",
       "      <td>NaN</td>\n",
       "      <td>NaN</td>\n",
       "      <td>...</td>\n",
       "      <td>NaN</td>\n",
       "      <td>NaN</td>\n",
       "      <td>NaN</td>\n",
       "      <td>NaN</td>\n",
       "      <td>NaN</td>\n",
       "      <td>NaN</td>\n",
       "      <td>NaN</td>\n",
       "      <td>NaN</td>\n",
       "      <td>NaN</td>\n",
       "      <td>]</td>\n",
       "    </tr>\n",
       "  </tbody>\n",
       "</table>\n",
       "<p>1 rows × 64 columns</p>\n",
       "</div>"
      ],
      "text/plain": [
       "       [\"Country Name\" Country Code     Indicator Name Indicator Code 1960  \\\n",
       "108  [\"Not classified\"          INX  Population, total    SP.POP.TOTL  NaN   \n",
       "\n",
       "     1961  1962  1963  1964  1965  ...  2010  2011  2012  2013  2014  2015  \\\n",
       "108   NaN   NaN   NaN   NaN   NaN  ...   NaN   NaN   NaN   NaN   NaN   NaN   \n",
       "\n",
       "     2016  2017  2018  2019]  \n",
       "108   NaN   NaN   NaN      ]  \n",
       "\n",
       "[1 rows x 64 columns]"
      ]
     },
     "execution_count": 46,
     "metadata": {},
     "output_type": "execute_result"
    }
   ],
   "source": [
    "inx\n",
    "# inx is an abbreviation for information exchange. \n",
    "# This row can be filled with the median as it likely won't be important later on"
   ]
  },
  {
   "cell_type": "code",
   "execution_count": 47,
   "metadata": {},
   "outputs": [],
   "source": [
    "year['2008'].fillna((year['2008'].median()), inplace=True)"
   ]
  },
  {
   "cell_type": "code",
   "execution_count": 48,
   "metadata": {},
   "outputs": [
    {
     "data": {
      "text/plain": [
       "(264, 5)"
      ]
     },
     "execution_count": 48,
     "metadata": {},
     "output_type": "execute_result"
    }
   ],
   "source": [
    "year.shape"
   ]
  },
  {
   "cell_type": "code",
   "execution_count": 49,
   "metadata": {},
   "outputs": [
    {
     "data": {
      "text/plain": [
       "[\"Country Name\"    0\n",
       "Country Code       0\n",
       "Indicator Name     0\n",
       "Indicator Code     0\n",
       "2008               0\n",
       "dtype: int64"
      ]
     },
     "execution_count": 49,
     "metadata": {},
     "output_type": "execute_result"
    }
   ],
   "source": [
    "year.isnull().sum()"
   ]
  },
  {
   "cell_type": "code",
   "execution_count": 50,
   "metadata": {},
   "outputs": [],
   "source": [
    "# taking off the quotes and brackets from the country name column\n",
    "year['[\"Country Name\"'] = year['[\"Country Name\"'].str.replace('\"', '')"
   ]
  },
  {
   "cell_type": "code",
   "execution_count": 51,
   "metadata": {},
   "outputs": [],
   "source": [
    "year['[\"Country Name\"'] = year['[\"Country Name\"'].str.replace('[', '')"
   ]
  },
  {
   "cell_type": "code",
   "execution_count": 52,
   "metadata": {},
   "outputs": [],
   "source": [
    "year = year.rename({('[\"Country Name\"'): 'Country Name'}, axis=1)"
   ]
  },
  {
   "cell_type": "markdown",
   "metadata": {},
   "source": [
    "### Cleaning the dataframe gini"
   ]
  },
  {
   "cell_type": "code",
   "execution_count": 53,
   "metadata": {},
   "outputs": [
    {
     "data": {
      "text/plain": [
       "Index(['Country Name', 'Country Code', 'Indicator Name', 'Indicator Code',\n",
       "       '1960', '1961', '1962', '1963', '1964', '1965', '1966', '1967', '1968',\n",
       "       '1969', '1970', '1971', '1972', '1973', '1974', '1975', '1976', '1977',\n",
       "       '1978', '1979', '1980', '1981', '1982', '1983', '1984', '1985', '1986',\n",
       "       '1987', '1988', '1989', '1990', '1991', '1992', '1993', '1994', '1995',\n",
       "       '1996', '1997', '1998', '1999', '2000', '2001', '2002', '2003', '2004',\n",
       "       '2005', '2006', '2007', '2008', '2009', '2010', '2011', '2012', '2013',\n",
       "       '2014', '2015', '2016', '2017', '2018', '2019', 'Unnamed: 64'],\n",
       "      dtype='object')"
      ]
     },
     "execution_count": 53,
     "metadata": {},
     "output_type": "execute_result"
    }
   ],
   "source": [
    "gini.columns"
   ]
  },
  {
   "cell_type": "code",
   "execution_count": 54,
   "metadata": {},
   "outputs": [
    {
     "data": {
      "text/plain": [
       "(264, 65)"
      ]
     },
     "execution_count": 54,
     "metadata": {},
     "output_type": "execute_result"
    }
   ],
   "source": [
    "gini.shape"
   ]
  },
  {
   "cell_type": "code",
   "execution_count": 55,
   "metadata": {},
   "outputs": [
    {
     "data": {
      "text/plain": [
       "array([ nan, 42.7, 30. , 45.3, 29.2, 35.4, 30.4, 28.4, 33.6, 27.8, 50.8,\n",
       "       54. , 56.2, 33.8, 43. , 43.2, 55.5, 48.7, 31.7, 26.3, 31.1, 25.2,\n",
       "       48.1, 49.7, 34.2, 31.9, 40.4, 33. , 34.1, 38.5, 27.5, 36.8, 30.9,\n",
       "       31.8, 32.6, 34.8, 28.5, 31.5, 35.7, 37.2, 34.7, 49.9, 29. , 45.6,\n",
       "       45.5, 29.3, 27. , 52.7, 47.5, 33.5, 36.6, 50.7, 36.4, 41.6, 46.9,\n",
       "       26. , 23.7, 28.1, 40.3, 39. , 26.6, 45.1, 35.6, 42. , 63. ])"
      ]
     },
     "execution_count": 55,
     "metadata": {},
     "output_type": "execute_result"
    }
   ],
   "source": [
    "gini['2008'].unique()"
   ]
  },
  {
   "cell_type": "code",
   "execution_count": 56,
   "metadata": {},
   "outputs": [],
   "source": [
    "gini_two = gini.drop(['2019', 'Unnamed: 64'], axis=1)"
   ]
  },
  {
   "cell_type": "code",
   "execution_count": 57,
   "metadata": {},
   "outputs": [
    {
     "data": {
      "text/plain": [
       "(264, 63)"
      ]
     },
     "execution_count": 57,
     "metadata": {},
     "output_type": "execute_result"
    }
   ],
   "source": [
    "gini_two.shape"
   ]
  },
  {
   "cell_type": "code",
   "execution_count": 58,
   "metadata": {},
   "outputs": [
    {
     "data": {
      "text/html": [
       "<div>\n",
       "<style scoped>\n",
       "    .dataframe tbody tr th:only-of-type {\n",
       "        vertical-align: middle;\n",
       "    }\n",
       "\n",
       "    .dataframe tbody tr th {\n",
       "        vertical-align: top;\n",
       "    }\n",
       "\n",
       "    .dataframe thead th {\n",
       "        text-align: right;\n",
       "    }\n",
       "</style>\n",
       "<table border=\"1\" class=\"dataframe\">\n",
       "  <thead>\n",
       "    <tr style=\"text-align: right;\">\n",
       "      <th></th>\n",
       "      <th>Country Name</th>\n",
       "      <th>Country Code</th>\n",
       "      <th>Indicator Name</th>\n",
       "      <th>Indicator Code</th>\n",
       "      <th>1960</th>\n",
       "      <th>1961</th>\n",
       "      <th>1962</th>\n",
       "      <th>1963</th>\n",
       "      <th>1964</th>\n",
       "      <th>1965</th>\n",
       "      <th>...</th>\n",
       "      <th>2009</th>\n",
       "      <th>2010</th>\n",
       "      <th>2011</th>\n",
       "      <th>2012</th>\n",
       "      <th>2013</th>\n",
       "      <th>2014</th>\n",
       "      <th>2015</th>\n",
       "      <th>2016</th>\n",
       "      <th>2017</th>\n",
       "      <th>2018</th>\n",
       "    </tr>\n",
       "  </thead>\n",
       "  <tbody>\n",
       "    <tr>\n",
       "      <td>0</td>\n",
       "      <td>[\"Aruba\"</td>\n",
       "      <td>ABW</td>\n",
       "      <td>GINI index (World Bank estimate)</td>\n",
       "      <td>SI.POV.GINI</td>\n",
       "      <td>NaN</td>\n",
       "      <td>NaN</td>\n",
       "      <td>NaN</td>\n",
       "      <td>NaN</td>\n",
       "      <td>NaN</td>\n",
       "      <td>NaN</td>\n",
       "      <td>...</td>\n",
       "      <td>NaN</td>\n",
       "      <td>NaN</td>\n",
       "      <td>NaN</td>\n",
       "      <td>NaN</td>\n",
       "      <td>NaN</td>\n",
       "      <td>NaN</td>\n",
       "      <td>NaN</td>\n",
       "      <td>NaN</td>\n",
       "      <td>NaN</td>\n",
       "      <td>NaN</td>\n",
       "    </tr>\n",
       "    <tr>\n",
       "      <td>1</td>\n",
       "      <td>[\"Afghanistan\"</td>\n",
       "      <td>AFG</td>\n",
       "      <td>GINI index (World Bank estimate)</td>\n",
       "      <td>SI.POV.GINI</td>\n",
       "      <td>NaN</td>\n",
       "      <td>NaN</td>\n",
       "      <td>NaN</td>\n",
       "      <td>NaN</td>\n",
       "      <td>NaN</td>\n",
       "      <td>NaN</td>\n",
       "      <td>...</td>\n",
       "      <td>NaN</td>\n",
       "      <td>NaN</td>\n",
       "      <td>NaN</td>\n",
       "      <td>NaN</td>\n",
       "      <td>NaN</td>\n",
       "      <td>NaN</td>\n",
       "      <td>NaN</td>\n",
       "      <td>NaN</td>\n",
       "      <td>NaN</td>\n",
       "      <td>NaN</td>\n",
       "    </tr>\n",
       "    <tr>\n",
       "      <td>2</td>\n",
       "      <td>[\"Angola\"</td>\n",
       "      <td>AGO</td>\n",
       "      <td>GINI index (World Bank estimate)</td>\n",
       "      <td>SI.POV.GINI</td>\n",
       "      <td>52</td>\n",
       "      <td>52</td>\n",
       "      <td>52</td>\n",
       "      <td>52</td>\n",
       "      <td>52</td>\n",
       "      <td>52</td>\n",
       "      <td>...</td>\n",
       "      <td>51.3</td>\n",
       "      <td>51.3</td>\n",
       "      <td>51.3</td>\n",
       "      <td>51.3</td>\n",
       "      <td>51.3</td>\n",
       "      <td>51.3</td>\n",
       "      <td>51.3</td>\n",
       "      <td>51.3</td>\n",
       "      <td>51.3</td>\n",
       "      <td>51.3</td>\n",
       "    </tr>\n",
       "    <tr>\n",
       "      <td>3</td>\n",
       "      <td>[\"Albania\"</td>\n",
       "      <td>ALB</td>\n",
       "      <td>GINI index (World Bank estimate)</td>\n",
       "      <td>SI.POV.GINI</td>\n",
       "      <td>27</td>\n",
       "      <td>27</td>\n",
       "      <td>27</td>\n",
       "      <td>27</td>\n",
       "      <td>27</td>\n",
       "      <td>27</td>\n",
       "      <td>...</td>\n",
       "      <td>29</td>\n",
       "      <td>29</td>\n",
       "      <td>29</td>\n",
       "      <td>29</td>\n",
       "      <td>34.6</td>\n",
       "      <td>34.6</td>\n",
       "      <td>32.9</td>\n",
       "      <td>33.7</td>\n",
       "      <td>33.2</td>\n",
       "      <td>NaN</td>\n",
       "    </tr>\n",
       "    <tr>\n",
       "      <td>4</td>\n",
       "      <td>[\"Andorra\"</td>\n",
       "      <td>AND</td>\n",
       "      <td>GINI index (World Bank estimate)</td>\n",
       "      <td>SI.POV.GINI</td>\n",
       "      <td>NaN</td>\n",
       "      <td>NaN</td>\n",
       "      <td>NaN</td>\n",
       "      <td>NaN</td>\n",
       "      <td>NaN</td>\n",
       "      <td>NaN</td>\n",
       "      <td>...</td>\n",
       "      <td>NaN</td>\n",
       "      <td>NaN</td>\n",
       "      <td>NaN</td>\n",
       "      <td>NaN</td>\n",
       "      <td>NaN</td>\n",
       "      <td>NaN</td>\n",
       "      <td>NaN</td>\n",
       "      <td>NaN</td>\n",
       "      <td>NaN</td>\n",
       "      <td>NaN</td>\n",
       "    </tr>\n",
       "    <tr>\n",
       "      <td>...</td>\n",
       "      <td>...</td>\n",
       "      <td>...</td>\n",
       "      <td>...</td>\n",
       "      <td>...</td>\n",
       "      <td>...</td>\n",
       "      <td>...</td>\n",
       "      <td>...</td>\n",
       "      <td>...</td>\n",
       "      <td>...</td>\n",
       "      <td>...</td>\n",
       "      <td>...</td>\n",
       "      <td>...</td>\n",
       "      <td>...</td>\n",
       "      <td>...</td>\n",
       "      <td>...</td>\n",
       "      <td>...</td>\n",
       "      <td>...</td>\n",
       "      <td>...</td>\n",
       "      <td>...</td>\n",
       "      <td>...</td>\n",
       "      <td>...</td>\n",
       "    </tr>\n",
       "    <tr>\n",
       "      <td>259</td>\n",
       "      <td>[\"Kosovo\"</td>\n",
       "      <td>XKX</td>\n",
       "      <td>GINI index (World Bank estimate)</td>\n",
       "      <td>SI.POV.GINI</td>\n",
       "      <td>29</td>\n",
       "      <td>29</td>\n",
       "      <td>29</td>\n",
       "      <td>29</td>\n",
       "      <td>29</td>\n",
       "      <td>29</td>\n",
       "      <td>...</td>\n",
       "      <td>31.8</td>\n",
       "      <td>33.3</td>\n",
       "      <td>27.8</td>\n",
       "      <td>29</td>\n",
       "      <td>26.3</td>\n",
       "      <td>27.3</td>\n",
       "      <td>26.5</td>\n",
       "      <td>26.7</td>\n",
       "      <td>29</td>\n",
       "      <td>NaN</td>\n",
       "    </tr>\n",
       "    <tr>\n",
       "      <td>260</td>\n",
       "      <td>[\"Yemen</td>\n",
       "      <td>Rep.\"</td>\n",
       "      <td>YEM</td>\n",
       "      <td>GINI index (World Bank estimate)</td>\n",
       "      <td>SI.POV.GINI</td>\n",
       "      <td>35</td>\n",
       "      <td>35</td>\n",
       "      <td>35</td>\n",
       "      <td>35</td>\n",
       "      <td>35</td>\n",
       "      <td>...</td>\n",
       "      <td>36.7</td>\n",
       "      <td>36.7</td>\n",
       "      <td>36.7</td>\n",
       "      <td>36.7</td>\n",
       "      <td>36.7</td>\n",
       "      <td>36.7</td>\n",
       "      <td>36.7</td>\n",
       "      <td>NaN</td>\n",
       "      <td>NaN</td>\n",
       "      <td>NaN</td>\n",
       "    </tr>\n",
       "    <tr>\n",
       "      <td>261</td>\n",
       "      <td>[\"South Africa\"</td>\n",
       "      <td>ZAF</td>\n",
       "      <td>GINI index (World Bank estimate)</td>\n",
       "      <td>SI.POV.GINI</td>\n",
       "      <td>59.3</td>\n",
       "      <td>59.3</td>\n",
       "      <td>59.3</td>\n",
       "      <td>59.3</td>\n",
       "      <td>59.3</td>\n",
       "      <td>59.3</td>\n",
       "      <td>...</td>\n",
       "      <td>63.4</td>\n",
       "      <td>63.4</td>\n",
       "      <td>63</td>\n",
       "      <td>63</td>\n",
       "      <td>63</td>\n",
       "      <td>63</td>\n",
       "      <td>NaN</td>\n",
       "      <td>NaN</td>\n",
       "      <td>NaN</td>\n",
       "      <td>NaN</td>\n",
       "    </tr>\n",
       "    <tr>\n",
       "      <td>262</td>\n",
       "      <td>[\"Zambia\"</td>\n",
       "      <td>ZMB</td>\n",
       "      <td>GINI index (World Bank estimate)</td>\n",
       "      <td>SI.POV.GINI</td>\n",
       "      <td>60.5</td>\n",
       "      <td>60.5</td>\n",
       "      <td>60.5</td>\n",
       "      <td>60.5</td>\n",
       "      <td>60.5</td>\n",
       "      <td>60.5</td>\n",
       "      <td>...</td>\n",
       "      <td>55.6</td>\n",
       "      <td>55.6</td>\n",
       "      <td>57.1</td>\n",
       "      <td>57.1</td>\n",
       "      <td>57.1</td>\n",
       "      <td>57.1</td>\n",
       "      <td>57.1</td>\n",
       "      <td>NaN</td>\n",
       "      <td>NaN</td>\n",
       "      <td>NaN</td>\n",
       "    </tr>\n",
       "    <tr>\n",
       "      <td>263</td>\n",
       "      <td>[\"Zimbabwe\"</td>\n",
       "      <td>ZWE</td>\n",
       "      <td>GINI index (World Bank estimate)</td>\n",
       "      <td>SI.POV.GINI</td>\n",
       "      <td>43.2</td>\n",
       "      <td>43.2</td>\n",
       "      <td>43.2</td>\n",
       "      <td>43.2</td>\n",
       "      <td>43.2</td>\n",
       "      <td>43.2</td>\n",
       "      <td>...</td>\n",
       "      <td>43.2</td>\n",
       "      <td>43.2</td>\n",
       "      <td>43.2</td>\n",
       "      <td>44.3</td>\n",
       "      <td>44.3</td>\n",
       "      <td>44.3</td>\n",
       "      <td>44.3</td>\n",
       "      <td>44.3</td>\n",
       "      <td>44.3</td>\n",
       "      <td>NaN</td>\n",
       "    </tr>\n",
       "  </tbody>\n",
       "</table>\n",
       "<p>264 rows × 63 columns</p>\n",
       "</div>"
      ],
      "text/plain": [
       "        Country Name Country Code                    Indicator Name  \\\n",
       "0           [\"Aruba\"          ABW  GINI index (World Bank estimate)   \n",
       "1     [\"Afghanistan\"          AFG  GINI index (World Bank estimate)   \n",
       "2          [\"Angola\"          AGO  GINI index (World Bank estimate)   \n",
       "3         [\"Albania\"          ALB  GINI index (World Bank estimate)   \n",
       "4         [\"Andorra\"          AND  GINI index (World Bank estimate)   \n",
       "..               ...          ...                               ...   \n",
       "259        [\"Kosovo\"          XKX  GINI index (World Bank estimate)   \n",
       "260          [\"Yemen        Rep.\"                               YEM   \n",
       "261  [\"South Africa\"          ZAF  GINI index (World Bank estimate)   \n",
       "262        [\"Zambia\"          ZMB  GINI index (World Bank estimate)   \n",
       "263      [\"Zimbabwe\"          ZWE  GINI index (World Bank estimate)   \n",
       "\n",
       "                       Indicator Code         1960  1961  1962  1963  1964  \\\n",
       "0                         SI.POV.GINI          NaN   NaN   NaN   NaN   NaN   \n",
       "1                         SI.POV.GINI          NaN   NaN   NaN   NaN   NaN   \n",
       "2                         SI.POV.GINI           52    52    52    52    52   \n",
       "3                         SI.POV.GINI           27    27    27    27    27   \n",
       "4                         SI.POV.GINI          NaN   NaN   NaN   NaN   NaN   \n",
       "..                                ...          ...   ...   ...   ...   ...   \n",
       "259                       SI.POV.GINI           29    29    29    29    29   \n",
       "260  GINI index (World Bank estimate)  SI.POV.GINI    35    35    35    35   \n",
       "261                       SI.POV.GINI         59.3  59.3  59.3  59.3  59.3   \n",
       "262                       SI.POV.GINI         60.5  60.5  60.5  60.5  60.5   \n",
       "263                       SI.POV.GINI         43.2  43.2  43.2  43.2  43.2   \n",
       "\n",
       "     1965  ...  2009  2010  2011  2012  2013  2014  2015  2016  2017  2018  \n",
       "0     NaN  ...   NaN   NaN   NaN   NaN   NaN   NaN   NaN   NaN   NaN   NaN  \n",
       "1     NaN  ...   NaN   NaN   NaN   NaN   NaN   NaN   NaN   NaN   NaN   NaN  \n",
       "2      52  ...  51.3  51.3  51.3  51.3  51.3  51.3  51.3  51.3  51.3  51.3  \n",
       "3      27  ...    29    29    29    29  34.6  34.6  32.9  33.7  33.2   NaN  \n",
       "4     NaN  ...   NaN   NaN   NaN   NaN   NaN   NaN   NaN   NaN   NaN   NaN  \n",
       "..    ...  ...   ...   ...   ...   ...   ...   ...   ...   ...   ...   ...  \n",
       "259    29  ...  31.8  33.3  27.8    29  26.3  27.3  26.5  26.7    29   NaN  \n",
       "260    35  ...  36.7  36.7  36.7  36.7  36.7  36.7  36.7   NaN   NaN   NaN  \n",
       "261  59.3  ...  63.4  63.4    63    63    63    63   NaN   NaN   NaN   NaN  \n",
       "262  60.5  ...  55.6  55.6  57.1  57.1  57.1  57.1  57.1   NaN   NaN   NaN  \n",
       "263  43.2  ...  43.2  43.2  43.2  44.3  44.3  44.3  44.3  44.3  44.3   NaN  \n",
       "\n",
       "[264 rows x 63 columns]"
      ]
     },
     "execution_count": 58,
     "metadata": {},
     "output_type": "execute_result"
    }
   ],
   "source": [
    "# first countries' missing information with its most recent gini index\n",
    "gini_two.fillna(axis=1, method='backfill')"
   ]
  },
  {
   "cell_type": "code",
   "execution_count": 59,
   "metadata": {},
   "outputs": [],
   "source": [
    "cols = ['1960', '1961', '1962', '1963', '1964', '1965', '1966', '1967', '1968',\n",
    "       '1969', '1970', '1971', '1972', '1973', '1974', '1975', '1976', '1977',\n",
    "       '1978', '1979', '1980', '1981', '1982', '1983', '1984', '1985', '1986',\n",
    "       '1987', '1988', '1989', '1990', '1991', '1992', '1993', '1994', '1995',\n",
    "       '1996', '1997', '1998', '1999', '2000', '2001', '2002', '2003', '2004',\n",
    "       '2005', '2006', '2007', '2008', '2009', '2010', '2011', '2012', '2013',\n",
    "       '2014', '2015', '2016', '2017', '2018']\n",
    "gini_two.loc[:,cols] = gini_two.loc[:,cols].ffill()"
   ]
  },
  {
   "cell_type": "code",
   "execution_count": 60,
   "metadata": {},
   "outputs": [
    {
     "data": {
      "text/html": [
       "<div>\n",
       "<style scoped>\n",
       "    .dataframe tbody tr th:only-of-type {\n",
       "        vertical-align: middle;\n",
       "    }\n",
       "\n",
       "    .dataframe tbody tr th {\n",
       "        vertical-align: top;\n",
       "    }\n",
       "\n",
       "    .dataframe thead th {\n",
       "        text-align: right;\n",
       "    }\n",
       "</style>\n",
       "<table border=\"1\" class=\"dataframe\">\n",
       "  <thead>\n",
       "    <tr style=\"text-align: right;\">\n",
       "      <th></th>\n",
       "      <th>Country Name</th>\n",
       "      <th>Country Code</th>\n",
       "      <th>Indicator Name</th>\n",
       "      <th>Indicator Code</th>\n",
       "      <th>1960</th>\n",
       "      <th>1961</th>\n",
       "      <th>1962</th>\n",
       "      <th>1963</th>\n",
       "      <th>1964</th>\n",
       "      <th>1965</th>\n",
       "      <th>...</th>\n",
       "      <th>2009</th>\n",
       "      <th>2010</th>\n",
       "      <th>2011</th>\n",
       "      <th>2012</th>\n",
       "      <th>2013</th>\n",
       "      <th>2014</th>\n",
       "      <th>2015</th>\n",
       "      <th>2016</th>\n",
       "      <th>2017</th>\n",
       "      <th>2018</th>\n",
       "    </tr>\n",
       "  </thead>\n",
       "  <tbody>\n",
       "    <tr>\n",
       "      <td>0</td>\n",
       "      <td>[\"Aruba\"</td>\n",
       "      <td>ABW</td>\n",
       "      <td>GINI index (World Bank estimate)</td>\n",
       "      <td>SI.POV.GINI</td>\n",
       "      <td>NaN</td>\n",
       "      <td>NaN</td>\n",
       "      <td>NaN</td>\n",
       "      <td>NaN</td>\n",
       "      <td>NaN</td>\n",
       "      <td>NaN</td>\n",
       "      <td>...</td>\n",
       "      <td>NaN</td>\n",
       "      <td>NaN</td>\n",
       "      <td>NaN</td>\n",
       "      <td>NaN</td>\n",
       "      <td>NaN</td>\n",
       "      <td>NaN</td>\n",
       "      <td>NaN</td>\n",
       "      <td>NaN</td>\n",
       "      <td>NaN</td>\n",
       "      <td>NaN</td>\n",
       "    </tr>\n",
       "    <tr>\n",
       "      <td>1</td>\n",
       "      <td>[\"Afghanistan\"</td>\n",
       "      <td>AFG</td>\n",
       "      <td>GINI index (World Bank estimate)</td>\n",
       "      <td>SI.POV.GINI</td>\n",
       "      <td>NaN</td>\n",
       "      <td>NaN</td>\n",
       "      <td>NaN</td>\n",
       "      <td>NaN</td>\n",
       "      <td>NaN</td>\n",
       "      <td>NaN</td>\n",
       "      <td>...</td>\n",
       "      <td>NaN</td>\n",
       "      <td>NaN</td>\n",
       "      <td>NaN</td>\n",
       "      <td>NaN</td>\n",
       "      <td>NaN</td>\n",
       "      <td>NaN</td>\n",
       "      <td>NaN</td>\n",
       "      <td>NaN</td>\n",
       "      <td>NaN</td>\n",
       "      <td>NaN</td>\n",
       "    </tr>\n",
       "    <tr>\n",
       "      <td>2</td>\n",
       "      <td>[\"Angola\"</td>\n",
       "      <td>AGO</td>\n",
       "      <td>GINI index (World Bank estimate)</td>\n",
       "      <td>SI.POV.GINI</td>\n",
       "      <td>NaN</td>\n",
       "      <td>NaN</td>\n",
       "      <td>NaN</td>\n",
       "      <td>NaN</td>\n",
       "      <td>NaN</td>\n",
       "      <td>NaN</td>\n",
       "      <td>...</td>\n",
       "      <td>NaN</td>\n",
       "      <td>NaN</td>\n",
       "      <td>NaN</td>\n",
       "      <td>NaN</td>\n",
       "      <td>NaN</td>\n",
       "      <td>NaN</td>\n",
       "      <td>NaN</td>\n",
       "      <td>NaN</td>\n",
       "      <td>NaN</td>\n",
       "      <td>51.3</td>\n",
       "    </tr>\n",
       "    <tr>\n",
       "      <td>3</td>\n",
       "      <td>[\"Albania\"</td>\n",
       "      <td>ALB</td>\n",
       "      <td>GINI index (World Bank estimate)</td>\n",
       "      <td>SI.POV.GINI</td>\n",
       "      <td>NaN</td>\n",
       "      <td>NaN</td>\n",
       "      <td>NaN</td>\n",
       "      <td>NaN</td>\n",
       "      <td>NaN</td>\n",
       "      <td>NaN</td>\n",
       "      <td>...</td>\n",
       "      <td>NaN</td>\n",
       "      <td>NaN</td>\n",
       "      <td>NaN</td>\n",
       "      <td>29.0</td>\n",
       "      <td>NaN</td>\n",
       "      <td>34.6</td>\n",
       "      <td>32.9</td>\n",
       "      <td>33.7</td>\n",
       "      <td>33.2</td>\n",
       "      <td>51.3</td>\n",
       "    </tr>\n",
       "    <tr>\n",
       "      <td>4</td>\n",
       "      <td>[\"Andorra\"</td>\n",
       "      <td>AND</td>\n",
       "      <td>GINI index (World Bank estimate)</td>\n",
       "      <td>SI.POV.GINI</td>\n",
       "      <td>NaN</td>\n",
       "      <td>NaN</td>\n",
       "      <td>NaN</td>\n",
       "      <td>NaN</td>\n",
       "      <td>NaN</td>\n",
       "      <td>NaN</td>\n",
       "      <td>...</td>\n",
       "      <td>NaN</td>\n",
       "      <td>NaN</td>\n",
       "      <td>NaN</td>\n",
       "      <td>29.0</td>\n",
       "      <td>NaN</td>\n",
       "      <td>34.6</td>\n",
       "      <td>32.9</td>\n",
       "      <td>33.7</td>\n",
       "      <td>33.2</td>\n",
       "      <td>51.3</td>\n",
       "    </tr>\n",
       "    <tr>\n",
       "      <td>...</td>\n",
       "      <td>...</td>\n",
       "      <td>...</td>\n",
       "      <td>...</td>\n",
       "      <td>...</td>\n",
       "      <td>...</td>\n",
       "      <td>...</td>\n",
       "      <td>...</td>\n",
       "      <td>...</td>\n",
       "      <td>...</td>\n",
       "      <td>...</td>\n",
       "      <td>...</td>\n",
       "      <td>...</td>\n",
       "      <td>...</td>\n",
       "      <td>...</td>\n",
       "      <td>...</td>\n",
       "      <td>...</td>\n",
       "      <td>...</td>\n",
       "      <td>...</td>\n",
       "      <td>...</td>\n",
       "      <td>...</td>\n",
       "      <td>...</td>\n",
       "    </tr>\n",
       "    <tr>\n",
       "      <td>259</td>\n",
       "      <td>[\"Kosovo\"</td>\n",
       "      <td>XKX</td>\n",
       "      <td>GINI index (World Bank estimate)</td>\n",
       "      <td>SI.POV.GINI</td>\n",
       "      <td>SI.POV.GINI</td>\n",
       "      <td>NaN</td>\n",
       "      <td>NaN</td>\n",
       "      <td>NaN</td>\n",
       "      <td>NaN</td>\n",
       "      <td>NaN</td>\n",
       "      <td>...</td>\n",
       "      <td>31.8</td>\n",
       "      <td>33.3</td>\n",
       "      <td>27.8</td>\n",
       "      <td>29.0</td>\n",
       "      <td>26.3</td>\n",
       "      <td>27.3</td>\n",
       "      <td>26.5</td>\n",
       "      <td>26.7</td>\n",
       "      <td>29.0</td>\n",
       "      <td>35.7</td>\n",
       "    </tr>\n",
       "    <tr>\n",
       "      <td>260</td>\n",
       "      <td>[\"Yemen</td>\n",
       "      <td>Rep.\"</td>\n",
       "      <td>YEM</td>\n",
       "      <td>GINI index (World Bank estimate)</td>\n",
       "      <td>SI.POV.GINI</td>\n",
       "      <td>NaN</td>\n",
       "      <td>NaN</td>\n",
       "      <td>NaN</td>\n",
       "      <td>NaN</td>\n",
       "      <td>NaN</td>\n",
       "      <td>...</td>\n",
       "      <td>31.8</td>\n",
       "      <td>33.3</td>\n",
       "      <td>27.8</td>\n",
       "      <td>29.0</td>\n",
       "      <td>26.3</td>\n",
       "      <td>27.3</td>\n",
       "      <td>36.7</td>\n",
       "      <td>26.7</td>\n",
       "      <td>29.0</td>\n",
       "      <td>35.7</td>\n",
       "    </tr>\n",
       "    <tr>\n",
       "      <td>261</td>\n",
       "      <td>[\"South Africa\"</td>\n",
       "      <td>ZAF</td>\n",
       "      <td>GINI index (World Bank estimate)</td>\n",
       "      <td>SI.POV.GINI</td>\n",
       "      <td>SI.POV.GINI</td>\n",
       "      <td>NaN</td>\n",
       "      <td>NaN</td>\n",
       "      <td>NaN</td>\n",
       "      <td>NaN</td>\n",
       "      <td>NaN</td>\n",
       "      <td>...</td>\n",
       "      <td>31.8</td>\n",
       "      <td>63.4</td>\n",
       "      <td>27.8</td>\n",
       "      <td>29.0</td>\n",
       "      <td>26.3</td>\n",
       "      <td>63.0</td>\n",
       "      <td>36.7</td>\n",
       "      <td>26.7</td>\n",
       "      <td>29.0</td>\n",
       "      <td>35.7</td>\n",
       "    </tr>\n",
       "    <tr>\n",
       "      <td>262</td>\n",
       "      <td>[\"Zambia\"</td>\n",
       "      <td>ZMB</td>\n",
       "      <td>GINI index (World Bank estimate)</td>\n",
       "      <td>SI.POV.GINI</td>\n",
       "      <td>SI.POV.GINI</td>\n",
       "      <td>NaN</td>\n",
       "      <td>NaN</td>\n",
       "      <td>NaN</td>\n",
       "      <td>NaN</td>\n",
       "      <td>NaN</td>\n",
       "      <td>...</td>\n",
       "      <td>31.8</td>\n",
       "      <td>55.6</td>\n",
       "      <td>27.8</td>\n",
       "      <td>29.0</td>\n",
       "      <td>26.3</td>\n",
       "      <td>63.0</td>\n",
       "      <td>57.1</td>\n",
       "      <td>26.7</td>\n",
       "      <td>29.0</td>\n",
       "      <td>35.7</td>\n",
       "    </tr>\n",
       "    <tr>\n",
       "      <td>263</td>\n",
       "      <td>[\"Zimbabwe\"</td>\n",
       "      <td>ZWE</td>\n",
       "      <td>GINI index (World Bank estimate)</td>\n",
       "      <td>SI.POV.GINI</td>\n",
       "      <td>SI.POV.GINI</td>\n",
       "      <td>NaN</td>\n",
       "      <td>NaN</td>\n",
       "      <td>NaN</td>\n",
       "      <td>NaN</td>\n",
       "      <td>NaN</td>\n",
       "      <td>...</td>\n",
       "      <td>31.8</td>\n",
       "      <td>55.6</td>\n",
       "      <td>43.2</td>\n",
       "      <td>29.0</td>\n",
       "      <td>26.3</td>\n",
       "      <td>63.0</td>\n",
       "      <td>57.1</td>\n",
       "      <td>26.7</td>\n",
       "      <td>44.3</td>\n",
       "      <td>35.7</td>\n",
       "    </tr>\n",
       "  </tbody>\n",
       "</table>\n",
       "<p>264 rows × 63 columns</p>\n",
       "</div>"
      ],
      "text/plain": [
       "        Country Name Country Code                    Indicator Name  \\\n",
       "0           [\"Aruba\"          ABW  GINI index (World Bank estimate)   \n",
       "1     [\"Afghanistan\"          AFG  GINI index (World Bank estimate)   \n",
       "2          [\"Angola\"          AGO  GINI index (World Bank estimate)   \n",
       "3         [\"Albania\"          ALB  GINI index (World Bank estimate)   \n",
       "4         [\"Andorra\"          AND  GINI index (World Bank estimate)   \n",
       "..               ...          ...                               ...   \n",
       "259        [\"Kosovo\"          XKX  GINI index (World Bank estimate)   \n",
       "260          [\"Yemen        Rep.\"                               YEM   \n",
       "261  [\"South Africa\"          ZAF  GINI index (World Bank estimate)   \n",
       "262        [\"Zambia\"          ZMB  GINI index (World Bank estimate)   \n",
       "263      [\"Zimbabwe\"          ZWE  GINI index (World Bank estimate)   \n",
       "\n",
       "                       Indicator Code         1960  1961  1962  1963  1964  \\\n",
       "0                         SI.POV.GINI          NaN   NaN   NaN   NaN   NaN   \n",
       "1                         SI.POV.GINI          NaN   NaN   NaN   NaN   NaN   \n",
       "2                         SI.POV.GINI          NaN   NaN   NaN   NaN   NaN   \n",
       "3                         SI.POV.GINI          NaN   NaN   NaN   NaN   NaN   \n",
       "4                         SI.POV.GINI          NaN   NaN   NaN   NaN   NaN   \n",
       "..                                ...          ...   ...   ...   ...   ...   \n",
       "259                       SI.POV.GINI  SI.POV.GINI   NaN   NaN   NaN   NaN   \n",
       "260  GINI index (World Bank estimate)  SI.POV.GINI   NaN   NaN   NaN   NaN   \n",
       "261                       SI.POV.GINI  SI.POV.GINI   NaN   NaN   NaN   NaN   \n",
       "262                       SI.POV.GINI  SI.POV.GINI   NaN   NaN   NaN   NaN   \n",
       "263                       SI.POV.GINI  SI.POV.GINI   NaN   NaN   NaN   NaN   \n",
       "\n",
       "     1965  ...  2009  2010  2011  2012  2013  2014  2015  2016  2017  2018  \n",
       "0     NaN  ...   NaN   NaN   NaN   NaN   NaN   NaN   NaN   NaN   NaN   NaN  \n",
       "1     NaN  ...   NaN   NaN   NaN   NaN   NaN   NaN   NaN   NaN   NaN   NaN  \n",
       "2     NaN  ...   NaN   NaN   NaN   NaN   NaN   NaN   NaN   NaN   NaN  51.3  \n",
       "3     NaN  ...   NaN   NaN   NaN  29.0   NaN  34.6  32.9  33.7  33.2  51.3  \n",
       "4     NaN  ...   NaN   NaN   NaN  29.0   NaN  34.6  32.9  33.7  33.2  51.3  \n",
       "..    ...  ...   ...   ...   ...   ...   ...   ...   ...   ...   ...   ...  \n",
       "259   NaN  ...  31.8  33.3  27.8  29.0  26.3  27.3  26.5  26.7  29.0  35.7  \n",
       "260   NaN  ...  31.8  33.3  27.8  29.0  26.3  27.3  36.7  26.7  29.0  35.7  \n",
       "261   NaN  ...  31.8  63.4  27.8  29.0  26.3  63.0  36.7  26.7  29.0  35.7  \n",
       "262   NaN  ...  31.8  55.6  27.8  29.0  26.3  63.0  57.1  26.7  29.0  35.7  \n",
       "263   NaN  ...  31.8  55.6  43.2  29.0  26.3  63.0  57.1  26.7  44.3  35.7  \n",
       "\n",
       "[264 rows x 63 columns]"
      ]
     },
     "execution_count": 60,
     "metadata": {},
     "output_type": "execute_result"
    }
   ],
   "source": [
    "gini_two"
   ]
  },
  {
   "cell_type": "code",
   "execution_count": 61,
   "metadata": {},
   "outputs": [
    {
     "data": {
      "text/plain": [
       "count    262.000000\n",
       "mean      38.248092\n",
       "std        8.822150\n",
       "min       23.700000\n",
       "25%       31.500000\n",
       "50%       35.700000\n",
       "75%       45.500000\n",
       "max       63.000000\n",
       "Name: 2008, dtype: float64"
      ]
     },
     "execution_count": 61,
     "metadata": {},
     "output_type": "execute_result"
    }
   ],
   "source": [
    "gini_two['2008'].describe()"
   ]
  },
  {
   "cell_type": "code",
   "execution_count": 62,
   "metadata": {},
   "outputs": [
    {
     "data": {
      "text/plain": [
       "2"
      ]
     },
     "execution_count": 62,
     "metadata": {},
     "output_type": "execute_result"
    }
   ],
   "source": [
    "gini_two['2008'].isnull().sum()\n",
    "# There are only nans, so I feel comfortable filling them with the median"
   ]
  },
  {
   "cell_type": "code",
   "execution_count": 63,
   "metadata": {},
   "outputs": [],
   "source": [
    "gini_two['2008'].fillna((gini_two['2008'].median()), inplace=True)"
   ]
  },
  {
   "cell_type": "code",
   "execution_count": 64,
   "metadata": {},
   "outputs": [
    {
     "data": {
      "text/plain": [
       "0"
      ]
     },
     "execution_count": 64,
     "metadata": {},
     "output_type": "execute_result"
    }
   ],
   "source": [
    "gini_two['2008'].isnull().sum()"
   ]
  },
  {
   "cell_type": "code",
   "execution_count": 65,
   "metadata": {},
   "outputs": [],
   "source": [
    "# dropping all other rows except 2008\n",
    "gini_final = gini_two.drop(['Indicator Name', 'Indicator Code',\n",
    "       '1960', '1961', '1962', '1963', '1964', '1965', '1966', '1967', '1968',\n",
    "       '1969', '1970', '1971', '1972', '1973', '1974', '1975', '1976', '1977',\n",
    "       '1978', '1979', '1980', '1981', '1982', '1983', '1984', '1985', '1986',\n",
    "       '1987', '1988', '1989', '1990', '1991', '1992', '1993', '1994', '1995',\n",
    "       '1996', '1997', '1998', '1999', '2000', '2001', '2002', '2003', '2004',\n",
    "       '2005', '2006', '2007', '2009', '2010', '2011', '2012', '2013',\n",
    "       '2014', '2015', '2016', '2017', '2018'], axis=1)"
   ]
  },
  {
   "cell_type": "code",
   "execution_count": 66,
   "metadata": {},
   "outputs": [
    {
     "data": {
      "text/html": [
       "<div>\n",
       "<style scoped>\n",
       "    .dataframe tbody tr th:only-of-type {\n",
       "        vertical-align: middle;\n",
       "    }\n",
       "\n",
       "    .dataframe tbody tr th {\n",
       "        vertical-align: top;\n",
       "    }\n",
       "\n",
       "    .dataframe thead th {\n",
       "        text-align: right;\n",
       "    }\n",
       "</style>\n",
       "<table border=\"1\" class=\"dataframe\">\n",
       "  <thead>\n",
       "    <tr style=\"text-align: right;\">\n",
       "      <th></th>\n",
       "      <th>Country Name</th>\n",
       "      <th>Country Code</th>\n",
       "      <th>2008</th>\n",
       "    </tr>\n",
       "  </thead>\n",
       "  <tbody>\n",
       "    <tr>\n",
       "      <td>0</td>\n",
       "      <td>[\"Aruba\"</td>\n",
       "      <td>ABW</td>\n",
       "      <td>35.7</td>\n",
       "    </tr>\n",
       "    <tr>\n",
       "      <td>1</td>\n",
       "      <td>[\"Afghanistan\"</td>\n",
       "      <td>AFG</td>\n",
       "      <td>35.7</td>\n",
       "    </tr>\n",
       "    <tr>\n",
       "      <td>2</td>\n",
       "      <td>[\"Angola\"</td>\n",
       "      <td>AGO</td>\n",
       "      <td>42.7</td>\n",
       "    </tr>\n",
       "    <tr>\n",
       "      <td>3</td>\n",
       "      <td>[\"Albania\"</td>\n",
       "      <td>ALB</td>\n",
       "      <td>30.0</td>\n",
       "    </tr>\n",
       "    <tr>\n",
       "      <td>4</td>\n",
       "      <td>[\"Andorra\"</td>\n",
       "      <td>AND</td>\n",
       "      <td>30.0</td>\n",
       "    </tr>\n",
       "    <tr>\n",
       "      <td>...</td>\n",
       "      <td>...</td>\n",
       "      <td>...</td>\n",
       "      <td>...</td>\n",
       "    </tr>\n",
       "    <tr>\n",
       "      <td>259</td>\n",
       "      <td>[\"Kosovo\"</td>\n",
       "      <td>XKX</td>\n",
       "      <td>42.0</td>\n",
       "    </tr>\n",
       "    <tr>\n",
       "      <td>260</td>\n",
       "      <td>[\"Yemen</td>\n",
       "      <td>Rep.\"</td>\n",
       "      <td>42.0</td>\n",
       "    </tr>\n",
       "    <tr>\n",
       "      <td>261</td>\n",
       "      <td>[\"South Africa\"</td>\n",
       "      <td>ZAF</td>\n",
       "      <td>63.0</td>\n",
       "    </tr>\n",
       "    <tr>\n",
       "      <td>262</td>\n",
       "      <td>[\"Zambia\"</td>\n",
       "      <td>ZMB</td>\n",
       "      <td>63.0</td>\n",
       "    </tr>\n",
       "    <tr>\n",
       "      <td>263</td>\n",
       "      <td>[\"Zimbabwe\"</td>\n",
       "      <td>ZWE</td>\n",
       "      <td>63.0</td>\n",
       "    </tr>\n",
       "  </tbody>\n",
       "</table>\n",
       "<p>264 rows × 3 columns</p>\n",
       "</div>"
      ],
      "text/plain": [
       "        Country Name Country Code  2008\n",
       "0           [\"Aruba\"          ABW  35.7\n",
       "1     [\"Afghanistan\"          AFG  35.7\n",
       "2          [\"Angola\"          AGO  42.7\n",
       "3         [\"Albania\"          ALB  30.0\n",
       "4         [\"Andorra\"          AND  30.0\n",
       "..               ...          ...   ...\n",
       "259        [\"Kosovo\"          XKX  42.0\n",
       "260          [\"Yemen        Rep.\"  42.0\n",
       "261  [\"South Africa\"          ZAF  63.0\n",
       "262        [\"Zambia\"          ZMB  63.0\n",
       "263      [\"Zimbabwe\"          ZWE  63.0\n",
       "\n",
       "[264 rows x 3 columns]"
      ]
     },
     "execution_count": 66,
     "metadata": {},
     "output_type": "execute_result"
    }
   ],
   "source": [
    "gini_final"
   ]
  },
  {
   "cell_type": "code",
   "execution_count": 67,
   "metadata": {},
   "outputs": [],
   "source": [
    "# taking off the quotes and brackets from the country name column\n",
    "gini_final['Country Name'] = gini_final['Country Name'].str.replace('\"', '')"
   ]
  },
  {
   "cell_type": "code",
   "execution_count": 68,
   "metadata": {},
   "outputs": [],
   "source": [
    "gini_final['Country Name'] = gini_final['Country Name'].str.replace('[', '')"
   ]
  },
  {
   "cell_type": "code",
   "execution_count": 69,
   "metadata": {},
   "outputs": [
    {
     "data": {
      "text/html": [
       "<div>\n",
       "<style scoped>\n",
       "    .dataframe tbody tr th:only-of-type {\n",
       "        vertical-align: middle;\n",
       "    }\n",
       "\n",
       "    .dataframe tbody tr th {\n",
       "        vertical-align: top;\n",
       "    }\n",
       "\n",
       "    .dataframe thead th {\n",
       "        text-align: right;\n",
       "    }\n",
       "</style>\n",
       "<table border=\"1\" class=\"dataframe\">\n",
       "  <thead>\n",
       "    <tr style=\"text-align: right;\">\n",
       "      <th></th>\n",
       "      <th>Country Name</th>\n",
       "      <th>Country Code</th>\n",
       "      <th>2008</th>\n",
       "    </tr>\n",
       "  </thead>\n",
       "  <tbody>\n",
       "    <tr>\n",
       "      <td>0</td>\n",
       "      <td>Aruba</td>\n",
       "      <td>ABW</td>\n",
       "      <td>35.7</td>\n",
       "    </tr>\n",
       "    <tr>\n",
       "      <td>1</td>\n",
       "      <td>Afghanistan</td>\n",
       "      <td>AFG</td>\n",
       "      <td>35.7</td>\n",
       "    </tr>\n",
       "    <tr>\n",
       "      <td>2</td>\n",
       "      <td>Angola</td>\n",
       "      <td>AGO</td>\n",
       "      <td>42.7</td>\n",
       "    </tr>\n",
       "    <tr>\n",
       "      <td>3</td>\n",
       "      <td>Albania</td>\n",
       "      <td>ALB</td>\n",
       "      <td>30.0</td>\n",
       "    </tr>\n",
       "    <tr>\n",
       "      <td>4</td>\n",
       "      <td>Andorra</td>\n",
       "      <td>AND</td>\n",
       "      <td>30.0</td>\n",
       "    </tr>\n",
       "    <tr>\n",
       "      <td>...</td>\n",
       "      <td>...</td>\n",
       "      <td>...</td>\n",
       "      <td>...</td>\n",
       "    </tr>\n",
       "    <tr>\n",
       "      <td>259</td>\n",
       "      <td>Kosovo</td>\n",
       "      <td>XKX</td>\n",
       "      <td>42.0</td>\n",
       "    </tr>\n",
       "    <tr>\n",
       "      <td>260</td>\n",
       "      <td>Yemen</td>\n",
       "      <td>Rep.\"</td>\n",
       "      <td>42.0</td>\n",
       "    </tr>\n",
       "    <tr>\n",
       "      <td>261</td>\n",
       "      <td>South Africa</td>\n",
       "      <td>ZAF</td>\n",
       "      <td>63.0</td>\n",
       "    </tr>\n",
       "    <tr>\n",
       "      <td>262</td>\n",
       "      <td>Zambia</td>\n",
       "      <td>ZMB</td>\n",
       "      <td>63.0</td>\n",
       "    </tr>\n",
       "    <tr>\n",
       "      <td>263</td>\n",
       "      <td>Zimbabwe</td>\n",
       "      <td>ZWE</td>\n",
       "      <td>63.0</td>\n",
       "    </tr>\n",
       "  </tbody>\n",
       "</table>\n",
       "<p>264 rows × 3 columns</p>\n",
       "</div>"
      ],
      "text/plain": [
       "     Country Name Country Code  2008\n",
       "0           Aruba          ABW  35.7\n",
       "1     Afghanistan          AFG  35.7\n",
       "2          Angola          AGO  42.7\n",
       "3         Albania          ALB  30.0\n",
       "4         Andorra          AND  30.0\n",
       "..            ...          ...   ...\n",
       "259        Kosovo          XKX  42.0\n",
       "260         Yemen        Rep.\"  42.0\n",
       "261  South Africa          ZAF  63.0\n",
       "262        Zambia          ZMB  63.0\n",
       "263      Zimbabwe          ZWE  63.0\n",
       "\n",
       "[264 rows x 3 columns]"
      ]
     },
     "execution_count": 69,
     "metadata": {},
     "output_type": "execute_result"
    }
   ],
   "source": [
    "gini_final"
   ]
  },
  {
   "cell_type": "markdown",
   "metadata": {},
   "source": [
    "## Merging Gini and year"
   ]
  },
  {
   "cell_type": "code",
   "execution_count": 70,
   "metadata": {},
   "outputs": [],
   "source": [
    "gini_third = gini_final.rename({'Country Code': 'country'}, axis=1)"
   ]
  },
  {
   "cell_type": "code",
   "execution_count": 71,
   "metadata": {},
   "outputs": [],
   "source": [
    "second_year = year.rename({'Country Code': 'country'}, axis=1)"
   ]
  },
  {
   "cell_type": "code",
   "execution_count": 72,
   "metadata": {},
   "outputs": [
    {
     "data": {
      "text/html": [
       "<div>\n",
       "<style scoped>\n",
       "    .dataframe tbody tr th:only-of-type {\n",
       "        vertical-align: middle;\n",
       "    }\n",
       "\n",
       "    .dataframe tbody tr th {\n",
       "        vertical-align: top;\n",
       "    }\n",
       "\n",
       "    .dataframe thead th {\n",
       "        text-align: right;\n",
       "    }\n",
       "</style>\n",
       "<table border=\"1\" class=\"dataframe\">\n",
       "  <thead>\n",
       "    <tr style=\"text-align: right;\">\n",
       "      <th></th>\n",
       "      <th>Country Name_x</th>\n",
       "      <th>country</th>\n",
       "      <th>Indicator Name</th>\n",
       "      <th>Indicator Code</th>\n",
       "      <th>2008_x</th>\n",
       "      <th>Country Name_y</th>\n",
       "      <th>2008_y</th>\n",
       "    </tr>\n",
       "  </thead>\n",
       "  <tbody>\n",
       "    <tr>\n",
       "      <td>0</td>\n",
       "      <td>Aruba</td>\n",
       "      <td>ABW</td>\n",
       "      <td>Population, total</td>\n",
       "      <td>SP.POP.TOTL</td>\n",
       "      <td>101358.0</td>\n",
       "      <td>Aruba</td>\n",
       "      <td>35.7</td>\n",
       "    </tr>\n",
       "    <tr>\n",
       "      <td>1</td>\n",
       "      <td>Afghanistan</td>\n",
       "      <td>AFG</td>\n",
       "      <td>Population, total</td>\n",
       "      <td>SP.POP.TOTL</td>\n",
       "      <td>27722276.0</td>\n",
       "      <td>Afghanistan</td>\n",
       "      <td>35.7</td>\n",
       "    </tr>\n",
       "    <tr>\n",
       "      <td>2</td>\n",
       "      <td>Angola</td>\n",
       "      <td>AGO</td>\n",
       "      <td>Population, total</td>\n",
       "      <td>SP.POP.TOTL</td>\n",
       "      <td>21695634.0</td>\n",
       "      <td>Angola</td>\n",
       "      <td>42.7</td>\n",
       "    </tr>\n",
       "    <tr>\n",
       "      <td>3</td>\n",
       "      <td>Albania</td>\n",
       "      <td>ALB</td>\n",
       "      <td>Population, total</td>\n",
       "      <td>SP.POP.TOTL</td>\n",
       "      <td>2947314.0</td>\n",
       "      <td>Albania</td>\n",
       "      <td>30.0</td>\n",
       "    </tr>\n",
       "    <tr>\n",
       "      <td>4</td>\n",
       "      <td>Andorra</td>\n",
       "      <td>AND</td>\n",
       "      <td>Population, total</td>\n",
       "      <td>SP.POP.TOTL</td>\n",
       "      <td>83862.0</td>\n",
       "      <td>Andorra</td>\n",
       "      <td>30.0</td>\n",
       "    </tr>\n",
       "    <tr>\n",
       "      <td>...</td>\n",
       "      <td>...</td>\n",
       "      <td>...</td>\n",
       "      <td>...</td>\n",
       "      <td>...</td>\n",
       "      <td>...</td>\n",
       "      <td>...</td>\n",
       "      <td>...</td>\n",
       "    </tr>\n",
       "    <tr>\n",
       "      <td>269</td>\n",
       "      <td>Samoa</td>\n",
       "      <td>WSM</td>\n",
       "      <td>Population, total</td>\n",
       "      <td>SP.POP.TOTL</td>\n",
       "      <td>183263.0</td>\n",
       "      <td>Samoa</td>\n",
       "      <td>42.0</td>\n",
       "    </tr>\n",
       "    <tr>\n",
       "      <td>270</td>\n",
       "      <td>Kosovo</td>\n",
       "      <td>XKX</td>\n",
       "      <td>Population, total</td>\n",
       "      <td>SP.POP.TOTL</td>\n",
       "      <td>1747383.0</td>\n",
       "      <td>Kosovo</td>\n",
       "      <td>42.0</td>\n",
       "    </tr>\n",
       "    <tr>\n",
       "      <td>271</td>\n",
       "      <td>South Africa</td>\n",
       "      <td>ZAF</td>\n",
       "      <td>Population, total</td>\n",
       "      <td>SP.POP.TOTL</td>\n",
       "      <td>49779471.0</td>\n",
       "      <td>South Africa</td>\n",
       "      <td>63.0</td>\n",
       "    </tr>\n",
       "    <tr>\n",
       "      <td>272</td>\n",
       "      <td>Zambia</td>\n",
       "      <td>ZMB</td>\n",
       "      <td>Population, total</td>\n",
       "      <td>SP.POP.TOTL</td>\n",
       "      <td>12848530.0</td>\n",
       "      <td>Zambia</td>\n",
       "      <td>63.0</td>\n",
       "    </tr>\n",
       "    <tr>\n",
       "      <td>273</td>\n",
       "      <td>Zimbabwe</td>\n",
       "      <td>ZWE</td>\n",
       "      <td>Population, total</td>\n",
       "      <td>SP.POP.TOTL</td>\n",
       "      <td>12379549.0</td>\n",
       "      <td>Zimbabwe</td>\n",
       "      <td>63.0</td>\n",
       "    </tr>\n",
       "  </tbody>\n",
       "</table>\n",
       "<p>274 rows × 7 columns</p>\n",
       "</div>"
      ],
      "text/plain": [
       "    Country Name_x country     Indicator Name Indicator Code      2008_x  \\\n",
       "0            Aruba     ABW  Population, total    SP.POP.TOTL    101358.0   \n",
       "1      Afghanistan     AFG  Population, total    SP.POP.TOTL  27722276.0   \n",
       "2           Angola     AGO  Population, total    SP.POP.TOTL  21695634.0   \n",
       "3          Albania     ALB  Population, total    SP.POP.TOTL   2947314.0   \n",
       "4          Andorra     AND  Population, total    SP.POP.TOTL     83862.0   \n",
       "..             ...     ...                ...            ...         ...   \n",
       "269          Samoa     WSM  Population, total    SP.POP.TOTL    183263.0   \n",
       "270         Kosovo     XKX  Population, total    SP.POP.TOTL   1747383.0   \n",
       "271   South Africa     ZAF  Population, total    SP.POP.TOTL  49779471.0   \n",
       "272         Zambia     ZMB  Population, total    SP.POP.TOTL  12848530.0   \n",
       "273       Zimbabwe     ZWE  Population, total    SP.POP.TOTL  12379549.0   \n",
       "\n",
       "    Country Name_y  2008_y  \n",
       "0            Aruba    35.7  \n",
       "1      Afghanistan    35.7  \n",
       "2           Angola    42.7  \n",
       "3          Albania    30.0  \n",
       "4          Andorra    30.0  \n",
       "..             ...     ...  \n",
       "269          Samoa    42.0  \n",
       "270         Kosovo    42.0  \n",
       "271   South Africa    63.0  \n",
       "272         Zambia    63.0  \n",
       "273       Zimbabwe    63.0  \n",
       "\n",
       "[274 rows x 7 columns]"
      ]
     },
     "execution_count": 72,
     "metadata": {},
     "output_type": "execute_result"
    }
   ],
   "source": [
    "gini_year = pd.merge(second_year, gini_third, on='country', how='inner')\n",
    "gini_year"
   ]
  },
  {
   "cell_type": "code",
   "execution_count": 73,
   "metadata": {},
   "outputs": [
    {
     "data": {
      "text/plain": [
       "Country Name_x    0\n",
       "country           0\n",
       "Indicator Name    0\n",
       "Indicator Code    0\n",
       "2008_x            0\n",
       "Country Name_y    0\n",
       "2008_y            0\n",
       "dtype: int64"
      ]
     },
     "execution_count": 73,
     "metadata": {},
     "output_type": "execute_result"
    }
   ],
   "source": [
    "gini_year.isnull().sum()"
   ]
  },
  {
   "cell_type": "code",
   "execution_count": 74,
   "metadata": {},
   "outputs": [],
   "source": [
    "gini_second = gini_year.rename({('Country Name_x'): 'Country Name'}, axis=1)"
   ]
  },
  {
   "cell_type": "code",
   "execution_count": 75,
   "metadata": {},
   "outputs": [],
   "source": [
    "gini_third = gini_second.rename({('2008_x'): 'Total_Population'}, axis=1)"
   ]
  },
  {
   "cell_type": "code",
   "execution_count": 76,
   "metadata": {},
   "outputs": [],
   "source": [
    "gini_fourth = gini_third.rename({('2008_y'): 'Gini Index'}, axis=1)"
   ]
  },
  {
   "cell_type": "code",
   "execution_count": 77,
   "metadata": {},
   "outputs": [],
   "source": [
    "gini_fifth = gini_fourth.drop(['Country Name_y', 'Indicator Name', 'Indicator Code'], axis=1)"
   ]
  },
  {
   "cell_type": "code",
   "execution_count": 78,
   "metadata": {},
   "outputs": [
    {
     "data": {
      "text/plain": [
       "(274, 4)"
      ]
     },
     "execution_count": 78,
     "metadata": {},
     "output_type": "execute_result"
    }
   ],
   "source": [
    "gini_fifth.shape"
   ]
  },
  {
   "cell_type": "code",
   "execution_count": 79,
   "metadata": {},
   "outputs": [
    {
     "data": {
      "text/html": [
       "<div>\n",
       "<style scoped>\n",
       "    .dataframe tbody tr th:only-of-type {\n",
       "        vertical-align: middle;\n",
       "    }\n",
       "\n",
       "    .dataframe tbody tr th {\n",
       "        vertical-align: top;\n",
       "    }\n",
       "\n",
       "    .dataframe thead th {\n",
       "        text-align: right;\n",
       "    }\n",
       "</style>\n",
       "<table border=\"1\" class=\"dataframe\">\n",
       "  <thead>\n",
       "    <tr style=\"text-align: right;\">\n",
       "      <th></th>\n",
       "      <th>Country Name</th>\n",
       "      <th>country</th>\n",
       "      <th>Total_Population</th>\n",
       "      <th>Gini Index</th>\n",
       "    </tr>\n",
       "  </thead>\n",
       "  <tbody>\n",
       "    <tr>\n",
       "      <td>0</td>\n",
       "      <td>Aruba</td>\n",
       "      <td>ABW</td>\n",
       "      <td>101358.0</td>\n",
       "      <td>35.7</td>\n",
       "    </tr>\n",
       "    <tr>\n",
       "      <td>1</td>\n",
       "      <td>Afghanistan</td>\n",
       "      <td>AFG</td>\n",
       "      <td>27722276.0</td>\n",
       "      <td>35.7</td>\n",
       "    </tr>\n",
       "    <tr>\n",
       "      <td>2</td>\n",
       "      <td>Angola</td>\n",
       "      <td>AGO</td>\n",
       "      <td>21695634.0</td>\n",
       "      <td>42.7</td>\n",
       "    </tr>\n",
       "    <tr>\n",
       "      <td>3</td>\n",
       "      <td>Albania</td>\n",
       "      <td>ALB</td>\n",
       "      <td>2947314.0</td>\n",
       "      <td>30.0</td>\n",
       "    </tr>\n",
       "    <tr>\n",
       "      <td>4</td>\n",
       "      <td>Andorra</td>\n",
       "      <td>AND</td>\n",
       "      <td>83862.0</td>\n",
       "      <td>30.0</td>\n",
       "    </tr>\n",
       "    <tr>\n",
       "      <td>...</td>\n",
       "      <td>...</td>\n",
       "      <td>...</td>\n",
       "      <td>...</td>\n",
       "      <td>...</td>\n",
       "    </tr>\n",
       "    <tr>\n",
       "      <td>269</td>\n",
       "      <td>Samoa</td>\n",
       "      <td>WSM</td>\n",
       "      <td>183263.0</td>\n",
       "      <td>42.0</td>\n",
       "    </tr>\n",
       "    <tr>\n",
       "      <td>270</td>\n",
       "      <td>Kosovo</td>\n",
       "      <td>XKX</td>\n",
       "      <td>1747383.0</td>\n",
       "      <td>42.0</td>\n",
       "    </tr>\n",
       "    <tr>\n",
       "      <td>271</td>\n",
       "      <td>South Africa</td>\n",
       "      <td>ZAF</td>\n",
       "      <td>49779471.0</td>\n",
       "      <td>63.0</td>\n",
       "    </tr>\n",
       "    <tr>\n",
       "      <td>272</td>\n",
       "      <td>Zambia</td>\n",
       "      <td>ZMB</td>\n",
       "      <td>12848530.0</td>\n",
       "      <td>63.0</td>\n",
       "    </tr>\n",
       "    <tr>\n",
       "      <td>273</td>\n",
       "      <td>Zimbabwe</td>\n",
       "      <td>ZWE</td>\n",
       "      <td>12379549.0</td>\n",
       "      <td>63.0</td>\n",
       "    </tr>\n",
       "  </tbody>\n",
       "</table>\n",
       "<p>274 rows × 4 columns</p>\n",
       "</div>"
      ],
      "text/plain": [
       "     Country Name country  Total_Population  Gini Index\n",
       "0           Aruba     ABW          101358.0        35.7\n",
       "1     Afghanistan     AFG        27722276.0        35.7\n",
       "2          Angola     AGO        21695634.0        42.7\n",
       "3         Albania     ALB         2947314.0        30.0\n",
       "4         Andorra     AND           83862.0        30.0\n",
       "..            ...     ...               ...         ...\n",
       "269         Samoa     WSM          183263.0        42.0\n",
       "270        Kosovo     XKX         1747383.0        42.0\n",
       "271  South Africa     ZAF        49779471.0        63.0\n",
       "272        Zambia     ZMB        12848530.0        63.0\n",
       "273      Zimbabwe     ZWE        12379549.0        63.0\n",
       "\n",
       "[274 rows x 4 columns]"
      ]
     },
     "execution_count": 79,
     "metadata": {},
     "output_type": "execute_result"
    }
   ],
   "source": [
    "gini_fifth\n",
    "\n",
    "# In order to predict income, these explanatory variables are needed\n",
    "# country\n",
    "# average income in the country\n",
    "# gini index of the country\n",
    "# the individual parents income class "
   ]
  },
  {
   "cell_type": "markdown",
   "metadata": {},
   "source": [
    "## Making a master dataset"
   ]
  },
  {
   "cell_type": "code",
   "execution_count": 80,
   "metadata": {},
   "outputs": [],
   "source": [
    "country_one = gini_fifth['country']"
   ]
  },
  {
   "cell_type": "code",
   "execution_count": 81,
   "metadata": {},
   "outputs": [],
   "source": [
    "country_two = income['country']"
   ]
  },
  {
   "cell_type": "code",
   "execution_count": 82,
   "metadata": {},
   "outputs": [
    {
     "data": {
      "text/html": [
       "<div>\n",
       "<style scoped>\n",
       "    .dataframe tbody tr th:only-of-type {\n",
       "        vertical-align: middle;\n",
       "    }\n",
       "\n",
       "    .dataframe tbody tr th {\n",
       "        vertical-align: top;\n",
       "    }\n",
       "\n",
       "    .dataframe thead th {\n",
       "        text-align: right;\n",
       "    }\n",
       "</style>\n",
       "<table border=\"1\" class=\"dataframe\">\n",
       "  <thead>\n",
       "    <tr style=\"text-align: right;\">\n",
       "      <th></th>\n",
       "      <th>country</th>\n",
       "    </tr>\n",
       "  </thead>\n",
       "  <tbody>\n",
       "    <tr>\n",
       "      <td>0</td>\n",
       "      <td>ALB</td>\n",
       "    </tr>\n",
       "    <tr>\n",
       "      <td>1</td>\n",
       "      <td>ALB</td>\n",
       "    </tr>\n",
       "    <tr>\n",
       "      <td>2</td>\n",
       "      <td>ALB</td>\n",
       "    </tr>\n",
       "    <tr>\n",
       "      <td>3</td>\n",
       "      <td>ALB</td>\n",
       "    </tr>\n",
       "    <tr>\n",
       "      <td>4</td>\n",
       "      <td>ALB</td>\n",
       "    </tr>\n",
       "    <tr>\n",
       "      <td>...</td>\n",
       "      <td>...</td>\n",
       "    </tr>\n",
       "    <tr>\n",
       "      <td>11594</td>\n",
       "      <td>COD</td>\n",
       "    </tr>\n",
       "    <tr>\n",
       "      <td>11595</td>\n",
       "      <td>COD</td>\n",
       "    </tr>\n",
       "    <tr>\n",
       "      <td>11596</td>\n",
       "      <td>COD</td>\n",
       "    </tr>\n",
       "    <tr>\n",
       "      <td>11597</td>\n",
       "      <td>COD</td>\n",
       "    </tr>\n",
       "    <tr>\n",
       "      <td>11598</td>\n",
       "      <td>COD</td>\n",
       "    </tr>\n",
       "  </tbody>\n",
       "</table>\n",
       "<p>11599 rows × 1 columns</p>\n",
       "</div>"
      ],
      "text/plain": [
       "      country\n",
       "0         ALB\n",
       "1         ALB\n",
       "2         ALB\n",
       "3         ALB\n",
       "4         ALB\n",
       "...       ...\n",
       "11594     COD\n",
       "11595     COD\n",
       "11596     COD\n",
       "11597     COD\n",
       "11598     COD\n",
       "\n",
       "[11599 rows x 1 columns]"
      ]
     },
     "execution_count": 82,
     "metadata": {},
     "output_type": "execute_result"
    }
   ],
   "source": [
    "country_check = pd.merge(country_one, country_two, on='country', how='right')\n",
    "country_check\n",
    "# appears to be ok as a foreign key"
   ]
  },
  {
   "cell_type": "code",
   "execution_count": 83,
   "metadata": {
    "scrolled": true
   },
   "outputs": [
    {
     "data": {
      "text/html": [
       "<div>\n",
       "<style scoped>\n",
       "    .dataframe tbody tr th:only-of-type {\n",
       "        vertical-align: middle;\n",
       "    }\n",
       "\n",
       "    .dataframe tbody tr th {\n",
       "        vertical-align: top;\n",
       "    }\n",
       "\n",
       "    .dataframe thead th {\n",
       "        text-align: right;\n",
       "    }\n",
       "</style>\n",
       "<table border=\"1\" class=\"dataframe\">\n",
       "  <thead>\n",
       "    <tr style=\"text-align: right;\">\n",
       "      <th></th>\n",
       "      <th>Country Name</th>\n",
       "      <th>country</th>\n",
       "      <th>Total_Population</th>\n",
       "      <th>Gini Index</th>\n",
       "      <th>year_survey</th>\n",
       "      <th>quantile</th>\n",
       "      <th>nb_quantiles</th>\n",
       "      <th>income</th>\n",
       "      <th>gdpppp</th>\n",
       "    </tr>\n",
       "  </thead>\n",
       "  <tbody>\n",
       "    <tr>\n",
       "      <td>0</td>\n",
       "      <td>Albania</td>\n",
       "      <td>ALB</td>\n",
       "      <td>2947314.0</td>\n",
       "      <td>30.0</td>\n",
       "      <td>2008</td>\n",
       "      <td>1</td>\n",
       "      <td>100</td>\n",
       "      <td>728.89795</td>\n",
       "      <td>7297.0</td>\n",
       "    </tr>\n",
       "    <tr>\n",
       "      <td>1</td>\n",
       "      <td>Albania</td>\n",
       "      <td>ALB</td>\n",
       "      <td>2947314.0</td>\n",
       "      <td>30.0</td>\n",
       "      <td>2008</td>\n",
       "      <td>2</td>\n",
       "      <td>100</td>\n",
       "      <td>916.66235</td>\n",
       "      <td>7297.0</td>\n",
       "    </tr>\n",
       "    <tr>\n",
       "      <td>2</td>\n",
       "      <td>Albania</td>\n",
       "      <td>ALB</td>\n",
       "      <td>2947314.0</td>\n",
       "      <td>30.0</td>\n",
       "      <td>2008</td>\n",
       "      <td>3</td>\n",
       "      <td>100</td>\n",
       "      <td>1010.91600</td>\n",
       "      <td>7297.0</td>\n",
       "    </tr>\n",
       "    <tr>\n",
       "      <td>3</td>\n",
       "      <td>Albania</td>\n",
       "      <td>ALB</td>\n",
       "      <td>2947314.0</td>\n",
       "      <td>30.0</td>\n",
       "      <td>2008</td>\n",
       "      <td>4</td>\n",
       "      <td>100</td>\n",
       "      <td>1086.90780</td>\n",
       "      <td>7297.0</td>\n",
       "    </tr>\n",
       "    <tr>\n",
       "      <td>4</td>\n",
       "      <td>Albania</td>\n",
       "      <td>ALB</td>\n",
       "      <td>2947314.0</td>\n",
       "      <td>30.0</td>\n",
       "      <td>2008</td>\n",
       "      <td>5</td>\n",
       "      <td>100</td>\n",
       "      <td>1132.69970</td>\n",
       "      <td>7297.0</td>\n",
       "    </tr>\n",
       "    <tr>\n",
       "      <td>...</td>\n",
       "      <td>...</td>\n",
       "      <td>...</td>\n",
       "      <td>...</td>\n",
       "      <td>...</td>\n",
       "      <td>...</td>\n",
       "      <td>...</td>\n",
       "      <td>...</td>\n",
       "      <td>...</td>\n",
       "      <td>...</td>\n",
       "    </tr>\n",
       "    <tr>\n",
       "      <td>11594</td>\n",
       "      <td>NaN</td>\n",
       "      <td>COD</td>\n",
       "      <td>NaN</td>\n",
       "      <td>NaN</td>\n",
       "      <td>2008</td>\n",
       "      <td>96</td>\n",
       "      <td>100</td>\n",
       "      <td>810.62330</td>\n",
       "      <td>30319305.0</td>\n",
       "    </tr>\n",
       "    <tr>\n",
       "      <td>11595</td>\n",
       "      <td>NaN</td>\n",
       "      <td>COD</td>\n",
       "      <td>NaN</td>\n",
       "      <td>NaN</td>\n",
       "      <td>2008</td>\n",
       "      <td>97</td>\n",
       "      <td>100</td>\n",
       "      <td>911.78340</td>\n",
       "      <td>30319305.0</td>\n",
       "    </tr>\n",
       "    <tr>\n",
       "      <td>11596</td>\n",
       "      <td>NaN</td>\n",
       "      <td>COD</td>\n",
       "      <td>NaN</td>\n",
       "      <td>NaN</td>\n",
       "      <td>2008</td>\n",
       "      <td>98</td>\n",
       "      <td>100</td>\n",
       "      <td>1057.80740</td>\n",
       "      <td>30319305.0</td>\n",
       "    </tr>\n",
       "    <tr>\n",
       "      <td>11597</td>\n",
       "      <td>NaN</td>\n",
       "      <td>COD</td>\n",
       "      <td>NaN</td>\n",
       "      <td>NaN</td>\n",
       "      <td>2008</td>\n",
       "      <td>99</td>\n",
       "      <td>100</td>\n",
       "      <td>1286.60290</td>\n",
       "      <td>30319305.0</td>\n",
       "    </tr>\n",
       "    <tr>\n",
       "      <td>11598</td>\n",
       "      <td>NaN</td>\n",
       "      <td>COD</td>\n",
       "      <td>NaN</td>\n",
       "      <td>NaN</td>\n",
       "      <td>2008</td>\n",
       "      <td>100</td>\n",
       "      <td>100</td>\n",
       "      <td>2243.12260</td>\n",
       "      <td>30319305.0</td>\n",
       "    </tr>\n",
       "  </tbody>\n",
       "</table>\n",
       "<p>11599 rows × 9 columns</p>\n",
       "</div>"
      ],
      "text/plain": [
       "      Country Name country  Total_Population  Gini Index  year_survey  \\\n",
       "0          Albania     ALB         2947314.0        30.0         2008   \n",
       "1          Albania     ALB         2947314.0        30.0         2008   \n",
       "2          Albania     ALB         2947314.0        30.0         2008   \n",
       "3          Albania     ALB         2947314.0        30.0         2008   \n",
       "4          Albania     ALB         2947314.0        30.0         2008   \n",
       "...            ...     ...               ...         ...          ...   \n",
       "11594          NaN     COD               NaN         NaN         2008   \n",
       "11595          NaN     COD               NaN         NaN         2008   \n",
       "11596          NaN     COD               NaN         NaN         2008   \n",
       "11597          NaN     COD               NaN         NaN         2008   \n",
       "11598          NaN     COD               NaN         NaN         2008   \n",
       "\n",
       "       quantile  nb_quantiles      income      gdpppp  \n",
       "0             1           100   728.89795      7297.0  \n",
       "1             2           100   916.66235      7297.0  \n",
       "2             3           100  1010.91600      7297.0  \n",
       "3             4           100  1086.90780      7297.0  \n",
       "4             5           100  1132.69970      7297.0  \n",
       "...         ...           ...         ...         ...  \n",
       "11594        96           100   810.62330  30319305.0  \n",
       "11595        97           100   911.78340  30319305.0  \n",
       "11596        98           100  1057.80740  30319305.0  \n",
       "11597        99           100  1286.60290  30319305.0  \n",
       "11598       100           100  2243.12260  30319305.0  \n",
       "\n",
       "[11599 rows x 9 columns]"
      ]
     },
     "execution_count": 83,
     "metadata": {},
     "output_type": "execute_result"
    }
   ],
   "source": [
    "master = pd.merge(gini_fifth, income, on='country', how='right')\n",
    "master"
   ]
  },
  {
   "cell_type": "markdown",
   "metadata": {},
   "source": [
    "## Cleaning master dataset"
   ]
  },
  {
   "cell_type": "code",
   "execution_count": 84,
   "metadata": {},
   "outputs": [
    {
     "data": {
      "text/plain": [
       "Country Name        700\n",
       "country               0\n",
       "Total_Population    700\n",
       "Gini Index          700\n",
       "year_survey           0\n",
       "quantile              0\n",
       "nb_quantiles          0\n",
       "income                0\n",
       "gdpppp                0\n",
       "dtype: int64"
      ]
     },
     "execution_count": 84,
     "metadata": {},
     "output_type": "execute_result"
    }
   ],
   "source": [
    "master.isnull().sum()\n",
    "# 7 countries are missing -- I'm going to check which ones are "
   ]
  },
  {
   "cell_type": "code",
   "execution_count": 85,
   "metadata": {},
   "outputs": [],
   "source": [
    "seven = master[master.isna().any(axis=1)]"
   ]
  },
  {
   "cell_type": "code",
   "execution_count": 86,
   "metadata": {},
   "outputs": [
    {
     "data": {
      "text/plain": [
       "array(['EGY', 'IRN', 'KOR', 'TWN', 'VEN', 'YEM', 'COD'], dtype=object)"
      ]
     },
     "execution_count": 86,
     "metadata": {},
     "output_type": "execute_result"
    }
   ],
   "source": [
    "seven.country.unique()\n",
    "# EGY --> Egypt\n",
    "# IRN --> Iran\n",
    "# KOR --> South Korea\n",
    "# TWN --> Taiwan\n",
    "# VEN --> Venezuela\n",
    "# YEM --> Yemen\n",
    "# COD --> Democratic Republic of the Congo"
   ]
  },
  {
   "cell_type": "markdown",
   "metadata": {},
   "source": [
    "Filling the missing 7 countries info with google search numbers. \n",
    "Egypt in 2008:\n",
    "\n",
    "* Population was 79,640,000\n",
    "\n",
    "* Gini Index was 30.2\n",
    "\n",
    "Iran in 2008:\n",
    "\n",
    "* Population was 72,120,000\n",
    "\n",
    "* Gini Index was 42\n",
    "\n",
    "South Korea in 2008:\n",
    "\n",
    "* Population was 49,050,000\n",
    "\n",
    "* Gini Index was 32.3\n",
    "\n",
    "Tawian in 2008:\n",
    "\n",
    "* Population was 23,037,000\n",
    "\n",
    "* Gini Index was 34.1\n",
    "\n",
    "Venezuela: \n",
    "\n",
    "* Population was 27,640,000 in __2008__\n",
    "\n",
    "* Gini Index was 46.9 in __2006__\n",
    "\n",
    "Yemen in 2008: \n",
    "\n",
    "* Population was 21,890,000\n",
    "\n",
    "* Gini Index was 35\n",
    "\n",
    "Democratic Republic of the Congo in 2008:\n",
    "\n",
    "* Population was 60,410,000\n",
    "\n",
    "* Gini Index was 42.15\n"
   ]
  },
  {
   "cell_type": "markdown",
   "metadata": {},
   "source": [
    "#### Filling nans in populations"
   ]
  },
  {
   "cell_type": "code",
   "execution_count": 87,
   "metadata": {},
   "outputs": [],
   "source": [
    "master.loc[(master['Total_Population'].isnull()) & (master.country == 'EGY'), 'Total_Population']= '79640000'"
   ]
  },
  {
   "cell_type": "code",
   "execution_count": 88,
   "metadata": {},
   "outputs": [],
   "source": [
    "master.loc[(master['Total_Population'].isnull()) & (master.country == 'IRN'), 'Total_Population']= '72120000'"
   ]
  },
  {
   "cell_type": "code",
   "execution_count": 89,
   "metadata": {},
   "outputs": [],
   "source": [
    "master.loc[(master['Total_Population'].isnull()) & (master.country == 'KOR'), 'Total_Population']= '49050000'"
   ]
  },
  {
   "cell_type": "code",
   "execution_count": 90,
   "metadata": {},
   "outputs": [],
   "source": [
    "master.loc[(master['Total_Population'].isnull()) & (master.country == 'TWN'), 'Total_Population']= '23037000'"
   ]
  },
  {
   "cell_type": "code",
   "execution_count": 91,
   "metadata": {},
   "outputs": [],
   "source": [
    "master.loc[(master['Total_Population'].isnull()) & (master.country == 'VEN'), 'Total_Population']= '27640000'"
   ]
  },
  {
   "cell_type": "code",
   "execution_count": 92,
   "metadata": {},
   "outputs": [],
   "source": [
    "master.loc[(master['Total_Population'].isnull()) & (master.country == 'YEM'), 'Total_Population']= '21890000'"
   ]
  },
  {
   "cell_type": "code",
   "execution_count": 93,
   "metadata": {},
   "outputs": [],
   "source": [
    "master.loc[(master['Total_Population'].isnull()) & (master.country == 'COD'), 'Total_Population']= '60410000'"
   ]
  },
  {
   "cell_type": "markdown",
   "metadata": {},
   "source": [
    "#### Filling nans in Gini Index"
   ]
  },
  {
   "cell_type": "code",
   "execution_count": 94,
   "metadata": {},
   "outputs": [],
   "source": [
    "master.loc[(master['Gini Index'].isnull()) & (master.country == 'EGY'), 'Gini Index']= '30.2'"
   ]
  },
  {
   "cell_type": "code",
   "execution_count": 95,
   "metadata": {},
   "outputs": [],
   "source": [
    "master.loc[(master['Gini Index'].isnull()) & (master.country == 'IRN'), 'Gini Index']= '42'"
   ]
  },
  {
   "cell_type": "code",
   "execution_count": 96,
   "metadata": {},
   "outputs": [],
   "source": [
    "master.loc[(master['Gini Index'].isnull()) & (master.country == 'KOR'), 'Gini Index']= '32.3'"
   ]
  },
  {
   "cell_type": "code",
   "execution_count": 97,
   "metadata": {},
   "outputs": [],
   "source": [
    "master.loc[(master['Gini Index'].isnull()) & (master.country == 'TWN'), 'Gini Index']= '34.1'"
   ]
  },
  {
   "cell_type": "code",
   "execution_count": 98,
   "metadata": {},
   "outputs": [],
   "source": [
    "master.loc[(master['Gini Index'].isnull()) & (master.country == 'VEN'), 'Gini Index']= '46.9'"
   ]
  },
  {
   "cell_type": "code",
   "execution_count": 99,
   "metadata": {},
   "outputs": [],
   "source": [
    "master.loc[(master['Gini Index'].isnull()) & (master.country == 'YEM'), 'Gini Index']= '35'"
   ]
  },
  {
   "cell_type": "code",
   "execution_count": 100,
   "metadata": {},
   "outputs": [],
   "source": [
    "master.loc[(master['Gini Index'].isnull()) & (master.country == 'COD'), 'Gini Index']= '42.15'"
   ]
  },
  {
   "cell_type": "markdown",
   "metadata": {},
   "source": [
    "#### Filling country names"
   ]
  },
  {
   "cell_type": "code",
   "execution_count": 101,
   "metadata": {},
   "outputs": [],
   "source": [
    "master.loc[(master['Country Name'].isnull()) & (master.country == 'EGY'), 'Country Name']= 'Egypt'"
   ]
  },
  {
   "cell_type": "code",
   "execution_count": 102,
   "metadata": {},
   "outputs": [],
   "source": [
    "master.loc[(master['Country Name'].isnull()) & (master.country == 'IRN'), 'Country Name']= 'Iran'"
   ]
  },
  {
   "cell_type": "code",
   "execution_count": 103,
   "metadata": {},
   "outputs": [],
   "source": [
    "master.loc[(master['Country Name'].isnull()) & (master.country == 'KOR'), 'Country Name']= 'South Korea'"
   ]
  },
  {
   "cell_type": "code",
   "execution_count": 104,
   "metadata": {},
   "outputs": [],
   "source": [
    "master.loc[(master['Country Name'].isnull()) & (master.country == 'TWN'), 'Country Name']= 'Taiwan'"
   ]
  },
  {
   "cell_type": "code",
   "execution_count": 105,
   "metadata": {},
   "outputs": [],
   "source": [
    "master.loc[(master['Country Name'].isnull()) & (master.country == 'VEN'), 'Country Name']= 'Venezuela'"
   ]
  },
  {
   "cell_type": "code",
   "execution_count": 106,
   "metadata": {},
   "outputs": [],
   "source": [
    "master.loc[(master['Country Name'].isnull()) & (master.country == 'YEM'), 'Country Name']= 'Yemen'"
   ]
  },
  {
   "cell_type": "code",
   "execution_count": 107,
   "metadata": {},
   "outputs": [],
   "source": [
    "master.loc[(master['Country Name'].isnull()) & (master.country == 'COD'), 'Country Name']= 'Democratic Republic of the Congo'"
   ]
  },
  {
   "cell_type": "code",
   "execution_count": 108,
   "metadata": {},
   "outputs": [
    {
     "data": {
      "text/plain": [
       "Country Name        0\n",
       "country             0\n",
       "Total_Population    0\n",
       "Gini Index          0\n",
       "year_survey         0\n",
       "quantile            0\n",
       "nb_quantiles        0\n",
       "income              0\n",
       "gdpppp              0\n",
       "dtype: int64"
      ]
     },
     "execution_count": 108,
     "metadata": {},
     "output_type": "execute_result"
    }
   ],
   "source": [
    "master.isnull().sum()"
   ]
  },
  {
   "cell_type": "code",
   "execution_count": 109,
   "metadata": {},
   "outputs": [],
   "source": [
    "number = master['Country Name'].unique()"
   ]
  },
  {
   "cell_type": "code",
   "execution_count": 110,
   "metadata": {},
   "outputs": [],
   "source": [
    "number_rows = len(number)"
   ]
  },
  {
   "cell_type": "code",
   "execution_count": 111,
   "metadata": {},
   "outputs": [
    {
     "data": {
      "text/plain": [
       "116"
      ]
     },
     "execution_count": 111,
     "metadata": {},
     "output_type": "execute_result"
    }
   ],
   "source": [
    "# There are 116 countries \n",
    "number_rows"
   ]
  },
  {
   "cell_type": "code",
   "execution_count": 112,
   "metadata": {},
   "outputs": [
    {
     "data": {
      "text/html": [
       "<div>\n",
       "<style scoped>\n",
       "    .dataframe tbody tr th:only-of-type {\n",
       "        vertical-align: middle;\n",
       "    }\n",
       "\n",
       "    .dataframe tbody tr th {\n",
       "        vertical-align: top;\n",
       "    }\n",
       "\n",
       "    .dataframe thead th {\n",
       "        text-align: right;\n",
       "    }\n",
       "</style>\n",
       "<table border=\"1\" class=\"dataframe\">\n",
       "  <thead>\n",
       "    <tr style=\"text-align: right;\">\n",
       "      <th></th>\n",
       "      <th>Country Name</th>\n",
       "      <th>country</th>\n",
       "      <th>Total_Population</th>\n",
       "      <th>Gini Index</th>\n",
       "      <th>year_survey</th>\n",
       "      <th>quantile</th>\n",
       "      <th>nb_quantiles</th>\n",
       "      <th>income</th>\n",
       "      <th>gdpppp</th>\n",
       "    </tr>\n",
       "  </thead>\n",
       "  <tbody>\n",
       "    <tr>\n",
       "      <td>0</td>\n",
       "      <td>Albania</td>\n",
       "      <td>ALB</td>\n",
       "      <td>2.94731e+06</td>\n",
       "      <td>30</td>\n",
       "      <td>2008</td>\n",
       "      <td>1</td>\n",
       "      <td>100</td>\n",
       "      <td>728.89795</td>\n",
       "      <td>7297.0</td>\n",
       "    </tr>\n",
       "    <tr>\n",
       "      <td>1</td>\n",
       "      <td>Albania</td>\n",
       "      <td>ALB</td>\n",
       "      <td>2.94731e+06</td>\n",
       "      <td>30</td>\n",
       "      <td>2008</td>\n",
       "      <td>2</td>\n",
       "      <td>100</td>\n",
       "      <td>916.66235</td>\n",
       "      <td>7297.0</td>\n",
       "    </tr>\n",
       "    <tr>\n",
       "      <td>2</td>\n",
       "      <td>Albania</td>\n",
       "      <td>ALB</td>\n",
       "      <td>2.94731e+06</td>\n",
       "      <td>30</td>\n",
       "      <td>2008</td>\n",
       "      <td>3</td>\n",
       "      <td>100</td>\n",
       "      <td>1010.91600</td>\n",
       "      <td>7297.0</td>\n",
       "    </tr>\n",
       "    <tr>\n",
       "      <td>3</td>\n",
       "      <td>Albania</td>\n",
       "      <td>ALB</td>\n",
       "      <td>2.94731e+06</td>\n",
       "      <td>30</td>\n",
       "      <td>2008</td>\n",
       "      <td>4</td>\n",
       "      <td>100</td>\n",
       "      <td>1086.90780</td>\n",
       "      <td>7297.0</td>\n",
       "    </tr>\n",
       "    <tr>\n",
       "      <td>4</td>\n",
       "      <td>Albania</td>\n",
       "      <td>ALB</td>\n",
       "      <td>2.94731e+06</td>\n",
       "      <td>30</td>\n",
       "      <td>2008</td>\n",
       "      <td>5</td>\n",
       "      <td>100</td>\n",
       "      <td>1132.69970</td>\n",
       "      <td>7297.0</td>\n",
       "    </tr>\n",
       "    <tr>\n",
       "      <td>...</td>\n",
       "      <td>...</td>\n",
       "      <td>...</td>\n",
       "      <td>...</td>\n",
       "      <td>...</td>\n",
       "      <td>...</td>\n",
       "      <td>...</td>\n",
       "      <td>...</td>\n",
       "      <td>...</td>\n",
       "      <td>...</td>\n",
       "    </tr>\n",
       "    <tr>\n",
       "      <td>11594</td>\n",
       "      <td>Democratic Republic of the Congo</td>\n",
       "      <td>COD</td>\n",
       "      <td>60410000</td>\n",
       "      <td>42.15</td>\n",
       "      <td>2008</td>\n",
       "      <td>96</td>\n",
       "      <td>100</td>\n",
       "      <td>810.62330</td>\n",
       "      <td>30319305.0</td>\n",
       "    </tr>\n",
       "    <tr>\n",
       "      <td>11595</td>\n",
       "      <td>Democratic Republic of the Congo</td>\n",
       "      <td>COD</td>\n",
       "      <td>60410000</td>\n",
       "      <td>42.15</td>\n",
       "      <td>2008</td>\n",
       "      <td>97</td>\n",
       "      <td>100</td>\n",
       "      <td>911.78340</td>\n",
       "      <td>30319305.0</td>\n",
       "    </tr>\n",
       "    <tr>\n",
       "      <td>11596</td>\n",
       "      <td>Democratic Republic of the Congo</td>\n",
       "      <td>COD</td>\n",
       "      <td>60410000</td>\n",
       "      <td>42.15</td>\n",
       "      <td>2008</td>\n",
       "      <td>98</td>\n",
       "      <td>100</td>\n",
       "      <td>1057.80740</td>\n",
       "      <td>30319305.0</td>\n",
       "    </tr>\n",
       "    <tr>\n",
       "      <td>11597</td>\n",
       "      <td>Democratic Republic of the Congo</td>\n",
       "      <td>COD</td>\n",
       "      <td>60410000</td>\n",
       "      <td>42.15</td>\n",
       "      <td>2008</td>\n",
       "      <td>99</td>\n",
       "      <td>100</td>\n",
       "      <td>1286.60290</td>\n",
       "      <td>30319305.0</td>\n",
       "    </tr>\n",
       "    <tr>\n",
       "      <td>11598</td>\n",
       "      <td>Democratic Republic of the Congo</td>\n",
       "      <td>COD</td>\n",
       "      <td>60410000</td>\n",
       "      <td>42.15</td>\n",
       "      <td>2008</td>\n",
       "      <td>100</td>\n",
       "      <td>100</td>\n",
       "      <td>2243.12260</td>\n",
       "      <td>30319305.0</td>\n",
       "    </tr>\n",
       "  </tbody>\n",
       "</table>\n",
       "<p>11599 rows × 9 columns</p>\n",
       "</div>"
      ],
      "text/plain": [
       "                           Country Name country Total_Population Gini Index  \\\n",
       "0                               Albania     ALB      2.94731e+06         30   \n",
       "1                               Albania     ALB      2.94731e+06         30   \n",
       "2                               Albania     ALB      2.94731e+06         30   \n",
       "3                               Albania     ALB      2.94731e+06         30   \n",
       "4                               Albania     ALB      2.94731e+06         30   \n",
       "...                                 ...     ...              ...        ...   \n",
       "11594  Democratic Republic of the Congo     COD         60410000      42.15   \n",
       "11595  Democratic Republic of the Congo     COD         60410000      42.15   \n",
       "11596  Democratic Republic of the Congo     COD         60410000      42.15   \n",
       "11597  Democratic Republic of the Congo     COD         60410000      42.15   \n",
       "11598  Democratic Republic of the Congo     COD         60410000      42.15   \n",
       "\n",
       "       year_survey  quantile  nb_quantiles      income      gdpppp  \n",
       "0             2008         1           100   728.89795      7297.0  \n",
       "1             2008         2           100   916.66235      7297.0  \n",
       "2             2008         3           100  1010.91600      7297.0  \n",
       "3             2008         4           100  1086.90780      7297.0  \n",
       "4             2008         5           100  1132.69970      7297.0  \n",
       "...            ...       ...           ...         ...         ...  \n",
       "11594         2008        96           100   810.62330  30319305.0  \n",
       "11595         2008        97           100   911.78340  30319305.0  \n",
       "11596         2008        98           100  1057.80740  30319305.0  \n",
       "11597         2008        99           100  1286.60290  30319305.0  \n",
       "11598         2008       100           100  2243.12260  30319305.0  \n",
       "\n",
       "[11599 rows x 9 columns]"
      ]
     },
     "execution_count": 112,
     "metadata": {},
     "output_type": "execute_result"
    }
   ],
   "source": [
    "master"
   ]
  },
  {
   "cell_type": "code",
   "execution_count": 113,
   "metadata": {},
   "outputs": [],
   "source": [
    "master.to_csv(r'/Users/larabockenstedt/Making_an_Income_Prediction/master.csv')"
   ]
  },
  {
   "cell_type": "code",
   "execution_count": 114,
   "metadata": {},
   "outputs": [],
   "source": [
    "# master['Total_Population'] = master['Total_Population'].str.replace(',', '')"
   ]
  },
  {
   "cell_type": "code",
   "execution_count": 115,
   "metadata": {},
   "outputs": [
    {
     "data": {
      "text/plain": [
       "Country Name         object\n",
       "country              object\n",
       "Total_Population     object\n",
       "Gini Index           object\n",
       "year_survey           int64\n",
       "quantile              int64\n",
       "nb_quantiles          int64\n",
       "income              float64\n",
       "gdpppp              float64\n",
       "dtype: object"
      ]
     },
     "execution_count": 115,
     "metadata": {},
     "output_type": "execute_result"
    }
   ],
   "source": [
    "master.dtypes"
   ]
  },
  {
   "cell_type": "code",
   "execution_count": 116,
   "metadata": {},
   "outputs": [],
   "source": [
    "master['Total_Population'] = master['Total_Population'].astype(int)"
   ]
  },
  {
   "cell_type": "markdown",
   "metadata": {},
   "source": [
    "## Constructing the dataset"
   ]
  },
  {
   "cell_type": "markdown",
   "metadata": {},
   "source": [
    "## Mark's notes\n",
    "\n",
    "The research papers written by B. Milanovic included \n",
    "\n",
    "* Global inequality of opportunity: How much of our income is determined at birth?\n",
    "https://stonecenter.gc.cuny.edu/files/2015/05/milanovic-global-inequality-of-opportunity-how-much-of-our-income-is-determined-by-where-we-live-2015.pdf\n",
    "\n",
    "* Global inequality of opportunity: How much of our income is determined by where we live?\n",
    "http://documents1.worldbank.org/curated/en/712251468165866186/pdf/946720JRN0Box30LIC00190rest0a000432.pdf"
   ]
  },
  {
   "cell_type": "markdown",
   "metadata": {},
   "source": [
    "Mark said, \"According to the research papers, in order to predict the income c_{i,child}, the dataset must contain at least these explanatory variables\":\n",
    "\n",
    "* country (j)\n",
    "\n",
    "* mj : the average income in country j\n",
    "\n",
    "* Gj : Gini index of country j\n",
    "\n",
    "* the individual parents income class ci,parent\n",
    "\n",
    "Note : The individual parent’s income class ci,parent needs to be simulated: see\n",
    "instructions below."
   ]
  },
  {
   "cell_type": "code",
   "execution_count": 117,
   "metadata": {},
   "outputs": [
    {
     "data": {
      "text/html": [
       "<div>\n",
       "<style scoped>\n",
       "    .dataframe tbody tr th:only-of-type {\n",
       "        vertical-align: middle;\n",
       "    }\n",
       "\n",
       "    .dataframe tbody tr th {\n",
       "        vertical-align: top;\n",
       "    }\n",
       "\n",
       "    .dataframe thead th {\n",
       "        text-align: right;\n",
       "    }\n",
       "</style>\n",
       "<table border=\"1\" class=\"dataframe\">\n",
       "  <thead>\n",
       "    <tr style=\"text-align: right;\">\n",
       "      <th></th>\n",
       "      <th>Country Name</th>\n",
       "      <th>country</th>\n",
       "      <th>Total_Population</th>\n",
       "      <th>Gini Index</th>\n",
       "      <th>year_survey</th>\n",
       "      <th>quantile</th>\n",
       "      <th>nb_quantiles</th>\n",
       "      <th>income</th>\n",
       "      <th>gdpppp</th>\n",
       "    </tr>\n",
       "  </thead>\n",
       "  <tbody>\n",
       "    <tr>\n",
       "      <td>0</td>\n",
       "      <td>Albania</td>\n",
       "      <td>ALB</td>\n",
       "      <td>2947314</td>\n",
       "      <td>30</td>\n",
       "      <td>2008</td>\n",
       "      <td>1</td>\n",
       "      <td>100</td>\n",
       "      <td>728.89795</td>\n",
       "      <td>7297.0</td>\n",
       "    </tr>\n",
       "    <tr>\n",
       "      <td>1</td>\n",
       "      <td>Albania</td>\n",
       "      <td>ALB</td>\n",
       "      <td>2947314</td>\n",
       "      <td>30</td>\n",
       "      <td>2008</td>\n",
       "      <td>2</td>\n",
       "      <td>100</td>\n",
       "      <td>916.66235</td>\n",
       "      <td>7297.0</td>\n",
       "    </tr>\n",
       "    <tr>\n",
       "      <td>2</td>\n",
       "      <td>Albania</td>\n",
       "      <td>ALB</td>\n",
       "      <td>2947314</td>\n",
       "      <td>30</td>\n",
       "      <td>2008</td>\n",
       "      <td>3</td>\n",
       "      <td>100</td>\n",
       "      <td>1010.91600</td>\n",
       "      <td>7297.0</td>\n",
       "    </tr>\n",
       "    <tr>\n",
       "      <td>3</td>\n",
       "      <td>Albania</td>\n",
       "      <td>ALB</td>\n",
       "      <td>2947314</td>\n",
       "      <td>30</td>\n",
       "      <td>2008</td>\n",
       "      <td>4</td>\n",
       "      <td>100</td>\n",
       "      <td>1086.90780</td>\n",
       "      <td>7297.0</td>\n",
       "    </tr>\n",
       "    <tr>\n",
       "      <td>4</td>\n",
       "      <td>Albania</td>\n",
       "      <td>ALB</td>\n",
       "      <td>2947314</td>\n",
       "      <td>30</td>\n",
       "      <td>2008</td>\n",
       "      <td>5</td>\n",
       "      <td>100</td>\n",
       "      <td>1132.69970</td>\n",
       "      <td>7297.0</td>\n",
       "    </tr>\n",
       "    <tr>\n",
       "      <td>...</td>\n",
       "      <td>...</td>\n",
       "      <td>...</td>\n",
       "      <td>...</td>\n",
       "      <td>...</td>\n",
       "      <td>...</td>\n",
       "      <td>...</td>\n",
       "      <td>...</td>\n",
       "      <td>...</td>\n",
       "      <td>...</td>\n",
       "    </tr>\n",
       "    <tr>\n",
       "      <td>11594</td>\n",
       "      <td>Democratic Republic of the Congo</td>\n",
       "      <td>COD</td>\n",
       "      <td>60410000</td>\n",
       "      <td>42.15</td>\n",
       "      <td>2008</td>\n",
       "      <td>96</td>\n",
       "      <td>100</td>\n",
       "      <td>810.62330</td>\n",
       "      <td>30319305.0</td>\n",
       "    </tr>\n",
       "    <tr>\n",
       "      <td>11595</td>\n",
       "      <td>Democratic Republic of the Congo</td>\n",
       "      <td>COD</td>\n",
       "      <td>60410000</td>\n",
       "      <td>42.15</td>\n",
       "      <td>2008</td>\n",
       "      <td>97</td>\n",
       "      <td>100</td>\n",
       "      <td>911.78340</td>\n",
       "      <td>30319305.0</td>\n",
       "    </tr>\n",
       "    <tr>\n",
       "      <td>11596</td>\n",
       "      <td>Democratic Republic of the Congo</td>\n",
       "      <td>COD</td>\n",
       "      <td>60410000</td>\n",
       "      <td>42.15</td>\n",
       "      <td>2008</td>\n",
       "      <td>98</td>\n",
       "      <td>100</td>\n",
       "      <td>1057.80740</td>\n",
       "      <td>30319305.0</td>\n",
       "    </tr>\n",
       "    <tr>\n",
       "      <td>11597</td>\n",
       "      <td>Democratic Republic of the Congo</td>\n",
       "      <td>COD</td>\n",
       "      <td>60410000</td>\n",
       "      <td>42.15</td>\n",
       "      <td>2008</td>\n",
       "      <td>99</td>\n",
       "      <td>100</td>\n",
       "      <td>1286.60290</td>\n",
       "      <td>30319305.0</td>\n",
       "    </tr>\n",
       "    <tr>\n",
       "      <td>11598</td>\n",
       "      <td>Democratic Republic of the Congo</td>\n",
       "      <td>COD</td>\n",
       "      <td>60410000</td>\n",
       "      <td>42.15</td>\n",
       "      <td>2008</td>\n",
       "      <td>100</td>\n",
       "      <td>100</td>\n",
       "      <td>2243.12260</td>\n",
       "      <td>30319305.0</td>\n",
       "    </tr>\n",
       "  </tbody>\n",
       "</table>\n",
       "<p>11599 rows × 9 columns</p>\n",
       "</div>"
      ],
      "text/plain": [
       "                           Country Name country  Total_Population Gini Index  \\\n",
       "0                               Albania     ALB           2947314         30   \n",
       "1                               Albania     ALB           2947314         30   \n",
       "2                               Albania     ALB           2947314         30   \n",
       "3                               Albania     ALB           2947314         30   \n",
       "4                               Albania     ALB           2947314         30   \n",
       "...                                 ...     ...               ...        ...   \n",
       "11594  Democratic Republic of the Congo     COD          60410000      42.15   \n",
       "11595  Democratic Republic of the Congo     COD          60410000      42.15   \n",
       "11596  Democratic Republic of the Congo     COD          60410000      42.15   \n",
       "11597  Democratic Republic of the Congo     COD          60410000      42.15   \n",
       "11598  Democratic Republic of the Congo     COD          60410000      42.15   \n",
       "\n",
       "       year_survey  quantile  nb_quantiles      income      gdpppp  \n",
       "0             2008         1           100   728.89795      7297.0  \n",
       "1             2008         2           100   916.66235      7297.0  \n",
       "2             2008         3           100  1010.91600      7297.0  \n",
       "3             2008         4           100  1086.90780      7297.0  \n",
       "4             2008         5           100  1132.69970      7297.0  \n",
       "...            ...       ...           ...         ...         ...  \n",
       "11594         2008        96           100   810.62330  30319305.0  \n",
       "11595         2008        97           100   911.78340  30319305.0  \n",
       "11596         2008        98           100  1057.80740  30319305.0  \n",
       "11597         2008        99           100  1286.60290  30319305.0  \n",
       "11598         2008       100           100  2243.12260  30319305.0  \n",
       "\n",
       "[11599 rows x 9 columns]"
      ]
     },
     "execution_count": 117,
     "metadata": {},
     "output_type": "execute_result"
    }
   ],
   "source": [
    "master\n",
    "# The master has average incomes by class\n",
    "# income class\n",
    "# the gini index of every country\n",
    "# the total population"
   ]
  },
  {
   "cell_type": "markdown",
   "metadata": {},
   "source": [
    "# Task 1"
   ]
  },
  {
   "cell_type": "markdown",
   "metadata": {},
   "source": [
    "The first brief with your manager Mark goes like this:\n",
    "\n",
    "Mark: \"Last year I read a research paper from the World Bank. The author claims to have found a model that can predict someone’s income from only a few variables: country of residence and parent income. Sounds crazy, I know, but I would like to test his model to see if we could apply it to our data. In our database, we already have our client’s country of residence. If we could predict their children's’ future income, we could target them very efficiently!\"\n",
    "\n",
    "With so little data available, it sounds like a challenging task, you think.\n",
    "\n",
    "Mark: \"I have already experimented with this idea in the past and implemented some code, but haven't had time to go any further. Here are some of my notes. As you can see, I provided information about the dataset that the research is based on. Basically it's from the World Income Distribution and provides income distribution quantiles of each country's population.\"\n",
    "\n",
    "Mark: \"For this first task, I need you to get familiar with this dataset and write a short preliminary analysis containing at least the following information:\n",
    "\n",
    "* Year(s) of data.\n",
    "\n",
    "* Number of countries involved.\n",
    "\n",
    "* Population covered by the dataset (percentage of world population).\n",
    "\n",
    "* The type of quantiles used (quartiles, deciles, ventiles, percentiles, etc.).\n",
    "\n",
    "* The dollar PPP unit and an explanation of why (not why not) it’s a good method to compare countries.\n",
    "\n",
    "* A graph showing how diverse countries are in terms of income distribution. This graph must represent the income (y-axis, on a log scale) as a function of income class (x-axis) for 5 to 10 countries. Please ensure you represent a diversity of cases. Among the countries that must be present : your own country, and the two countries that have the greatest and lowest Gini index.\n",
    "\n",
    "* The Lorenz curve for these countries.\n"
   ]
  },
  {
   "cell_type": "code",
   "execution_count": 118,
   "metadata": {},
   "outputs": [],
   "source": [
    "# Finding the total population of the coutries included in the master list\n",
    "adding_for_pop = master.loc[(master['quantile'] == 1)]"
   ]
  },
  {
   "cell_type": "code",
   "execution_count": 119,
   "metadata": {
    "scrolled": true
   },
   "outputs": [
    {
     "data": {
      "text/plain": [
       "Country Name         object\n",
       "country              object\n",
       "Total_Population      int64\n",
       "Gini Index           object\n",
       "year_survey           int64\n",
       "quantile              int64\n",
       "nb_quantiles          int64\n",
       "income              float64\n",
       "gdpppp              float64\n",
       "dtype: object"
      ]
     },
     "execution_count": 119,
     "metadata": {},
     "output_type": "execute_result"
    }
   ],
   "source": [
    "adding_for_pop.dtypes"
   ]
  },
  {
   "cell_type": "code",
   "execution_count": 120,
   "metadata": {},
   "outputs": [
    {
     "data": {
      "text/plain": [
       "Country Name        AlbaniaArgentinaArmeniaAustriaAzerbaijanBelgiu...\n",
       "country             ALBARGARMAUTAZEBELBFABGDBGRBIHBLRBOLBRABTNCAFC...\n",
       "Total_Population                                           6203778821\n",
       "year_survey                                                    232926\n",
       "quantile                                                          116\n",
       "nb_quantiles                                                    11600\n",
       "income                                                        87030.4\n",
       "gdpppp                                                    4.88875e+09\n",
       "dtype: object"
      ]
     },
     "execution_count": 120,
     "metadata": {},
     "output_type": "execute_result"
    }
   ],
   "source": [
    "adding_for_pop.sum()"
   ]
  },
  {
   "cell_type": "code",
   "execution_count": 121,
   "metadata": {},
   "outputs": [
    {
     "data": {
      "text/plain": [
       "0.9259371374626866"
      ]
     },
     "execution_count": 121,
     "metadata": {},
     "output_type": "execute_result"
    }
   ],
   "source": [
    "# the result is 6,203,778,821 / 6,700,000,000\n",
    "6203778821 / 6700000000"
   ]
  },
  {
   "cell_type": "markdown",
   "metadata": {},
   "source": [
    "### Undoing the $PPP conversion "
   ]
  },
  {
   "cell_type": "markdown",
   "metadata": {},
   "source": [
    "Even though $PPP is useful for comparing purchasing power, it isn't for performing income predictions since the numbers are not truly accurate.\n",
    "\n",
    "The process for converting to $PPP involves converting all incomes to USD, calculating the ratio of PPP rates to MER rates, and calculating the adjusted salaries using the ratio adjusting factor. \n",
    "\n",
    "So the process for undoing the $PPP convserion is to:\n",
    "\n",
    "1. Undo the adusted salaries of the ratio adjusting factor\n",
    "\n",
    "2. Undo the calculated ratio of PPP rates to MER rates \n",
    "\n",
    "It should be fine to leave the incomes as they are in USD. I am assuming the project's imagined bank is from the United States, and it would be useful to have the information in the format it's currently in. If it needs to be changed, I will be using the table from  data.worldbank.org that includes the conversion rate from ppp to market rate:"
   ]
  },
  {
   "cell_type": "markdown",
   "metadata": {},
   "source": [
    "https://data.worldbank.org/indicator/PA.NUS.PPPC.RF?end=2008&start=2007"
   ]
  },
  {
   "cell_type": "markdown",
   "metadata": {},
   "source": [
    "### Preparing graph showing income distribution"
   ]
  },
  {
   "cell_type": "markdown",
   "metadata": {},
   "source": [
    "The project asks for a graph showing how diverse countries are in terms of income distribution. This graph must represent the income (y-axis, on a log scale) as a function of income class (x-axis) for 5 to 10 countries. A diversity of cases should be represented. Among the countries that must be present : your own country, and the two countries that have the greatest and lowest Gini index.\n",
    "\n",
    "*The graph is under the preliminary analysis section at the end of the notebook.*"
   ]
  },
  {
   "cell_type": "code",
   "execution_count": 122,
   "metadata": {},
   "outputs": [
    {
     "data": {
      "text/plain": [
       "Index(['Country Name', 'country', 'Total_Population', 'Gini Index',\n",
       "       'year_survey', 'quantile', 'nb_quantiles', 'income', 'gdpppp'],\n",
       "      dtype='object')"
      ]
     },
     "execution_count": 122,
     "metadata": {},
     "output_type": "execute_result"
    }
   ],
   "source": [
    "master.columns"
   ]
  },
  {
   "cell_type": "code",
   "execution_count": 123,
   "metadata": {},
   "outputs": [],
   "source": [
    "master['Gini_Index'] = master['Gini Index'].astype(float)"
   ]
  },
  {
   "cell_type": "code",
   "execution_count": 124,
   "metadata": {},
   "outputs": [],
   "source": [
    "#df_6['Gini_Index'] = df_6['Gini Index'].astype(float)"
   ]
  },
  {
   "cell_type": "code",
   "execution_count": 125,
   "metadata": {},
   "outputs": [],
   "source": [
    "# df_6.describe()\n",
    "# The min Gini Index is 23.7\n",
    "# The max Gini Index is 63\n",
    "# 25% is 30.9\n",
    "# 50% is 35.7\n",
    "# 75% is 45.3"
   ]
  },
  {
   "cell_type": "code",
   "execution_count": 126,
   "metadata": {},
   "outputs": [],
   "source": [
    "usa = master.loc[(master['country'] == 'USA')]"
   ]
  },
  {
   "cell_type": "code",
   "execution_count": 127,
   "metadata": {},
   "outputs": [
    {
     "data": {
      "text/plain": [
       "(100, 10)"
      ]
     },
     "execution_count": 127,
     "metadata": {},
     "output_type": "execute_result"
    }
   ],
   "source": [
    "usa.shape"
   ]
  },
  {
   "cell_type": "code",
   "execution_count": 128,
   "metadata": {},
   "outputs": [
    {
     "data": {
      "text/html": [
       "<div>\n",
       "<style scoped>\n",
       "    .dataframe tbody tr th:only-of-type {\n",
       "        vertical-align: middle;\n",
       "    }\n",
       "\n",
       "    .dataframe tbody tr th {\n",
       "        vertical-align: top;\n",
       "    }\n",
       "\n",
       "    .dataframe thead th {\n",
       "        text-align: right;\n",
       "    }\n",
       "</style>\n",
       "<table border=\"1\" class=\"dataframe\">\n",
       "  <thead>\n",
       "    <tr style=\"text-align: right;\">\n",
       "      <th></th>\n",
       "      <th>Total_Population</th>\n",
       "      <th>year_survey</th>\n",
       "      <th>quantile</th>\n",
       "      <th>nb_quantiles</th>\n",
       "      <th>income</th>\n",
       "      <th>gdpppp</th>\n",
       "      <th>Gini_Index</th>\n",
       "    </tr>\n",
       "  </thead>\n",
       "  <tbody>\n",
       "    <tr>\n",
       "      <td>count</td>\n",
       "      <td>100.0</td>\n",
       "      <td>100.0</td>\n",
       "      <td>100.000000</td>\n",
       "      <td>100.0</td>\n",
       "      <td>100.000000</td>\n",
       "      <td>100.0</td>\n",
       "      <td>1.000000e+02</td>\n",
       "    </tr>\n",
       "    <tr>\n",
       "      <td>mean</td>\n",
       "      <td>304093966.0</td>\n",
       "      <td>2008.0</td>\n",
       "      <td>50.500000</td>\n",
       "      <td>100.0</td>\n",
       "      <td>25503.581661</td>\n",
       "      <td>43261.0</td>\n",
       "      <td>4.510000e+01</td>\n",
       "    </tr>\n",
       "    <tr>\n",
       "      <td>std</td>\n",
       "      <td>0.0</td>\n",
       "      <td>0.0</td>\n",
       "      <td>29.011492</td>\n",
       "      <td>0.0</td>\n",
       "      <td>24392.798208</td>\n",
       "      <td>0.0</td>\n",
       "      <td>2.142367e-14</td>\n",
       "    </tr>\n",
       "    <tr>\n",
       "      <td>min</td>\n",
       "      <td>304093966.0</td>\n",
       "      <td>2008.0</td>\n",
       "      <td>1.000000</td>\n",
       "      <td>100.0</td>\n",
       "      <td>663.476100</td>\n",
       "      <td>43261.0</td>\n",
       "      <td>4.510000e+01</td>\n",
       "    </tr>\n",
       "    <tr>\n",
       "      <td>25%</td>\n",
       "      <td>304093966.0</td>\n",
       "      <td>2008.0</td>\n",
       "      <td>25.750000</td>\n",
       "      <td>100.0</td>\n",
       "      <td>10970.830750</td>\n",
       "      <td>43261.0</td>\n",
       "      <td>4.510000e+01</td>\n",
       "    </tr>\n",
       "    <tr>\n",
       "      <td>50%</td>\n",
       "      <td>304093966.0</td>\n",
       "      <td>2008.0</td>\n",
       "      <td>50.500000</td>\n",
       "      <td>100.0</td>\n",
       "      <td>19178.162000</td>\n",
       "      <td>43261.0</td>\n",
       "      <td>4.510000e+01</td>\n",
       "    </tr>\n",
       "    <tr>\n",
       "      <td>75%</td>\n",
       "      <td>304093966.0</td>\n",
       "      <td>2008.0</td>\n",
       "      <td>75.250000</td>\n",
       "      <td>100.0</td>\n",
       "      <td>31720.879250</td>\n",
       "      <td>43261.0</td>\n",
       "      <td>4.510000e+01</td>\n",
       "    </tr>\n",
       "    <tr>\n",
       "      <td>max</td>\n",
       "      <td>304093966.0</td>\n",
       "      <td>2008.0</td>\n",
       "      <td>100.000000</td>\n",
       "      <td>100.0</td>\n",
       "      <td>176928.550000</td>\n",
       "      <td>43261.0</td>\n",
       "      <td>4.510000e+01</td>\n",
       "    </tr>\n",
       "  </tbody>\n",
       "</table>\n",
       "</div>"
      ],
      "text/plain": [
       "       Total_Population  year_survey    quantile  nb_quantiles         income  \\\n",
       "count             100.0        100.0  100.000000         100.0     100.000000   \n",
       "mean        304093966.0       2008.0   50.500000         100.0   25503.581661   \n",
       "std                 0.0          0.0   29.011492           0.0   24392.798208   \n",
       "min         304093966.0       2008.0    1.000000         100.0     663.476100   \n",
       "25%         304093966.0       2008.0   25.750000         100.0   10970.830750   \n",
       "50%         304093966.0       2008.0   50.500000         100.0   19178.162000   \n",
       "75%         304093966.0       2008.0   75.250000         100.0   31720.879250   \n",
       "max         304093966.0       2008.0  100.000000         100.0  176928.550000   \n",
       "\n",
       "        gdpppp    Gini_Index  \n",
       "count    100.0  1.000000e+02  \n",
       "mean   43261.0  4.510000e+01  \n",
       "std        0.0  2.142367e-14  \n",
       "min    43261.0  4.510000e+01  \n",
       "25%    43261.0  4.510000e+01  \n",
       "50%    43261.0  4.510000e+01  \n",
       "75%    43261.0  4.510000e+01  \n",
       "max    43261.0  4.510000e+01  "
      ]
     },
     "execution_count": 128,
     "metadata": {},
     "output_type": "execute_result"
    }
   ],
   "source": [
    "usa.describe()"
   ]
  },
  {
   "cell_type": "code",
   "execution_count": 129,
   "metadata": {},
   "outputs": [],
   "source": [
    "# df_7 = df_6.sort_values(by=['Gini_Index'])\n",
    "# SVN\n",
    "# Slovenia is the country with the lowest Gini Index"
   ]
  },
  {
   "cell_type": "code",
   "execution_count": 130,
   "metadata": {},
   "outputs": [],
   "source": [
    "svn = master.loc[(master['country'] == 'SVN')]"
   ]
  },
  {
   "cell_type": "code",
   "execution_count": 131,
   "metadata": {},
   "outputs": [
    {
     "data": {
      "text/plain": [
       "(100, 10)"
      ]
     },
     "execution_count": 131,
     "metadata": {},
     "output_type": "execute_result"
    }
   ],
   "source": [
    "svn.shape"
   ]
  },
  {
   "cell_type": "code",
   "execution_count": 132,
   "metadata": {},
   "outputs": [
    {
     "data": {
      "text/html": [
       "<div>\n",
       "<style scoped>\n",
       "    .dataframe tbody tr th:only-of-type {\n",
       "        vertical-align: middle;\n",
       "    }\n",
       "\n",
       "    .dataframe tbody tr th {\n",
       "        vertical-align: top;\n",
       "    }\n",
       "\n",
       "    .dataframe thead th {\n",
       "        text-align: right;\n",
       "    }\n",
       "</style>\n",
       "<table border=\"1\" class=\"dataframe\">\n",
       "  <thead>\n",
       "    <tr style=\"text-align: right;\">\n",
       "      <th></th>\n",
       "      <th>Total_Population</th>\n",
       "      <th>year_survey</th>\n",
       "      <th>quantile</th>\n",
       "      <th>nb_quantiles</th>\n",
       "      <th>income</th>\n",
       "      <th>gdpppp</th>\n",
       "      <th>Gini_Index</th>\n",
       "    </tr>\n",
       "  </thead>\n",
       "  <tbody>\n",
       "    <tr>\n",
       "      <td>count</td>\n",
       "      <td>100.0</td>\n",
       "      <td>100.0</td>\n",
       "      <td>100.000000</td>\n",
       "      <td>100.0</td>\n",
       "      <td>100.000000</td>\n",
       "      <td>100.0</td>\n",
       "      <td>1.000000e+02</td>\n",
       "    </tr>\n",
       "    <tr>\n",
       "      <td>mean</td>\n",
       "      <td>2021316.0</td>\n",
       "      <td>2008.0</td>\n",
       "      <td>50.500000</td>\n",
       "      <td>100.0</td>\n",
       "      <td>12106.007475</td>\n",
       "      <td>27197.0</td>\n",
       "      <td>2.370000e+01</td>\n",
       "    </tr>\n",
       "    <tr>\n",
       "      <td>std</td>\n",
       "      <td>0.0</td>\n",
       "      <td>0.0</td>\n",
       "      <td>29.011492</td>\n",
       "      <td>0.0</td>\n",
       "      <td>5450.695138</td>\n",
       "      <td>0.0</td>\n",
       "      <td>3.570612e-15</td>\n",
       "    </tr>\n",
       "    <tr>\n",
       "      <td>min</td>\n",
       "      <td>2021316.0</td>\n",
       "      <td>2008.0</td>\n",
       "      <td>1.000000</td>\n",
       "      <td>100.0</td>\n",
       "      <td>2814.953000</td>\n",
       "      <td>27197.0</td>\n",
       "      <td>2.370000e+01</td>\n",
       "    </tr>\n",
       "    <tr>\n",
       "      <td>25%</td>\n",
       "      <td>2021316.0</td>\n",
       "      <td>2008.0</td>\n",
       "      <td>25.750000</td>\n",
       "      <td>100.0</td>\n",
       "      <td>8600.088500</td>\n",
       "      <td>27197.0</td>\n",
       "      <td>2.370000e+01</td>\n",
       "    </tr>\n",
       "    <tr>\n",
       "      <td>50%</td>\n",
       "      <td>2021316.0</td>\n",
       "      <td>2008.0</td>\n",
       "      <td>50.500000</td>\n",
       "      <td>100.0</td>\n",
       "      <td>11127.377500</td>\n",
       "      <td>27197.0</td>\n",
       "      <td>2.370000e+01</td>\n",
       "    </tr>\n",
       "    <tr>\n",
       "      <td>75%</td>\n",
       "      <td>2021316.0</td>\n",
       "      <td>2008.0</td>\n",
       "      <td>75.250000</td>\n",
       "      <td>100.0</td>\n",
       "      <td>14367.603000</td>\n",
       "      <td>27197.0</td>\n",
       "      <td>2.370000e+01</td>\n",
       "    </tr>\n",
       "    <tr>\n",
       "      <td>max</td>\n",
       "      <td>2021316.0</td>\n",
       "      <td>2008.0</td>\n",
       "      <td>100.000000</td>\n",
       "      <td>100.0</td>\n",
       "      <td>39012.440000</td>\n",
       "      <td>27197.0</td>\n",
       "      <td>2.370000e+01</td>\n",
       "    </tr>\n",
       "  </tbody>\n",
       "</table>\n",
       "</div>"
      ],
      "text/plain": [
       "       Total_Population  year_survey    quantile  nb_quantiles        income  \\\n",
       "count             100.0        100.0  100.000000         100.0    100.000000   \n",
       "mean          2021316.0       2008.0   50.500000         100.0  12106.007475   \n",
       "std                 0.0          0.0   29.011492           0.0   5450.695138   \n",
       "min           2021316.0       2008.0    1.000000         100.0   2814.953000   \n",
       "25%           2021316.0       2008.0   25.750000         100.0   8600.088500   \n",
       "50%           2021316.0       2008.0   50.500000         100.0  11127.377500   \n",
       "75%           2021316.0       2008.0   75.250000         100.0  14367.603000   \n",
       "max           2021316.0       2008.0  100.000000         100.0  39012.440000   \n",
       "\n",
       "        gdpppp    Gini_Index  \n",
       "count    100.0  1.000000e+02  \n",
       "mean   27197.0  2.370000e+01  \n",
       "std        0.0  3.570612e-15  \n",
       "min    27197.0  2.370000e+01  \n",
       "25%    27197.0  2.370000e+01  \n",
       "50%    27197.0  2.370000e+01  \n",
       "75%    27197.0  2.370000e+01  \n",
       "max    27197.0  2.370000e+01  "
      ]
     },
     "execution_count": 132,
     "metadata": {},
     "output_type": "execute_result"
    }
   ],
   "source": [
    "svn.describe()"
   ]
  },
  {
   "cell_type": "code",
   "execution_count": 133,
   "metadata": {},
   "outputs": [],
   "source": [
    "# df_6 = df_6.sort_values(by=['Gini_Index'], ascending=False)\n",
    "# ZAF\n",
    "# South Africa is the country with the highest Gini Index"
   ]
  },
  {
   "cell_type": "code",
   "execution_count": 134,
   "metadata": {},
   "outputs": [],
   "source": [
    "zaf = master.loc[(master['country'] == 'ZAF')]"
   ]
  },
  {
   "cell_type": "code",
   "execution_count": 135,
   "metadata": {},
   "outputs": [
    {
     "data": {
      "text/plain": [
       "(100, 10)"
      ]
     },
     "execution_count": 135,
     "metadata": {},
     "output_type": "execute_result"
    }
   ],
   "source": [
    "zaf.shape"
   ]
  },
  {
   "cell_type": "code",
   "execution_count": 136,
   "metadata": {},
   "outputs": [
    {
     "data": {
      "text/html": [
       "<div>\n",
       "<style scoped>\n",
       "    .dataframe tbody tr th:only-of-type {\n",
       "        vertical-align: middle;\n",
       "    }\n",
       "\n",
       "    .dataframe tbody tr th {\n",
       "        vertical-align: top;\n",
       "    }\n",
       "\n",
       "    .dataframe thead th {\n",
       "        text-align: right;\n",
       "    }\n",
       "</style>\n",
       "<table border=\"1\" class=\"dataframe\">\n",
       "  <thead>\n",
       "    <tr style=\"text-align: right;\">\n",
       "      <th></th>\n",
       "      <th>Total_Population</th>\n",
       "      <th>year_survey</th>\n",
       "      <th>quantile</th>\n",
       "      <th>nb_quantiles</th>\n",
       "      <th>income</th>\n",
       "      <th>gdpppp</th>\n",
       "      <th>Gini_Index</th>\n",
       "    </tr>\n",
       "  </thead>\n",
       "  <tbody>\n",
       "    <tr>\n",
       "      <td>count</td>\n",
       "      <td>100.0</td>\n",
       "      <td>100.0</td>\n",
       "      <td>100.000000</td>\n",
       "      <td>100.0</td>\n",
       "      <td>100.000000</td>\n",
       "      <td>100.0</td>\n",
       "      <td>100.0</td>\n",
       "    </tr>\n",
       "    <tr>\n",
       "      <td>mean</td>\n",
       "      <td>49779471.0</td>\n",
       "      <td>2008.0</td>\n",
       "      <td>50.500000</td>\n",
       "      <td>100.0</td>\n",
       "      <td>5617.904880</td>\n",
       "      <td>9602.0</td>\n",
       "      <td>63.0</td>\n",
       "    </tr>\n",
       "    <tr>\n",
       "      <td>std</td>\n",
       "      <td>0.0</td>\n",
       "      <td>0.0</td>\n",
       "      <td>29.011492</td>\n",
       "      <td>0.0</td>\n",
       "      <td>10806.904069</td>\n",
       "      <td>0.0</td>\n",
       "      <td>0.0</td>\n",
       "    </tr>\n",
       "    <tr>\n",
       "      <td>min</td>\n",
       "      <td>49779471.0</td>\n",
       "      <td>2008.0</td>\n",
       "      <td>1.000000</td>\n",
       "      <td>100.0</td>\n",
       "      <td>60.490383</td>\n",
       "      <td>9602.0</td>\n",
       "      <td>63.0</td>\n",
       "    </tr>\n",
       "    <tr>\n",
       "      <td>25%</td>\n",
       "      <td>49779471.0</td>\n",
       "      <td>2008.0</td>\n",
       "      <td>25.750000</td>\n",
       "      <td>100.0</td>\n",
       "      <td>914.353375</td>\n",
       "      <td>9602.0</td>\n",
       "      <td>63.0</td>\n",
       "    </tr>\n",
       "    <tr>\n",
       "      <td>50%</td>\n",
       "      <td>49779471.0</td>\n",
       "      <td>2008.0</td>\n",
       "      <td>50.500000</td>\n",
       "      <td>100.0</td>\n",
       "      <td>2065.865900</td>\n",
       "      <td>9602.0</td>\n",
       "      <td>63.0</td>\n",
       "    </tr>\n",
       "    <tr>\n",
       "      <td>75%</td>\n",
       "      <td>49779471.0</td>\n",
       "      <td>2008.0</td>\n",
       "      <td>75.250000</td>\n",
       "      <td>100.0</td>\n",
       "      <td>5154.617550</td>\n",
       "      <td>9602.0</td>\n",
       "      <td>63.0</td>\n",
       "    </tr>\n",
       "    <tr>\n",
       "      <td>max</td>\n",
       "      <td>49779471.0</td>\n",
       "      <td>2008.0</td>\n",
       "      <td>100.000000</td>\n",
       "      <td>100.0</td>\n",
       "      <td>82408.550000</td>\n",
       "      <td>9602.0</td>\n",
       "      <td>63.0</td>\n",
       "    </tr>\n",
       "  </tbody>\n",
       "</table>\n",
       "</div>"
      ],
      "text/plain": [
       "       Total_Population  year_survey    quantile  nb_quantiles        income  \\\n",
       "count             100.0        100.0  100.000000         100.0    100.000000   \n",
       "mean         49779471.0       2008.0   50.500000         100.0   5617.904880   \n",
       "std                 0.0          0.0   29.011492           0.0  10806.904069   \n",
       "min          49779471.0       2008.0    1.000000         100.0     60.490383   \n",
       "25%          49779471.0       2008.0   25.750000         100.0    914.353375   \n",
       "50%          49779471.0       2008.0   50.500000         100.0   2065.865900   \n",
       "75%          49779471.0       2008.0   75.250000         100.0   5154.617550   \n",
       "max          49779471.0       2008.0  100.000000         100.0  82408.550000   \n",
       "\n",
       "       gdpppp  Gini_Index  \n",
       "count   100.0       100.0  \n",
       "mean   9602.0        63.0  \n",
       "std       0.0         0.0  \n",
       "min    9602.0        63.0  \n",
       "25%    9602.0        63.0  \n",
       "50%    9602.0        63.0  \n",
       "75%    9602.0        63.0  \n",
       "max    9602.0        63.0  "
      ]
     },
     "execution_count": 136,
     "metadata": {},
     "output_type": "execute_result"
    }
   ],
   "source": [
    "zaf.describe()"
   ]
  },
  {
   "cell_type": "code",
   "execution_count": 137,
   "metadata": {},
   "outputs": [],
   "source": [
    "# twentyfive = df_6.loc[(df_6['Gini_Index'] == 30.9)]\n",
    "# IRL\n",
    "# Ireland"
   ]
  },
  {
   "cell_type": "code",
   "execution_count": 138,
   "metadata": {},
   "outputs": [],
   "source": [
    "irl = master.loc[(master['country'] == 'IRL')]"
   ]
  },
  {
   "cell_type": "code",
   "execution_count": 139,
   "metadata": {},
   "outputs": [
    {
     "data": {
      "text/plain": [
       "(100, 10)"
      ]
     },
     "execution_count": 139,
     "metadata": {},
     "output_type": "execute_result"
    }
   ],
   "source": [
    "irl.shape"
   ]
  },
  {
   "cell_type": "code",
   "execution_count": 140,
   "metadata": {},
   "outputs": [
    {
     "data": {
      "text/html": [
       "<div>\n",
       "<style scoped>\n",
       "    .dataframe tbody tr th:only-of-type {\n",
       "        vertical-align: middle;\n",
       "    }\n",
       "\n",
       "    .dataframe tbody tr th {\n",
       "        vertical-align: top;\n",
       "    }\n",
       "\n",
       "    .dataframe thead th {\n",
       "        text-align: right;\n",
       "    }\n",
       "</style>\n",
       "<table border=\"1\" class=\"dataframe\">\n",
       "  <thead>\n",
       "    <tr style=\"text-align: right;\">\n",
       "      <th></th>\n",
       "      <th>Total_Population</th>\n",
       "      <th>year_survey</th>\n",
       "      <th>quantile</th>\n",
       "      <th>nb_quantiles</th>\n",
       "      <th>income</th>\n",
       "      <th>gdpppp</th>\n",
       "      <th>Gini_Index</th>\n",
       "    </tr>\n",
       "  </thead>\n",
       "  <tbody>\n",
       "    <tr>\n",
       "      <td>count</td>\n",
       "      <td>100.0</td>\n",
       "      <td>100.0</td>\n",
       "      <td>100.000000</td>\n",
       "      <td>100.0</td>\n",
       "      <td>100.000000</td>\n",
       "      <td>100.0</td>\n",
       "      <td>1.000000e+02</td>\n",
       "    </tr>\n",
       "    <tr>\n",
       "      <td>mean</td>\n",
       "      <td>4489544.0</td>\n",
       "      <td>2008.0</td>\n",
       "      <td>50.500000</td>\n",
       "      <td>100.0</td>\n",
       "      <td>17710.735838</td>\n",
       "      <td>39268.0</td>\n",
       "      <td>3.090000e+01</td>\n",
       "    </tr>\n",
       "    <tr>\n",
       "      <td>std</td>\n",
       "      <td>0.0</td>\n",
       "      <td>0.0</td>\n",
       "      <td>29.011492</td>\n",
       "      <td>0.0</td>\n",
       "      <td>11869.126068</td>\n",
       "      <td>0.0</td>\n",
       "      <td>5.712979e-14</td>\n",
       "    </tr>\n",
       "    <tr>\n",
       "      <td>min</td>\n",
       "      <td>4489544.0</td>\n",
       "      <td>2008.0</td>\n",
       "      <td>1.000000</td>\n",
       "      <td>100.0</td>\n",
       "      <td>2819.135000</td>\n",
       "      <td>39268.0</td>\n",
       "      <td>3.090000e+01</td>\n",
       "    </tr>\n",
       "    <tr>\n",
       "      <td>25%</td>\n",
       "      <td>4489544.0</td>\n",
       "      <td>2008.0</td>\n",
       "      <td>25.750000</td>\n",
       "      <td>100.0</td>\n",
       "      <td>10752.975250</td>\n",
       "      <td>39268.0</td>\n",
       "      <td>3.090000e+01</td>\n",
       "    </tr>\n",
       "    <tr>\n",
       "      <td>50%</td>\n",
       "      <td>4489544.0</td>\n",
       "      <td>2008.0</td>\n",
       "      <td>50.500000</td>\n",
       "      <td>100.0</td>\n",
       "      <td>14946.448500</td>\n",
       "      <td>39268.0</td>\n",
       "      <td>3.090000e+01</td>\n",
       "    </tr>\n",
       "    <tr>\n",
       "      <td>75%</td>\n",
       "      <td>4489544.0</td>\n",
       "      <td>2008.0</td>\n",
       "      <td>75.250000</td>\n",
       "      <td>100.0</td>\n",
       "      <td>21635.454500</td>\n",
       "      <td>39268.0</td>\n",
       "      <td>3.090000e+01</td>\n",
       "    </tr>\n",
       "    <tr>\n",
       "      <td>max</td>\n",
       "      <td>4489544.0</td>\n",
       "      <td>2008.0</td>\n",
       "      <td>100.000000</td>\n",
       "      <td>100.0</td>\n",
       "      <td>96758.680000</td>\n",
       "      <td>39268.0</td>\n",
       "      <td>3.090000e+01</td>\n",
       "    </tr>\n",
       "  </tbody>\n",
       "</table>\n",
       "</div>"
      ],
      "text/plain": [
       "       Total_Population  year_survey    quantile  nb_quantiles        income  \\\n",
       "count             100.0        100.0  100.000000         100.0    100.000000   \n",
       "mean          4489544.0       2008.0   50.500000         100.0  17710.735838   \n",
       "std                 0.0          0.0   29.011492           0.0  11869.126068   \n",
       "min           4489544.0       2008.0    1.000000         100.0   2819.135000   \n",
       "25%           4489544.0       2008.0   25.750000         100.0  10752.975250   \n",
       "50%           4489544.0       2008.0   50.500000         100.0  14946.448500   \n",
       "75%           4489544.0       2008.0   75.250000         100.0  21635.454500   \n",
       "max           4489544.0       2008.0  100.000000         100.0  96758.680000   \n",
       "\n",
       "        gdpppp    Gini_Index  \n",
       "count    100.0  1.000000e+02  \n",
       "mean   39268.0  3.090000e+01  \n",
       "std        0.0  5.712979e-14  \n",
       "min    39268.0  3.090000e+01  \n",
       "25%    39268.0  3.090000e+01  \n",
       "50%    39268.0  3.090000e+01  \n",
       "75%    39268.0  3.090000e+01  \n",
       "max    39268.0  3.090000e+01  "
      ]
     },
     "execution_count": 140,
     "metadata": {},
     "output_type": "execute_result"
    }
   ],
   "source": [
    "irl.describe()"
   ]
  },
  {
   "cell_type": "code",
   "execution_count": 141,
   "metadata": {},
   "outputs": [],
   "source": [
    "# fifty = df_6.loc[(df_6['Gini_Index'] == 35.7)]\n",
    "# Lithuania\n",
    "# LTU"
   ]
  },
  {
   "cell_type": "code",
   "execution_count": 142,
   "metadata": {},
   "outputs": [],
   "source": [
    "ltu = master.loc[(master['country'] == 'LTU')]"
   ]
  },
  {
   "cell_type": "code",
   "execution_count": 143,
   "metadata": {},
   "outputs": [
    {
     "data": {
      "text/plain": [
       "(99, 10)"
      ]
     },
     "execution_count": 143,
     "metadata": {},
     "output_type": "execute_result"
    }
   ],
   "source": [
    "ltu.shape"
   ]
  },
  {
   "cell_type": "code",
   "execution_count": 144,
   "metadata": {},
   "outputs": [],
   "source": [
    "# to make it possible to chart the lorenz curve \n",
    "def repeatRows(d, n=1):\n",
    "    return pd.concat([d]*n)\n",
    "ltu = pd.concat([ltu,repeatRows(ltu[-1:], 1)])"
   ]
  },
  {
   "cell_type": "code",
   "execution_count": 145,
   "metadata": {},
   "outputs": [
    {
     "data": {
      "text/plain": [
       "(100, 10)"
      ]
     },
     "execution_count": 145,
     "metadata": {},
     "output_type": "execute_result"
    }
   ],
   "source": [
    "ltu.shape"
   ]
  },
  {
   "cell_type": "code",
   "execution_count": 146,
   "metadata": {},
   "outputs": [
    {
     "data": {
      "text/html": [
       "<div>\n",
       "<style scoped>\n",
       "    .dataframe tbody tr th:only-of-type {\n",
       "        vertical-align: middle;\n",
       "    }\n",
       "\n",
       "    .dataframe tbody tr th {\n",
       "        vertical-align: top;\n",
       "    }\n",
       "\n",
       "    .dataframe thead th {\n",
       "        text-align: right;\n",
       "    }\n",
       "</style>\n",
       "<table border=\"1\" class=\"dataframe\">\n",
       "  <thead>\n",
       "    <tr style=\"text-align: right;\">\n",
       "      <th></th>\n",
       "      <th>Total_Population</th>\n",
       "      <th>year_survey</th>\n",
       "      <th>quantile</th>\n",
       "      <th>nb_quantiles</th>\n",
       "      <th>income</th>\n",
       "      <th>gdpppp</th>\n",
       "      <th>Gini_Index</th>\n",
       "    </tr>\n",
       "  </thead>\n",
       "  <tbody>\n",
       "    <tr>\n",
       "      <td>count</td>\n",
       "      <td>100.0</td>\n",
       "      <td>100.0</td>\n",
       "      <td>100.000000</td>\n",
       "      <td>100.0</td>\n",
       "      <td>100.000000</td>\n",
       "      <td>100.0</td>\n",
       "      <td>1.000000e+02</td>\n",
       "    </tr>\n",
       "    <tr>\n",
       "      <td>mean</td>\n",
       "      <td>3198231.0</td>\n",
       "      <td>2008.0</td>\n",
       "      <td>51.090000</td>\n",
       "      <td>100.0</td>\n",
       "      <td>6963.200458</td>\n",
       "      <td>17571.0</td>\n",
       "      <td>3.570000e+01</td>\n",
       "    </tr>\n",
       "    <tr>\n",
       "      <td>std</td>\n",
       "      <td>0.0</td>\n",
       "      <td>0.0</td>\n",
       "      <td>29.413491</td>\n",
       "      <td>0.0</td>\n",
       "      <td>5881.196155</td>\n",
       "      <td>0.0</td>\n",
       "      <td>6.427101e-14</td>\n",
       "    </tr>\n",
       "    <tr>\n",
       "      <td>min</td>\n",
       "      <td>3198231.0</td>\n",
       "      <td>2008.0</td>\n",
       "      <td>1.000000</td>\n",
       "      <td>100.0</td>\n",
       "      <td>566.345300</td>\n",
       "      <td>17571.0</td>\n",
       "      <td>3.570000e+01</td>\n",
       "    </tr>\n",
       "    <tr>\n",
       "      <td>25%</td>\n",
       "      <td>3198231.0</td>\n",
       "      <td>2008.0</td>\n",
       "      <td>25.750000</td>\n",
       "      <td>100.0</td>\n",
       "      <td>3913.669150</td>\n",
       "      <td>17571.0</td>\n",
       "      <td>3.570000e+01</td>\n",
       "    </tr>\n",
       "    <tr>\n",
       "      <td>50%</td>\n",
       "      <td>3198231.0</td>\n",
       "      <td>2008.0</td>\n",
       "      <td>51.500000</td>\n",
       "      <td>100.0</td>\n",
       "      <td>5554.198500</td>\n",
       "      <td>17571.0</td>\n",
       "      <td>3.570000e+01</td>\n",
       "    </tr>\n",
       "    <tr>\n",
       "      <td>75%</td>\n",
       "      <td>3198231.0</td>\n",
       "      <td>2008.0</td>\n",
       "      <td>76.250000</td>\n",
       "      <td>100.0</td>\n",
       "      <td>8055.839125</td>\n",
       "      <td>17571.0</td>\n",
       "      <td>3.570000e+01</td>\n",
       "    </tr>\n",
       "    <tr>\n",
       "      <td>max</td>\n",
       "      <td>3198231.0</td>\n",
       "      <td>2008.0</td>\n",
       "      <td>100.000000</td>\n",
       "      <td>100.0</td>\n",
       "      <td>38836.530000</td>\n",
       "      <td>17571.0</td>\n",
       "      <td>3.570000e+01</td>\n",
       "    </tr>\n",
       "  </tbody>\n",
       "</table>\n",
       "</div>"
      ],
      "text/plain": [
       "       Total_Population  year_survey    quantile  nb_quantiles        income  \\\n",
       "count             100.0        100.0  100.000000         100.0    100.000000   \n",
       "mean          3198231.0       2008.0   51.090000         100.0   6963.200458   \n",
       "std                 0.0          0.0   29.413491           0.0   5881.196155   \n",
       "min           3198231.0       2008.0    1.000000         100.0    566.345300   \n",
       "25%           3198231.0       2008.0   25.750000         100.0   3913.669150   \n",
       "50%           3198231.0       2008.0   51.500000         100.0   5554.198500   \n",
       "75%           3198231.0       2008.0   76.250000         100.0   8055.839125   \n",
       "max           3198231.0       2008.0  100.000000         100.0  38836.530000   \n",
       "\n",
       "        gdpppp    Gini_Index  \n",
       "count    100.0  1.000000e+02  \n",
       "mean   17571.0  3.570000e+01  \n",
       "std        0.0  6.427101e-14  \n",
       "min    17571.0  3.570000e+01  \n",
       "25%    17571.0  3.570000e+01  \n",
       "50%    17571.0  3.570000e+01  \n",
       "75%    17571.0  3.570000e+01  \n",
       "max    17571.0  3.570000e+01  "
      ]
     },
     "execution_count": 146,
     "metadata": {},
     "output_type": "execute_result"
    }
   ],
   "source": [
    "ltu.describe()"
   ]
  },
  {
   "cell_type": "code",
   "execution_count": 147,
   "metadata": {},
   "outputs": [],
   "source": [
    "# seventyfive = df_6.loc[(df_6['Gini_Index'] == 45.3)]\n",
    "# Argentina\n",
    "# ARG"
   ]
  },
  {
   "cell_type": "code",
   "execution_count": 148,
   "metadata": {},
   "outputs": [],
   "source": [
    "arg = master.loc[(master['country'] == 'ARG')]"
   ]
  },
  {
   "cell_type": "code",
   "execution_count": 149,
   "metadata": {},
   "outputs": [
    {
     "data": {
      "text/plain": [
       "(100, 10)"
      ]
     },
     "execution_count": 149,
     "metadata": {},
     "output_type": "execute_result"
    }
   ],
   "source": [
    "arg.shape"
   ]
  },
  {
   "cell_type": "code",
   "execution_count": 150,
   "metadata": {},
   "outputs": [
    {
     "data": {
      "text/html": [
       "<div>\n",
       "<style scoped>\n",
       "    .dataframe tbody tr th:only-of-type {\n",
       "        vertical-align: middle;\n",
       "    }\n",
       "\n",
       "    .dataframe tbody tr th {\n",
       "        vertical-align: top;\n",
       "    }\n",
       "\n",
       "    .dataframe thead th {\n",
       "        text-align: right;\n",
       "    }\n",
       "</style>\n",
       "<table border=\"1\" class=\"dataframe\">\n",
       "  <thead>\n",
       "    <tr style=\"text-align: right;\">\n",
       "      <th></th>\n",
       "      <th>Total_Population</th>\n",
       "      <th>year_survey</th>\n",
       "      <th>quantile</th>\n",
       "      <th>nb_quantiles</th>\n",
       "      <th>income</th>\n",
       "      <th>gdpppp</th>\n",
       "      <th>Gini_Index</th>\n",
       "    </tr>\n",
       "  </thead>\n",
       "  <tbody>\n",
       "    <tr>\n",
       "      <td>count</td>\n",
       "      <td>100.0</td>\n",
       "      <td>100.0</td>\n",
       "      <td>100.000000</td>\n",
       "      <td>100.0</td>\n",
       "      <td>100.000000</td>\n",
       "      <td>100.0</td>\n",
       "      <td>1.000000e+02</td>\n",
       "    </tr>\n",
       "    <tr>\n",
       "      <td>mean</td>\n",
       "      <td>40080160.0</td>\n",
       "      <td>2008.0</td>\n",
       "      <td>50.500000</td>\n",
       "      <td>100.0</td>\n",
       "      <td>5847.884654</td>\n",
       "      <td>13220.0</td>\n",
       "      <td>4.530000e+01</td>\n",
       "    </tr>\n",
       "    <tr>\n",
       "      <td>std</td>\n",
       "      <td>0.0</td>\n",
       "      <td>0.0</td>\n",
       "      <td>29.011492</td>\n",
       "      <td>0.0</td>\n",
       "      <td>5914.737007</td>\n",
       "      <td>0.0</td>\n",
       "      <td>8.569468e-14</td>\n",
       "    </tr>\n",
       "    <tr>\n",
       "      <td>min</td>\n",
       "      <td>40080160.0</td>\n",
       "      <td>2008.0</td>\n",
       "      <td>1.000000</td>\n",
       "      <td>100.0</td>\n",
       "      <td>254.089420</td>\n",
       "      <td>13220.0</td>\n",
       "      <td>4.530000e+01</td>\n",
       "    </tr>\n",
       "    <tr>\n",
       "      <td>25%</td>\n",
       "      <td>40080160.0</td>\n",
       "      <td>2008.0</td>\n",
       "      <td>25.750000</td>\n",
       "      <td>100.0</td>\n",
       "      <td>2345.543875</td>\n",
       "      <td>13220.0</td>\n",
       "      <td>4.530000e+01</td>\n",
       "    </tr>\n",
       "    <tr>\n",
       "      <td>50%</td>\n",
       "      <td>40080160.0</td>\n",
       "      <td>2008.0</td>\n",
       "      <td>50.500000</td>\n",
       "      <td>100.0</td>\n",
       "      <td>4184.390600</td>\n",
       "      <td>13220.0</td>\n",
       "      <td>4.530000e+01</td>\n",
       "    </tr>\n",
       "    <tr>\n",
       "      <td>75%</td>\n",
       "      <td>40080160.0</td>\n",
       "      <td>2008.0</td>\n",
       "      <td>75.250000</td>\n",
       "      <td>100.0</td>\n",
       "      <td>7255.786425</td>\n",
       "      <td>13220.0</td>\n",
       "      <td>4.530000e+01</td>\n",
       "    </tr>\n",
       "    <tr>\n",
       "      <td>max</td>\n",
       "      <td>40080160.0</td>\n",
       "      <td>2008.0</td>\n",
       "      <td>100.000000</td>\n",
       "      <td>100.0</td>\n",
       "      <td>43669.242000</td>\n",
       "      <td>13220.0</td>\n",
       "      <td>4.530000e+01</td>\n",
       "    </tr>\n",
       "  </tbody>\n",
       "</table>\n",
       "</div>"
      ],
      "text/plain": [
       "       Total_Population  year_survey    quantile  nb_quantiles        income  \\\n",
       "count             100.0        100.0  100.000000         100.0    100.000000   \n",
       "mean         40080160.0       2008.0   50.500000         100.0   5847.884654   \n",
       "std                 0.0          0.0   29.011492           0.0   5914.737007   \n",
       "min          40080160.0       2008.0    1.000000         100.0    254.089420   \n",
       "25%          40080160.0       2008.0   25.750000         100.0   2345.543875   \n",
       "50%          40080160.0       2008.0   50.500000         100.0   4184.390600   \n",
       "75%          40080160.0       2008.0   75.250000         100.0   7255.786425   \n",
       "max          40080160.0       2008.0  100.000000         100.0  43669.242000   \n",
       "\n",
       "        gdpppp    Gini_Index  \n",
       "count    100.0  1.000000e+02  \n",
       "mean   13220.0  4.530000e+01  \n",
       "std        0.0  8.569468e-14  \n",
       "min    13220.0  4.530000e+01  \n",
       "25%    13220.0  4.530000e+01  \n",
       "50%    13220.0  4.530000e+01  \n",
       "75%    13220.0  4.530000e+01  \n",
       "max    13220.0  4.530000e+01  "
      ]
     },
     "execution_count": 150,
     "metadata": {},
     "output_type": "execute_result"
    }
   ],
   "source": [
    "arg.describe()"
   ]
  },
  {
   "cell_type": "markdown",
   "metadata": {},
   "source": [
    "The countries on the list for the graph will include \n",
    "\n",
    "* Slovenia\n",
    "\n",
    "* South Africa\n",
    "\n",
    "* the United States\n",
    "\n",
    "* Ireland\n",
    "\n",
    "* Lithuania\n",
    "\n",
    "* Argentina"
   ]
  },
  {
   "cell_type": "code",
   "execution_count": 151,
   "metadata": {},
   "outputs": [],
   "source": [
    "countries = pd.concat([usa, svn, zaf, irl, ltu, arg], axis=0)\n"
   ]
  },
  {
   "cell_type": "code",
   "execution_count": 152,
   "metadata": {},
   "outputs": [
    {
     "data": {
      "text/html": [
       "<div>\n",
       "<style scoped>\n",
       "    .dataframe tbody tr th:only-of-type {\n",
       "        vertical-align: middle;\n",
       "    }\n",
       "\n",
       "    .dataframe tbody tr th {\n",
       "        vertical-align: top;\n",
       "    }\n",
       "\n",
       "    .dataframe thead th {\n",
       "        text-align: right;\n",
       "    }\n",
       "</style>\n",
       "<table border=\"1\" class=\"dataframe\">\n",
       "  <thead>\n",
       "    <tr style=\"text-align: right;\">\n",
       "      <th></th>\n",
       "      <th>index</th>\n",
       "      <th>Country Name</th>\n",
       "      <th>country</th>\n",
       "      <th>Total_Population</th>\n",
       "      <th>Gini Index</th>\n",
       "      <th>year_survey</th>\n",
       "      <th>quantile</th>\n",
       "      <th>nb_quantiles</th>\n",
       "      <th>income</th>\n",
       "      <th>gdpppp</th>\n",
       "      <th>Gini_Index</th>\n",
       "    </tr>\n",
       "  </thead>\n",
       "  <tbody>\n",
       "    <tr>\n",
       "      <td>0</td>\n",
       "      <td>10499</td>\n",
       "      <td>United States</td>\n",
       "      <td>USA</td>\n",
       "      <td>304093966</td>\n",
       "      <td>45.1</td>\n",
       "      <td>2008</td>\n",
       "      <td>1</td>\n",
       "      <td>100</td>\n",
       "      <td>663.4761</td>\n",
       "      <td>43261.0</td>\n",
       "      <td>45.1</td>\n",
       "    </tr>\n",
       "    <tr>\n",
       "      <td>1</td>\n",
       "      <td>10500</td>\n",
       "      <td>United States</td>\n",
       "      <td>USA</td>\n",
       "      <td>304093966</td>\n",
       "      <td>45.1</td>\n",
       "      <td>2008</td>\n",
       "      <td>2</td>\n",
       "      <td>100</td>\n",
       "      <td>1698.0868</td>\n",
       "      <td>43261.0</td>\n",
       "      <td>45.1</td>\n",
       "    </tr>\n",
       "    <tr>\n",
       "      <td>2</td>\n",
       "      <td>10501</td>\n",
       "      <td>United States</td>\n",
       "      <td>USA</td>\n",
       "      <td>304093966</td>\n",
       "      <td>45.1</td>\n",
       "      <td>2008</td>\n",
       "      <td>3</td>\n",
       "      <td>100</td>\n",
       "      <td>2439.7354</td>\n",
       "      <td>43261.0</td>\n",
       "      <td>45.1</td>\n",
       "    </tr>\n",
       "    <tr>\n",
       "      <td>3</td>\n",
       "      <td>10502</td>\n",
       "      <td>United States</td>\n",
       "      <td>USA</td>\n",
       "      <td>304093966</td>\n",
       "      <td>45.1</td>\n",
       "      <td>2008</td>\n",
       "      <td>4</td>\n",
       "      <td>100</td>\n",
       "      <td>3054.2478</td>\n",
       "      <td>43261.0</td>\n",
       "      <td>45.1</td>\n",
       "    </tr>\n",
       "    <tr>\n",
       "      <td>4</td>\n",
       "      <td>10503</td>\n",
       "      <td>United States</td>\n",
       "      <td>USA</td>\n",
       "      <td>304093966</td>\n",
       "      <td>45.1</td>\n",
       "      <td>2008</td>\n",
       "      <td>5</td>\n",
       "      <td>100</td>\n",
       "      <td>3627.5483</td>\n",
       "      <td>43261.0</td>\n",
       "      <td>45.1</td>\n",
       "    </tr>\n",
       "    <tr>\n",
       "      <td>...</td>\n",
       "      <td>...</td>\n",
       "      <td>...</td>\n",
       "      <td>...</td>\n",
       "      <td>...</td>\n",
       "      <td>...</td>\n",
       "      <td>...</td>\n",
       "      <td>...</td>\n",
       "      <td>...</td>\n",
       "      <td>...</td>\n",
       "      <td>...</td>\n",
       "      <td>...</td>\n",
       "    </tr>\n",
       "    <tr>\n",
       "      <td>595</td>\n",
       "      <td>195</td>\n",
       "      <td>Argentina</td>\n",
       "      <td>ARG</td>\n",
       "      <td>40080160</td>\n",
       "      <td>45.3</td>\n",
       "      <td>2008</td>\n",
       "      <td>96</td>\n",
       "      <td>100</td>\n",
       "      <td>16618.8730</td>\n",
       "      <td>13220.0</td>\n",
       "      <td>45.3</td>\n",
       "    </tr>\n",
       "    <tr>\n",
       "      <td>596</td>\n",
       "      <td>196</td>\n",
       "      <td>Argentina</td>\n",
       "      <td>ARG</td>\n",
       "      <td>40080160</td>\n",
       "      <td>45.3</td>\n",
       "      <td>2008</td>\n",
       "      <td>97</td>\n",
       "      <td>100</td>\n",
       "      <td>18226.7300</td>\n",
       "      <td>13220.0</td>\n",
       "      <td>45.3</td>\n",
       "    </tr>\n",
       "    <tr>\n",
       "      <td>597</td>\n",
       "      <td>197</td>\n",
       "      <td>Argentina</td>\n",
       "      <td>ARG</td>\n",
       "      <td>40080160</td>\n",
       "      <td>45.3</td>\n",
       "      <td>2008</td>\n",
       "      <td>98</td>\n",
       "      <td>100</td>\n",
       "      <td>20528.3050</td>\n",
       "      <td>13220.0</td>\n",
       "      <td>45.3</td>\n",
       "    </tr>\n",
       "    <tr>\n",
       "      <td>598</td>\n",
       "      <td>198</td>\n",
       "      <td>Argentina</td>\n",
       "      <td>ARG</td>\n",
       "      <td>40080160</td>\n",
       "      <td>45.3</td>\n",
       "      <td>2008</td>\n",
       "      <td>99</td>\n",
       "      <td>100</td>\n",
       "      <td>24444.9500</td>\n",
       "      <td>13220.0</td>\n",
       "      <td>45.3</td>\n",
       "    </tr>\n",
       "    <tr>\n",
       "      <td>599</td>\n",
       "      <td>199</td>\n",
       "      <td>Argentina</td>\n",
       "      <td>ARG</td>\n",
       "      <td>40080160</td>\n",
       "      <td>45.3</td>\n",
       "      <td>2008</td>\n",
       "      <td>100</td>\n",
       "      <td>100</td>\n",
       "      <td>43669.2420</td>\n",
       "      <td>13220.0</td>\n",
       "      <td>45.3</td>\n",
       "    </tr>\n",
       "  </tbody>\n",
       "</table>\n",
       "<p>600 rows × 11 columns</p>\n",
       "</div>"
      ],
      "text/plain": [
       "     index   Country Name country  Total_Population Gini Index  year_survey  \\\n",
       "0    10499  United States     USA         304093966       45.1         2008   \n",
       "1    10500  United States     USA         304093966       45.1         2008   \n",
       "2    10501  United States     USA         304093966       45.1         2008   \n",
       "3    10502  United States     USA         304093966       45.1         2008   \n",
       "4    10503  United States     USA         304093966       45.1         2008   \n",
       "..     ...            ...     ...               ...        ...          ...   \n",
       "595    195      Argentina     ARG          40080160       45.3         2008   \n",
       "596    196      Argentina     ARG          40080160       45.3         2008   \n",
       "597    197      Argentina     ARG          40080160       45.3         2008   \n",
       "598    198      Argentina     ARG          40080160       45.3         2008   \n",
       "599    199      Argentina     ARG          40080160       45.3         2008   \n",
       "\n",
       "     quantile  nb_quantiles      income   gdpppp  Gini_Index  \n",
       "0           1           100    663.4761  43261.0        45.1  \n",
       "1           2           100   1698.0868  43261.0        45.1  \n",
       "2           3           100   2439.7354  43261.0        45.1  \n",
       "3           4           100   3054.2478  43261.0        45.1  \n",
       "4           5           100   3627.5483  43261.0        45.1  \n",
       "..        ...           ...         ...      ...         ...  \n",
       "595        96           100  16618.8730  13220.0        45.3  \n",
       "596        97           100  18226.7300  13220.0        45.3  \n",
       "597        98           100  20528.3050  13220.0        45.3  \n",
       "598        99           100  24444.9500  13220.0        45.3  \n",
       "599       100           100  43669.2420  13220.0        45.3  \n",
       "\n",
       "[600 rows x 11 columns]"
      ]
     },
     "execution_count": 152,
     "metadata": {},
     "output_type": "execute_result"
    }
   ],
   "source": [
    "countries.reset_index()"
   ]
  },
  {
   "cell_type": "code",
   "execution_count": 153,
   "metadata": {},
   "outputs": [
    {
     "data": {
      "text/html": [
       "<div>\n",
       "<style scoped>\n",
       "    .dataframe tbody tr th:only-of-type {\n",
       "        vertical-align: middle;\n",
       "    }\n",
       "\n",
       "    .dataframe tbody tr th {\n",
       "        vertical-align: top;\n",
       "    }\n",
       "\n",
       "    .dataframe thead th {\n",
       "        text-align: right;\n",
       "    }\n",
       "</style>\n",
       "<table border=\"1\" class=\"dataframe\">\n",
       "  <thead>\n",
       "    <tr style=\"text-align: right;\">\n",
       "      <th></th>\n",
       "      <th>Country Name</th>\n",
       "      <th>country</th>\n",
       "      <th>Total_Population</th>\n",
       "      <th>Gini Index</th>\n",
       "      <th>year_survey</th>\n",
       "      <th>quantile</th>\n",
       "      <th>nb_quantiles</th>\n",
       "      <th>income</th>\n",
       "      <th>gdpppp</th>\n",
       "      <th>Gini_Index</th>\n",
       "    </tr>\n",
       "  </thead>\n",
       "  <tbody>\n",
       "    <tr>\n",
       "      <td>10499</td>\n",
       "      <td>United States</td>\n",
       "      <td>USA</td>\n",
       "      <td>304093966</td>\n",
       "      <td>45.1</td>\n",
       "      <td>2008</td>\n",
       "      <td>1</td>\n",
       "      <td>100</td>\n",
       "      <td>663.4761</td>\n",
       "      <td>43261.0</td>\n",
       "      <td>45.1</td>\n",
       "    </tr>\n",
       "    <tr>\n",
       "      <td>10500</td>\n",
       "      <td>United States</td>\n",
       "      <td>USA</td>\n",
       "      <td>304093966</td>\n",
       "      <td>45.1</td>\n",
       "      <td>2008</td>\n",
       "      <td>2</td>\n",
       "      <td>100</td>\n",
       "      <td>1698.0868</td>\n",
       "      <td>43261.0</td>\n",
       "      <td>45.1</td>\n",
       "    </tr>\n",
       "    <tr>\n",
       "      <td>10501</td>\n",
       "      <td>United States</td>\n",
       "      <td>USA</td>\n",
       "      <td>304093966</td>\n",
       "      <td>45.1</td>\n",
       "      <td>2008</td>\n",
       "      <td>3</td>\n",
       "      <td>100</td>\n",
       "      <td>2439.7354</td>\n",
       "      <td>43261.0</td>\n",
       "      <td>45.1</td>\n",
       "    </tr>\n",
       "    <tr>\n",
       "      <td>10502</td>\n",
       "      <td>United States</td>\n",
       "      <td>USA</td>\n",
       "      <td>304093966</td>\n",
       "      <td>45.1</td>\n",
       "      <td>2008</td>\n",
       "      <td>4</td>\n",
       "      <td>100</td>\n",
       "      <td>3054.2478</td>\n",
       "      <td>43261.0</td>\n",
       "      <td>45.1</td>\n",
       "    </tr>\n",
       "    <tr>\n",
       "      <td>10503</td>\n",
       "      <td>United States</td>\n",
       "      <td>USA</td>\n",
       "      <td>304093966</td>\n",
       "      <td>45.1</td>\n",
       "      <td>2008</td>\n",
       "      <td>5</td>\n",
       "      <td>100</td>\n",
       "      <td>3627.5483</td>\n",
       "      <td>43261.0</td>\n",
       "      <td>45.1</td>\n",
       "    </tr>\n",
       "    <tr>\n",
       "      <td>...</td>\n",
       "      <td>...</td>\n",
       "      <td>...</td>\n",
       "      <td>...</td>\n",
       "      <td>...</td>\n",
       "      <td>...</td>\n",
       "      <td>...</td>\n",
       "      <td>...</td>\n",
       "      <td>...</td>\n",
       "      <td>...</td>\n",
       "      <td>...</td>\n",
       "    </tr>\n",
       "    <tr>\n",
       "      <td>195</td>\n",
       "      <td>Argentina</td>\n",
       "      <td>ARG</td>\n",
       "      <td>40080160</td>\n",
       "      <td>45.3</td>\n",
       "      <td>2008</td>\n",
       "      <td>96</td>\n",
       "      <td>100</td>\n",
       "      <td>16618.8730</td>\n",
       "      <td>13220.0</td>\n",
       "      <td>45.3</td>\n",
       "    </tr>\n",
       "    <tr>\n",
       "      <td>196</td>\n",
       "      <td>Argentina</td>\n",
       "      <td>ARG</td>\n",
       "      <td>40080160</td>\n",
       "      <td>45.3</td>\n",
       "      <td>2008</td>\n",
       "      <td>97</td>\n",
       "      <td>100</td>\n",
       "      <td>18226.7300</td>\n",
       "      <td>13220.0</td>\n",
       "      <td>45.3</td>\n",
       "    </tr>\n",
       "    <tr>\n",
       "      <td>197</td>\n",
       "      <td>Argentina</td>\n",
       "      <td>ARG</td>\n",
       "      <td>40080160</td>\n",
       "      <td>45.3</td>\n",
       "      <td>2008</td>\n",
       "      <td>98</td>\n",
       "      <td>100</td>\n",
       "      <td>20528.3050</td>\n",
       "      <td>13220.0</td>\n",
       "      <td>45.3</td>\n",
       "    </tr>\n",
       "    <tr>\n",
       "      <td>198</td>\n",
       "      <td>Argentina</td>\n",
       "      <td>ARG</td>\n",
       "      <td>40080160</td>\n",
       "      <td>45.3</td>\n",
       "      <td>2008</td>\n",
       "      <td>99</td>\n",
       "      <td>100</td>\n",
       "      <td>24444.9500</td>\n",
       "      <td>13220.0</td>\n",
       "      <td>45.3</td>\n",
       "    </tr>\n",
       "    <tr>\n",
       "      <td>199</td>\n",
       "      <td>Argentina</td>\n",
       "      <td>ARG</td>\n",
       "      <td>40080160</td>\n",
       "      <td>45.3</td>\n",
       "      <td>2008</td>\n",
       "      <td>100</td>\n",
       "      <td>100</td>\n",
       "      <td>43669.2420</td>\n",
       "      <td>13220.0</td>\n",
       "      <td>45.3</td>\n",
       "    </tr>\n",
       "  </tbody>\n",
       "</table>\n",
       "<p>599 rows × 10 columns</p>\n",
       "</div>"
      ],
      "text/plain": [
       "        Country Name country  Total_Population Gini Index  year_survey  \\\n",
       "10499  United States     USA         304093966       45.1         2008   \n",
       "10500  United States     USA         304093966       45.1         2008   \n",
       "10501  United States     USA         304093966       45.1         2008   \n",
       "10502  United States     USA         304093966       45.1         2008   \n",
       "10503  United States     USA         304093966       45.1         2008   \n",
       "...              ...     ...               ...        ...          ...   \n",
       "195        Argentina     ARG          40080160       45.3         2008   \n",
       "196        Argentina     ARG          40080160       45.3         2008   \n",
       "197        Argentina     ARG          40080160       45.3         2008   \n",
       "198        Argentina     ARG          40080160       45.3         2008   \n",
       "199        Argentina     ARG          40080160       45.3         2008   \n",
       "\n",
       "       quantile  nb_quantiles      income   gdpppp  Gini_Index  \n",
       "10499         1           100    663.4761  43261.0        45.1  \n",
       "10500         2           100   1698.0868  43261.0        45.1  \n",
       "10501         3           100   2439.7354  43261.0        45.1  \n",
       "10502         4           100   3054.2478  43261.0        45.1  \n",
       "10503         5           100   3627.5483  43261.0        45.1  \n",
       "...         ...           ...         ...      ...         ...  \n",
       "195          96           100  16618.8730  13220.0        45.3  \n",
       "196          97           100  18226.7300  13220.0        45.3  \n",
       "197          98           100  20528.3050  13220.0        45.3  \n",
       "198          99           100  24444.9500  13220.0        45.3  \n",
       "199         100           100  43669.2420  13220.0        45.3  \n",
       "\n",
       "[599 rows x 10 columns]"
      ]
     },
     "execution_count": 153,
     "metadata": {},
     "output_type": "execute_result"
    }
   ],
   "source": [
    "countries.drop_duplicates()"
   ]
  },
  {
   "cell_type": "code",
   "execution_count": 154,
   "metadata": {},
   "outputs": [
    {
     "data": {
      "text/plain": [
       "(600, 10)"
      ]
     },
     "execution_count": 154,
     "metadata": {},
     "output_type": "execute_result"
    }
   ],
   "source": [
    "countries.shape"
   ]
  },
  {
   "cell_type": "code",
   "execution_count": null,
   "metadata": {},
   "outputs": [],
   "source": [
    "        x=['USA', 'SVN', 'ZAF', 'IRL', 'LTU', 'ARG'],\n",
    "        y=[25504, 12106, 5618, 17711, 6963, 5848],\n",
    "        error_y=dict(\n",
    "            type='data',\n",
    "            symmetric=False,\n",
    "            array=[317201, 14368, 5155, 21635, 8056, 7256],\n",
    "            arrayminus=[10971, 8600, 914, 10753, 3914, 2346]"
   ]
  },
  {
   "cell_type": "code",
   "execution_count": null,
   "metadata": {},
   "outputs": [],
   "source": [
    "d = {'col1': [1, 2], 'col2': [3, 4]}\n",
    "df = pd.DataFrame(data=d)\n",
    "df"
   ]
  },
  {
   "cell_type": "markdown",
   "metadata": {},
   "source": [
    "Making a table that can be used to show the country's diversity in income on a logged scale \n"
   ]
  },
  {
   "cell_type": "code",
   "execution_count": 175,
   "metadata": {},
   "outputs": [],
   "source": [
    "d = {'USA': [25504, 317201, 10971], 'SVN': [12106, 14368, 8600], 'ZAF': [5618, 5155, 914], 'IRL': [17711, 21635, 10753], 'LTU': [6963, 8056, 3914], 'ARG': [5848, 7256, 2346]}\n",
    "income_diversity = pd.DataFrame(data=d)"
   ]
  },
  {
   "cell_type": "code",
   "execution_count": 176,
   "metadata": {},
   "outputs": [],
   "source": []
  },
  {
   "cell_type": "code",
   "execution_count": 178,
   "metadata": {},
   "outputs": [],
   "source": [
    "income_diversity['USA'] = np.log(income_diversity['USA'])\n",
    "income_diversity['SVN'] = np.log(income_diversity['SVN'])\n",
    "income_diversity['ZAF'] = np.log(income_diversity['ZAF'])\n",
    "income_diversity['IRL'] = np.log(income_diversity['IRL'])\n",
    "income_diversity['LTU'] = np.log(income_diversity['LTU'])\n",
    "income_diversity['ARG'] = np.log(income_diversity['ARG'])"
   ]
  },
  {
   "cell_type": "code",
   "execution_count": 179,
   "metadata": {},
   "outputs": [
    {
     "data": {
      "text/html": [
       "<div>\n",
       "<style scoped>\n",
       "    .dataframe tbody tr th:only-of-type {\n",
       "        vertical-align: middle;\n",
       "    }\n",
       "\n",
       "    .dataframe tbody tr th {\n",
       "        vertical-align: top;\n",
       "    }\n",
       "\n",
       "    .dataframe thead th {\n",
       "        text-align: right;\n",
       "    }\n",
       "</style>\n",
       "<table border=\"1\" class=\"dataframe\">\n",
       "  <thead>\n",
       "    <tr style=\"text-align: right;\">\n",
       "      <th></th>\n",
       "      <th>USA</th>\n",
       "      <th>SVN</th>\n",
       "      <th>ZAF</th>\n",
       "      <th>IRL</th>\n",
       "      <th>LTU</th>\n",
       "      <th>ARG</th>\n",
       "    </tr>\n",
       "  </thead>\n",
       "  <tbody>\n",
       "    <tr>\n",
       "      <td>0</td>\n",
       "      <td>10.146591</td>\n",
       "      <td>9.401456</td>\n",
       "      <td>8.633731</td>\n",
       "      <td>9.781941</td>\n",
       "      <td>8.848366</td>\n",
       "      <td>8.673855</td>\n",
       "    </tr>\n",
       "    <tr>\n",
       "      <td>1</td>\n",
       "      <td>12.667291</td>\n",
       "      <td>9.572759</td>\n",
       "      <td>8.547722</td>\n",
       "      <td>9.982068</td>\n",
       "      <td>8.994172</td>\n",
       "      <td>8.889584</td>\n",
       "    </tr>\n",
       "    <tr>\n",
       "      <td>2</td>\n",
       "      <td>9.303011</td>\n",
       "      <td>9.059517</td>\n",
       "      <td>6.817831</td>\n",
       "      <td>9.282940</td>\n",
       "      <td>8.272315</td>\n",
       "      <td>7.760467</td>\n",
       "    </tr>\n",
       "  </tbody>\n",
       "</table>\n",
       "</div>"
      ],
      "text/plain": [
       "         USA       SVN       ZAF       IRL       LTU       ARG\n",
       "0  10.146591  9.401456  8.633731  9.781941  8.848366  8.673855\n",
       "1  12.667291  9.572759  8.547722  9.982068  8.994172  8.889584\n",
       "2   9.303011  9.059517  6.817831  9.282940  8.272315  7.760467"
      ]
     },
     "execution_count": 179,
     "metadata": {},
     "output_type": "execute_result"
    }
   ],
   "source": [
    "income_diversity"
   ]
  },
  {
   "cell_type": "code",
   "execution_count": null,
   "metadata": {},
   "outputs": [],
   "source": [
    "income_diversity = pd.DataFrame([[10.15, 45.1, 52]], columns = ('USA', 'SVN', 'ZAF', 'IRL', 'LTU', 'ARG'))"
   ]
  },
  {
   "cell_type": "markdown",
   "metadata": {},
   "source": [
    "## Answering Mark's questions"
   ]
  },
  {
   "cell_type": "markdown",
   "metadata": {},
   "source": [
    "A reminder that these are Mark's questions: \"For this first task, I need you to get familiar with this dataset and write a short preliminary analysis containing at least the following information:\n",
    "\n",
    "* Year(s) of data.\n",
    "\n",
    "* Number of countries involved.\n",
    "\n",
    "* Population covered by the dataset (percentage of world population).\n",
    "\n",
    "* The type of quantiles used (quartiles, deciles, ventiles, percentiles, etc.).\n",
    "\n",
    "* The dollar PPP unit and an explanation of why (not why not) it’s a good method to compare countries.\n",
    "\n",
    "* A graph showing how diverse countries are in terms of income distribution. This graph must represent the income (y-axis, on a log scale) as a function of income class (x-axis) for 5 to 10 countries. Please ensure you represent a diversity of cases. Among the countries that must be present : your own country, and the two countries that have the greatest and lowest Gini index.\n",
    "\n",
    "* The Lorenz curve for these countries."
   ]
  },
  {
   "cell_type": "markdown",
   "metadata": {},
   "source": [
    "The answers to Mark's questions are as follows: \n",
    "\n",
    "1. 2008\n",
    "\n",
    "2. 116 countries \n",
    "\n",
    "4. 92.59% of total world population covered\n",
    "\n",
    "5. percentiles\n",
    "\n",
    "6. According to the Organization for Economic Co-Operation and Development (OECD) countries:\"Purchasing power parities (PPPs) are the rates of currency conversion that try to equalise the purchasing power of different currencies, by eliminating the differences in price levels between countries. The basket of goods and services priced is a sample of all those that are part of final expenditures: final consumption of households and government, fixed capital formation, and net exports. This indicator is measured in terms of national currency per US dollar.\" Since the bank is assumed to be American, I will leave the unit as is, to make it easier for stakeholders to read and understand the data. \n",
    "\n",
    "7. __Pictured below__: Mark requested \"A graph showing how diverse countries are in terms of income distribution. This graph must represent the income (y-axis, on a log scale) as a function of income class (x-axis) for 5 to 10 countries. Please ensure you represent a diversity of cases. Among the countries that must be present : your own country, and the two countries that have the greatest and lowest Gini index.\""
   ]
  },
  {
   "cell_type": "code",
   "execution_count": 180,
   "metadata": {},
   "outputs": [
    {
     "data": {
      "application/vnd.plotly.v1+json": {
       "config": {
        "plotlyServerURL": "https://plot.ly"
       },
       "data": [
        {
         "error_y": {
          "array": [
           12.67,
           9.57,
           8.55,
           9.98,
           8.99,
           8.89
          ],
          "arrayminus": [
           9.3,
           9.06,
           6.82,
           9.28,
           8.27,
           7.76
          ],
          "symmetric": false,
          "type": "data"
         },
         "type": "scatter",
         "x": [
          "USA",
          "SVN",
          "ZAF",
          "IRL",
          "LTU",
          "ARG"
         ],
         "y": [
          10.15,
          9.4,
          8.63,
          9.78,
          8.85,
          8.67
         ]
        }
       ],
       "layout": {
        "template": {
         "data": {
          "bar": [
           {
            "error_x": {
             "color": "#2a3f5f"
            },
            "error_y": {
             "color": "#2a3f5f"
            },
            "marker": {
             "line": {
              "color": "#E5ECF6",
              "width": 0.5
             }
            },
            "type": "bar"
           }
          ],
          "barpolar": [
           {
            "marker": {
             "line": {
              "color": "#E5ECF6",
              "width": 0.5
             }
            },
            "type": "barpolar"
           }
          ],
          "carpet": [
           {
            "aaxis": {
             "endlinecolor": "#2a3f5f",
             "gridcolor": "white",
             "linecolor": "white",
             "minorgridcolor": "white",
             "startlinecolor": "#2a3f5f"
            },
            "baxis": {
             "endlinecolor": "#2a3f5f",
             "gridcolor": "white",
             "linecolor": "white",
             "minorgridcolor": "white",
             "startlinecolor": "#2a3f5f"
            },
            "type": "carpet"
           }
          ],
          "choropleth": [
           {
            "colorbar": {
             "outlinewidth": 0,
             "ticks": ""
            },
            "type": "choropleth"
           }
          ],
          "contour": [
           {
            "colorbar": {
             "outlinewidth": 0,
             "ticks": ""
            },
            "colorscale": [
             [
              0,
              "#0d0887"
             ],
             [
              0.1111111111111111,
              "#46039f"
             ],
             [
              0.2222222222222222,
              "#7201a8"
             ],
             [
              0.3333333333333333,
              "#9c179e"
             ],
             [
              0.4444444444444444,
              "#bd3786"
             ],
             [
              0.5555555555555556,
              "#d8576b"
             ],
             [
              0.6666666666666666,
              "#ed7953"
             ],
             [
              0.7777777777777778,
              "#fb9f3a"
             ],
             [
              0.8888888888888888,
              "#fdca26"
             ],
             [
              1,
              "#f0f921"
             ]
            ],
            "type": "contour"
           }
          ],
          "contourcarpet": [
           {
            "colorbar": {
             "outlinewidth": 0,
             "ticks": ""
            },
            "type": "contourcarpet"
           }
          ],
          "heatmap": [
           {
            "colorbar": {
             "outlinewidth": 0,
             "ticks": ""
            },
            "colorscale": [
             [
              0,
              "#0d0887"
             ],
             [
              0.1111111111111111,
              "#46039f"
             ],
             [
              0.2222222222222222,
              "#7201a8"
             ],
             [
              0.3333333333333333,
              "#9c179e"
             ],
             [
              0.4444444444444444,
              "#bd3786"
             ],
             [
              0.5555555555555556,
              "#d8576b"
             ],
             [
              0.6666666666666666,
              "#ed7953"
             ],
             [
              0.7777777777777778,
              "#fb9f3a"
             ],
             [
              0.8888888888888888,
              "#fdca26"
             ],
             [
              1,
              "#f0f921"
             ]
            ],
            "type": "heatmap"
           }
          ],
          "heatmapgl": [
           {
            "colorbar": {
             "outlinewidth": 0,
             "ticks": ""
            },
            "colorscale": [
             [
              0,
              "#0d0887"
             ],
             [
              0.1111111111111111,
              "#46039f"
             ],
             [
              0.2222222222222222,
              "#7201a8"
             ],
             [
              0.3333333333333333,
              "#9c179e"
             ],
             [
              0.4444444444444444,
              "#bd3786"
             ],
             [
              0.5555555555555556,
              "#d8576b"
             ],
             [
              0.6666666666666666,
              "#ed7953"
             ],
             [
              0.7777777777777778,
              "#fb9f3a"
             ],
             [
              0.8888888888888888,
              "#fdca26"
             ],
             [
              1,
              "#f0f921"
             ]
            ],
            "type": "heatmapgl"
           }
          ],
          "histogram": [
           {
            "marker": {
             "colorbar": {
              "outlinewidth": 0,
              "ticks": ""
             }
            },
            "type": "histogram"
           }
          ],
          "histogram2d": [
           {
            "colorbar": {
             "outlinewidth": 0,
             "ticks": ""
            },
            "colorscale": [
             [
              0,
              "#0d0887"
             ],
             [
              0.1111111111111111,
              "#46039f"
             ],
             [
              0.2222222222222222,
              "#7201a8"
             ],
             [
              0.3333333333333333,
              "#9c179e"
             ],
             [
              0.4444444444444444,
              "#bd3786"
             ],
             [
              0.5555555555555556,
              "#d8576b"
             ],
             [
              0.6666666666666666,
              "#ed7953"
             ],
             [
              0.7777777777777778,
              "#fb9f3a"
             ],
             [
              0.8888888888888888,
              "#fdca26"
             ],
             [
              1,
              "#f0f921"
             ]
            ],
            "type": "histogram2d"
           }
          ],
          "histogram2dcontour": [
           {
            "colorbar": {
             "outlinewidth": 0,
             "ticks": ""
            },
            "colorscale": [
             [
              0,
              "#0d0887"
             ],
             [
              0.1111111111111111,
              "#46039f"
             ],
             [
              0.2222222222222222,
              "#7201a8"
             ],
             [
              0.3333333333333333,
              "#9c179e"
             ],
             [
              0.4444444444444444,
              "#bd3786"
             ],
             [
              0.5555555555555556,
              "#d8576b"
             ],
             [
              0.6666666666666666,
              "#ed7953"
             ],
             [
              0.7777777777777778,
              "#fb9f3a"
             ],
             [
              0.8888888888888888,
              "#fdca26"
             ],
             [
              1,
              "#f0f921"
             ]
            ],
            "type": "histogram2dcontour"
           }
          ],
          "mesh3d": [
           {
            "colorbar": {
             "outlinewidth": 0,
             "ticks": ""
            },
            "type": "mesh3d"
           }
          ],
          "parcoords": [
           {
            "line": {
             "colorbar": {
              "outlinewidth": 0,
              "ticks": ""
             }
            },
            "type": "parcoords"
           }
          ],
          "pie": [
           {
            "automargin": true,
            "type": "pie"
           }
          ],
          "scatter": [
           {
            "marker": {
             "colorbar": {
              "outlinewidth": 0,
              "ticks": ""
             }
            },
            "type": "scatter"
           }
          ],
          "scatter3d": [
           {
            "line": {
             "colorbar": {
              "outlinewidth": 0,
              "ticks": ""
             }
            },
            "marker": {
             "colorbar": {
              "outlinewidth": 0,
              "ticks": ""
             }
            },
            "type": "scatter3d"
           }
          ],
          "scattercarpet": [
           {
            "marker": {
             "colorbar": {
              "outlinewidth": 0,
              "ticks": ""
             }
            },
            "type": "scattercarpet"
           }
          ],
          "scattergeo": [
           {
            "marker": {
             "colorbar": {
              "outlinewidth": 0,
              "ticks": ""
             }
            },
            "type": "scattergeo"
           }
          ],
          "scattergl": [
           {
            "marker": {
             "colorbar": {
              "outlinewidth": 0,
              "ticks": ""
             }
            },
            "type": "scattergl"
           }
          ],
          "scattermapbox": [
           {
            "marker": {
             "colorbar": {
              "outlinewidth": 0,
              "ticks": ""
             }
            },
            "type": "scattermapbox"
           }
          ],
          "scatterpolar": [
           {
            "marker": {
             "colorbar": {
              "outlinewidth": 0,
              "ticks": ""
             }
            },
            "type": "scatterpolar"
           }
          ],
          "scatterpolargl": [
           {
            "marker": {
             "colorbar": {
              "outlinewidth": 0,
              "ticks": ""
             }
            },
            "type": "scatterpolargl"
           }
          ],
          "scatterternary": [
           {
            "marker": {
             "colorbar": {
              "outlinewidth": 0,
              "ticks": ""
             }
            },
            "type": "scatterternary"
           }
          ],
          "surface": [
           {
            "colorbar": {
             "outlinewidth": 0,
             "ticks": ""
            },
            "colorscale": [
             [
              0,
              "#0d0887"
             ],
             [
              0.1111111111111111,
              "#46039f"
             ],
             [
              0.2222222222222222,
              "#7201a8"
             ],
             [
              0.3333333333333333,
              "#9c179e"
             ],
             [
              0.4444444444444444,
              "#bd3786"
             ],
             [
              0.5555555555555556,
              "#d8576b"
             ],
             [
              0.6666666666666666,
              "#ed7953"
             ],
             [
              0.7777777777777778,
              "#fb9f3a"
             ],
             [
              0.8888888888888888,
              "#fdca26"
             ],
             [
              1,
              "#f0f921"
             ]
            ],
            "type": "surface"
           }
          ],
          "table": [
           {
            "cells": {
             "fill": {
              "color": "#EBF0F8"
             },
             "line": {
              "color": "white"
             }
            },
            "header": {
             "fill": {
              "color": "#C8D4E3"
             },
             "line": {
              "color": "white"
             }
            },
            "type": "table"
           }
          ]
         },
         "layout": {
          "annotationdefaults": {
           "arrowcolor": "#2a3f5f",
           "arrowhead": 0,
           "arrowwidth": 1
          },
          "coloraxis": {
           "colorbar": {
            "outlinewidth": 0,
            "ticks": ""
           }
          },
          "colorscale": {
           "diverging": [
            [
             0,
             "#8e0152"
            ],
            [
             0.1,
             "#c51b7d"
            ],
            [
             0.2,
             "#de77ae"
            ],
            [
             0.3,
             "#f1b6da"
            ],
            [
             0.4,
             "#fde0ef"
            ],
            [
             0.5,
             "#f7f7f7"
            ],
            [
             0.6,
             "#e6f5d0"
            ],
            [
             0.7,
             "#b8e186"
            ],
            [
             0.8,
             "#7fbc41"
            ],
            [
             0.9,
             "#4d9221"
            ],
            [
             1,
             "#276419"
            ]
           ],
           "sequential": [
            [
             0,
             "#0d0887"
            ],
            [
             0.1111111111111111,
             "#46039f"
            ],
            [
             0.2222222222222222,
             "#7201a8"
            ],
            [
             0.3333333333333333,
             "#9c179e"
            ],
            [
             0.4444444444444444,
             "#bd3786"
            ],
            [
             0.5555555555555556,
             "#d8576b"
            ],
            [
             0.6666666666666666,
             "#ed7953"
            ],
            [
             0.7777777777777778,
             "#fb9f3a"
            ],
            [
             0.8888888888888888,
             "#fdca26"
            ],
            [
             1,
             "#f0f921"
            ]
           ],
           "sequentialminus": [
            [
             0,
             "#0d0887"
            ],
            [
             0.1111111111111111,
             "#46039f"
            ],
            [
             0.2222222222222222,
             "#7201a8"
            ],
            [
             0.3333333333333333,
             "#9c179e"
            ],
            [
             0.4444444444444444,
             "#bd3786"
            ],
            [
             0.5555555555555556,
             "#d8576b"
            ],
            [
             0.6666666666666666,
             "#ed7953"
            ],
            [
             0.7777777777777778,
             "#fb9f3a"
            ],
            [
             0.8888888888888888,
             "#fdca26"
            ],
            [
             1,
             "#f0f921"
            ]
           ]
          },
          "colorway": [
           "#636efa",
           "#EF553B",
           "#00cc96",
           "#ab63fa",
           "#FFA15A",
           "#19d3f3",
           "#FF6692",
           "#B6E880",
           "#FF97FF",
           "#FECB52"
          ],
          "font": {
           "color": "#2a3f5f"
          },
          "geo": {
           "bgcolor": "white",
           "lakecolor": "white",
           "landcolor": "#E5ECF6",
           "showlakes": true,
           "showland": true,
           "subunitcolor": "white"
          },
          "hoverlabel": {
           "align": "left"
          },
          "hovermode": "closest",
          "mapbox": {
           "style": "light"
          },
          "paper_bgcolor": "white",
          "plot_bgcolor": "#E5ECF6",
          "polar": {
           "angularaxis": {
            "gridcolor": "white",
            "linecolor": "white",
            "ticks": ""
           },
           "bgcolor": "#E5ECF6",
           "radialaxis": {
            "gridcolor": "white",
            "linecolor": "white",
            "ticks": ""
           }
          },
          "scene": {
           "xaxis": {
            "backgroundcolor": "#E5ECF6",
            "gridcolor": "white",
            "gridwidth": 2,
            "linecolor": "white",
            "showbackground": true,
            "ticks": "",
            "zerolinecolor": "white"
           },
           "yaxis": {
            "backgroundcolor": "#E5ECF6",
            "gridcolor": "white",
            "gridwidth": 2,
            "linecolor": "white",
            "showbackground": true,
            "ticks": "",
            "zerolinecolor": "white"
           },
           "zaxis": {
            "backgroundcolor": "#E5ECF6",
            "gridcolor": "white",
            "gridwidth": 2,
            "linecolor": "white",
            "showbackground": true,
            "ticks": "",
            "zerolinecolor": "white"
           }
          },
          "shapedefaults": {
           "line": {
            "color": "#2a3f5f"
           }
          },
          "ternary": {
           "aaxis": {
            "gridcolor": "white",
            "linecolor": "white",
            "ticks": ""
           },
           "baxis": {
            "gridcolor": "white",
            "linecolor": "white",
            "ticks": ""
           },
           "bgcolor": "#E5ECF6",
           "caxis": {
            "gridcolor": "white",
            "linecolor": "white",
            "ticks": ""
           }
          },
          "title": {
           "x": 0.05
          },
          "xaxis": {
           "automargin": true,
           "gridcolor": "white",
           "linecolor": "white",
           "ticks": "",
           "title": {
            "standoff": 15
           },
           "zerolinecolor": "white",
           "zerolinewidth": 2
          },
          "yaxis": {
           "automargin": true,
           "gridcolor": "white",
           "linecolor": "white",
           "ticks": "",
           "title": {
            "standoff": 15
           },
           "zerolinecolor": "white",
           "zerolinewidth": 2
          }
         }
        },
        "title": {
         "text": "Diversity of Income Distributions among Six Countries"
        }
       }
      },
      "text/html": [
       "<div>\n",
       "        \n",
       "        \n",
       "            <div id=\"2529df19-2943-4895-b15f-1752d04848ab\" class=\"plotly-graph-div\" style=\"height:525px; width:100%;\"></div>\n",
       "            <script type=\"text/javascript\">\n",
       "                require([\"plotly\"], function(Plotly) {\n",
       "                    window.PLOTLYENV=window.PLOTLYENV || {};\n",
       "                    \n",
       "                if (document.getElementById(\"2529df19-2943-4895-b15f-1752d04848ab\")) {\n",
       "                    Plotly.newPlot(\n",
       "                        '2529df19-2943-4895-b15f-1752d04848ab',\n",
       "                        [{\"error_y\": {\"array\": [12.67, 9.57, 8.55, 9.98, 8.99, 8.89], \"arrayminus\": [9.3, 9.06, 6.82, 9.28, 8.27, 7.76], \"symmetric\": false, \"type\": \"data\"}, \"type\": \"scatter\", \"x\": [\"USA\", \"SVN\", \"ZAF\", \"IRL\", \"LTU\", \"ARG\"], \"y\": [10.15, 9.4, 8.63, 9.78, 8.85, 8.67]}],\n",
       "                        {\"template\": {\"data\": {\"bar\": [{\"error_x\": {\"color\": \"#2a3f5f\"}, \"error_y\": {\"color\": \"#2a3f5f\"}, \"marker\": {\"line\": {\"color\": \"#E5ECF6\", \"width\": 0.5}}, \"type\": \"bar\"}], \"barpolar\": [{\"marker\": {\"line\": {\"color\": \"#E5ECF6\", \"width\": 0.5}}, \"type\": \"barpolar\"}], \"carpet\": [{\"aaxis\": {\"endlinecolor\": \"#2a3f5f\", \"gridcolor\": \"white\", \"linecolor\": \"white\", \"minorgridcolor\": \"white\", \"startlinecolor\": \"#2a3f5f\"}, \"baxis\": {\"endlinecolor\": \"#2a3f5f\", \"gridcolor\": \"white\", \"linecolor\": \"white\", \"minorgridcolor\": \"white\", \"startlinecolor\": \"#2a3f5f\"}, \"type\": \"carpet\"}], \"choropleth\": [{\"colorbar\": {\"outlinewidth\": 0, \"ticks\": \"\"}, \"type\": \"choropleth\"}], \"contour\": [{\"colorbar\": {\"outlinewidth\": 0, \"ticks\": \"\"}, \"colorscale\": [[0.0, \"#0d0887\"], [0.1111111111111111, \"#46039f\"], [0.2222222222222222, \"#7201a8\"], [0.3333333333333333, \"#9c179e\"], [0.4444444444444444, \"#bd3786\"], [0.5555555555555556, \"#d8576b\"], [0.6666666666666666, \"#ed7953\"], [0.7777777777777778, \"#fb9f3a\"], [0.8888888888888888, \"#fdca26\"], [1.0, \"#f0f921\"]], \"type\": \"contour\"}], \"contourcarpet\": [{\"colorbar\": {\"outlinewidth\": 0, \"ticks\": \"\"}, \"type\": \"contourcarpet\"}], \"heatmap\": [{\"colorbar\": {\"outlinewidth\": 0, \"ticks\": \"\"}, \"colorscale\": [[0.0, \"#0d0887\"], [0.1111111111111111, \"#46039f\"], [0.2222222222222222, \"#7201a8\"], [0.3333333333333333, \"#9c179e\"], [0.4444444444444444, \"#bd3786\"], [0.5555555555555556, \"#d8576b\"], [0.6666666666666666, \"#ed7953\"], [0.7777777777777778, \"#fb9f3a\"], [0.8888888888888888, \"#fdca26\"], [1.0, \"#f0f921\"]], \"type\": \"heatmap\"}], \"heatmapgl\": [{\"colorbar\": {\"outlinewidth\": 0, \"ticks\": \"\"}, \"colorscale\": [[0.0, \"#0d0887\"], [0.1111111111111111, \"#46039f\"], [0.2222222222222222, \"#7201a8\"], [0.3333333333333333, \"#9c179e\"], [0.4444444444444444, \"#bd3786\"], [0.5555555555555556, \"#d8576b\"], [0.6666666666666666, \"#ed7953\"], [0.7777777777777778, \"#fb9f3a\"], [0.8888888888888888, \"#fdca26\"], [1.0, \"#f0f921\"]], \"type\": \"heatmapgl\"}], \"histogram\": [{\"marker\": {\"colorbar\": {\"outlinewidth\": 0, \"ticks\": \"\"}}, \"type\": \"histogram\"}], \"histogram2d\": [{\"colorbar\": {\"outlinewidth\": 0, \"ticks\": \"\"}, \"colorscale\": [[0.0, \"#0d0887\"], [0.1111111111111111, \"#46039f\"], [0.2222222222222222, \"#7201a8\"], [0.3333333333333333, \"#9c179e\"], [0.4444444444444444, \"#bd3786\"], [0.5555555555555556, \"#d8576b\"], [0.6666666666666666, \"#ed7953\"], [0.7777777777777778, \"#fb9f3a\"], [0.8888888888888888, \"#fdca26\"], [1.0, \"#f0f921\"]], \"type\": \"histogram2d\"}], \"histogram2dcontour\": [{\"colorbar\": {\"outlinewidth\": 0, \"ticks\": \"\"}, \"colorscale\": [[0.0, \"#0d0887\"], [0.1111111111111111, \"#46039f\"], [0.2222222222222222, \"#7201a8\"], [0.3333333333333333, \"#9c179e\"], [0.4444444444444444, \"#bd3786\"], [0.5555555555555556, \"#d8576b\"], [0.6666666666666666, \"#ed7953\"], [0.7777777777777778, \"#fb9f3a\"], [0.8888888888888888, \"#fdca26\"], [1.0, \"#f0f921\"]], \"type\": \"histogram2dcontour\"}], \"mesh3d\": [{\"colorbar\": {\"outlinewidth\": 0, \"ticks\": \"\"}, \"type\": \"mesh3d\"}], \"parcoords\": [{\"line\": {\"colorbar\": {\"outlinewidth\": 0, \"ticks\": \"\"}}, \"type\": \"parcoords\"}], \"pie\": [{\"automargin\": true, \"type\": \"pie\"}], \"scatter\": [{\"marker\": {\"colorbar\": {\"outlinewidth\": 0, \"ticks\": \"\"}}, \"type\": \"scatter\"}], \"scatter3d\": [{\"line\": {\"colorbar\": {\"outlinewidth\": 0, \"ticks\": \"\"}}, \"marker\": {\"colorbar\": {\"outlinewidth\": 0, \"ticks\": \"\"}}, \"type\": \"scatter3d\"}], \"scattercarpet\": [{\"marker\": {\"colorbar\": {\"outlinewidth\": 0, \"ticks\": \"\"}}, \"type\": \"scattercarpet\"}], \"scattergeo\": [{\"marker\": {\"colorbar\": {\"outlinewidth\": 0, \"ticks\": \"\"}}, \"type\": \"scattergeo\"}], \"scattergl\": [{\"marker\": {\"colorbar\": {\"outlinewidth\": 0, \"ticks\": \"\"}}, \"type\": \"scattergl\"}], \"scattermapbox\": [{\"marker\": {\"colorbar\": {\"outlinewidth\": 0, \"ticks\": \"\"}}, \"type\": \"scattermapbox\"}], \"scatterpolar\": [{\"marker\": {\"colorbar\": {\"outlinewidth\": 0, \"ticks\": \"\"}}, \"type\": \"scatterpolar\"}], \"scatterpolargl\": [{\"marker\": {\"colorbar\": {\"outlinewidth\": 0, \"ticks\": \"\"}}, \"type\": \"scatterpolargl\"}], \"scatterternary\": [{\"marker\": {\"colorbar\": {\"outlinewidth\": 0, \"ticks\": \"\"}}, \"type\": \"scatterternary\"}], \"surface\": [{\"colorbar\": {\"outlinewidth\": 0, \"ticks\": \"\"}, \"colorscale\": [[0.0, \"#0d0887\"], [0.1111111111111111, \"#46039f\"], [0.2222222222222222, \"#7201a8\"], [0.3333333333333333, \"#9c179e\"], [0.4444444444444444, \"#bd3786\"], [0.5555555555555556, \"#d8576b\"], [0.6666666666666666, \"#ed7953\"], [0.7777777777777778, \"#fb9f3a\"], [0.8888888888888888, \"#fdca26\"], [1.0, \"#f0f921\"]], \"type\": \"surface\"}], \"table\": [{\"cells\": {\"fill\": {\"color\": \"#EBF0F8\"}, \"line\": {\"color\": \"white\"}}, \"header\": {\"fill\": {\"color\": \"#C8D4E3\"}, \"line\": {\"color\": \"white\"}}, \"type\": \"table\"}]}, \"layout\": {\"annotationdefaults\": {\"arrowcolor\": \"#2a3f5f\", \"arrowhead\": 0, \"arrowwidth\": 1}, \"coloraxis\": {\"colorbar\": {\"outlinewidth\": 0, \"ticks\": \"\"}}, \"colorscale\": {\"diverging\": [[0, \"#8e0152\"], [0.1, \"#c51b7d\"], [0.2, \"#de77ae\"], [0.3, \"#f1b6da\"], [0.4, \"#fde0ef\"], [0.5, \"#f7f7f7\"], [0.6, \"#e6f5d0\"], [0.7, \"#b8e186\"], [0.8, \"#7fbc41\"], [0.9, \"#4d9221\"], [1, \"#276419\"]], \"sequential\": [[0.0, \"#0d0887\"], [0.1111111111111111, \"#46039f\"], [0.2222222222222222, \"#7201a8\"], [0.3333333333333333, \"#9c179e\"], [0.4444444444444444, \"#bd3786\"], [0.5555555555555556, \"#d8576b\"], [0.6666666666666666, \"#ed7953\"], [0.7777777777777778, \"#fb9f3a\"], [0.8888888888888888, \"#fdca26\"], [1.0, \"#f0f921\"]], \"sequentialminus\": [[0.0, \"#0d0887\"], [0.1111111111111111, \"#46039f\"], [0.2222222222222222, \"#7201a8\"], [0.3333333333333333, \"#9c179e\"], [0.4444444444444444, \"#bd3786\"], [0.5555555555555556, \"#d8576b\"], [0.6666666666666666, \"#ed7953\"], [0.7777777777777778, \"#fb9f3a\"], [0.8888888888888888, \"#fdca26\"], [1.0, \"#f0f921\"]]}, \"colorway\": [\"#636efa\", \"#EF553B\", \"#00cc96\", \"#ab63fa\", \"#FFA15A\", \"#19d3f3\", \"#FF6692\", \"#B6E880\", \"#FF97FF\", \"#FECB52\"], \"font\": {\"color\": \"#2a3f5f\"}, \"geo\": {\"bgcolor\": \"white\", \"lakecolor\": \"white\", \"landcolor\": \"#E5ECF6\", \"showlakes\": true, \"showland\": true, \"subunitcolor\": \"white\"}, \"hoverlabel\": {\"align\": \"left\"}, \"hovermode\": \"closest\", \"mapbox\": {\"style\": \"light\"}, \"paper_bgcolor\": \"white\", \"plot_bgcolor\": \"#E5ECF6\", \"polar\": {\"angularaxis\": {\"gridcolor\": \"white\", \"linecolor\": \"white\", \"ticks\": \"\"}, \"bgcolor\": \"#E5ECF6\", \"radialaxis\": {\"gridcolor\": \"white\", \"linecolor\": \"white\", \"ticks\": \"\"}}, \"scene\": {\"xaxis\": {\"backgroundcolor\": \"#E5ECF6\", \"gridcolor\": \"white\", \"gridwidth\": 2, \"linecolor\": \"white\", \"showbackground\": true, \"ticks\": \"\", \"zerolinecolor\": \"white\"}, \"yaxis\": {\"backgroundcolor\": \"#E5ECF6\", \"gridcolor\": \"white\", \"gridwidth\": 2, \"linecolor\": \"white\", \"showbackground\": true, \"ticks\": \"\", \"zerolinecolor\": \"white\"}, \"zaxis\": {\"backgroundcolor\": \"#E5ECF6\", \"gridcolor\": \"white\", \"gridwidth\": 2, \"linecolor\": \"white\", \"showbackground\": true, \"ticks\": \"\", \"zerolinecolor\": \"white\"}}, \"shapedefaults\": {\"line\": {\"color\": \"#2a3f5f\"}}, \"ternary\": {\"aaxis\": {\"gridcolor\": \"white\", \"linecolor\": \"white\", \"ticks\": \"\"}, \"baxis\": {\"gridcolor\": \"white\", \"linecolor\": \"white\", \"ticks\": \"\"}, \"bgcolor\": \"#E5ECF6\", \"caxis\": {\"gridcolor\": \"white\", \"linecolor\": \"white\", \"ticks\": \"\"}}, \"title\": {\"x\": 0.05}, \"xaxis\": {\"automargin\": true, \"gridcolor\": \"white\", \"linecolor\": \"white\", \"ticks\": \"\", \"title\": {\"standoff\": 15}, \"zerolinecolor\": \"white\", \"zerolinewidth\": 2}, \"yaxis\": {\"automargin\": true, \"gridcolor\": \"white\", \"linecolor\": \"white\", \"ticks\": \"\", \"title\": {\"standoff\": 15}, \"zerolinecolor\": \"white\", \"zerolinewidth\": 2}}}, \"title\": {\"text\": \"Diversity of Income Distributions among Six Countries\"}},\n",
       "                        {\"responsive\": true}\n",
       "                    ).then(function(){\n",
       "                            \n",
       "var gd = document.getElementById('2529df19-2943-4895-b15f-1752d04848ab');\n",
       "var x = new MutationObserver(function (mutations, observer) {{\n",
       "        var display = window.getComputedStyle(gd).display;\n",
       "        if (!display || display === 'none') {{\n",
       "            console.log([gd, 'removed!']);\n",
       "            Plotly.purge(gd);\n",
       "            observer.disconnect();\n",
       "        }}\n",
       "}});\n",
       "\n",
       "// Listen for the removal of the full notebook cells\n",
       "var notebookContainer = gd.closest('#notebook-container');\n",
       "if (notebookContainer) {{\n",
       "    x.observe(notebookContainer, {childList: true});\n",
       "}}\n",
       "\n",
       "// Listen for the clearing of the current output cell\n",
       "var outputEl = gd.closest('.output');\n",
       "if (outputEl) {{\n",
       "    x.observe(outputEl, {childList: true});\n",
       "}}\n",
       "\n",
       "                        })\n",
       "                };\n",
       "                });\n",
       "            </script>\n",
       "        </div>"
      ]
     },
     "metadata": {},
     "output_type": "display_data"
    }
   ],
   "source": [
    "import plotly.graph_objects as go\n",
    "# Using the logged numbers, and showing +/- 25% \n",
    "fig = go.Figure(data=go.Scatter(\n",
    "        x=['USA', 'SVN', 'ZAF', 'IRL', 'LTU', 'ARG'],\n",
    "        y=[10.15, 9.4, 8.63, 9.78, 8.85, 8.67],\n",
    "        error_y=dict(\n",
    "            type='data',\n",
    "            symmetric=False,\n",
    "            array=[12.67, 9.57, 8.55, 9.98, 8.99, 8.89],\n",
    "            arrayminus=[9.3, 9.06, 6.82, 9.28, 8.27, 7.76])\n",
    "        ))\n",
    "\n",
    "fig.update_layout(\n",
    "    title={\n",
    "        'text': \"Diversity of Income Distributions among Six Countries\"})\n",
    "\n",
    "fig.show()\n",
    "fig.write_image(\"income_distributions.jpeg\")"
   ]
  },
  {
   "cell_type": "markdown",
   "metadata": {},
   "source": [
    "7. A Lorenz curve for each of theses countries"
   ]
  },
  {
   "cell_type": "markdown",
   "metadata": {},
   "source": [
    "### Lorenz curves by country"
   ]
  },
  {
   "cell_type": "markdown",
   "metadata": {},
   "source": [
    "The countries include \n",
    "\n",
    "* the United States (USA)\n",
    "\n",
    "* Slovenia (SVN)\n",
    "\n",
    "* South Africa (ZAF)\n",
    "\n",
    "* Ireland (IRL)\n",
    "\n",
    "* Lithuania (LTU)\n",
    "\n",
    "* Argentina (ARG)"
   ]
  },
  {
   "cell_type": "markdown",
   "metadata": {},
   "source": [
    "#### USA"
   ]
  },
  {
   "cell_type": "code",
   "execution_count": 156,
   "metadata": {},
   "outputs": [],
   "source": [
    "A = usa['income'].values\n",
    "n = len(A)\n",
    "lorenz = np.cumsum(np.sort(A))/A.sum()"
   ]
  },
  {
   "cell_type": "code",
   "execution_count": 157,
   "metadata": {},
   "outputs": [],
   "source": [
    "# The Lorenz Curve begins at 0\n",
    "lorenz = np.append([0], lorenz)"
   ]
  },
  {
   "cell_type": "markdown",
   "metadata": {},
   "source": [
    "##### Gini coefficient"
   ]
  },
  {
   "cell_type": "code",
   "execution_count": 158,
   "metadata": {},
   "outputs": [
    {
     "data": {
      "text/plain": [
       "0.43179916318068245"
      ]
     },
     "execution_count": 158,
     "metadata": {},
     "output_type": "execute_result"
    }
   ],
   "source": [
    "AUC = (lorenz.sum() -lorenz[-1]/2 -lorenz[0]/2)/n # area under the Lorenz Curve. The first segment (lorenz[0]) is halfly below O, so we divide it by 2. We do the same for the mast segment lorenz[-1]\n",
    "S = 0.5 - AUC # area between 1st bisector and the Lorenz Curve\n",
    "gini = 2*S\n",
    "gini"
   ]
  },
  {
   "cell_type": "markdown",
   "metadata": {},
   "source": [
    "The higher the coefficient, the more unequal the distribution is. This Gini coefficient is somewhat higher, meaning diagonal measurements cannot be considered equally distributed outright."
   ]
  },
  {
   "cell_type": "markdown",
   "metadata": {},
   "source": [
    "#### SVN"
   ]
  },
  {
   "cell_type": "code",
   "execution_count": 159,
   "metadata": {},
   "outputs": [],
   "source": [
    "B = svn['income'].values\n",
    "n = len(B)\n",
    "loren = np.cumsum(np.sort(B))/B.sum()"
   ]
  },
  {
   "cell_type": "code",
   "execution_count": 160,
   "metadata": {},
   "outputs": [],
   "source": [
    "# The Lorenz Curve begins at 0\n",
    "loren = np.append([0], loren)"
   ]
  },
  {
   "cell_type": "markdown",
   "metadata": {},
   "source": [
    "##### Gini coefficient"
   ]
  },
  {
   "cell_type": "code",
   "execution_count": 161,
   "metadata": {},
   "outputs": [
    {
     "data": {
      "text/plain": [
       "0.23073125176390963"
      ]
     },
     "execution_count": 161,
     "metadata": {},
     "output_type": "execute_result"
    }
   ],
   "source": [
    "AUC = (loren.sum() -loren[-1]/2 -loren[0]/2)/n # area under the Lorenz Curve. The first segment (lorenz[0]) is halfly below O, so we divide it by 2. We do the same for the mast segment lorenz[-1]\n",
    "S = 0.5 - AUC # area between 1st bisector and the Lorenz Curve\n",
    "gini = 2*S\n",
    "gini"
   ]
  },
  {
   "cell_type": "markdown",
   "metadata": {},
   "source": [
    "Similar to the U.S., the higher the coefficient, the more unequal the distribution is. This Gini coefficient is lower compared to the others, meaning diagonal measurements can be considered somewhat equally distributed."
   ]
  },
  {
   "cell_type": "markdown",
   "metadata": {},
   "source": [
    "#### ZAF"
   ]
  },
  {
   "cell_type": "code",
   "execution_count": 162,
   "metadata": {},
   "outputs": [],
   "source": [
    "C = zaf['income'].values\n",
    "n = len(C)\n",
    "lore = np.cumsum(np.sort(C))/C.sum()"
   ]
  },
  {
   "cell_type": "code",
   "execution_count": 163,
   "metadata": {},
   "outputs": [],
   "source": [
    "# The Lorenz Curve begins at 0\n",
    "lore = np.append([0], lore)"
   ]
  },
  {
   "cell_type": "markdown",
   "metadata": {},
   "source": [
    "##### Gini coefficient"
   ]
  },
  {
   "cell_type": "code",
   "execution_count": 164,
   "metadata": {},
   "outputs": [
    {
     "data": {
      "text/plain": [
       "0.669778501189596"
      ]
     },
     "execution_count": 164,
     "metadata": {},
     "output_type": "execute_result"
    }
   ],
   "source": [
    "AUC = (lore.sum() -lore[-1]/2 -lore[0]/2)/n # area under the Lorenz Curve. The first segment (lorenz[0]) is halfly below O, so we divide it by 2. We do the same for the mast segment lorenz[-1]\n",
    "S = 0.5 - AUC # area between 1st bisector and the Lorenz Curve\n",
    "gini = 2*S\n",
    "gini"
   ]
  },
  {
   "cell_type": "markdown",
   "metadata": {},
   "source": [
    "Similar to the U.S., the higher the coefficient, the more unequal the distribution is. This Gini coefficient is higher, meaning diagonal measurements cannot be considered equally distributed."
   ]
  },
  {
   "cell_type": "markdown",
   "metadata": {},
   "source": [
    "#### IRL"
   ]
  },
  {
   "cell_type": "code",
   "execution_count": 165,
   "metadata": {},
   "outputs": [],
   "source": [
    "D = irl['income'].values\n",
    "n = len(D)\n",
    "lor = np.cumsum(np.sort(D))/D.sum()"
   ]
  },
  {
   "cell_type": "code",
   "execution_count": 166,
   "metadata": {},
   "outputs": [],
   "source": [
    "# The Lorenz Curve begins at 0\n",
    "lor = np.append([0], lor)"
   ]
  },
  {
   "cell_type": "markdown",
   "metadata": {},
   "source": [
    "##### Gini coefficient"
   ]
  },
  {
   "cell_type": "code",
   "execution_count": 167,
   "metadata": {},
   "outputs": [
    {
     "data": {
      "text/plain": [
       "0.3034397405041348"
      ]
     },
     "execution_count": 167,
     "metadata": {},
     "output_type": "execute_result"
    }
   ],
   "source": [
    "AUC = (lor.sum() -lor[-1]/2 -lor[0]/2)/n # area under the Lorenz Curve. The first segment (lorenz[0]) is halfly below O, so we divide it by 2. We do the same for the mast segment lorenz[-1]\n",
    "S = 0.5 - AUC # area between 1st bisector and the Lorenz Curve\n",
    "gini = 2*S\n",
    "gini"
   ]
  },
  {
   "cell_type": "markdown",
   "metadata": {},
   "source": [
    "Similar to the U.S., the higher the coefficient, the more unequal the distribution is. This Gini coefficient is somewhat lower, meaning diagonal measurements may be closer to equally distributed. "
   ]
  },
  {
   "cell_type": "markdown",
   "metadata": {},
   "source": [
    "#### LTU"
   ]
  },
  {
   "cell_type": "code",
   "execution_count": 168,
   "metadata": {},
   "outputs": [],
   "source": [
    "E = ltu['income'].values\n",
    "n = len(E)\n",
    "lo = np.cumsum(np.sort(E))/E.sum()"
   ]
  },
  {
   "cell_type": "code",
   "execution_count": 169,
   "metadata": {},
   "outputs": [],
   "source": [
    "# The Lorenz Curve begins at 0\n",
    "lo = np.append([0], lo)"
   ]
  },
  {
   "cell_type": "markdown",
   "metadata": {},
   "source": [
    "##### Gini coefficient"
   ]
  },
  {
   "cell_type": "code",
   "execution_count": 170,
   "metadata": {},
   "outputs": [
    {
     "data": {
      "text/plain": [
       "0.35966616512133753"
      ]
     },
     "execution_count": 170,
     "metadata": {},
     "output_type": "execute_result"
    }
   ],
   "source": [
    "AUC = (lo.sum() -lo[-1]/2 -lo[0]/2)/n # area under the Lorenz Curve. The first segment (lorenz[0]) is halfly below O, so we divide it by 2. We do the same for the mast segment lorenz[-1]\n",
    "S = 0.5 - AUC # area between 1st bisector and the Lorenz Curve\n",
    "gini = 2*S\n",
    "gini"
   ]
  },
  {
   "cell_type": "markdown",
   "metadata": {},
   "source": [
    "Similar to the U.S., the higher the coefficient, the more unequal the distribution is. This Gini coefficient is somewhat low, meaning diagonal measurements could be considered somewhat equally distributed."
   ]
  },
  {
   "cell_type": "markdown",
   "metadata": {},
   "source": [
    "#### ARG"
   ]
  },
  {
   "cell_type": "code",
   "execution_count": 171,
   "metadata": {},
   "outputs": [],
   "source": [
    "F = arg['income'].values\n",
    "n = len(F)\n",
    "l = np.cumsum(np.sort(F))/F.sum()"
   ]
  },
  {
   "cell_type": "code",
   "execution_count": 172,
   "metadata": {},
   "outputs": [],
   "source": [
    "# The Lorenz Curve begins at 0\n",
    "l = np.append([0], l)"
   ]
  },
  {
   "cell_type": "markdown",
   "metadata": {},
   "source": [
    "##### Gini coefficient"
   ]
  },
  {
   "cell_type": "code",
   "execution_count": 173,
   "metadata": {
    "scrolled": true
   },
   "outputs": [
    {
     "data": {
      "text/plain": [
       "0.4499016488607318"
      ]
     },
     "execution_count": 173,
     "metadata": {},
     "output_type": "execute_result"
    }
   ],
   "source": [
    "AUC = (l.sum() -l[-1]/2 -l[0]/2)/n # area under the Lorenz Curve. The first segment (lorenz[0]) is halfly below O, so we divide it by 2. We do the same for the mast segment lorenz[-1]\n",
    "S = 0.5 - AUC # area between 1st bisector and the Lorenz Curve\n",
    "gini = 2*S\n",
    "gini"
   ]
  },
  {
   "cell_type": "markdown",
   "metadata": {},
   "source": [
    "Similar to the U.S., the higher the coefficient, the more unequal the distribution is. This Gini coefficient is higher, meaning diagonal measurements cannot be considered equally distributed outright."
   ]
  },
  {
   "cell_type": "code",
   "execution_count": 174,
   "metadata": {},
   "outputs": [
    {
     "data": {
      "image/png": "[encoded data removed]",
      "text/plain": [
       "<Figure size 432x288 with 1 Axes>"
      ]
     },
     "metadata": {
      "needs_background": "light"
     },
     "output_type": "display_data"
    },
    {
     "data": {
      "text/plain": [
       "<Figure size 1440x720 with 0 Axes>"
      ]
     },
     "metadata": {},
     "output_type": "display_data"
    }
   ],
   "source": [
    "xaxis = np.linspace(0-1/n,1+1/n,n+1)\n",
    "plt.plot(xaxis,lorenz,drawstyle='steps-post', label = 'usa')\n",
    "# usa\n",
    "plt.plot(xaxis,loren,drawstyle='steps-post', label = 'svn')\n",
    "# svn\n",
    "plt.plot(xaxis,lore,drawstyle='steps-post', label = 'zaf')\n",
    "# zaf\n",
    "plt.plot(xaxis,lor,drawstyle='steps-post', label = 'irl')\n",
    "# irl\n",
    "plt.plot(xaxis,lo,drawstyle='steps-post', label = 'ltu')\n",
    "# ltu\n",
    "plt.plot(xaxis,l,drawstyle='steps-post', label = 'arg')\n",
    "# arg\n",
    "plt.xlim(xmin=0.0, xmax=1)\n",
    "plt.xlabel('Proportion of income classes', fontsize = 12)\n",
    "plt.ylabel('Proportion of incomes', fontsize = 12)\n",
    "plt.title('Incomes Lorenz Curve', fontsize = 16)\n",
    "plt.legend(loc = 'best', frameon = False)\n",
    "plt.figure(figsize=(20,10))\n",
    "\n",
    "plt.savefig('Lorenz_Curves_incomes.jpg')\n",
    "plt.show()"
   ]
  },
  {
   "cell_type": "code",
   "execution_count": null,
   "metadata": {},
   "outputs": [],
   "source": []
  }
 ],
 "metadata": {
  "kernelspec": {
   "display_name": "Python 3",
   "language": "python",
   "name": "python3"
  },
  "language_info": {
   "codemirror_mode": {
    "name": "ipython",
    "version": 3
   },
   "file_extension": ".py",
   "mimetype": "text/x-python",
   "name": "python",
   "nbconvert_exporter": "python",
   "pygments_lexer": "ipython3",
   "version": "3.7.4"
  }
 },
 "nbformat": 4,
 "nbformat_minor": 2
}
