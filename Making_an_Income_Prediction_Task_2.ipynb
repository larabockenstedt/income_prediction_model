{
 "cells": [
  {
   "cell_type": "markdown",
   "metadata": {},
   "source": [
    "# Task 2\n",
    "\n",
    "The second task of the OpenClassrooms project is generating the dataset needed for the models.\n",
    "\n",
    "The dataset to be produced will be based on the World Income Distribution, but it will be 500 times bigger. Based on the WID and the Worldbank Data, we already have the following information:\n",
    "\n",
    "* \\(c_{i,parent}\\)\n",
    "\n",
    "* \\(m_{j} \\) : the average income in country \\(j\\)\n",
    "\n",
    "* \\(G_{j}\\) : Gini index of country \\(j\\)\n",
    "\n",
    "The individual parent’s income class is still missing  \\(c_{i,parent}\\) and it needs to be generated"
   ]
  },
  {
   "cell_type": "markdown",
   "metadata": {},
   "source": [
    "The dataset for finding the elasticity coefficient is from the World Bank in GDIM dataset.\n",
    "\n",
    "“GDIM. 2018. Global Database on Intergenerational Mobility. Development Research Group, World Bank. Washington, D.C.: World Bank Group.”"
   ]
  },
  {
   "cell_type": "markdown",
   "metadata": {},
   "source": [
    "https://www.worldbank.org/en/topic/poverty/brief/what-is-the-global-database-on-intergenerational-mobility-gdim"
   ]
  },
  {
   "cell_type": "code",
   "execution_count": 29,
   "metadata": {},
   "outputs": [],
   "source": [
    "from urllib import request\n",
    "import pandas as pd\n",
    "from pandas import DataFrame\n",
    "from itertools import chain, combinations\n",
    "import matplotlib.pyplot as plt\n",
    "import seaborn as sns\n",
    "import numpy as np\n",
    "from scipy import stats\n",
    "import scipy.stats as st\n",
    "from scipy.stats import chi2_contingency\n",
    "import random\n",
    "from datetime import datetime, timedelta\n",
    "sns.set()\n",
    "%matplotlib inline"
   ]
  },
  {
   "cell_type": "markdown",
   "metadata": {},
   "source": [
    "## Importing the data"
   ]
  },
  {
   "cell_type": "code",
   "execution_count": 30,
   "metadata": {},
   "outputs": [
    {
     "data": {
      "text/html": [
       "<div>\n",
       "<style scoped>\n",
       "    .dataframe tbody tr th:only-of-type {\n",
       "        vertical-align: middle;\n",
       "    }\n",
       "\n",
       "    .dataframe tbody tr th {\n",
       "        vertical-align: top;\n",
       "    }\n",
       "\n",
       "    .dataframe thead th {\n",
       "        text-align: right;\n",
       "    }\n",
       "</style>\n",
       "<table border=\"1\" class=\"dataframe\">\n",
       "  <thead>\n",
       "    <tr style=\"text-align: right;\">\n",
       "      <th></th>\n",
       "      <th>country</th>\n",
       "      <th>name</th>\n",
       "      <th>base_case</th>\n",
       "      <th>opti_case</th>\n",
       "      <th>pess_case</th>\n",
       "    </tr>\n",
       "  </thead>\n",
       "  <tbody>\n",
       "    <tr>\n",
       "      <td>0</td>\n",
       "      <td>AGO</td>\n",
       "      <td>Angola</td>\n",
       "      <td>0.66</td>\n",
       "      <td>0.5</td>\n",
       "      <td>0.9</td>\n",
       "    </tr>\n",
       "    <tr>\n",
       "      <td>1</td>\n",
       "      <td>BDI</td>\n",
       "      <td>Burundi</td>\n",
       "      <td>0.66</td>\n",
       "      <td>0.5</td>\n",
       "      <td>0.9</td>\n",
       "    </tr>\n",
       "    <tr>\n",
       "      <td>2</td>\n",
       "      <td>BEN</td>\n",
       "      <td>Benin</td>\n",
       "      <td>0.66</td>\n",
       "      <td>0.5</td>\n",
       "      <td>0.9</td>\n",
       "    </tr>\n",
       "    <tr>\n",
       "      <td>3</td>\n",
       "      <td>BFA</td>\n",
       "      <td>Burkina Faso</td>\n",
       "      <td>0.66</td>\n",
       "      <td>0.5</td>\n",
       "      <td>0.9</td>\n",
       "    </tr>\n",
       "    <tr>\n",
       "      <td>4</td>\n",
       "      <td>BWA</td>\n",
       "      <td>Botswana</td>\n",
       "      <td>0.66</td>\n",
       "      <td>0.5</td>\n",
       "      <td>0.9</td>\n",
       "    </tr>\n",
       "  </tbody>\n",
       "</table>\n",
       "</div>"
      ],
      "text/plain": [
       "  country          name  base_case  opti_case  pess_case\n",
       "0     AGO        Angola       0.66        0.5        0.9\n",
       "1     BDI       Burundi       0.66        0.5        0.9\n",
       "2     BEN         Benin       0.66        0.5        0.9\n",
       "3     BFA  Burkina Faso       0.66        0.5        0.9\n",
       "4     BWA      Botswana       0.66        0.5        0.9"
      ]
     },
     "execution_count": 30,
     "metadata": {},
     "output_type": "execute_result"
    }
   ],
   "source": [
    "elasticity = pd.read_csv('elasticity.csv')\n",
    "elasticity.head()\n",
    "\n",
    "# the base case is the average elasticity coefficient in the country, \n",
    "# while optimistic and pessimistic reflect the upper and lower classes \n",
    "# for the purposes of this project, the average will give a better picture of parent_income classes"
   ]
  },
  {
   "cell_type": "code",
   "execution_count": 31,
   "metadata": {},
   "outputs": [
    {
     "data": {
      "text/plain": [
       "array([0.66, 0.5 , 0.4 , 0.2 ])"
      ]
     },
     "execution_count": 31,
     "metadata": {},
     "output_type": "execute_result"
    }
   ],
   "source": [
    "elasticity.base_case.unique()"
   ]
  },
  {
   "cell_type": "code",
   "execution_count": 32,
   "metadata": {},
   "outputs": [
    {
     "data": {
      "text/plain": [
       "(198, 5)"
      ]
     },
     "execution_count": 32,
     "metadata": {},
     "output_type": "execute_result"
    }
   ],
   "source": [
    "elasticity.shape"
   ]
  },
  {
   "cell_type": "code",
   "execution_count": 33,
   "metadata": {},
   "outputs": [
    {
     "data": {
      "text/plain": [
       "country      0\n",
       "name         0\n",
       "base_case    0\n",
       "opti_case    0\n",
       "pess_case    0\n",
       "dtype: int64"
      ]
     },
     "execution_count": 33,
     "metadata": {},
     "output_type": "execute_result"
    }
   ],
   "source": [
    "elasticity.isnull().sum()"
   ]
  },
  {
   "cell_type": "code",
   "execution_count": 34,
   "metadata": {},
   "outputs": [
    {
     "name": "stdout",
     "output_type": "stream",
     "text": [
      "<class 'pandas.core.frame.DataFrame'>\n",
      "RangeIndex: 198 entries, 0 to 197\n",
      "Data columns (total 5 columns):\n",
      "country      198 non-null object\n",
      "name         198 non-null object\n",
      "base_case    198 non-null float64\n",
      "opti_case    198 non-null float64\n",
      "pess_case    198 non-null float64\n",
      "dtypes: float64(3), object(2)\n",
      "memory usage: 7.9+ KB\n"
     ]
    }
   ],
   "source": [
    "elasticity.info()\n",
    "\n",
    "# base_case is float_64"
   ]
  },
  {
   "cell_type": "markdown",
   "metadata": {},
   "source": [
    "## Assigning base_case to master"
   ]
  },
  {
   "cell_type": "code",
   "execution_count": 35,
   "metadata": {
    "scrolled": true
   },
   "outputs": [
    {
     "data": {
      "text/html": [
       "<div>\n",
       "<style scoped>\n",
       "    .dataframe tbody tr th:only-of-type {\n",
       "        vertical-align: middle;\n",
       "    }\n",
       "\n",
       "    .dataframe tbody tr th {\n",
       "        vertical-align: top;\n",
       "    }\n",
       "\n",
       "    .dataframe thead th {\n",
       "        text-align: right;\n",
       "    }\n",
       "</style>\n",
       "<table border=\"1\" class=\"dataframe\">\n",
       "  <thead>\n",
       "    <tr style=\"text-align: right;\">\n",
       "      <th></th>\n",
       "      <th>Unnamed: 0</th>\n",
       "      <th>Country Name</th>\n",
       "      <th>country</th>\n",
       "      <th>Total_Population</th>\n",
       "      <th>Gini Index</th>\n",
       "      <th>year_survey</th>\n",
       "      <th>quantile</th>\n",
       "      <th>nb_quantiles</th>\n",
       "      <th>income</th>\n",
       "      <th>gdpppp</th>\n",
       "    </tr>\n",
       "  </thead>\n",
       "  <tbody>\n",
       "    <tr>\n",
       "      <td>0</td>\n",
       "      <td>0</td>\n",
       "      <td>Albania</td>\n",
       "      <td>ALB</td>\n",
       "      <td>2947314.0</td>\n",
       "      <td>30.0</td>\n",
       "      <td>2008</td>\n",
       "      <td>1</td>\n",
       "      <td>100</td>\n",
       "      <td>728.89795</td>\n",
       "      <td>7297.0</td>\n",
       "    </tr>\n",
       "    <tr>\n",
       "      <td>1</td>\n",
       "      <td>1</td>\n",
       "      <td>Albania</td>\n",
       "      <td>ALB</td>\n",
       "      <td>2947314.0</td>\n",
       "      <td>30.0</td>\n",
       "      <td>2008</td>\n",
       "      <td>2</td>\n",
       "      <td>100</td>\n",
       "      <td>916.66235</td>\n",
       "      <td>7297.0</td>\n",
       "    </tr>\n",
       "    <tr>\n",
       "      <td>2</td>\n",
       "      <td>2</td>\n",
       "      <td>Albania</td>\n",
       "      <td>ALB</td>\n",
       "      <td>2947314.0</td>\n",
       "      <td>30.0</td>\n",
       "      <td>2008</td>\n",
       "      <td>3</td>\n",
       "      <td>100</td>\n",
       "      <td>1010.91600</td>\n",
       "      <td>7297.0</td>\n",
       "    </tr>\n",
       "    <tr>\n",
       "      <td>3</td>\n",
       "      <td>3</td>\n",
       "      <td>Albania</td>\n",
       "      <td>ALB</td>\n",
       "      <td>2947314.0</td>\n",
       "      <td>30.0</td>\n",
       "      <td>2008</td>\n",
       "      <td>4</td>\n",
       "      <td>100</td>\n",
       "      <td>1086.90780</td>\n",
       "      <td>7297.0</td>\n",
       "    </tr>\n",
       "    <tr>\n",
       "      <td>4</td>\n",
       "      <td>4</td>\n",
       "      <td>Albania</td>\n",
       "      <td>ALB</td>\n",
       "      <td>2947314.0</td>\n",
       "      <td>30.0</td>\n",
       "      <td>2008</td>\n",
       "      <td>5</td>\n",
       "      <td>100</td>\n",
       "      <td>1132.69970</td>\n",
       "      <td>7297.0</td>\n",
       "    </tr>\n",
       "  </tbody>\n",
       "</table>\n",
       "</div>"
      ],
      "text/plain": [
       "   Unnamed: 0 Country Name country  Total_Population  Gini Index  year_survey  \\\n",
       "0           0      Albania     ALB         2947314.0        30.0         2008   \n",
       "1           1      Albania     ALB         2947314.0        30.0         2008   \n",
       "2           2      Albania     ALB         2947314.0        30.0         2008   \n",
       "3           3      Albania     ALB         2947314.0        30.0         2008   \n",
       "4           4      Albania     ALB         2947314.0        30.0         2008   \n",
       "\n",
       "   quantile  nb_quantiles      income  gdpppp  \n",
       "0         1           100   728.89795  7297.0  \n",
       "1         2           100   916.66235  7297.0  \n",
       "2         3           100  1010.91600  7297.0  \n",
       "3         4           100  1086.90780  7297.0  \n",
       "4         5           100  1132.69970  7297.0  "
      ]
     },
     "execution_count": 35,
     "metadata": {},
     "output_type": "execute_result"
    }
   ],
   "source": [
    "master = pd.read_csv('master.csv')\n",
    "master.head()"
   ]
  },
  {
   "cell_type": "code",
   "execution_count": 36,
   "metadata": {},
   "outputs": [],
   "source": [
    "# cleaning up the column names to match\n",
    "master_two = master.drop(['Unnamed: 0'], axis=1)"
   ]
  },
  {
   "cell_type": "code",
   "execution_count": 37,
   "metadata": {},
   "outputs": [],
   "source": [
    "master_three = master_two.rename({('Country Name'): 'countryname'}, axis=1)"
   ]
  },
  {
   "cell_type": "code",
   "execution_count": 38,
   "metadata": {},
   "outputs": [],
   "source": [
    "data = elasticity.rename({('name'): 'countryname'}, axis=1)"
   ]
  },
  {
   "cell_type": "code",
   "execution_count": 39,
   "metadata": {},
   "outputs": [],
   "source": [
    "master_four = pd.merge(master_three, data, on='countryname', how='left')"
   ]
  },
  {
   "cell_type": "code",
   "execution_count": 40,
   "metadata": {},
   "outputs": [
    {
     "data": {
      "text/plain": [
       "countryname            0\n",
       "country_x              0\n",
       "Total_Population       0\n",
       "Gini Index             0\n",
       "year_survey            0\n",
       "quantile               0\n",
       "nb_quantiles           0\n",
       "income                 0\n",
       "gdpppp                 0\n",
       "country_y           1100\n",
       "base_case           1100\n",
       "opti_case           1100\n",
       "pess_case           1100\n",
       "dtype: int64"
      ]
     },
     "execution_count": 40,
     "metadata": {},
     "output_type": "execute_result"
    }
   ],
   "source": [
    "master_four.isnull().sum()"
   ]
  },
  {
   "cell_type": "code",
   "execution_count": 41,
   "metadata": {},
   "outputs": [],
   "source": [
    "# filling the missing data where the Gini is an exact match\n",
    "master_four['base_case'] = master_four.groupby('Gini Index').base_case.bfill()\n"
   ]
  },
  {
   "cell_type": "code",
   "execution_count": 42,
   "metadata": {},
   "outputs": [],
   "source": [
    "master_four['opti_case'] = master_four.groupby('Gini Index').opti_case.bfill()\n"
   ]
  },
  {
   "cell_type": "code",
   "execution_count": 43,
   "metadata": {},
   "outputs": [],
   "source": [
    "master_four['pess_case'] = master_four.groupby('Gini Index').pess_case.bfill()\n"
   ]
  },
  {
   "cell_type": "code",
   "execution_count": 44,
   "metadata": {},
   "outputs": [],
   "source": [
    "master_five = master_four.drop(['country_x', 'country_y'], axis=1)"
   ]
  },
  {
   "cell_type": "code",
   "execution_count": 45,
   "metadata": {
    "scrolled": true
   },
   "outputs": [
    {
     "data": {
      "text/plain": [
       "array([0.4 , 0.66, 0.5 , 0.2 ,  nan])"
      ]
     },
     "execution_count": 45,
     "metadata": {},
     "output_type": "execute_result"
    }
   ],
   "source": [
    "master_five.base_case.unique()\n",
    "# checking that the base_case numbers still match"
   ]
  },
  {
   "cell_type": "code",
   "execution_count": 46,
   "metadata": {
    "scrolled": true
   },
   "outputs": [
    {
     "data": {
      "text/plain": [
       "countryname           0\n",
       "Total_Population      0\n",
       "Gini Index            0\n",
       "year_survey           0\n",
       "quantile              0\n",
       "nb_quantiles          0\n",
       "income                0\n",
       "gdpppp                0\n",
       "base_case           600\n",
       "opti_case           600\n",
       "pess_case           600\n",
       "dtype: int64"
      ]
     },
     "execution_count": 46,
     "metadata": {},
     "output_type": "execute_result"
    }
   ],
   "source": [
    "master_five.isnull().sum()\n",
    "\n",
    "# 6 countries need to have missing info filled"
   ]
  },
  {
   "cell_type": "code",
   "execution_count": 47,
   "metadata": {},
   "outputs": [
    {
     "data": {
      "text/plain": [
       "array([30.  , 45.3 , 29.2 , 30.4 , 28.4 , 33.6 , 27.8 , 50.8 , 54.  ,\n",
       "       56.2 , 33.8 , 43.  , 43.2 , 55.5 , 48.7 , 31.7 , 26.3 , 31.1 ,\n",
       "       25.2 , 48.1 , 49.7 , 34.2 , 31.9 , 40.4 , 33.  , 34.1 , 38.5 ,\n",
       "       27.5 , 36.8 , 30.9 , 31.8 , 32.6 , 34.8 , 28.5 , 31.5 , 35.7 ,\n",
       "       37.2 , 34.7 , 49.9 , 29.  , 45.6 , 45.5 , 29.3 , 27.  , 52.7 ,\n",
       "       47.5 , 33.5 , 36.6 , 50.7 , 36.4 , 41.6 , 46.9 , 26.  , 23.7 ,\n",
       "       28.1 , 40.3 , 39.  , 26.6 , 45.1 , 35.6 , 42.  , 63.  , 30.2 ,\n",
       "       32.3 , 35.  , 42.15])"
      ]
     },
     "execution_count": 47,
     "metadata": {},
     "output_type": "execute_result"
    }
   ],
   "source": [
    "master_four['Gini Index'].unique()\n",
    "# looking at what the unique Gini Index numbers are "
   ]
  },
  {
   "cell_type": "code",
   "execution_count": 48,
   "metadata": {},
   "outputs": [
    {
     "data": {
      "text/plain": [
       "array(['Fiji', 'West Bank and Gaza', 'Slovak Republic', 'United States',\n",
       "       'South Korea', 'Democratic Republic of the Congo'], dtype=object)"
      ]
     },
     "execution_count": 48,
     "metadata": {},
     "output_type": "execute_result"
    }
   ],
   "source": [
    "null_data = master_five[master_five.isnull().any(axis=1)]\n",
    "null_data.countryname.unique()\n",
    "\n",
    "# Looking at the six countries with missing elasticity coefficients, and finding their closest Gini Index match:\n",
    "\n",
    "# Fiji has a Gini Index of 40.40 (can be filled with 40.3's base_case)\n",
    "# West Bank and Gaza has a Gini Index of 50.7 (can be filled with 50.8's base_case)\n",
    "# Slovak Republic has a Gini of 26.0 (can be filled with 26.6's base_case)\n",
    "# United States has a Gini of 45.1 (can be filled with 45.3)\n",
    "# South Korea has a Gini Index of 32.3 (can be filled with 32.6's base_case)\n",
    "# Democratic Republic of the Congo has a Gini Index of 42.15 (can be filled with 42.'s base_case)"
   ]
  },
  {
   "cell_type": "code",
   "execution_count": 49,
   "metadata": {},
   "outputs": [],
   "source": [
    "# Filling the countries one by one by their closest Gini"
   ]
  },
  {
   "cell_type": "code",
   "execution_count": 50,
   "metadata": {},
   "outputs": [
    {
     "name": "stdout",
     "output_type": "stream",
     "text": [
      "[0.5]\n",
      "[0.4]\n",
      "[0.6]\n"
     ]
    }
   ],
   "source": [
    "fiji = master_four[(master_four['Gini Index'] == 40.3)]\n",
    "print(fiji.base_case.unique())\n",
    "print(fiji.opti_case.unique())\n",
    "print(fiji.pess_case.unique())"
   ]
  },
  {
   "cell_type": "code",
   "execution_count": 51,
   "metadata": {},
   "outputs": [],
   "source": [
    "values = {'base_case': 0.5, 'opti_case': 0.4, 'pess_case': 0.6}\n",
    "master_six = master_five.fillna(value=values, limit=100)"
   ]
  },
  {
   "cell_type": "code",
   "execution_count": 52,
   "metadata": {},
   "outputs": [
    {
     "name": "stdout",
     "output_type": "stream",
     "text": [
      "[0.66]\n",
      "[0.5]\n",
      "[0.9]\n"
     ]
    }
   ],
   "source": [
    "west = master_four[(master_four['Gini Index'] == 50.8)]\n",
    "print(west.base_case.unique())\n",
    "print(west.opti_case.unique())\n",
    "print(west.pess_case.unique())"
   ]
  },
  {
   "cell_type": "code",
   "execution_count": 53,
   "metadata": {},
   "outputs": [],
   "source": [
    "values = {'base_case': 0.66, 'opti_case': 0.5, 'pess_case': 0.9}\n",
    "master_seven = master_six.fillna(value=values, limit=100)"
   ]
  },
  {
   "cell_type": "code",
   "execution_count": 54,
   "metadata": {},
   "outputs": [
    {
     "name": "stdout",
     "output_type": "stream",
     "text": [
      "[0.4]\n",
      "[0.3]\n",
      "[0.5]\n"
     ]
    }
   ],
   "source": [
    "sr = master_four[(master_four['Gini Index'] == 26.6)]\n",
    "print(sr.base_case.unique())\n",
    "print(sr.opti_case.unique())\n",
    "print(sr.pess_case.unique())"
   ]
  },
  {
   "cell_type": "code",
   "execution_count": 55,
   "metadata": {},
   "outputs": [],
   "source": [
    "values = {'base_case': 0.4, 'opti_case': 0.3, 'pess_case': 0.5}\n",
    "master_eight = master_seven.fillna(value=values, limit=100)"
   ]
  },
  {
   "cell_type": "code",
   "execution_count": 56,
   "metadata": {},
   "outputs": [
    {
     "name": "stdout",
     "output_type": "stream",
     "text": [
      "[0.66]\n",
      "[0.5]\n",
      "[0.9]\n"
     ]
    }
   ],
   "source": [
    "us = master_four[(master_four['Gini Index'] == 45.3)]\n",
    "print(us.base_case.unique())\n",
    "print(us.opti_case.unique())\n",
    "print(us.pess_case.unique())"
   ]
  },
  {
   "cell_type": "code",
   "execution_count": 57,
   "metadata": {},
   "outputs": [],
   "source": [
    "values = {'base_case': 0.66, 'opti_case': 0.5, 'pess_case': 0.9}\n",
    "master_nine = master_eight.fillna(value=values, limit=100)"
   ]
  },
  {
   "cell_type": "code",
   "execution_count": 58,
   "metadata": {},
   "outputs": [
    {
     "name": "stdout",
     "output_type": "stream",
     "text": [
      "0    0.4\n",
      "1    0.5\n",
      "dtype: float64\n",
      "0    0.3\n",
      "1    0.4\n",
      "dtype: float64\n",
      "0    0.5\n",
      "1    0.6\n",
      "dtype: float64\n"
     ]
    }
   ],
   "source": [
    "sk = master_four[(master_four['Gini Index'] == 32.6)]\n",
    "print(sk.base_case.mode())\n",
    "print(sk.opti_case.mode())\n",
    "print(sk.pess_case.mode())\n",
    "\n",
    "# Here, there were two options for filling missing information. \n",
    "# I decided to use the .4, .3, .5 numbers "
   ]
  },
  {
   "cell_type": "code",
   "execution_count": 59,
   "metadata": {},
   "outputs": [],
   "source": [
    "values = {'base_case': 0.4, 'opti_case': 0.3, 'pess_case': 0.5}\n",
    "master_ten = master_nine.fillna(value=values, limit=100)"
   ]
  },
  {
   "cell_type": "code",
   "execution_count": 60,
   "metadata": {},
   "outputs": [
    {
     "name": "stdout",
     "output_type": "stream",
     "text": [
      "[0.5]\n",
      "[0.4]\n",
      "[0.6]\n"
     ]
    }
   ],
   "source": [
    "dem_congo = master_four[(master_four['Gini Index'] == 42.)]\n",
    "print(dem_congo.base_case.unique())\n",
    "print(dem_congo.opti_case.unique())\n",
    "print(dem_congo.pess_case.unique())"
   ]
  },
  {
   "cell_type": "code",
   "execution_count": 61,
   "metadata": {},
   "outputs": [],
   "source": [
    "values = {'base_case': 0.5, 'opti_case': 0.4, 'pess_case': 0.6}\n",
    "df = master_ten.fillna(value=values, limit=100)"
   ]
  },
  {
   "cell_type": "code",
   "execution_count": 62,
   "metadata": {},
   "outputs": [
    {
     "data": {
      "text/plain": [
       "countryname         0\n",
       "Total_Population    0\n",
       "Gini Index          0\n",
       "year_survey         0\n",
       "quantile            0\n",
       "nb_quantiles        0\n",
       "income              0\n",
       "gdpppp              0\n",
       "base_case           0\n",
       "opti_case           0\n",
       "pess_case           0\n",
       "dtype: int64"
      ]
     },
     "execution_count": 62,
     "metadata": {},
     "output_type": "execute_result"
    }
   ],
   "source": [
    "df.isnull().sum()"
   ]
  },
  {
   "cell_type": "code",
   "execution_count": 63,
   "metadata": {},
   "outputs": [
    {
     "data": {
      "text/plain": [
       "array([0.4 , 0.66, 0.5 , 0.2 ])"
      ]
     },
     "execution_count": 63,
     "metadata": {},
     "output_type": "execute_result"
    }
   ],
   "source": [
    "df.base_case.unique()"
   ]
  },
  {
   "cell_type": "code",
   "execution_count": 64,
   "metadata": {},
   "outputs": [
    {
     "data": {
      "text/html": [
       "<div>\n",
       "<style scoped>\n",
       "    .dataframe tbody tr th:only-of-type {\n",
       "        vertical-align: middle;\n",
       "    }\n",
       "\n",
       "    .dataframe tbody tr th {\n",
       "        vertical-align: top;\n",
       "    }\n",
       "\n",
       "    .dataframe thead th {\n",
       "        text-align: right;\n",
       "    }\n",
       "</style>\n",
       "<table border=\"1\" class=\"dataframe\">\n",
       "  <thead>\n",
       "    <tr style=\"text-align: right;\">\n",
       "      <th></th>\n",
       "      <th>countryname</th>\n",
       "      <th>Total_Population</th>\n",
       "      <th>Gini Index</th>\n",
       "      <th>year_survey</th>\n",
       "      <th>quantile</th>\n",
       "      <th>nb_quantiles</th>\n",
       "      <th>income</th>\n",
       "      <th>gdpppp</th>\n",
       "      <th>base_case</th>\n",
       "      <th>opti_case</th>\n",
       "      <th>pess_case</th>\n",
       "    </tr>\n",
       "  </thead>\n",
       "  <tbody>\n",
       "    <tr>\n",
       "      <td>0</td>\n",
       "      <td>Albania</td>\n",
       "      <td>2947314.0</td>\n",
       "      <td>30.0</td>\n",
       "      <td>2008</td>\n",
       "      <td>1</td>\n",
       "      <td>100</td>\n",
       "      <td>728.89795</td>\n",
       "      <td>7297.0</td>\n",
       "      <td>0.4</td>\n",
       "      <td>0.3</td>\n",
       "      <td>0.5</td>\n",
       "    </tr>\n",
       "    <tr>\n",
       "      <td>1</td>\n",
       "      <td>Albania</td>\n",
       "      <td>2947314.0</td>\n",
       "      <td>30.0</td>\n",
       "      <td>2008</td>\n",
       "      <td>2</td>\n",
       "      <td>100</td>\n",
       "      <td>916.66235</td>\n",
       "      <td>7297.0</td>\n",
       "      <td>0.4</td>\n",
       "      <td>0.3</td>\n",
       "      <td>0.5</td>\n",
       "    </tr>\n",
       "    <tr>\n",
       "      <td>2</td>\n",
       "      <td>Albania</td>\n",
       "      <td>2947314.0</td>\n",
       "      <td>30.0</td>\n",
       "      <td>2008</td>\n",
       "      <td>3</td>\n",
       "      <td>100</td>\n",
       "      <td>1010.91600</td>\n",
       "      <td>7297.0</td>\n",
       "      <td>0.4</td>\n",
       "      <td>0.3</td>\n",
       "      <td>0.5</td>\n",
       "    </tr>\n",
       "  </tbody>\n",
       "</table>\n",
       "</div>"
      ],
      "text/plain": [
       "  countryname  Total_Population  Gini Index  year_survey  quantile  \\\n",
       "0     Albania         2947314.0        30.0         2008         1   \n",
       "1     Albania         2947314.0        30.0         2008         2   \n",
       "2     Albania         2947314.0        30.0         2008         3   \n",
       "\n",
       "   nb_quantiles      income  gdpppp  base_case  opti_case  pess_case  \n",
       "0           100   728.89795  7297.0        0.4        0.3        0.5  \n",
       "1           100   916.66235  7297.0        0.4        0.3        0.5  \n",
       "2           100  1010.91600  7297.0        0.4        0.3        0.5  "
      ]
     },
     "execution_count": 64,
     "metadata": {},
     "output_type": "execute_result"
    }
   ],
   "source": [
    "df.head(3)"
   ]
  },
  {
   "cell_type": "code",
   "execution_count": 65,
   "metadata": {},
   "outputs": [
    {
     "data": {
      "text/plain": [
       "(11599, 11)"
      ]
     },
     "execution_count": 65,
     "metadata": {},
     "output_type": "execute_result"
    }
   ],
   "source": [
    "df.shape\n",
    "\n",
    "# One country is missing a quantile, hence the \"99\""
   ]
  },
  {
   "cell_type": "markdown",
   "metadata": {},
   "source": [
    "#### Checking whether each country is equally represented in the number of quantiles"
   ]
  },
  {
   "cell_type": "code",
   "execution_count": 66,
   "metadata": {},
   "outputs": [],
   "source": [
    "value_counts = df.countryname.value_counts()\n",
    "# Lithuania has 99 entries instead of 100"
   ]
  },
  {
   "cell_type": "code",
   "execution_count": 67,
   "metadata": {},
   "outputs": [],
   "source": [
    "lithuania = df[df.countryname == 'Lithuania']"
   ]
  },
  {
   "cell_type": "code",
   "execution_count": 68,
   "metadata": {},
   "outputs": [
    {
     "data": {
      "text/plain": [
       "Index(['countryname', 'Total_Population', 'Gini Index', 'year_survey',\n",
       "       'quantile', 'nb_quantiles', 'income', 'gdpppp', 'base_case',\n",
       "       'opti_case', 'pess_case'],\n",
       "      dtype='object')"
      ]
     },
     "execution_count": 68,
     "metadata": {},
     "output_type": "execute_result"
    }
   ],
   "source": [
    "lithuania.columns"
   ]
  },
  {
   "cell_type": "code",
   "execution_count": 69,
   "metadata": {},
   "outputs": [
    {
     "data": {
      "text/plain": [
       "array([  1,   2,   3,   4,   5,   6,   7,   8,   9,  10,  11,  12,  13,\n",
       "        14,  15,  16,  17,  18,  19,  20,  21,  22,  23,  24,  25,  26,\n",
       "        27,  28,  29,  30,  31,  32,  33,  34,  35,  36,  37,  38,  39,\n",
       "        40,  42,  43,  44,  45,  46,  47,  48,  49,  50,  51,  52,  53,\n",
       "        54,  55,  56,  57,  58,  59,  60,  61,  62,  63,  64,  65,  66,\n",
       "        67,  68,  69,  70,  71,  72,  73,  74,  75,  76,  77,  78,  79,\n",
       "        80,  81,  82,  83,  84,  85,  86,  87,  88,  89,  90,  91,  92,\n",
       "        93,  94,  95,  96,  97,  98,  99, 100])"
      ]
     },
     "execution_count": 69,
     "metadata": {},
     "output_type": "execute_result"
    }
   ],
   "source": [
    "lithuania['quantile'].unique()\n",
    "# row 41 is missing"
   ]
  },
  {
   "cell_type": "code",
   "execution_count": 70,
   "metadata": {},
   "outputs": [
    {
     "data": {
      "text/html": [
       "<div>\n",
       "<style scoped>\n",
       "    .dataframe tbody tr th:only-of-type {\n",
       "        vertical-align: middle;\n",
       "    }\n",
       "\n",
       "    .dataframe tbody tr th {\n",
       "        vertical-align: top;\n",
       "    }\n",
       "\n",
       "    .dataframe thead th {\n",
       "        text-align: right;\n",
       "    }\n",
       "</style>\n",
       "<table border=\"1\" class=\"dataframe\">\n",
       "  <thead>\n",
       "    <tr style=\"text-align: right;\">\n",
       "      <th></th>\n",
       "      <th>countryname</th>\n",
       "      <th>Total_Population</th>\n",
       "      <th>Gini Index</th>\n",
       "      <th>year_survey</th>\n",
       "      <th>quantile</th>\n",
       "      <th>nb_quantiles</th>\n",
       "      <th>income</th>\n",
       "      <th>gdpppp</th>\n",
       "      <th>base_case</th>\n",
       "      <th>opti_case</th>\n",
       "      <th>pess_case</th>\n",
       "    </tr>\n",
       "  </thead>\n",
       "  <tbody>\n",
       "    <tr>\n",
       "      <td>5839</td>\n",
       "      <td>Lithuania</td>\n",
       "      <td>3198231.0</td>\n",
       "      <td>35.7</td>\n",
       "      <td>2008</td>\n",
       "      <td>40</td>\n",
       "      <td>100</td>\n",
       "      <td>4868.4507</td>\n",
       "      <td>17571.0</td>\n",
       "      <td>0.4</td>\n",
       "      <td>0.3</td>\n",
       "      <td>0.5</td>\n",
       "    </tr>\n",
       "  </tbody>\n",
       "</table>\n",
       "</div>"
      ],
      "text/plain": [
       "     countryname  Total_Population  Gini Index  year_survey  quantile  \\\n",
       "5839   Lithuania         3198231.0        35.7         2008        40   \n",
       "\n",
       "      nb_quantiles     income   gdpppp  base_case  opti_case  pess_case  \n",
       "5839           100  4868.4507  17571.0        0.4        0.3        0.5  "
      ]
     },
     "execution_count": 70,
     "metadata": {},
     "output_type": "execute_result"
    }
   ],
   "source": [
    "forty = lithuania.loc[lithuania['quantile'] == 40.]\n",
    "forty\n",
    "# income is 4868.4507"
   ]
  },
  {
   "cell_type": "code",
   "execution_count": 71,
   "metadata": {},
   "outputs": [
    {
     "data": {
      "text/html": [
       "<div>\n",
       "<style scoped>\n",
       "    .dataframe tbody tr th:only-of-type {\n",
       "        vertical-align: middle;\n",
       "    }\n",
       "\n",
       "    .dataframe tbody tr th {\n",
       "        vertical-align: top;\n",
       "    }\n",
       "\n",
       "    .dataframe thead th {\n",
       "        text-align: right;\n",
       "    }\n",
       "</style>\n",
       "<table border=\"1\" class=\"dataframe\">\n",
       "  <thead>\n",
       "    <tr style=\"text-align: right;\">\n",
       "      <th></th>\n",
       "      <th>countryname</th>\n",
       "      <th>Total_Population</th>\n",
       "      <th>Gini Index</th>\n",
       "      <th>year_survey</th>\n",
       "      <th>quantile</th>\n",
       "      <th>nb_quantiles</th>\n",
       "      <th>income</th>\n",
       "      <th>gdpppp</th>\n",
       "      <th>base_case</th>\n",
       "      <th>opti_case</th>\n",
       "      <th>pess_case</th>\n",
       "    </tr>\n",
       "  </thead>\n",
       "  <tbody>\n",
       "    <tr>\n",
       "      <td>5840</td>\n",
       "      <td>Lithuania</td>\n",
       "      <td>3198231.0</td>\n",
       "      <td>35.7</td>\n",
       "      <td>2008</td>\n",
       "      <td>42</td>\n",
       "      <td>100</td>\n",
       "      <td>4895.8306</td>\n",
       "      <td>17571.0</td>\n",
       "      <td>0.4</td>\n",
       "      <td>0.3</td>\n",
       "      <td>0.5</td>\n",
       "    </tr>\n",
       "  </tbody>\n",
       "</table>\n",
       "</div>"
      ],
      "text/plain": [
       "     countryname  Total_Population  Gini Index  year_survey  quantile  \\\n",
       "5840   Lithuania         3198231.0        35.7         2008        42   \n",
       "\n",
       "      nb_quantiles     income   gdpppp  base_case  opti_case  pess_case  \n",
       "5840           100  4895.8306  17571.0        0.4        0.3        0.5  "
      ]
     },
     "execution_count": 71,
     "metadata": {},
     "output_type": "execute_result"
    }
   ],
   "source": [
    "fortytwo = lithuania.loc[lithuania['quantile'] == 42.]\n",
    "fortytwo\n",
    "# income is 4895.8306"
   ]
  },
  {
   "cell_type": "code",
   "execution_count": 72,
   "metadata": {},
   "outputs": [
    {
     "data": {
      "text/plain": [
       "4882.14065"
      ]
     },
     "execution_count": 72,
     "metadata": {},
     "output_type": "execute_result"
    }
   ],
   "source": [
    "(4868.4507 + 4895.8306)/2\n",
    "# the income of 41 would be 48821406.5"
   ]
  },
  {
   "cell_type": "code",
   "execution_count": 73,
   "metadata": {},
   "outputs": [
    {
     "data": {
      "text/html": [
       "<div>\n",
       "<style scoped>\n",
       "    .dataframe tbody tr th:only-of-type {\n",
       "        vertical-align: middle;\n",
       "    }\n",
       "\n",
       "    .dataframe tbody tr th {\n",
       "        vertical-align: top;\n",
       "    }\n",
       "\n",
       "    .dataframe thead th {\n",
       "        text-align: right;\n",
       "    }\n",
       "</style>\n",
       "<table border=\"1\" class=\"dataframe\">\n",
       "  <thead>\n",
       "    <tr style=\"text-align: right;\">\n",
       "      <th></th>\n",
       "      <th>countryname</th>\n",
       "      <th>Total_Population</th>\n",
       "      <th>Gini Index</th>\n",
       "      <th>year_survey</th>\n",
       "      <th>quantile</th>\n",
       "      <th>nb_quantiles</th>\n",
       "      <th>income</th>\n",
       "      <th>gdpppp</th>\n",
       "      <th>base_case</th>\n",
       "      <th>opti_case</th>\n",
       "      <th>pess_case</th>\n",
       "    </tr>\n",
       "  </thead>\n",
       "  <tbody>\n",
       "    <tr>\n",
       "      <td>0</td>\n",
       "      <td>Lithuania</td>\n",
       "      <td>3198231.0</td>\n",
       "      <td>35.7</td>\n",
       "      <td>2008.0</td>\n",
       "      <td>41</td>\n",
       "      <td>100.0</td>\n",
       "      <td>4882.14065</td>\n",
       "      <td>17571.0</td>\n",
       "      <td>0.4</td>\n",
       "      <td>0.3</td>\n",
       "      <td>0.5</td>\n",
       "    </tr>\n",
       "  </tbody>\n",
       "</table>\n",
       "</div>"
      ],
      "text/plain": [
       "  countryname  Total_Population  Gini Index year_survey  quantile  \\\n",
       "0   Lithuania         3198231.0        35.7      2008.0        41   \n",
       "\n",
       "   nb_quantiles      income   gdpppp  base_case  opti_case  pess_case  \n",
       "0         100.0  4882.14065  17571.0        0.4        0.3        0.5  "
      ]
     },
     "execution_count": 73,
     "metadata": {},
     "output_type": "execute_result"
    }
   ],
   "source": [
    "fortyone = pd.DataFrame({'countryname' : ['Lithuania'], 'Total_Population' : [3198231.0], 'Gini Index' : [35.7], 'year_survey' : ['2008.0'], 'quantile' : [41], 'nb_quantiles' : [100.0], 'income' : [4882.14065], 'gdpppp' : [17571.0], 'base_case' : [0.4], 'opti_case': [0.3], 'pess_case': [0.5]})\n",
    "fortyone\n"
   ]
  },
  {
   "cell_type": "code",
   "execution_count": 74,
   "metadata": {},
   "outputs": [],
   "source": [
    "df_lit = pd.concat([df, fortyone], ignore_index=True, sort=True)"
   ]
  },
  {
   "cell_type": "code",
   "execution_count": 75,
   "metadata": {},
   "outputs": [
    {
     "data": {
      "text/plain": [
       "(11600, 11)"
      ]
     },
     "execution_count": 75,
     "metadata": {},
     "output_type": "execute_result"
    }
   ],
   "source": [
    "df_lit.shape"
   ]
  },
  {
   "cell_type": "code",
   "execution_count": 76,
   "metadata": {
    "scrolled": true
   },
   "outputs": [
    {
     "data": {
      "text/plain": [
       "Index(['Gini Index', 'Total_Population', 'base_case', 'countryname', 'gdpppp',\n",
       "       'income', 'nb_quantiles', 'opti_case', 'pess_case', 'quantile',\n",
       "       'year_survey'],\n",
       "      dtype='object')"
      ]
     },
     "execution_count": 76,
     "metadata": {},
     "output_type": "execute_result"
    }
   ],
   "source": [
    "df_lit.columns"
   ]
  },
  {
   "cell_type": "code",
   "execution_count": 77,
   "metadata": {},
   "outputs": [],
   "source": [
    "# First, dropping unecessary rows \n",
    "df_edited = df_lit.drop(['year_survey'], axis=1)"
   ]
  },
  {
   "cell_type": "code",
   "execution_count": 78,
   "metadata": {},
   "outputs": [
    {
     "data": {
      "text/plain": [
       "Index(['Gini Index', 'Total_Population', 'base_case', 'countryname', 'gdpppp',\n",
       "       'income', 'nb_quantiles', 'opti_case', 'pess_case', 'quantile'],\n",
       "      dtype='object')"
      ]
     },
     "execution_count": 78,
     "metadata": {},
     "output_type": "execute_result"
    }
   ],
   "source": [
    "df_edited.columns"
   ]
  },
  {
   "cell_type": "code",
   "execution_count": 79,
   "metadata": {},
   "outputs": [
    {
     "data": {
      "text/html": [
       "<div>\n",
       "<style scoped>\n",
       "    .dataframe tbody tr th:only-of-type {\n",
       "        vertical-align: middle;\n",
       "    }\n",
       "\n",
       "    .dataframe tbody tr th {\n",
       "        vertical-align: top;\n",
       "    }\n",
       "\n",
       "    .dataframe thead th {\n",
       "        text-align: right;\n",
       "    }\n",
       "</style>\n",
       "<table border=\"1\" class=\"dataframe\">\n",
       "  <thead>\n",
       "    <tr style=\"text-align: right;\">\n",
       "      <th></th>\n",
       "      <th>Gini Index</th>\n",
       "      <th>Total_Population</th>\n",
       "      <th>base_case</th>\n",
       "      <th>countryname</th>\n",
       "      <th>gdpppp</th>\n",
       "      <th>income</th>\n",
       "      <th>nb_quantiles</th>\n",
       "      <th>opti_case</th>\n",
       "      <th>pess_case</th>\n",
       "      <th>quantile</th>\n",
       "    </tr>\n",
       "  </thead>\n",
       "  <tbody>\n",
       "    <tr>\n",
       "      <td>0</td>\n",
       "      <td>30.0</td>\n",
       "      <td>2947314.0</td>\n",
       "      <td>0.4</td>\n",
       "      <td>Albania</td>\n",
       "      <td>7297.0</td>\n",
       "      <td>728.89795</td>\n",
       "      <td>100.0</td>\n",
       "      <td>0.3</td>\n",
       "      <td>0.5</td>\n",
       "      <td>1</td>\n",
       "    </tr>\n",
       "    <tr>\n",
       "      <td>1</td>\n",
       "      <td>30.0</td>\n",
       "      <td>2947314.0</td>\n",
       "      <td>0.4</td>\n",
       "      <td>Albania</td>\n",
       "      <td>7297.0</td>\n",
       "      <td>916.66235</td>\n",
       "      <td>100.0</td>\n",
       "      <td>0.3</td>\n",
       "      <td>0.5</td>\n",
       "      <td>2</td>\n",
       "    </tr>\n",
       "    <tr>\n",
       "      <td>2</td>\n",
       "      <td>30.0</td>\n",
       "      <td>2947314.0</td>\n",
       "      <td>0.4</td>\n",
       "      <td>Albania</td>\n",
       "      <td>7297.0</td>\n",
       "      <td>1010.91600</td>\n",
       "      <td>100.0</td>\n",
       "      <td>0.3</td>\n",
       "      <td>0.5</td>\n",
       "      <td>3</td>\n",
       "    </tr>\n",
       "  </tbody>\n",
       "</table>\n",
       "</div>"
      ],
      "text/plain": [
       "   Gini Index  Total_Population  base_case countryname  gdpppp      income  \\\n",
       "0        30.0         2947314.0        0.4     Albania  7297.0   728.89795   \n",
       "1        30.0         2947314.0        0.4     Albania  7297.0   916.66235   \n",
       "2        30.0         2947314.0        0.4     Albania  7297.0  1010.91600   \n",
       "\n",
       "   nb_quantiles  opti_case  pess_case  quantile  \n",
       "0         100.0        0.3        0.5         1  \n",
       "1         100.0        0.3        0.5         2  \n",
       "2         100.0        0.3        0.5         3  "
      ]
     },
     "execution_count": 79,
     "metadata": {},
     "output_type": "execute_result"
    }
   ],
   "source": [
    "df_edited.head(3)"
   ]
  },
  {
   "cell_type": "markdown",
   "metadata": {},
   "source": [
    "#### Adding mean income as a column "
   ]
  },
  {
   "cell_type": "code",
   "execution_count": 80,
   "metadata": {},
   "outputs": [],
   "source": [
    "mean_income = df_edited.groupby('countryname')"
   ]
  },
  {
   "cell_type": "code",
   "execution_count": 81,
   "metadata": {},
   "outputs": [],
   "source": [
    "df_edited['mean_income'] = df_edited.groupby('countryname').income.transform('mean')"
   ]
  },
  {
   "cell_type": "code",
   "execution_count": 82,
   "metadata": {},
   "outputs": [
    {
     "data": {
      "text/html": [
       "<div>\n",
       "<style scoped>\n",
       "    .dataframe tbody tr th:only-of-type {\n",
       "        vertical-align: middle;\n",
       "    }\n",
       "\n",
       "    .dataframe tbody tr th {\n",
       "        vertical-align: top;\n",
       "    }\n",
       "\n",
       "    .dataframe thead th {\n",
       "        text-align: right;\n",
       "    }\n",
       "</style>\n",
       "<table border=\"1\" class=\"dataframe\">\n",
       "  <thead>\n",
       "    <tr style=\"text-align: right;\">\n",
       "      <th></th>\n",
       "      <th>Gini Index</th>\n",
       "      <th>Total_Population</th>\n",
       "      <th>base_case</th>\n",
       "      <th>countryname</th>\n",
       "      <th>gdpppp</th>\n",
       "      <th>income</th>\n",
       "      <th>nb_quantiles</th>\n",
       "      <th>opti_case</th>\n",
       "      <th>pess_case</th>\n",
       "      <th>quantile</th>\n",
       "      <th>mean_income</th>\n",
       "    </tr>\n",
       "  </thead>\n",
       "  <tbody>\n",
       "    <tr>\n",
       "      <td>0</td>\n",
       "      <td>30.0</td>\n",
       "      <td>2947314.0</td>\n",
       "      <td>0.4</td>\n",
       "      <td>Albania</td>\n",
       "      <td>7297.0</td>\n",
       "      <td>728.89795</td>\n",
       "      <td>100.0</td>\n",
       "      <td>0.3</td>\n",
       "      <td>0.5</td>\n",
       "      <td>1</td>\n",
       "      <td>2994.829902</td>\n",
       "    </tr>\n",
       "    <tr>\n",
       "      <td>1</td>\n",
       "      <td>30.0</td>\n",
       "      <td>2947314.0</td>\n",
       "      <td>0.4</td>\n",
       "      <td>Albania</td>\n",
       "      <td>7297.0</td>\n",
       "      <td>916.66235</td>\n",
       "      <td>100.0</td>\n",
       "      <td>0.3</td>\n",
       "      <td>0.5</td>\n",
       "      <td>2</td>\n",
       "      <td>2994.829902</td>\n",
       "    </tr>\n",
       "    <tr>\n",
       "      <td>2</td>\n",
       "      <td>30.0</td>\n",
       "      <td>2947314.0</td>\n",
       "      <td>0.4</td>\n",
       "      <td>Albania</td>\n",
       "      <td>7297.0</td>\n",
       "      <td>1010.91600</td>\n",
       "      <td>100.0</td>\n",
       "      <td>0.3</td>\n",
       "      <td>0.5</td>\n",
       "      <td>3</td>\n",
       "      <td>2994.829902</td>\n",
       "    </tr>\n",
       "  </tbody>\n",
       "</table>\n",
       "</div>"
      ],
      "text/plain": [
       "   Gini Index  Total_Population  base_case countryname  gdpppp      income  \\\n",
       "0        30.0         2947314.0        0.4     Albania  7297.0   728.89795   \n",
       "1        30.0         2947314.0        0.4     Albania  7297.0   916.66235   \n",
       "2        30.0         2947314.0        0.4     Albania  7297.0  1010.91600   \n",
       "\n",
       "   nb_quantiles  opti_case  pess_case  quantile  mean_income  \n",
       "0         100.0        0.3        0.5         1  2994.829902  \n",
       "1         100.0        0.3        0.5         2  2994.829902  \n",
       "2         100.0        0.3        0.5         3  2994.829902  "
      ]
     },
     "execution_count": 82,
     "metadata": {},
     "output_type": "execute_result"
    }
   ],
   "source": [
    "df_edited.head(3)"
   ]
  },
  {
   "cell_type": "markdown",
   "metadata": {},
   "source": [
    "### Code to generate parents income class"
   ]
  },
  {
   "cell_type": "code",
   "execution_count": 83,
   "metadata": {},
   "outputs": [],
   "source": [
    "from new_functions import *\n",
    "import scipy.stats as st\n",
    "import pandas as pd\n",
    "import numpy as np\n",
    "import matplotlib.pyplot as plt\n",
    "from collections import Counter"
   ]
  },
  {
   "cell_type": "markdown",
   "metadata": {},
   "source": [
    "For each country, we need to generate a randomly chosen parents' income class, from these two pieces of information alone:\n",
    "\n",
    "* Pj\n",
    "\n",
    "* the child's income class\n",
    "\n",
    "The following code used in the research of Branko Milanovic provides the function proba_cond that gives the probabilities of P(ci,parent|ci,child, j).\n",
    "\n",
    "First: Generate a large number n of realizations of a variable we will call ln(Y parent) following a normal distribution. Mean and standard deviation values will not affect the final result. n must be greater than 1000 times the number of quantiles. "
   ]
  },
  {
   "cell_type": "markdown",
   "metadata": {},
   "source": [
    "#### Low mobility population conditional distribution"
   ]
  },
  {
   "cell_type": "code",
   "execution_count": 84,
   "metadata": {},
   "outputs": [],
   "source": [
    "# generating number n of realizations of a variable. n must be greater than 1000 times the number of quantiles.\n",
    "\n",
    "nb_quantiles = 10\n",
    "n  = 1000*nb_quantiles\n",
    "pj = 0.9"
   ]
  },
  {
   "cell_type": "code",
   "execution_count": 85,
   "metadata": {},
   "outputs": [],
   "source": [
    "(y_child, y_parents) = generate_incomes(n, pj)"
   ]
  },
  {
   "cell_type": "code",
   "execution_count": 86,
   "metadata": {},
   "outputs": [],
   "source": [
    "sample = compute_quantiles(y_child, y_parents, nb_quantiles)"
   ]
  },
  {
   "cell_type": "code",
   "execution_count": 87,
   "metadata": {},
   "outputs": [],
   "source": [
    "def conditional_distributions(sample, nb_quantiles):\n",
    "    counts = sample.groupby([\"c_i_child\",\"c_i_parent\"]).apply(len)\n",
    "    counts = counts.reset_index()\n",
    "    counts.columns = [\"c_i_child\",\"c_i_parent\",\"counts\"]\n",
    "    \n",
    "    mat = []\n",
    "    for child_quantile in np.arange(nb_quantiles)+1:\n",
    "        subset = counts[counts.c_i_child == child_quantile]\n",
    "        mat += [distribution(subset, nb_quantiles)]\n",
    "    return np.array(mat) "
   ]
  },
  {
   "cell_type": "code",
   "execution_count": 88,
   "metadata": {},
   "outputs": [],
   "source": [
    "cd = conditional_distributions(sample, nb_quantiles)"
   ]
  },
  {
   "cell_type": "code",
   "execution_count": 89,
   "metadata": {
    "scrolled": false
   },
   "outputs": [
    {
     "data": {
      "image/png": "[encoded data removed]",
      "text/plain": [
       "<Figure size 1008x1008 with 1 Axes>"
      ]
     },
     "metadata": {
      "needs_background": "light"
     },
     "output_type": "display_data"
    }
   ],
   "source": [
    "plt.figure(figsize=(14,14))\n",
    "    \n",
    "cumul = np.array([0] * nb_quantiles) \n",
    "    \n",
    "for i, child_quantile in enumerate(cd):\n",
    "    plt.bar(np.arange(nb_quantiles)+1, child_quantile, bottom=cumul, width=0.95, label = str(i+1) +\"e\")\n",
    "    cumul = cumul + np.array(child_quantile)\n",
    "\n",
    "plt.axis([.5, nb_quantiles*1.3 ,0 ,1])\n",
    "plt.title(\"low mobility population conditional distribution\")\n",
    "plt.legend()\n",
    "plt.xlabel(\"quantile parents\")\n",
    "plt.ylabel(\"probability of having c_i_child\") \n",
    "plt.show()\n",
    "\n",
    "# As we can see from this graph, in low mobility populations, the lower class is more disadvantaged while the upper\n",
    "# class is at an advantage.\n",
    "\n",
    "# The likelihood of someone in the lower class (on the left) reaching a higher income bracket is very low. \n",
    "# While the higher income classes (on the right) are more likely to stay rich. "
   ]
  },
  {
   "cell_type": "code",
   "execution_count": 90,
   "metadata": {},
   "outputs": [
    {
     "name": "stdout",
     "output_type": "stream",
     "text": [
      "\n",
      "P(c_i_parent = 8 | c_i_child = 5, pj = 0.9) = 0.102\n"
     ]
    }
   ],
   "source": [
    "# Testing probability for different parent and child classes\n",
    "c_i_child = 5 \n",
    "c_i_parent = 8\n",
    "p = proba_cond(c_i_parent, c_i_child, cd)\n",
    "print(\"\\nP(c_i_parent = {} | c_i_child = {}, pj = {}) = {}\".format(c_i_parent, c_i_child, pj, p))"
   ]
  },
  {
   "cell_type": "markdown",
   "metadata": {},
   "source": [
    "#### High mobility population conditional distribution"
   ]
  },
  {
   "cell_type": "code",
   "execution_count": 91,
   "metadata": {},
   "outputs": [],
   "source": [
    "nb_quantiles = 10\n",
    "n  = 1000*nb_quantiles\n",
    "pj = 0.1"
   ]
  },
  {
   "cell_type": "code",
   "execution_count": 92,
   "metadata": {},
   "outputs": [],
   "source": [
    "(y_child, y_parents) = generate_incomes(n, pj)"
   ]
  },
  {
   "cell_type": "code",
   "execution_count": 93,
   "metadata": {},
   "outputs": [],
   "source": [
    "sample = compute_quantiles(y_child, y_parents, nb_quantiles)"
   ]
  },
  {
   "cell_type": "code",
   "execution_count": 94,
   "metadata": {},
   "outputs": [],
   "source": [
    "cd = conditional_distributions(sample, nb_quantiles)"
   ]
  },
  {
   "cell_type": "code",
   "execution_count": 95,
   "metadata": {},
   "outputs": [
    {
     "data": {
      "image/png": "[encoded data removed]",
      "text/plain": [
       "<Figure size 1008x1008 with 1 Axes>"
      ]
     },
     "metadata": {
      "needs_background": "light"
     },
     "output_type": "display_data"
    }
   ],
   "source": [
    "plt.figure(figsize=(14,14))\n",
    "    \n",
    "cumul = np.array([0] * nb_quantiles) \n",
    "    \n",
    "for i, child_quantile in enumerate(cd):\n",
    "    plt.bar(np.arange(nb_quantiles)+1, child_quantile, bottom=cumul, width=0.95, label = str(i+1) +\"e\")\n",
    "    cumul = cumul + np.array(child_quantile)\n",
    "\n",
    "plt.axis([.5, nb_quantiles*1.3 ,0 ,1])\n",
    "plt.title(\"high mobility population conditional distribution\")\n",
    "plt.legend()\n",
    "plt.xlabel(\"quantile parents\")\n",
    "plt.ylabel(\"probability of having c_i_child\") \n",
    "plt.show()\n",
    "\n",
    "# This graph looks different compared to the low-mobility population graph. \n",
    "# That's because in high mobility populations, it's easier to move between social classes. "
   ]
  },
  {
   "cell_type": "code",
   "execution_count": 96,
   "metadata": {},
   "outputs": [
    {
     "name": "stdout",
     "output_type": "stream",
     "text": [
      "\n",
      "P(c_i_parent = 8 | c_i_child = 5, pj = 0.1) = 0.105\n"
     ]
    }
   ],
   "source": [
    "# Testing probability for different parent and child classes\n",
    "c_i_child = 5 \n",
    "c_i_parent = 8\n",
    "p = proba_cond(c_i_parent, c_i_child, cd)\n",
    "print(\"\\nP(c_i_parent = {} | c_i_child = {}, pj = {}) = {}\".format(c_i_parent, c_i_child, pj, p))"
   ]
  },
  {
   "cell_type": "markdown",
   "metadata": {},
   "source": [
    "### Creating a new sample\n",
    "\n",
    "* To avoid confusion, the individuals generated can be deleted and the conditional distributions kept.\n",
    "\n",
    "* Next is applying a new sample used with the World Income Distribution. For each individual from WID, 499 clones will be created. Then the size of the sample will be 500 times larger than the initial WID sample.\n",
    "\n",
    "* For each c_i_child and each country, there would then be 500 individuals. The 500 individuals need to be assigned to their c_i_parent classes, following the previously found distributions. "
   ]
  },
  {
   "cell_type": "markdown",
   "metadata": {},
   "source": [
    "Next is renaming the columns to match the protocol. \n",
    "\n",
    "* quantile = c_i_child\n",
    "\n",
    "* income = y_child\n",
    "\n",
    "* IGEincome = pj\n",
    "\n",
    "* mean_income = mj\n",
    "\n",
    "* Gini Index = Gj"
   ]
  },
  {
   "cell_type": "code",
   "execution_count": 97,
   "metadata": {},
   "outputs": [],
   "source": [
    "df_edited.rename(columns = {'Gini Index': 'gj', 'base_case': 'base_case', 'income': 'y_child', 'quantile': 'c_i_child', 'mean_income': 'mj'}, inplace=True)\n",
    "\n"
   ]
  },
  {
   "cell_type": "code",
   "execution_count": 98,
   "metadata": {},
   "outputs": [
    {
     "data": {
      "text/html": [
       "<div>\n",
       "<style scoped>\n",
       "    .dataframe tbody tr th:only-of-type {\n",
       "        vertical-align: middle;\n",
       "    }\n",
       "\n",
       "    .dataframe tbody tr th {\n",
       "        vertical-align: top;\n",
       "    }\n",
       "\n",
       "    .dataframe thead th {\n",
       "        text-align: right;\n",
       "    }\n",
       "</style>\n",
       "<table border=\"1\" class=\"dataframe\">\n",
       "  <thead>\n",
       "    <tr style=\"text-align: right;\">\n",
       "      <th></th>\n",
       "      <th>gj</th>\n",
       "      <th>Total_Population</th>\n",
       "      <th>base_case</th>\n",
       "      <th>countryname</th>\n",
       "      <th>gdpppp</th>\n",
       "      <th>y_child</th>\n",
       "      <th>nb_quantiles</th>\n",
       "      <th>opti_case</th>\n",
       "      <th>pess_case</th>\n",
       "      <th>c_i_child</th>\n",
       "      <th>mj</th>\n",
       "    </tr>\n",
       "  </thead>\n",
       "  <tbody>\n",
       "    <tr>\n",
       "      <td>0</td>\n",
       "      <td>30.0</td>\n",
       "      <td>2947314.0</td>\n",
       "      <td>0.4</td>\n",
       "      <td>Albania</td>\n",
       "      <td>7297.0</td>\n",
       "      <td>728.89795</td>\n",
       "      <td>100.0</td>\n",
       "      <td>0.3</td>\n",
       "      <td>0.5</td>\n",
       "      <td>1</td>\n",
       "      <td>2994.829902</td>\n",
       "    </tr>\n",
       "  </tbody>\n",
       "</table>\n",
       "</div>"
      ],
      "text/plain": [
       "     gj  Total_Population  base_case countryname  gdpppp    y_child  \\\n",
       "0  30.0         2947314.0        0.4     Albania  7297.0  728.89795   \n",
       "\n",
       "   nb_quantiles  opti_case  pess_case  c_i_child           mj  \n",
       "0         100.0        0.3        0.5          1  2994.829902  "
      ]
     },
     "execution_count": 98,
     "metadata": {},
     "output_type": "execute_result"
    }
   ],
   "source": [
    "df_edited.head(1)"
   ]
  },
  {
   "cell_type": "code",
   "execution_count": 99,
   "metadata": {},
   "outputs": [],
   "source": [
    "# Then adding 500 clones for each individual in the WID sample\n",
    "df_cloned = pd.concat([df_edited]*500)"
   ]
  },
  {
   "cell_type": "code",
   "execution_count": 100,
   "metadata": {},
   "outputs": [
    {
     "data": {
      "text/html": [
       "<div>\n",
       "<style scoped>\n",
       "    .dataframe tbody tr th:only-of-type {\n",
       "        vertical-align: middle;\n",
       "    }\n",
       "\n",
       "    .dataframe tbody tr th {\n",
       "        vertical-align: top;\n",
       "    }\n",
       "\n",
       "    .dataframe thead th {\n",
       "        text-align: right;\n",
       "    }\n",
       "</style>\n",
       "<table border=\"1\" class=\"dataframe\">\n",
       "  <thead>\n",
       "    <tr style=\"text-align: right;\">\n",
       "      <th></th>\n",
       "      <th>gj</th>\n",
       "      <th>Total_Population</th>\n",
       "      <th>base_case</th>\n",
       "      <th>countryname</th>\n",
       "      <th>gdpppp</th>\n",
       "      <th>y_child</th>\n",
       "      <th>nb_quantiles</th>\n",
       "      <th>opti_case</th>\n",
       "      <th>pess_case</th>\n",
       "      <th>c_i_child</th>\n",
       "      <th>mj</th>\n",
       "    </tr>\n",
       "  </thead>\n",
       "  <tbody>\n",
       "    <tr>\n",
       "      <td>0</td>\n",
       "      <td>30.0</td>\n",
       "      <td>2947314.0</td>\n",
       "      <td>0.4</td>\n",
       "      <td>Albania</td>\n",
       "      <td>7297.0</td>\n",
       "      <td>728.89795</td>\n",
       "      <td>100.0</td>\n",
       "      <td>0.3</td>\n",
       "      <td>0.5</td>\n",
       "      <td>1</td>\n",
       "      <td>2994.829902</td>\n",
       "    </tr>\n",
       "  </tbody>\n",
       "</table>\n",
       "</div>"
      ],
      "text/plain": [
       "     gj  Total_Population  base_case countryname  gdpppp    y_child  \\\n",
       "0  30.0         2947314.0        0.4     Albania  7297.0  728.89795   \n",
       "\n",
       "   nb_quantiles  opti_case  pess_case  c_i_child           mj  \n",
       "0         100.0        0.3        0.5          1  2994.829902  "
      ]
     },
     "execution_count": 100,
     "metadata": {},
     "output_type": "execute_result"
    }
   ],
   "source": [
    "df_cloned.head(1)"
   ]
  },
  {
   "cell_type": "code",
   "execution_count": 101,
   "metadata": {},
   "outputs": [],
   "source": [
    "df_cloned.sort_values(by=['countryname', 'c_i_child'], inplace=True)"
   ]
  },
  {
   "cell_type": "code",
   "execution_count": 102,
   "metadata": {},
   "outputs": [
    {
     "data": {
      "text/html": [
       "<div>\n",
       "<style scoped>\n",
       "    .dataframe tbody tr th:only-of-type {\n",
       "        vertical-align: middle;\n",
       "    }\n",
       "\n",
       "    .dataframe tbody tr th {\n",
       "        vertical-align: top;\n",
       "    }\n",
       "\n",
       "    .dataframe thead th {\n",
       "        text-align: right;\n",
       "    }\n",
       "</style>\n",
       "<table border=\"1\" class=\"dataframe\">\n",
       "  <thead>\n",
       "    <tr style=\"text-align: right;\">\n",
       "      <th></th>\n",
       "      <th>y_child</th>\n",
       "      <th>y_parents</th>\n",
       "      <th>c_i_child</th>\n",
       "      <th>c_i_parent</th>\n",
       "    </tr>\n",
       "  </thead>\n",
       "  <tbody>\n",
       "    <tr>\n",
       "      <td>0</td>\n",
       "      <td>0.763299</td>\n",
       "      <td>1.528950</td>\n",
       "      <td>4</td>\n",
       "      <td>7</td>\n",
       "    </tr>\n",
       "    <tr>\n",
       "      <td>1</td>\n",
       "      <td>0.354140</td>\n",
       "      <td>0.357206</td>\n",
       "      <td>2</td>\n",
       "      <td>2</td>\n",
       "    </tr>\n",
       "    <tr>\n",
       "      <td>2</td>\n",
       "      <td>2.148701</td>\n",
       "      <td>4.365243</td>\n",
       "      <td>8</td>\n",
       "      <td>10</td>\n",
       "    </tr>\n",
       "  </tbody>\n",
       "</table>\n",
       "</div>"
      ],
      "text/plain": [
       "    y_child  y_parents  c_i_child  c_i_parent\n",
       "0  0.763299   1.528950          4           7\n",
       "1  0.354140   0.357206          2           2\n",
       "2  2.148701   4.365243          8          10"
      ]
     },
     "execution_count": 102,
     "metadata": {},
     "output_type": "execute_result"
    }
   ],
   "source": [
    "# df_cloned needs to match this format while retaining the country names\n",
    "# region, incgroup4, total_population, nb_quantiles, Gini_Index, gdpppp need to be dropped\n",
    "# In the protocol, it said y_parents could be dropped. \n",
    "sample.head(3)"
   ]
  },
  {
   "cell_type": "code",
   "execution_count": 103,
   "metadata": {},
   "outputs": [],
   "source": [
    "sample_dff = df_cloned[['countryname', 'c_i_child', 'y_child', 'base_case', 'gj', 'mj']]"
   ]
  },
  {
   "cell_type": "code",
   "execution_count": 104,
   "metadata": {
    "scrolled": true
   },
   "outputs": [
    {
     "data": {
      "text/html": [
       "<div>\n",
       "<style scoped>\n",
       "    .dataframe tbody tr th:only-of-type {\n",
       "        vertical-align: middle;\n",
       "    }\n",
       "\n",
       "    .dataframe tbody tr th {\n",
       "        vertical-align: top;\n",
       "    }\n",
       "\n",
       "    .dataframe thead th {\n",
       "        text-align: right;\n",
       "    }\n",
       "</style>\n",
       "<table border=\"1\" class=\"dataframe\">\n",
       "  <thead>\n",
       "    <tr style=\"text-align: right;\">\n",
       "      <th></th>\n",
       "      <th>countryname</th>\n",
       "      <th>c_i_child</th>\n",
       "      <th>y_child</th>\n",
       "      <th>base_case</th>\n",
       "      <th>gj</th>\n",
       "      <th>mj</th>\n",
       "    </tr>\n",
       "  </thead>\n",
       "  <tbody>\n",
       "    <tr>\n",
       "      <td>0</td>\n",
       "      <td>Albania</td>\n",
       "      <td>1</td>\n",
       "      <td>728.89795</td>\n",
       "      <td>0.4</td>\n",
       "      <td>30.0</td>\n",
       "      <td>2994.829902</td>\n",
       "    </tr>\n",
       "    <tr>\n",
       "      <td>0</td>\n",
       "      <td>Albania</td>\n",
       "      <td>1</td>\n",
       "      <td>728.89795</td>\n",
       "      <td>0.4</td>\n",
       "      <td>30.0</td>\n",
       "      <td>2994.829902</td>\n",
       "    </tr>\n",
       "    <tr>\n",
       "      <td>0</td>\n",
       "      <td>Albania</td>\n",
       "      <td>1</td>\n",
       "      <td>728.89795</td>\n",
       "      <td>0.4</td>\n",
       "      <td>30.0</td>\n",
       "      <td>2994.829902</td>\n",
       "    </tr>\n",
       "  </tbody>\n",
       "</table>\n",
       "</div>"
      ],
      "text/plain": [
       "  countryname  c_i_child    y_child  base_case    gj           mj\n",
       "0     Albania          1  728.89795        0.4  30.0  2994.829902\n",
       "0     Albania          1  728.89795        0.4  30.0  2994.829902\n",
       "0     Albania          1  728.89795        0.4  30.0  2994.829902"
      ]
     },
     "execution_count": 104,
     "metadata": {},
     "output_type": "execute_result"
    }
   ],
   "source": [
    "sample_dff.head(3)"
   ]
  },
  {
   "cell_type": "code",
   "execution_count": 105,
   "metadata": {},
   "outputs": [],
   "source": [
    "sample_df = sample_dff.reset_index(drop=True)"
   ]
  },
  {
   "cell_type": "code",
   "execution_count": 106,
   "metadata": {},
   "outputs": [
    {
     "data": {
      "text/plain": [
       "(5800000, 6)"
      ]
     },
     "execution_count": 106,
     "metadata": {},
     "output_type": "execute_result"
    }
   ],
   "source": [
    "sample_df.shape"
   ]
  },
  {
   "cell_type": "code",
   "execution_count": 107,
   "metadata": {},
   "outputs": [
    {
     "data": {
      "text/html": [
       "<div>\n",
       "<style scoped>\n",
       "    .dataframe tbody tr th:only-of-type {\n",
       "        vertical-align: middle;\n",
       "    }\n",
       "\n",
       "    .dataframe tbody tr th {\n",
       "        vertical-align: top;\n",
       "    }\n",
       "\n",
       "    .dataframe thead th {\n",
       "        text-align: right;\n",
       "    }\n",
       "</style>\n",
       "<table border=\"1\" class=\"dataframe\">\n",
       "  <thead>\n",
       "    <tr style=\"text-align: right;\">\n",
       "      <th></th>\n",
       "      <th>countryname</th>\n",
       "      <th>c_i_child</th>\n",
       "      <th>y_child</th>\n",
       "      <th>base_case</th>\n",
       "      <th>gj</th>\n",
       "      <th>mj</th>\n",
       "    </tr>\n",
       "  </thead>\n",
       "  <tbody>\n",
       "    <tr>\n",
       "      <td>0</td>\n",
       "      <td>Albania</td>\n",
       "      <td>1</td>\n",
       "      <td>728.89795</td>\n",
       "      <td>0.4</td>\n",
       "      <td>30.0</td>\n",
       "      <td>2994.829902</td>\n",
       "    </tr>\n",
       "    <tr>\n",
       "      <td>1</td>\n",
       "      <td>Albania</td>\n",
       "      <td>1</td>\n",
       "      <td>728.89795</td>\n",
       "      <td>0.4</td>\n",
       "      <td>30.0</td>\n",
       "      <td>2994.829902</td>\n",
       "    </tr>\n",
       "    <tr>\n",
       "      <td>2</td>\n",
       "      <td>Albania</td>\n",
       "      <td>1</td>\n",
       "      <td>728.89795</td>\n",
       "      <td>0.4</td>\n",
       "      <td>30.0</td>\n",
       "      <td>2994.829902</td>\n",
       "    </tr>\n",
       "  </tbody>\n",
       "</table>\n",
       "</div>"
      ],
      "text/plain": [
       "  countryname  c_i_child    y_child  base_case    gj           mj\n",
       "0     Albania          1  728.89795        0.4  30.0  2994.829902\n",
       "1     Albania          1  728.89795        0.4  30.0  2994.829902\n",
       "2     Albania          1  728.89795        0.4  30.0  2994.829902"
      ]
     },
     "execution_count": 107,
     "metadata": {},
     "output_type": "execute_result"
    }
   ],
   "source": [
    "sample_df.head(3)"
   ]
  },
  {
   "cell_type": "code",
   "execution_count": 108,
   "metadata": {},
   "outputs": [
    {
     "name": "stdout",
     "output_type": "stream",
     "text": [
      "<class 'pandas.core.frame.DataFrame'>\n",
      "RangeIndex: 5800000 entries, 0 to 5799999\n",
      "Data columns (total 6 columns):\n",
      "countryname    object\n",
      "c_i_child      int64\n",
      "y_child        float64\n",
      "base_case      float64\n",
      "gj             float64\n",
      "mj             float64\n",
      "dtypes: float64(4), int64(1), object(1)\n",
      "memory usage: 265.5+ MB\n"
     ]
    }
   ],
   "source": [
    "sample_df.info()\n",
    "\n",
    "# all the important columns for the next section have the same datatype of float64\n",
    "# if it's still working and the dtypes are different, may be sign of a problem"
   ]
  },
  {
   "cell_type": "markdown",
   "metadata": {},
   "source": [
    "### Computing the elasticity dictionary"
   ]
  },
  {
   "cell_type": "markdown",
   "metadata": {},
   "source": [
    "From \"Measuring Intergenerational Income Mobility\" \n",
    "https://s3-eu-west-1.amazonaws.com/static.oc-static.com/prod/courses/files/parcours-data-analyst/2011-measuring-intergenerational-income-mobility-art.pdf -->\n",
    "\n",
    "\"Roughly speaking, the value of elasticity (ß1) represents the fraction of income that is on average transmitted across generations. In general, empirical estimates of ß1 tend to lie between 0 and 1. For example, ß1 = 0.4 indicates that 40 percent of the parental income position is transmitted to the next generation. A value of zero for ß1 represents a case of complete mobility where the incomes of parents and children are completely unrelated.\""
   ]
  },
  {
   "cell_type": "code",
   "execution_count": 109,
   "metadata": {},
   "outputs": [
    {
     "data": {
      "text/plain": [
       "array([0.66, 0.5 , 0.4 , 0.2 ])"
      ]
     },
     "execution_count": 109,
     "metadata": {},
     "output_type": "execute_result"
    }
   ],
   "source": [
    "# What are the unique base values for the elasticity coefficients? \n",
    "coefficients = elasticity['base_case'].unique()\n",
    "coefficients"
   ]
  },
  {
   "cell_type": "code",
   "execution_count": 110,
   "metadata": {},
   "outputs": [
    {
     "data": {
      "text/plain": [
       "[0.66, 0.5, 0.4, 0.2]"
      ]
     },
     "execution_count": 110,
     "metadata": {},
     "output_type": "execute_result"
    }
   ],
   "source": [
    "# Making a list out of the unique values\n",
    "# base_case is the same as pj\n",
    "pj = [0.66, 0.5 , 0.4 , 0.2 ]\n",
    "pj"
   ]
  },
  {
   "cell_type": "code",
   "execution_count": 111,
   "metadata": {},
   "outputs": [
    {
     "data": {
      "text/plain": [
       "{0.66: array([[0.159, 0.096, 0.079, ..., 0.   , 0.   , 0.   ],\n",
       "        [0.11 , 0.062, 0.054, ..., 0.   , 0.   , 0.   ],\n",
       "        [0.069, 0.043, 0.047, ..., 0.   , 0.   , 0.   ],\n",
       "        ...,\n",
       "        [0.   , 0.   , 0.   , ..., 0.054, 0.056, 0.059],\n",
       "        [0.   , 0.   , 0.   , ..., 0.049, 0.061, 0.085],\n",
       "        [0.   , 0.   , 0.   , ..., 0.054, 0.083, 0.15 ]]),\n",
       " 0.5: array([[0.159, 0.096, 0.079, ..., 0.   , 0.   , 0.   ],\n",
       "        [0.11 , 0.062, 0.054, ..., 0.   , 0.   , 0.   ],\n",
       "        [0.069, 0.043, 0.047, ..., 0.   , 0.   , 0.   ],\n",
       "        ...,\n",
       "        [0.   , 0.   , 0.   , ..., 0.054, 0.056, 0.059],\n",
       "        [0.   , 0.   , 0.   , ..., 0.049, 0.061, 0.085],\n",
       "        [0.   , 0.   , 0.   , ..., 0.054, 0.083, 0.15 ]]),\n",
       " 0.4: array([[0.159, 0.096, 0.079, ..., 0.   , 0.   , 0.   ],\n",
       "        [0.11 , 0.062, 0.054, ..., 0.   , 0.   , 0.   ],\n",
       "        [0.069, 0.043, 0.047, ..., 0.   , 0.   , 0.   ],\n",
       "        ...,\n",
       "        [0.   , 0.   , 0.   , ..., 0.054, 0.056, 0.059],\n",
       "        [0.   , 0.   , 0.   , ..., 0.049, 0.061, 0.085],\n",
       "        [0.   , 0.   , 0.   , ..., 0.054, 0.083, 0.15 ]]),\n",
       " 0.2: array([[0.159, 0.096, 0.079, ..., 0.   , 0.   , 0.   ],\n",
       "        [0.11 , 0.062, 0.054, ..., 0.   , 0.   , 0.   ],\n",
       "        [0.069, 0.043, 0.047, ..., 0.   , 0.   , 0.   ],\n",
       "        ...,\n",
       "        [0.   , 0.   , 0.   , ..., 0.054, 0.056, 0.059],\n",
       "        [0.   , 0.   , 0.   , ..., 0.049, 0.061, 0.085],\n",
       "        [0.   , 0.   , 0.   , ..., 0.054, 0.083, 0.15 ]])}"
      ]
     },
     "execution_count": 111,
     "metadata": {},
     "output_type": "execute_result"
    }
   ],
   "source": [
    "# Creating the dictionary with conditional distributions matched to every possible example of a base case\n",
    "\n",
    "nb_quantiles = 100\n",
    "n = 1000 * nb_quantiles\n",
    "dict_elasticity = {}\n",
    "\n",
    "def class_parent(pj):\n",
    "    for x in pj:\n",
    "        y_child, y_parents = generate_incomes(n, x)\n",
    "        sample = compute_quantiles(y_child, y_parents, nb_quantiles)\n",
    "        cd = conditional_distributions(sample, nb_quantiles)\n",
    "        dict_elasticity = {x:cd for x in pj}\n",
    "        return dict_elasticity\n",
    "\n",
    "dict_elasticity = class_parent(pj)\n",
    "dict_elasticity"
   ]
  },
  {
   "cell_type": "code",
   "execution_count": 112,
   "metadata": {},
   "outputs": [
    {
     "data": {
      "text/plain": [
       "(100, 100)"
      ]
     },
     "execution_count": 112,
     "metadata": {},
     "output_type": "execute_result"
    }
   ],
   "source": [
    "dict_elasticity[0.2].shape"
   ]
  },
  {
   "cell_type": "markdown",
   "metadata": {},
   "source": [
    "### Creating the Parent Class"
   ]
  },
  {
   "cell_type": "markdown",
   "metadata": {
    "slideshow": {
     "slide_type": "slide"
    }
   },
   "source": [
    "I need to go through each row of sample_df to compute the parent class. \n",
    "\n",
    "In each, I need to: \n",
    "\n",
    "1. Make a subset of the data while debugging it\n",
    "\n",
    "1. pick a random value based on the dict_elasticity (weighted probability), using random.choice() You can use .apply, itertuples, iterrows, etc.\n",
    "\n",
    "2. I should take a subset of the data — 1,000 rows for debugging the code \n",
    "\n",
    "3. May use parallel processing libraries to speed up the code"
   ]
  },
  {
   "cell_type": "code",
   "execution_count": 113,
   "metadata": {},
   "outputs": [
    {
     "data": {
      "text/html": [
       "<div>\n",
       "<style scoped>\n",
       "    .dataframe tbody tr th:only-of-type {\n",
       "        vertical-align: middle;\n",
       "    }\n",
       "\n",
       "    .dataframe tbody tr th {\n",
       "        vertical-align: top;\n",
       "    }\n",
       "\n",
       "    .dataframe thead th {\n",
       "        text-align: right;\n",
       "    }\n",
       "</style>\n",
       "<table border=\"1\" class=\"dataframe\">\n",
       "  <thead>\n",
       "    <tr style=\"text-align: right;\">\n",
       "      <th></th>\n",
       "      <th>countryname</th>\n",
       "      <th>c_i_child</th>\n",
       "      <th>y_child</th>\n",
       "      <th>base_case</th>\n",
       "      <th>gj</th>\n",
       "      <th>mj</th>\n",
       "    </tr>\n",
       "  </thead>\n",
       "  <tbody>\n",
       "    <tr>\n",
       "      <td>0</td>\n",
       "      <td>Albania</td>\n",
       "      <td>1</td>\n",
       "      <td>728.89795</td>\n",
       "      <td>0.4</td>\n",
       "      <td>30.0</td>\n",
       "      <td>2994.829902</td>\n",
       "    </tr>\n",
       "    <tr>\n",
       "      <td>1</td>\n",
       "      <td>Albania</td>\n",
       "      <td>1</td>\n",
       "      <td>728.89795</td>\n",
       "      <td>0.4</td>\n",
       "      <td>30.0</td>\n",
       "      <td>2994.829902</td>\n",
       "    </tr>\n",
       "    <tr>\n",
       "      <td>2</td>\n",
       "      <td>Albania</td>\n",
       "      <td>1</td>\n",
       "      <td>728.89795</td>\n",
       "      <td>0.4</td>\n",
       "      <td>30.0</td>\n",
       "      <td>2994.829902</td>\n",
       "    </tr>\n",
       "  </tbody>\n",
       "</table>\n",
       "</div>"
      ],
      "text/plain": [
       "  countryname  c_i_child    y_child  base_case    gj           mj\n",
       "0     Albania          1  728.89795        0.4  30.0  2994.829902\n",
       "1     Albania          1  728.89795        0.4  30.0  2994.829902\n",
       "2     Albania          1  728.89795        0.4  30.0  2994.829902"
      ]
     },
     "execution_count": 113,
     "metadata": {},
     "output_type": "execute_result"
    }
   ],
   "source": [
    "# the dataset\n",
    "sample_df.head(3)"
   ]
  },
  {
   "cell_type": "code",
   "execution_count": 114,
   "metadata": {},
   "outputs": [
    {
     "data": {
      "text/html": [
       "<div>\n",
       "<style scoped>\n",
       "    .dataframe tbody tr th:only-of-type {\n",
       "        vertical-align: middle;\n",
       "    }\n",
       "\n",
       "    .dataframe tbody tr th {\n",
       "        vertical-align: top;\n",
       "    }\n",
       "\n",
       "    .dataframe thead th {\n",
       "        text-align: right;\n",
       "    }\n",
       "</style>\n",
       "<table border=\"1\" class=\"dataframe\">\n",
       "  <thead>\n",
       "    <tr style=\"text-align: right;\">\n",
       "      <th></th>\n",
       "      <th>countryname</th>\n",
       "      <th>c_i_child</th>\n",
       "      <th>y_child</th>\n",
       "      <th>base_case</th>\n",
       "      <th>gj</th>\n",
       "      <th>mj</th>\n",
       "    </tr>\n",
       "  </thead>\n",
       "  <tbody>\n",
       "    <tr>\n",
       "      <td>3448906</td>\n",
       "      <td>Mauritania</td>\n",
       "      <td>98</td>\n",
       "      <td>6133.9830</td>\n",
       "      <td>0.66</td>\n",
       "      <td>35.7</td>\n",
       "      <td>1798.609083</td>\n",
       "    </tr>\n",
       "    <tr>\n",
       "      <td>238195</td>\n",
       "      <td>Azerbaijan</td>\n",
       "      <td>77</td>\n",
       "      <td>2884.8845</td>\n",
       "      <td>0.50</td>\n",
       "      <td>30.4</td>\n",
       "      <td>2357.429023</td>\n",
       "    </tr>\n",
       "    <tr>\n",
       "      <td>4973708</td>\n",
       "      <td>Sweden</td>\n",
       "      <td>48</td>\n",
       "      <td>14236.1020</td>\n",
       "      <td>0.20</td>\n",
       "      <td>28.1</td>\n",
       "      <td>16184.222707</td>\n",
       "    </tr>\n",
       "  </tbody>\n",
       "</table>\n",
       "</div>"
      ],
      "text/plain": [
       "        countryname  c_i_child     y_child  base_case    gj            mj\n",
       "3448906  Mauritania         98   6133.9830       0.66  35.7   1798.609083\n",
       "238195   Azerbaijan         77   2884.8845       0.50  30.4   2357.429023\n",
       "4973708      Sweden         48  14236.1020       0.20  28.1  16184.222707"
      ]
     },
     "execution_count": 114,
     "metadata": {},
     "output_type": "execute_result"
    }
   ],
   "source": [
    "# making a subsample\n",
    "subsample_df = sample_df.sample(n=1000)\n",
    "subsample_df.head(3)"
   ]
  },
  {
   "cell_type": "code",
   "execution_count": 116,
   "metadata": {},
   "outputs": [
    {
     "data": {
      "text/plain": [
       "array([0.66, 0.5 , 0.2 , 0.4 ])"
      ]
     },
     "execution_count": 116,
     "metadata": {},
     "output_type": "execute_result"
    }
   ],
   "source": [
    "subsample_df.base_case.unique()"
   ]
  },
  {
   "cell_type": "code",
   "execution_count": 117,
   "metadata": {},
   "outputs": [],
   "source": [
    "# creating the function to be applied to the subsample\n",
    "\n",
    "def random_class(base_case, c_i_child):\n",
    "#     returning a single value [1-100] drawn randomly, \n",
    "#     weighted on the elasticity dictionary distribution\n",
    "    return np.random.choice(range(1,101), p=dict_elasticity[base_case][c_i_child-1])"
   ]
  },
  {
   "cell_type": "code",
   "execution_count": 118,
   "metadata": {},
   "outputs": [],
   "source": [
    "# applying the function that will create the parent class to the subsample\n",
    "subsample_df['c_i_parent'] = subsample_df.apply(lambda x: random_class(x.base_case, x.c_i_child), axis=1 )"
   ]
  },
  {
   "cell_type": "code",
   "execution_count": 119,
   "metadata": {
    "scrolled": true
   },
   "outputs": [
    {
     "data": {
      "text/html": [
       "<div>\n",
       "<style scoped>\n",
       "    .dataframe tbody tr th:only-of-type {\n",
       "        vertical-align: middle;\n",
       "    }\n",
       "\n",
       "    .dataframe tbody tr th {\n",
       "        vertical-align: top;\n",
       "    }\n",
       "\n",
       "    .dataframe thead th {\n",
       "        text-align: right;\n",
       "    }\n",
       "</style>\n",
       "<table border=\"1\" class=\"dataframe\">\n",
       "  <thead>\n",
       "    <tr style=\"text-align: right;\">\n",
       "      <th></th>\n",
       "      <th>countryname</th>\n",
       "      <th>c_i_child</th>\n",
       "      <th>y_child</th>\n",
       "      <th>base_case</th>\n",
       "      <th>gj</th>\n",
       "      <th>mj</th>\n",
       "      <th>c_i_parent</th>\n",
       "    </tr>\n",
       "  </thead>\n",
       "  <tbody>\n",
       "    <tr>\n",
       "      <td>3448906</td>\n",
       "      <td>Mauritania</td>\n",
       "      <td>98</td>\n",
       "      <td>6133.98300</td>\n",
       "      <td>0.66</td>\n",
       "      <td>35.7</td>\n",
       "      <td>1798.609083</td>\n",
       "      <td>94</td>\n",
       "    </tr>\n",
       "    <tr>\n",
       "      <td>238195</td>\n",
       "      <td>Azerbaijan</td>\n",
       "      <td>77</td>\n",
       "      <td>2884.88450</td>\n",
       "      <td>0.50</td>\n",
       "      <td>30.4</td>\n",
       "      <td>2357.429023</td>\n",
       "      <td>81</td>\n",
       "    </tr>\n",
       "    <tr>\n",
       "      <td>4973708</td>\n",
       "      <td>Sweden</td>\n",
       "      <td>48</td>\n",
       "      <td>14236.10200</td>\n",
       "      <td>0.20</td>\n",
       "      <td>28.1</td>\n",
       "      <td>16184.222707</td>\n",
       "      <td>95</td>\n",
       "    </tr>\n",
       "    <tr>\n",
       "      <td>2075172</td>\n",
       "      <td>Guatemala</td>\n",
       "      <td>51</td>\n",
       "      <td>1187.39000</td>\n",
       "      <td>0.66</td>\n",
       "      <td>33.6</td>\n",
       "      <td>2142.474753</td>\n",
       "      <td>73</td>\n",
       "    </tr>\n",
       "    <tr>\n",
       "      <td>864809</td>\n",
       "      <td>Central African Republic</td>\n",
       "      <td>30</td>\n",
       "      <td>279.92484</td>\n",
       "      <td>0.66</td>\n",
       "      <td>56.2</td>\n",
       "      <td>811.299901</td>\n",
       "      <td>80</td>\n",
       "    </tr>\n",
       "    <tr>\n",
       "      <td>...</td>\n",
       "      <td>...</td>\n",
       "      <td>...</td>\n",
       "      <td>...</td>\n",
       "      <td>...</td>\n",
       "      <td>...</td>\n",
       "      <td>...</td>\n",
       "      <td>...</td>\n",
       "    </tr>\n",
       "    <tr>\n",
       "      <td>2295415</td>\n",
       "      <td>Iceland</td>\n",
       "      <td>91</td>\n",
       "      <td>42450.72700</td>\n",
       "      <td>0.20</td>\n",
       "      <td>31.8</td>\n",
       "      <td>26888.511518</td>\n",
       "      <td>35</td>\n",
       "    </tr>\n",
       "    <tr>\n",
       "      <td>3329179</td>\n",
       "      <td>Malaysia</td>\n",
       "      <td>59</td>\n",
       "      <td>4876.52340</td>\n",
       "      <td>0.50</td>\n",
       "      <td>45.5</td>\n",
       "      <td>6006.342359</td>\n",
       "      <td>49</td>\n",
       "    </tr>\n",
       "    <tr>\n",
       "      <td>591299</td>\n",
       "      <td>Brazil</td>\n",
       "      <td>83</td>\n",
       "      <td>6685.88530</td>\n",
       "      <td>0.66</td>\n",
       "      <td>54.0</td>\n",
       "      <td>4807.484594</td>\n",
       "      <td>95</td>\n",
       "    </tr>\n",
       "    <tr>\n",
       "      <td>1092063</td>\n",
       "      <td>Costa Rica</td>\n",
       "      <td>85</td>\n",
       "      <td>8725.43200</td>\n",
       "      <td>0.66</td>\n",
       "      <td>48.7</td>\n",
       "      <td>5580.386556</td>\n",
       "      <td>48</td>\n",
       "    </tr>\n",
       "    <tr>\n",
       "      <td>1419420</td>\n",
       "      <td>Dominican Republic</td>\n",
       "      <td>39</td>\n",
       "      <td>1734.54270</td>\n",
       "      <td>0.66</td>\n",
       "      <td>48.1</td>\n",
       "      <td>3558.402105</td>\n",
       "      <td>38</td>\n",
       "    </tr>\n",
       "  </tbody>\n",
       "</table>\n",
       "<p>1000 rows × 7 columns</p>\n",
       "</div>"
      ],
      "text/plain": [
       "                      countryname  c_i_child      y_child  base_case    gj  \\\n",
       "3448906                Mauritania         98   6133.98300       0.66  35.7   \n",
       "238195                 Azerbaijan         77   2884.88450       0.50  30.4   \n",
       "4973708                    Sweden         48  14236.10200       0.20  28.1   \n",
       "2075172                 Guatemala         51   1187.39000       0.66  33.6   \n",
       "864809   Central African Republic         30    279.92484       0.66  56.2   \n",
       "...                           ...        ...          ...        ...   ...   \n",
       "2295415                   Iceland         91  42450.72700       0.20  31.8   \n",
       "3329179                  Malaysia         59   4876.52340       0.50  45.5   \n",
       "591299                     Brazil         83   6685.88530       0.66  54.0   \n",
       "1092063                Costa Rica         85   8725.43200       0.66  48.7   \n",
       "1419420        Dominican Republic         39   1734.54270       0.66  48.1   \n",
       "\n",
       "                   mj  c_i_parent  \n",
       "3448906   1798.609083          94  \n",
       "238195    2357.429023          81  \n",
       "4973708  16184.222707          95  \n",
       "2075172   2142.474753          73  \n",
       "864809     811.299901          80  \n",
       "...               ...         ...  \n",
       "2295415  26888.511518          35  \n",
       "3329179   6006.342359          49  \n",
       "591299    4807.484594          95  \n",
       "1092063   5580.386556          48  \n",
       "1419420   3558.402105          38  \n",
       "\n",
       "[1000 rows x 7 columns]"
      ]
     },
     "execution_count": 119,
     "metadata": {},
     "output_type": "execute_result"
    }
   ],
   "source": [
    "subsample_df"
   ]
  },
  {
   "cell_type": "code",
   "execution_count": 120,
   "metadata": {},
   "outputs": [],
   "source": [
    "# applying the function to the entire df \n",
    "# this section is commented-out just because it takes quite a bit of time to run the function \n",
    "def random_class(base_case, c_i_child):\n",
    "#     '''return a single value [1-100] drawn randomly, \n",
    "#     weighted on the elasticity dictionary distribution'''\n",
    "   return np.random.choice(range(1,101), p=dict_elasticity[base_case][c_i_child-1])"
   ]
  },
  {
   "cell_type": "code",
   "execution_count": 121,
   "metadata": {},
   "outputs": [],
   "source": [
    "sample_df['c_i_parent'] = sample_df.apply(lambda x: random_class(x.base_case, x.c_i_child), axis=1 )"
   ]
  },
  {
   "cell_type": "code",
   "execution_count": 122,
   "metadata": {
    "scrolled": true
   },
   "outputs": [
    {
     "data": {
      "text/html": [
       "<div>\n",
       "<style scoped>\n",
       "    .dataframe tbody tr th:only-of-type {\n",
       "        vertical-align: middle;\n",
       "    }\n",
       "\n",
       "    .dataframe tbody tr th {\n",
       "        vertical-align: top;\n",
       "    }\n",
       "\n",
       "    .dataframe thead th {\n",
       "        text-align: right;\n",
       "    }\n",
       "</style>\n",
       "<table border=\"1\" class=\"dataframe\">\n",
       "  <thead>\n",
       "    <tr style=\"text-align: right;\">\n",
       "      <th></th>\n",
       "      <th>countryname</th>\n",
       "      <th>c_i_child</th>\n",
       "      <th>y_child</th>\n",
       "      <th>base_case</th>\n",
       "      <th>gj</th>\n",
       "      <th>mj</th>\n",
       "      <th>c_i_parent</th>\n",
       "    </tr>\n",
       "  </thead>\n",
       "  <tbody>\n",
       "    <tr>\n",
       "      <td>0</td>\n",
       "      <td>Albania</td>\n",
       "      <td>1</td>\n",
       "      <td>728.89795</td>\n",
       "      <td>0.4</td>\n",
       "      <td>30.0</td>\n",
       "      <td>2994.829902</td>\n",
       "      <td>2</td>\n",
       "    </tr>\n",
       "    <tr>\n",
       "      <td>1</td>\n",
       "      <td>Albania</td>\n",
       "      <td>1</td>\n",
       "      <td>728.89795</td>\n",
       "      <td>0.4</td>\n",
       "      <td>30.0</td>\n",
       "      <td>2994.829902</td>\n",
       "      <td>3</td>\n",
       "    </tr>\n",
       "    <tr>\n",
       "      <td>2</td>\n",
       "      <td>Albania</td>\n",
       "      <td>1</td>\n",
       "      <td>728.89795</td>\n",
       "      <td>0.4</td>\n",
       "      <td>30.0</td>\n",
       "      <td>2994.829902</td>\n",
       "      <td>7</td>\n",
       "    </tr>\n",
       "    <tr>\n",
       "      <td>3</td>\n",
       "      <td>Albania</td>\n",
       "      <td>1</td>\n",
       "      <td>728.89795</td>\n",
       "      <td>0.4</td>\n",
       "      <td>30.0</td>\n",
       "      <td>2994.829902</td>\n",
       "      <td>7</td>\n",
       "    </tr>\n",
       "    <tr>\n",
       "      <td>4</td>\n",
       "      <td>Albania</td>\n",
       "      <td>1</td>\n",
       "      <td>728.89795</td>\n",
       "      <td>0.4</td>\n",
       "      <td>30.0</td>\n",
       "      <td>2994.829902</td>\n",
       "      <td>65</td>\n",
       "    </tr>\n",
       "    <tr>\n",
       "      <td>...</td>\n",
       "      <td>...</td>\n",
       "      <td>...</td>\n",
       "      <td>...</td>\n",
       "      <td>...</td>\n",
       "      <td>...</td>\n",
       "      <td>...</td>\n",
       "      <td>...</td>\n",
       "    </tr>\n",
       "    <tr>\n",
       "      <td>5799995</td>\n",
       "      <td>Yemen</td>\n",
       "      <td>100</td>\n",
       "      <td>9050.43750</td>\n",
       "      <td>0.5</td>\n",
       "      <td>35.0</td>\n",
       "      <td>1042.635870</td>\n",
       "      <td>84</td>\n",
       "    </tr>\n",
       "    <tr>\n",
       "      <td>5799996</td>\n",
       "      <td>Yemen</td>\n",
       "      <td>100</td>\n",
       "      <td>9050.43750</td>\n",
       "      <td>0.5</td>\n",
       "      <td>35.0</td>\n",
       "      <td>1042.635870</td>\n",
       "      <td>97</td>\n",
       "    </tr>\n",
       "    <tr>\n",
       "      <td>5799997</td>\n",
       "      <td>Yemen</td>\n",
       "      <td>100</td>\n",
       "      <td>9050.43750</td>\n",
       "      <td>0.5</td>\n",
       "      <td>35.0</td>\n",
       "      <td>1042.635870</td>\n",
       "      <td>79</td>\n",
       "    </tr>\n",
       "    <tr>\n",
       "      <td>5799998</td>\n",
       "      <td>Yemen</td>\n",
       "      <td>100</td>\n",
       "      <td>9050.43750</td>\n",
       "      <td>0.5</td>\n",
       "      <td>35.0</td>\n",
       "      <td>1042.635870</td>\n",
       "      <td>93</td>\n",
       "    </tr>\n",
       "    <tr>\n",
       "      <td>5799999</td>\n",
       "      <td>Yemen</td>\n",
       "      <td>100</td>\n",
       "      <td>9050.43750</td>\n",
       "      <td>0.5</td>\n",
       "      <td>35.0</td>\n",
       "      <td>1042.635870</td>\n",
       "      <td>94</td>\n",
       "    </tr>\n",
       "  </tbody>\n",
       "</table>\n",
       "<p>5800000 rows × 7 columns</p>\n",
       "</div>"
      ],
      "text/plain": [
       "        countryname  c_i_child     y_child  base_case    gj           mj  \\\n",
       "0           Albania          1   728.89795        0.4  30.0  2994.829902   \n",
       "1           Albania          1   728.89795        0.4  30.0  2994.829902   \n",
       "2           Albania          1   728.89795        0.4  30.0  2994.829902   \n",
       "3           Albania          1   728.89795        0.4  30.0  2994.829902   \n",
       "4           Albania          1   728.89795        0.4  30.0  2994.829902   \n",
       "...             ...        ...         ...        ...   ...          ...   \n",
       "5799995       Yemen        100  9050.43750        0.5  35.0  1042.635870   \n",
       "5799996       Yemen        100  9050.43750        0.5  35.0  1042.635870   \n",
       "5799997       Yemen        100  9050.43750        0.5  35.0  1042.635870   \n",
       "5799998       Yemen        100  9050.43750        0.5  35.0  1042.635870   \n",
       "5799999       Yemen        100  9050.43750        0.5  35.0  1042.635870   \n",
       "\n",
       "         c_i_parent  \n",
       "0                 2  \n",
       "1                 3  \n",
       "2                 7  \n",
       "3                 7  \n",
       "4                65  \n",
       "...             ...  \n",
       "5799995          84  \n",
       "5799996          97  \n",
       "5799997          79  \n",
       "5799998          93  \n",
       "5799999          94  \n",
       "\n",
       "[5800000 rows x 7 columns]"
      ]
     },
     "execution_count": 122,
     "metadata": {},
     "output_type": "execute_result"
    }
   ],
   "source": [
    "sample_df"
   ]
  },
  {
   "cell_type": "code",
   "execution_count": 123,
   "metadata": {},
   "outputs": [
    {
     "data": {
      "text/plain": [
       "Index(['countryname', 'c_i_child', 'y_child', 'base_case', 'gj', 'mj',\n",
       "       'c_i_parent'],\n",
       "      dtype='object')"
      ]
     },
     "execution_count": 123,
     "metadata": {},
     "output_type": "execute_result"
    }
   ],
   "source": [
    "sample_df.columns"
   ]
  },
  {
   "cell_type": "code",
   "execution_count": 124,
   "metadata": {},
   "outputs": [],
   "source": [
    "quantile_one = sample_df.loc[sample_df.c_i_child == 1]"
   ]
  },
  {
   "cell_type": "code",
   "execution_count": 125,
   "metadata": {},
   "outputs": [
    {
     "data": {
      "image/png": "[encoded data removed]",
      "text/plain": [
       "<Figure size 432x288 with 1 Axes>"
      ]
     },
     "metadata": {
      "needs_background": "light"
     },
     "output_type": "display_data"
    }
   ],
   "source": [
    "plt.hist(quantile_one.c_i_parent)\n",
    "plt.title('Distribution of quantile one mobility', fontsize = 16)\n",
    "plt.show()"
   ]
  },
  {
   "cell_type": "code",
   "execution_count": 126,
   "metadata": {},
   "outputs": [],
   "source": [
    "quantile_fifty = sample_df.loc[sample_df.c_i_parent == 50]"
   ]
  },
  {
   "cell_type": "code",
   "execution_count": 127,
   "metadata": {},
   "outputs": [
    {
     "data": {
      "image/png": "[encoded data removed]",
      "text/plain": [
       "<Figure size 432x288 with 1 Axes>"
      ]
     },
     "metadata": {
      "needs_background": "light"
     },
     "output_type": "display_data"
    }
   ],
   "source": [
    "plt.hist(quantile_fifty.c_i_child)\n",
    "plt.title('Distribution of quantile 50 mobility', fontsize = 16)\n",
    "plt.show()"
   ]
  },
  {
   "cell_type": "code",
   "execution_count": 128,
   "metadata": {},
   "outputs": [],
   "source": [
    "quantile_hundred = sample_df.loc[sample_df.c_i_parent == 100]"
   ]
  },
  {
   "cell_type": "code",
   "execution_count": 129,
   "metadata": {},
   "outputs": [
    {
     "data": {
      "image/png": "[encoded data removed]",
      "text/plain": [
       "<Figure size 432x288 with 1 Axes>"
      ]
     },
     "metadata": {
      "needs_background": "light"
     },
     "output_type": "display_data"
    }
   ],
   "source": [
    "plt.hist(quantile_hundred.c_i_child)\n",
    "plt.title('Distribution of quantile 100 mobility', fontsize = 16)\n",
    "plt.show()"
   ]
  },
  {
   "cell_type": "code",
   "execution_count": 130,
   "metadata": {},
   "outputs": [],
   "source": [
    "sample_df.drop(columns='c_i_child', inplace=True)"
   ]
  },
  {
   "cell_type": "code",
   "execution_count": 131,
   "metadata": {},
   "outputs": [],
   "source": [
    "sample_df.to_csv(r'/Users/larabockenstedt/Making_an_Income_Prediction/sample.csv', index=False)"
   ]
  },
  {
   "cell_type": "code",
   "execution_count": 132,
   "metadata": {
    "scrolled": false
   },
   "outputs": [
    {
     "data": {
      "text/html": [
       "<div>\n",
       "<style scoped>\n",
       "    .dataframe tbody tr th:only-of-type {\n",
       "        vertical-align: middle;\n",
       "    }\n",
       "\n",
       "    .dataframe tbody tr th {\n",
       "        vertical-align: top;\n",
       "    }\n",
       "\n",
       "    .dataframe thead th {\n",
       "        text-align: right;\n",
       "    }\n",
       "</style>\n",
       "<table border=\"1\" class=\"dataframe\">\n",
       "  <thead>\n",
       "    <tr style=\"text-align: right;\">\n",
       "      <th></th>\n",
       "      <th>countryname</th>\n",
       "      <th>y_child</th>\n",
       "      <th>base_case</th>\n",
       "      <th>gj</th>\n",
       "      <th>mj</th>\n",
       "      <th>c_i_parent</th>\n",
       "    </tr>\n",
       "  </thead>\n",
       "  <tbody>\n",
       "    <tr>\n",
       "      <td>0</td>\n",
       "      <td>Albania</td>\n",
       "      <td>728.89795</td>\n",
       "      <td>0.4</td>\n",
       "      <td>30.0</td>\n",
       "      <td>2994.829902</td>\n",
       "      <td>2</td>\n",
       "    </tr>\n",
       "    <tr>\n",
       "      <td>1</td>\n",
       "      <td>Albania</td>\n",
       "      <td>728.89795</td>\n",
       "      <td>0.4</td>\n",
       "      <td>30.0</td>\n",
       "      <td>2994.829902</td>\n",
       "      <td>3</td>\n",
       "    </tr>\n",
       "    <tr>\n",
       "      <td>2</td>\n",
       "      <td>Albania</td>\n",
       "      <td>728.89795</td>\n",
       "      <td>0.4</td>\n",
       "      <td>30.0</td>\n",
       "      <td>2994.829902</td>\n",
       "      <td>7</td>\n",
       "    </tr>\n",
       "    <tr>\n",
       "      <td>3</td>\n",
       "      <td>Albania</td>\n",
       "      <td>728.89795</td>\n",
       "      <td>0.4</td>\n",
       "      <td>30.0</td>\n",
       "      <td>2994.829902</td>\n",
       "      <td>7</td>\n",
       "    </tr>\n",
       "    <tr>\n",
       "      <td>4</td>\n",
       "      <td>Albania</td>\n",
       "      <td>728.89795</td>\n",
       "      <td>0.4</td>\n",
       "      <td>30.0</td>\n",
       "      <td>2994.829902</td>\n",
       "      <td>65</td>\n",
       "    </tr>\n",
       "  </tbody>\n",
       "</table>\n",
       "</div>"
      ],
      "text/plain": [
       "  countryname    y_child  base_case    gj           mj  c_i_parent\n",
       "0     Albania  728.89795        0.4  30.0  2994.829902           2\n",
       "1     Albania  728.89795        0.4  30.0  2994.829902           3\n",
       "2     Albania  728.89795        0.4  30.0  2994.829902           7\n",
       "3     Albania  728.89795        0.4  30.0  2994.829902           7\n",
       "4     Albania  728.89795        0.4  30.0  2994.829902          65"
      ]
     },
     "execution_count": 132,
     "metadata": {},
     "output_type": "execute_result"
    }
   ],
   "source": [
    "sample_df = pd.read_csv('sample.csv')\n",
    "sample_df.head()"
   ]
  },
  {
   "cell_type": "code",
   "execution_count": null,
   "metadata": {},
   "outputs": [],
   "source": []
  }
 ],
 "metadata": {
  "kernelspec": {
   "display_name": "Python 3",
   "language": "python",
   "name": "python3"
  },
  "language_info": {
   "codemirror_mode": {
    "name": "ipython",
    "version": 3
   },
   "file_extension": ".py",
   "mimetype": "text/x-python",
   "name": "python",
   "nbconvert_exporter": "python",
   "pygments_lexer": "ipython3",
   "version": "3.7.4"
  }
 },
 "nbformat": 4,
 "nbformat_minor": 2
}
